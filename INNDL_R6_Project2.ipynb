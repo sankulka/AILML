{
 "cells": [
  {
   "cell_type": "markdown",
   "metadata": {
    "colab_type": "text",
    "id": "4WH1Pr4KQlCh"
   },
   "source": [
    "### Problem:\n",
    "\n",
    "Recognizing multi-digit numbers in photographs captured at street level is an important component of modern-day map making. A classic example of a corpus of such street level photographs is Google’s Street View imagery comprised of hundreds of millions of geo-located 360 degree panoramic images. The ability to automatically transcribe an address number from a geo-located patch of pixels and associate the transcribed number with a known street address helps pinpoint, with a high degree of accuracy, the location of the building it represents. More broadly, recognizing numbers in photographs is a problem of interest to the optical character recognition community. While OCR on constrained domains like document processing is well studied, arbitrary multi-character text recognition in photographs is still highly challenging. This difficulty arises due to the wide variability in the visual appearance of text in the wild on account of a large range of fonts, colors, styles, orientations, and character arrangements. The recognition problem is further complicated by environmental factors such as lighting, shadows, specularities, and occlusions as well as by image acquisition factors such as resolution, motion, and focus blurs.\n",
    "\n",
    "In this project we will use dataset with images centred around a single digit (many of the images do contain some distractors at the sides). Although we are taking a sample of the data which is simpler, it is more complex than MNIST because of the distractors.\n",
    "\n",
    "Link to dataset:\n",
    "https://drive.google.com/file/d/1L2-WXzguhUsCArrFUc8EEkXcj33pahoS/view?usp=sharing\n",
    "\n",
    "\n",
    "The objective of the project is to learn how to implement a simple image classification pipeline based on a deep neural network. The goals of this project are as follows: \n",
    "- Understand the basic Image Classification pipeline and the data-driven approach (train/predict stages) \n",
    "- Data fetching and understand the train/val/test splits. (5 points)\n",
    "- Implement and apply a deep neural network classifier including (feedforward neural network, RELU, activations) (10 points)\n",
    "- Understand and be able to implement (vectorized) backpropagation (cost stochastic gradient descent, cross entropy loss, cost functions) (10 points)\n",
    "- Implement batch normalization for training the neural network (5 points) \n",
    "- Print the classification accuracy metrics (5 points) "
   ]
  },
  {
   "cell_type": "markdown",
   "metadata": {
    "colab_type": "text",
    "id": "TbvI8LqlQlCl",
    "slideshow": {
     "slide_type": "slide"
    }
   },
   "source": [
    "### Import libraries"
   ]
  },
  {
   "cell_type": "code",
   "execution_count": 2,
   "metadata": {
    "colab": {},
    "colab_type": "code",
    "id": "SPW-a-qYQlCp"
   },
   "outputs": [],
   "source": [
    "import tensorflow as tf"
   ]
  },
  {
   "cell_type": "code",
   "execution_count": 3,
   "metadata": {},
   "outputs": [
    {
     "data": {
      "text/plain": [
       "'2.0.0'"
      ]
     },
     "execution_count": 3,
     "metadata": {},
     "output_type": "execute_result"
    }
   ],
   "source": [
    "tf.__version__"
   ]
  },
  {
   "cell_type": "code",
   "execution_count": 4,
   "metadata": {},
   "outputs": [],
   "source": [
    "import numpy as np\n",
    "import pandas as pd\n",
    "import h5py\n",
    "import matplotlib.pyplot as plt\n",
    "from sklearn.preprocessing import StandardScaler\n",
    "from sklearn.model_selection import train_test_split\n",
    "from sklearn.model_selection import StratifiedKFold\n",
    "from tensorflow.keras.wrappers.scikit_learn import KerasClassifier\n",
    "from sklearn.model_selection import cross_val_score\n",
    "from sklearn.metrics import confusion_matrix, accuracy_score"
   ]
  },
  {
   "cell_type": "markdown",
   "metadata": {
    "colab_type": "text",
    "id": "74cQBsi5QlCw",
    "slideshow": {
     "slide_type": "slide"
    }
   },
   "source": [
    "### 1. Data fetching and understand the train/val/test splits. (5 points)"
   ]
  },
  {
   "cell_type": "code",
   "execution_count": 5,
   "metadata": {},
   "outputs": [],
   "source": [
    "data_raw = h5py.File('Data/SVHN_single_grey1.h5')"
   ]
  },
  {
   "cell_type": "code",
   "execution_count": 6,
   "metadata": {},
   "outputs": [
    {
     "data": {
      "text/plain": [
       "<KeysViewHDF5 ['X_test', 'X_train', 'X_val', 'y_test', 'y_train', 'y_val']>"
      ]
     },
     "execution_count": 6,
     "metadata": {},
     "output_type": "execute_result"
    }
   ],
   "source": [
    "data_raw.keys()"
   ]
  },
  {
   "cell_type": "code",
   "execution_count": 7,
   "metadata": {},
   "outputs": [],
   "source": [
    "X_train = np.array(data_raw.get('X_train'))\n",
    "X_test = np.array(data_raw.get('X_test'))\n",
    "X_val = np.array(data_raw.get('X_val'))\n",
    "y_train = np.array(data_raw.get('y_train'))\n",
    "y_test = np.array(data_raw.get('y_test'))\n",
    "y_val = np.array(data_raw.get('y_val'))"
   ]
  },
  {
   "cell_type": "code",
   "execution_count": 8,
   "metadata": {},
   "outputs": [
    {
     "data": {
      "text/plain": [
       "((42000, 32, 32),\n",
       " (18000, 32, 32),\n",
       " (60000, 32, 32),\n",
       " (42000,),\n",
       " (18000,),\n",
       " (60000,))"
      ]
     },
     "execution_count": 8,
     "metadata": {},
     "output_type": "execute_result"
    }
   ],
   "source": [
    "X_train.shape, X_test.shape, X_val.shape, y_train.shape, y_test.shape, y_val.shape"
   ]
  },
  {
   "cell_type": "code",
   "execution_count": 9,
   "metadata": {},
   "outputs": [
    {
     "data": {
      "image/png": "[encoded data removed]",
      "text/plain": [
       "<Figure size 432x288 with 1 Axes>"
      ]
     },
     "metadata": {
      "needs_background": "light"
     },
     "output_type": "display_data"
    }
   ],
   "source": [
    "#Let's review the data\n",
    "img_num = np.random.randint(0, X_test.shape[0]) #Get a random integer between 0 and number of examples in test dataset\n",
    "plt.imshow(X_test[img_num],cmap='gray') #Show the image from test dataset\n",
    "plt.suptitle('Number: ' + str(y_test[img_num]))\n",
    "plt.show()"
   ]
  },
  {
   "cell_type": "markdown",
   "metadata": {},
   "source": [
    "### 2. Implement and apply a deep neural network classifier including (feedforward neural network, RELU, activations) (10 points)"
   ]
  },
  {
   "cell_type": "code",
   "execution_count": 10,
   "metadata": {},
   "outputs": [],
   "source": [
    "y_train_enc = tf.convert_to_tensor(tf.keras.utils.to_categorical(y_train, num_classes=10))\n",
    "y_test_enc = tf.convert_to_tensor(tf.keras.utils.to_categorical(y_test, num_classes=10))"
   ]
  },
  {
   "cell_type": "code",
   "execution_count": 11,
   "metadata": {},
   "outputs": [],
   "source": [
    "X_train_norm = X_train / 255.0\n",
    "X_test_norm = X_test / 255.0"
   ]
  },
  {
   "cell_type": "code",
   "execution_count": 12,
   "metadata": {},
   "outputs": [],
   "source": [
    "X_train_reshaped = tf.keras.backend.expand_dims(X_train_norm)\n",
    "X_test_reshaped = tf.keras.backend.expand_dims(X_test_norm)"
   ]
  },
  {
   "cell_type": "markdown",
   "metadata": {},
   "source": [
    "#### Some notes from: https://www.pyimagesearch.com/2018/12/31/keras-conv2d-and-convolutional-layers/\n",
    "- Number of filters should be increasing as we go from input to output layer\n",
    "- Number of filters should be a power of 2\n",
    "- MaxPooling should be used to reduce the spatial dimension of the output layer\n",
    "- The filter_size should be of odd integer number i.e. 3x3 or 5x5"
   ]
  },
  {
   "cell_type": "code",
   "execution_count": 13,
   "metadata": {},
   "outputs": [],
   "source": [
    "# Clear the session before building the model\n",
    "tf.keras.backend.clear_session()\n",
    "\n",
    "# Initialize model, reshape & normalize data\n",
    "model = tf.keras.models.Sequential()\n",
    "\n",
    "#Normalize the data\n",
    "model.add(tf.keras.layers.BatchNormalization())\n",
    "\n",
    "#Add first convolutional layer\n",
    "model.add(tf.keras.layers.Conv2D(32, kernel_size=(3,3), activation='relu'))\n",
    "model.add(tf.keras.layers.MaxPooling2D(pool_size=(2, 2)))\n",
    "\n",
    "#Add second convolutional layer\n",
    "model.add(tf.keras.layers.Conv2D(64, kernel_size=(3,3), activation='relu'))\n",
    "model.add(tf.keras.layers.MaxPooling2D(pool_size=(2, 2)))\n",
    "\n",
    "#Add third convolutional layer\n",
    "model.add(tf.keras.layers.Conv2D(128, kernel_size=(5,5), activation='relu'))\n",
    "model.add(tf.keras.layers.MaxPooling2D(pool_size=(2, 2)))\n",
    "\n",
    "#Flatten the output\n",
    "model.add(tf.keras.layers.Flatten())\n",
    "\n",
    "#First Dense layer\n",
    "model.add(tf.keras.layers.Dense(128, activation='relu'))"
   ]
  },
  {
   "cell_type": "code",
   "execution_count": 14,
   "metadata": {},
   "outputs": [],
   "source": [
    "#Second Dense layer\n",
    "model.add(tf.keras.layers.Dense(10, activation='softmax'))"
   ]
  },
  {
   "cell_type": "markdown",
   "metadata": {},
   "source": [
    "### 3. Understand and be able to implement (vectorized) backpropagation (cost stochastic gradient descent, cross entropy loss, cost functions) (10 points)\n",
    "- After various trials, here I have used \"adam\" optimizer than \"sgd\" as it gave higher accuracy "
   ]
  },
  {
   "cell_type": "code",
   "execution_count": 15,
   "metadata": {},
   "outputs": [],
   "source": [
    "#Compile the model\n",
    "model.compile(optimizer='adam', loss='categorical_crossentropy', metrics=['accuracy'])"
   ]
  },
  {
   "cell_type": "markdown",
   "metadata": {},
   "source": [
    "### 4. Implement batch normalization for training the neural network (5 points)"
   ]
  },
  {
   "cell_type": "code",
   "execution_count": 16,
   "metadata": {},
   "outputs": [
    {
     "name": "stdout",
     "output_type": "stream",
     "text": [
      "Train on 42000 samples, validate on 18000 samples\n",
      "Epoch 1/10\n",
      "42000/42000 [==============================] - 92s 2ms/sample - loss: 0.6891 - accuracy: 0.7882 - val_loss: 0.4322 - val_accuracy: 0.8743\n",
      "Epoch 2/10\n",
      "42000/42000 [==============================] - 90s 2ms/sample - loss: 0.3461 - accuracy: 0.8999 - val_loss: 0.3588 - val_accuracy: 0.8993\n",
      "Epoch 3/10\n",
      "42000/42000 [==============================] - 92s 2ms/sample - loss: 0.2732 - accuracy: 0.9208 - val_loss: 0.3411 - val_accuracy: 0.8985\n",
      "Epoch 4/10\n",
      "42000/42000 [==============================] - 89s 2ms/sample - loss: 0.2297 - accuracy: 0.9327 - val_loss: 0.3107 - val_accuracy: 0.9117\n",
      "Epoch 5/10\n",
      "42000/42000 [==============================] - 89s 2ms/sample - loss: 0.1917 - accuracy: 0.9446 - val_loss: 0.3172 - val_accuracy: 0.9122\n",
      "Epoch 6/10\n",
      "42000/42000 [==============================] - 89s 2ms/sample - loss: 0.1641 - accuracy: 0.9503 - val_loss: 0.3232 - val_accuracy: 0.9129\n",
      "Epoch 7/10\n",
      "42000/42000 [==============================] - 90s 2ms/sample - loss: 0.1351 - accuracy: 0.9601 - val_loss: 0.3359 - val_accuracy: 0.9154\n",
      "Epoch 8/10\n",
      "42000/42000 [==============================] - 94s 2ms/sample - loss: 0.1165 - accuracy: 0.9648 - val_loss: 0.3465 - val_accuracy: 0.9186\n",
      "Epoch 9/10\n",
      "42000/42000 [==============================] - 90s 2ms/sample - loss: 0.1000 - accuracy: 0.9690 - val_loss: 0.3792 - val_accuracy: 0.9163\n",
      "Epoch 10/10\n",
      "42000/42000 [==============================] - 88s 2ms/sample - loss: 0.0868 - accuracy: 0.9720 - val_loss: 0.3950 - val_accuracy: 0.9132\n"
     ]
    },
    {
     "data": {
      "text/plain": [
       "<tensorflow.python.keras.callbacks.History at 0x164f1494a48>"
      ]
     },
     "execution_count": 16,
     "metadata": {},
     "output_type": "execute_result"
    }
   ],
   "source": [
    "model.fit(X_train_reshaped, y_train_enc, validation_data=(X_test_reshaped, y_test_enc), epochs=10, batch_size=32)"
   ]
  },
  {
   "cell_type": "markdown",
   "metadata": {},
   "source": [
    "### 5. Print the classification accuracy metrics (5 points) "
   ]
  },
  {
   "cell_type": "code",
   "execution_count": 17,
   "metadata": {},
   "outputs": [],
   "source": [
    "y_pred = model.predict(X_test_reshaped)"
   ]
  },
  {
   "cell_type": "code",
   "execution_count": 18,
   "metadata": {},
   "outputs": [],
   "source": [
    "y_pred_number = [np.argmax(row) for row in y_pred]"
   ]
  },
  {
   "cell_type": "code",
   "execution_count": 19,
   "metadata": {},
   "outputs": [
    {
     "name": "stdout",
     "output_type": "stream",
     "text": [
      "Accuracy Score of the model: 91.32%\n"
     ]
    }
   ],
   "source": [
    "print('Accuracy Score of the model: %.2f%%' % (accuracy_score(y_test, y_pred_number)*100))"
   ]
  },
  {
   "cell_type": "code",
   "execution_count": 20,
   "metadata": {},
   "outputs": [
    {
     "data": {
      "text/plain": [
       "array([[1658,   59,   17,    6,   13,    3,   10,    7,    7,   34],\n",
       "       [  15, 1682,    8,   22,   40,   11,    2,   27,   11,   10],\n",
       "       [   3,   17, 1675,   33,   14,   10,    4,   20,    5,   22],\n",
       "       [   6,   26,   14, 1551,    9,   63,    8,   13,   14,   15],\n",
       "       [   6,   40,   23,   14, 1693,    6,    9,    8,    4,    9],\n",
       "       [   1,   13,    4,   44,   17, 1658,    9,    2,   10,   10],\n",
       "       [  18,   16,   13,   19,   16,   86, 1609,    3,   43,    9],\n",
       "       [   6,   45,   24,   25,   12,    5,    1, 1680,    4,    6],\n",
       "       [  16,   33,   18,   45,    7,   19,   40,    8, 1587,   39],\n",
       "       [  17,   22,   23,   15,   25,   28,    2,   15,   12, 1645]],\n",
       "      dtype=int64)"
      ]
     },
     "execution_count": 20,
     "metadata": {},
     "output_type": "execute_result"
    }
   ],
   "source": [
    "confusion_matrix(y_test, y_pred_number)"
   ]
  },
  {
   "cell_type": "markdown",
   "metadata": {},
   "source": [
    "### Various techniques have been tried to improve the accuracy of the CNN model:\n",
    "- Adding more hidden layers\n",
    "- Adding more neurons\n",
    "- Adding Dropout layer\n",
    "- Adding/Removing MaxPooling\n",
    "- Changing Optimizer adam, sgd\n",
    "- Changing batchsize\n",
    "- Changing epoch size"
   ]
  },
  {
   "cell_type": "markdown",
   "metadata": {},
   "source": [
    "### By employing various techniques of CNN model improvement, the best accuracy I got is around 91%.\n",
    "\n",
    "### The model fine tuning is an exploratory exercise and we may find better parameters by experimenting more."
   ]
  }
 ],
 "metadata": {
  "colab": {
   "collapsed_sections": [],
   "name": "Updated_R7_ExternalLab_Questions.ipynb",
   "provenance": [],
   "version": "0.3.2"
  },
  "kernelspec": {
   "display_name": "Python 3",
   "language": "python",
   "name": "python3"
  },
  "language_info": {
   "codemirror_mode": {
    "name": "ipython",
    "version": 3
   },
   "file_extension": ".py",
   "mimetype": "text/x-python",
   "name": "python",
   "nbconvert_exporter": "python",
   "pygments_lexer": "ipython3",
   "version": "3.7.5"
  }
 },
 "nbformat": 4,
 "nbformat_minor": 1
}
