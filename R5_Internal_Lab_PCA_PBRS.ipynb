{
 "cells": [
  {
   "cell_type": "markdown",
   "metadata": {
    "colab_type": "text",
    "id": "0zAbYvv-WCve"
   },
   "source": [
    "# Principal Component Analysis with Cancer Data"
   ]
  },
  {
   "cell_type": "code",
   "execution_count": 1,
   "metadata": {
    "colab": {},
    "colab_type": "code",
    "id": "1waXlt6iWCvh"
   },
   "outputs": [],
   "source": [
    "#Import all the necessary modules\n",
    "#Import all the necessary modules\n",
    "import pandas as pd\n",
    "import numpy as np\n",
    "import os\n",
    "import seaborn as sns\n",
    "import matplotlib.pyplot as plt\n",
    "%matplotlib inline\n",
    "from sklearn.preprocessing import StandardScaler\n",
    "from sklearn.decomposition import PCA"
   ]
  },
  {
   "cell_type": "markdown",
   "metadata": {
    "colab_type": "text",
    "id": "6FZ90t1vWCvq"
   },
   "source": [
    "# Q1. Load the Data file ( Breast Cancer CSV) into Python DataFrame and view top 10 rows"
   ]
  },
  {
   "cell_type": "code",
   "execution_count": 2,
   "metadata": {},
   "outputs": [],
   "source": [
    "data = pd.read_csv('./Data/breast-cancer-wisconsin-data.csv')"
   ]
  },
  {
   "cell_type": "code",
   "execution_count": 3,
   "metadata": {},
   "outputs": [
    {
     "data": {
      "text/html": [
       "<div>\n",
       "<style scoped>\n",
       "    .dataframe tbody tr th:only-of-type {\n",
       "        vertical-align: middle;\n",
       "    }\n",
       "\n",
       "    .dataframe tbody tr th {\n",
       "        vertical-align: top;\n",
       "    }\n",
       "\n",
       "    .dataframe thead th {\n",
       "        text-align: right;\n",
       "    }\n",
       "</style>\n",
       "<table border=\"1\" class=\"dataframe\">\n",
       "  <thead>\n",
       "    <tr style=\"text-align: right;\">\n",
       "      <th></th>\n",
       "      <th>ID</th>\n",
       "      <th>ClumpThickness</th>\n",
       "      <th>Cell Size</th>\n",
       "      <th>Cell Shape</th>\n",
       "      <th>Marginal Adhesion</th>\n",
       "      <th>Single Epithelial Cell Size</th>\n",
       "      <th>Bare Nuclei</th>\n",
       "      <th>Normal Nucleoli</th>\n",
       "      <th>Bland Chromatin</th>\n",
       "      <th>Mitoses</th>\n",
       "      <th>Class</th>\n",
       "    </tr>\n",
       "  </thead>\n",
       "  <tbody>\n",
       "    <tr>\n",
       "      <th>0</th>\n",
       "      <td>1000025</td>\n",
       "      <td>5</td>\n",
       "      <td>1</td>\n",
       "      <td>1</td>\n",
       "      <td>1</td>\n",
       "      <td>2</td>\n",
       "      <td>1</td>\n",
       "      <td>3</td>\n",
       "      <td>1</td>\n",
       "      <td>1</td>\n",
       "      <td>2</td>\n",
       "    </tr>\n",
       "    <tr>\n",
       "      <th>1</th>\n",
       "      <td>1002945</td>\n",
       "      <td>5</td>\n",
       "      <td>4</td>\n",
       "      <td>4</td>\n",
       "      <td>5</td>\n",
       "      <td>7</td>\n",
       "      <td>10</td>\n",
       "      <td>3</td>\n",
       "      <td>2</td>\n",
       "      <td>1</td>\n",
       "      <td>2</td>\n",
       "    </tr>\n",
       "    <tr>\n",
       "      <th>2</th>\n",
       "      <td>1015425</td>\n",
       "      <td>3</td>\n",
       "      <td>1</td>\n",
       "      <td>1</td>\n",
       "      <td>1</td>\n",
       "      <td>2</td>\n",
       "      <td>2</td>\n",
       "      <td>3</td>\n",
       "      <td>1</td>\n",
       "      <td>1</td>\n",
       "      <td>2</td>\n",
       "    </tr>\n",
       "    <tr>\n",
       "      <th>3</th>\n",
       "      <td>1016277</td>\n",
       "      <td>6</td>\n",
       "      <td>8</td>\n",
       "      <td>8</td>\n",
       "      <td>1</td>\n",
       "      <td>3</td>\n",
       "      <td>4</td>\n",
       "      <td>3</td>\n",
       "      <td>7</td>\n",
       "      <td>1</td>\n",
       "      <td>2</td>\n",
       "    </tr>\n",
       "    <tr>\n",
       "      <th>4</th>\n",
       "      <td>1017023</td>\n",
       "      <td>4</td>\n",
       "      <td>1</td>\n",
       "      <td>1</td>\n",
       "      <td>3</td>\n",
       "      <td>2</td>\n",
       "      <td>1</td>\n",
       "      <td>3</td>\n",
       "      <td>1</td>\n",
       "      <td>1</td>\n",
       "      <td>2</td>\n",
       "    </tr>\n",
       "  </tbody>\n",
       "</table>\n",
       "</div>"
      ],
      "text/plain": [
       "        ID  ClumpThickness  Cell Size  Cell Shape  Marginal Adhesion  \\\n",
       "0  1000025               5          1           1                  1   \n",
       "1  1002945               5          4           4                  5   \n",
       "2  1015425               3          1           1                  1   \n",
       "3  1016277               6          8           8                  1   \n",
       "4  1017023               4          1           1                  3   \n",
       "\n",
       "   Single Epithelial Cell Size Bare Nuclei  Normal Nucleoli  Bland Chromatin  \\\n",
       "0                            2           1                3                1   \n",
       "1                            7          10                3                2   \n",
       "2                            2           2                3                1   \n",
       "3                            3           4                3                7   \n",
       "4                            2           1                3                1   \n",
       "\n",
       "   Mitoses  Class  \n",
       "0        1      2  \n",
       "1        1      2  \n",
       "2        1      2  \n",
       "3        1      2  \n",
       "4        1      2  "
      ]
     },
     "execution_count": 3,
     "metadata": {},
     "output_type": "execute_result"
    }
   ],
   "source": [
    "data.head()"
   ]
  },
  {
   "cell_type": "code",
   "execution_count": 4,
   "metadata": {
    "colab": {},
    "colab_type": "code",
    "id": "xusO2ruNWCv4"
   },
   "outputs": [],
   "source": [
    "  # Id columns is to identify rows hence can be skipped in analysis\n",
    "  # All columns have numerical values\n",
    "  # Class would be the target variable. Should be removed when PCA is done"
   ]
  },
  {
   "cell_type": "markdown",
   "metadata": {
    "colab_type": "text",
    "id": "KYTFwE0iWCv_"
   },
   "source": [
    "# Q2 Print the datatypes of each column and the shape of the dataset. Perform descriptive analysis "
   ]
  },
  {
   "cell_type": "code",
   "execution_count": 5,
   "metadata": {
    "colab": {},
    "colab_type": "code",
    "id": "abAqUIqjSM4X"
   },
   "outputs": [
    {
     "name": "stdout",
     "output_type": "stream",
     "text": [
      "<class 'pandas.core.frame.DataFrame'>\n",
      "RangeIndex: 699 entries, 0 to 698\n",
      "Data columns (total 11 columns):\n",
      "ID                             699 non-null int64\n",
      "ClumpThickness                 699 non-null int64\n",
      "Cell Size                      699 non-null int64\n",
      "Cell Shape                     699 non-null int64\n",
      "Marginal Adhesion              699 non-null int64\n",
      "Single Epithelial Cell Size    699 non-null int64\n",
      "Bare Nuclei                    699 non-null object\n",
      "Normal Nucleoli                699 non-null int64\n",
      "Bland Chromatin                699 non-null int64\n",
      "Mitoses                        699 non-null int64\n",
      "Class                          699 non-null int64\n",
      "dtypes: int64(10), object(1)\n",
      "memory usage: 60.1+ KB\n"
     ]
    }
   ],
   "source": [
    "data.info()"
   ]
  },
  {
   "cell_type": "code",
   "execution_count": 6,
   "metadata": {},
   "outputs": [
    {
     "data": {
      "text/plain": [
       "(699, 11)"
      ]
     },
     "execution_count": 6,
     "metadata": {},
     "output_type": "execute_result"
    }
   ],
   "source": [
    "data.shape"
   ]
  },
  {
   "cell_type": "markdown",
   "metadata": {
    "colab_type": "text",
    "id": "ecghJZJIWCwW"
   },
   "source": [
    "# Q3 Check for missing value check, incorrect data, duplicate data and perform imputation with mean, median, mode as necessary.\n"
   ]
  },
  {
   "cell_type": "code",
   "execution_count": 7,
   "metadata": {
    "colab": {},
    "colab_type": "code",
    "id": "49KjoukMSM4b"
   },
   "outputs": [],
   "source": [
    "# We could see \"?\" values in column, this should be removed from data set\n",
    "\n",
    "# Check for missing value in any other column"
   ]
  },
  {
   "cell_type": "code",
   "execution_count": 8,
   "metadata": {},
   "outputs": [
    {
     "data": {
      "text/plain": [
       "(ID                             False\n",
       " ClumpThickness                 False\n",
       " Cell Size                      False\n",
       " Cell Shape                     False\n",
       " Marginal Adhesion              False\n",
       " Single Epithelial Cell Size    False\n",
       " Bare Nuclei                    False\n",
       " Normal Nucleoli                False\n",
       " Bland Chromatin                False\n",
       " Mitoses                        False\n",
       " Class                          False\n",
       " dtype: bool, ID                             False\n",
       " ClumpThickness                 False\n",
       " Cell Size                      False\n",
       " Cell Shape                     False\n",
       " Marginal Adhesion              False\n",
       " Single Epithelial Cell Size    False\n",
       " Bare Nuclei                    False\n",
       " Normal Nucleoli                False\n",
       " Bland Chromatin                False\n",
       " Mitoses                        False\n",
       " Class                          False\n",
       " dtype: bool)"
      ]
     },
     "execution_count": 8,
     "metadata": {},
     "output_type": "execute_result"
    }
   ],
   "source": [
    "data.isnull().any(), data.isna().any()"
   ]
  },
  {
   "cell_type": "code",
   "execution_count": 9,
   "metadata": {},
   "outputs": [
    {
     "data": {
      "text/html": [
       "<div>\n",
       "<style scoped>\n",
       "    .dataframe tbody tr th:only-of-type {\n",
       "        vertical-align: middle;\n",
       "    }\n",
       "\n",
       "    .dataframe tbody tr th {\n",
       "        vertical-align: top;\n",
       "    }\n",
       "\n",
       "    .dataframe thead th {\n",
       "        text-align: right;\n",
       "    }\n",
       "</style>\n",
       "<table border=\"1\" class=\"dataframe\">\n",
       "  <thead>\n",
       "    <tr style=\"text-align: right;\">\n",
       "      <th></th>\n",
       "      <th>ID</th>\n",
       "      <th>ClumpThickness</th>\n",
       "      <th>Cell Size</th>\n",
       "      <th>Cell Shape</th>\n",
       "      <th>Marginal Adhesion</th>\n",
       "      <th>Single Epithelial Cell Size</th>\n",
       "      <th>Normal Nucleoli</th>\n",
       "      <th>Bland Chromatin</th>\n",
       "      <th>Mitoses</th>\n",
       "      <th>Class</th>\n",
       "    </tr>\n",
       "  </thead>\n",
       "  <tbody>\n",
       "    <tr>\n",
       "      <th>count</th>\n",
       "      <td>6.990000e+02</td>\n",
       "      <td>699.000000</td>\n",
       "      <td>699.000000</td>\n",
       "      <td>699.000000</td>\n",
       "      <td>699.000000</td>\n",
       "      <td>699.000000</td>\n",
       "      <td>699.000000</td>\n",
       "      <td>699.000000</td>\n",
       "      <td>699.000000</td>\n",
       "      <td>699.000000</td>\n",
       "    </tr>\n",
       "    <tr>\n",
       "      <th>mean</th>\n",
       "      <td>1.071704e+06</td>\n",
       "      <td>4.417740</td>\n",
       "      <td>3.134478</td>\n",
       "      <td>3.207439</td>\n",
       "      <td>2.806867</td>\n",
       "      <td>3.216023</td>\n",
       "      <td>3.437768</td>\n",
       "      <td>2.866953</td>\n",
       "      <td>1.589413</td>\n",
       "      <td>2.689557</td>\n",
       "    </tr>\n",
       "    <tr>\n",
       "      <th>std</th>\n",
       "      <td>6.170957e+05</td>\n",
       "      <td>2.815741</td>\n",
       "      <td>3.051459</td>\n",
       "      <td>2.971913</td>\n",
       "      <td>2.855379</td>\n",
       "      <td>2.214300</td>\n",
       "      <td>2.438364</td>\n",
       "      <td>3.053634</td>\n",
       "      <td>1.715078</td>\n",
       "      <td>0.951273</td>\n",
       "    </tr>\n",
       "    <tr>\n",
       "      <th>min</th>\n",
       "      <td>6.163400e+04</td>\n",
       "      <td>1.000000</td>\n",
       "      <td>1.000000</td>\n",
       "      <td>1.000000</td>\n",
       "      <td>1.000000</td>\n",
       "      <td>1.000000</td>\n",
       "      <td>1.000000</td>\n",
       "      <td>1.000000</td>\n",
       "      <td>1.000000</td>\n",
       "      <td>2.000000</td>\n",
       "    </tr>\n",
       "    <tr>\n",
       "      <th>25%</th>\n",
       "      <td>8.706885e+05</td>\n",
       "      <td>2.000000</td>\n",
       "      <td>1.000000</td>\n",
       "      <td>1.000000</td>\n",
       "      <td>1.000000</td>\n",
       "      <td>2.000000</td>\n",
       "      <td>2.000000</td>\n",
       "      <td>1.000000</td>\n",
       "      <td>1.000000</td>\n",
       "      <td>2.000000</td>\n",
       "    </tr>\n",
       "    <tr>\n",
       "      <th>50%</th>\n",
       "      <td>1.171710e+06</td>\n",
       "      <td>4.000000</td>\n",
       "      <td>1.000000</td>\n",
       "      <td>1.000000</td>\n",
       "      <td>1.000000</td>\n",
       "      <td>2.000000</td>\n",
       "      <td>3.000000</td>\n",
       "      <td>1.000000</td>\n",
       "      <td>1.000000</td>\n",
       "      <td>2.000000</td>\n",
       "    </tr>\n",
       "    <tr>\n",
       "      <th>75%</th>\n",
       "      <td>1.238298e+06</td>\n",
       "      <td>6.000000</td>\n",
       "      <td>5.000000</td>\n",
       "      <td>5.000000</td>\n",
       "      <td>4.000000</td>\n",
       "      <td>4.000000</td>\n",
       "      <td>5.000000</td>\n",
       "      <td>4.000000</td>\n",
       "      <td>1.000000</td>\n",
       "      <td>4.000000</td>\n",
       "    </tr>\n",
       "    <tr>\n",
       "      <th>max</th>\n",
       "      <td>1.345435e+07</td>\n",
       "      <td>10.000000</td>\n",
       "      <td>10.000000</td>\n",
       "      <td>10.000000</td>\n",
       "      <td>10.000000</td>\n",
       "      <td>10.000000</td>\n",
       "      <td>10.000000</td>\n",
       "      <td>10.000000</td>\n",
       "      <td>10.000000</td>\n",
       "      <td>4.000000</td>\n",
       "    </tr>\n",
       "  </tbody>\n",
       "</table>\n",
       "</div>"
      ],
      "text/plain": [
       "                 ID  ClumpThickness   Cell Size  Cell Shape  \\\n",
       "count  6.990000e+02      699.000000  699.000000  699.000000   \n",
       "mean   1.071704e+06        4.417740    3.134478    3.207439   \n",
       "std    6.170957e+05        2.815741    3.051459    2.971913   \n",
       "min    6.163400e+04        1.000000    1.000000    1.000000   \n",
       "25%    8.706885e+05        2.000000    1.000000    1.000000   \n",
       "50%    1.171710e+06        4.000000    1.000000    1.000000   \n",
       "75%    1.238298e+06        6.000000    5.000000    5.000000   \n",
       "max    1.345435e+07       10.000000   10.000000   10.000000   \n",
       "\n",
       "       Marginal Adhesion  Single Epithelial Cell Size  Normal Nucleoli  \\\n",
       "count         699.000000                   699.000000       699.000000   \n",
       "mean            2.806867                     3.216023         3.437768   \n",
       "std             2.855379                     2.214300         2.438364   \n",
       "min             1.000000                     1.000000         1.000000   \n",
       "25%             1.000000                     2.000000         2.000000   \n",
       "50%             1.000000                     2.000000         3.000000   \n",
       "75%             4.000000                     4.000000         5.000000   \n",
       "max            10.000000                    10.000000        10.000000   \n",
       "\n",
       "       Bland Chromatin     Mitoses       Class  \n",
       "count       699.000000  699.000000  699.000000  \n",
       "mean          2.866953    1.589413    2.689557  \n",
       "std           3.053634    1.715078    0.951273  \n",
       "min           1.000000    1.000000    2.000000  \n",
       "25%           1.000000    1.000000    2.000000  \n",
       "50%           1.000000    1.000000    2.000000  \n",
       "75%           4.000000    1.000000    4.000000  \n",
       "max          10.000000   10.000000    4.000000  "
      ]
     },
     "execution_count": 9,
     "metadata": {},
     "output_type": "execute_result"
    }
   ],
   "source": [
    "data.describe()"
   ]
  },
  {
   "cell_type": "markdown",
   "metadata": {},
   "source": [
    "There are 698 entries for all columns; So there are no missing (Null or NA) values.\n",
    "\n",
    "10 out of 11 columns are integer types and all 10 can be computed.\n",
    "\n",
    "Bare Nuclei is of object type. Will check if that contains ? or not."
   ]
  },
  {
   "cell_type": "code",
   "execution_count": 10,
   "metadata": {
    "colab": {},
    "colab_type": "code",
    "id": "02fqzvZuSM4f"
   },
   "outputs": [],
   "source": [
    "# No missing values found. So let us try to remove ? from bare nuclei column\n",
    "\n",
    "# Get count of rows having ?"
   ]
  },
  {
   "cell_type": "code",
   "execution_count": 11,
   "metadata": {},
   "outputs": [
    {
     "data": {
      "text/plain": [
       "(16, 11)"
      ]
     },
     "execution_count": 11,
     "metadata": {},
     "output_type": "execute_result"
    }
   ],
   "source": [
    "data.loc[data['Bare Nuclei'] == '?'].shape"
   ]
  },
  {
   "cell_type": "markdown",
   "metadata": {},
   "source": [
    "There are 16 rows with Bare Nuclei = ?"
   ]
  },
  {
   "cell_type": "code",
   "execution_count": 12,
   "metadata": {
    "colab": {},
    "colab_type": "code",
    "id": "jAmWPaXpWCw3"
   },
   "outputs": [],
   "source": [
    "# 16 values are corrupted. We can either delete them as it forms roughly 2% of data.\n",
    "# Here we would like to impute it with suitable values"
   ]
  },
  {
   "cell_type": "markdown",
   "metadata": {},
   "source": [
    "Here, we will first convert Bare Nuclei column to integer, get the mean of all values and assign this mean where ? is occuring"
   ]
  },
  {
   "cell_type": "code",
   "execution_count": 13,
   "metadata": {},
   "outputs": [],
   "source": [
    "data.loc[data['Bare Nuclei'] != '?', 'Bare Nuclei'] = pd.to_numeric(data.loc[data['Bare Nuclei'] != '?', 'Bare Nuclei'])"
   ]
  },
  {
   "cell_type": "code",
   "execution_count": 14,
   "metadata": {},
   "outputs": [],
   "source": [
    "bareNuclei = data.loc[data['Bare Nuclei'] != '?', 'Bare Nuclei']"
   ]
  },
  {
   "cell_type": "code",
   "execution_count": 15,
   "metadata": {},
   "outputs": [
    {
     "data": {
      "text/plain": [
       "<matplotlib.axes._subplots.AxesSubplot at 0x2c8e1602ac8>"
      ]
     },
     "execution_count": 15,
     "metadata": {},
     "output_type": "execute_result"
    },
    {
     "data": {
      "image/png": "[encoded data removed]",
      "text/plain": [
       "<Figure size 432x288 with 1 Axes>"
      ]
     },
     "metadata": {
      "needs_background": "light"
     },
     "output_type": "display_data"
    }
   ],
   "source": [
    "sns.countplot(bareNuclei)"
   ]
  },
  {
   "cell_type": "code",
   "execution_count": null,
   "metadata": {},
   "outputs": [],
   "source": [
    "bareNuclei.value_counts()"
   ]
  },
  {
   "cell_type": "markdown",
   "metadata": {},
   "source": [
    "From the countplot and unique values, value of 1 is repeated for 402 times.\n",
    "\n",
    "So, we will assign mode value of 1 to the rows where ? is occuring"
   ]
  },
  {
   "cell_type": "code",
   "execution_count": 16,
   "metadata": {},
   "outputs": [],
   "source": [
    "#data.replace(to_replace='?', value=bareNuclei.mode(), inplace=True)"
   ]
  },
  {
   "cell_type": "code",
   "execution_count": 17,
   "metadata": {},
   "outputs": [],
   "source": [
    "data.loc[data['Bare Nuclei'] == '?', 'Bare Nuclei'] = pd.to_numeric(bareNuclei.mode()[0])"
   ]
  },
  {
   "cell_type": "code",
   "execution_count": 18,
   "metadata": {},
   "outputs": [
    {
     "data": {
      "text/html": [
       "<div>\n",
       "<style scoped>\n",
       "    .dataframe tbody tr th:only-of-type {\n",
       "        vertical-align: middle;\n",
       "    }\n",
       "\n",
       "    .dataframe tbody tr th {\n",
       "        vertical-align: top;\n",
       "    }\n",
       "\n",
       "    .dataframe thead th {\n",
       "        text-align: right;\n",
       "    }\n",
       "</style>\n",
       "<table border=\"1\" class=\"dataframe\">\n",
       "  <thead>\n",
       "    <tr style=\"text-align: right;\">\n",
       "      <th></th>\n",
       "      <th>ID</th>\n",
       "      <th>ClumpThickness</th>\n",
       "      <th>Cell Size</th>\n",
       "      <th>Cell Shape</th>\n",
       "      <th>Marginal Adhesion</th>\n",
       "      <th>Single Epithelial Cell Size</th>\n",
       "      <th>Bare Nuclei</th>\n",
       "      <th>Normal Nucleoli</th>\n",
       "      <th>Bland Chromatin</th>\n",
       "      <th>Mitoses</th>\n",
       "      <th>Class</th>\n",
       "    </tr>\n",
       "  </thead>\n",
       "  <tbody>\n",
       "    <tr>\n",
       "      <th>count</th>\n",
       "      <td>6.990000e+02</td>\n",
       "      <td>699.000000</td>\n",
       "      <td>699.000000</td>\n",
       "      <td>699.000000</td>\n",
       "      <td>699.000000</td>\n",
       "      <td>699.000000</td>\n",
       "      <td>699.000000</td>\n",
       "      <td>699.000000</td>\n",
       "      <td>699.000000</td>\n",
       "      <td>699.000000</td>\n",
       "      <td>699.000000</td>\n",
       "    </tr>\n",
       "    <tr>\n",
       "      <th>mean</th>\n",
       "      <td>1.071704e+06</td>\n",
       "      <td>4.417740</td>\n",
       "      <td>3.134478</td>\n",
       "      <td>3.207439</td>\n",
       "      <td>2.806867</td>\n",
       "      <td>3.216023</td>\n",
       "      <td>3.486409</td>\n",
       "      <td>3.437768</td>\n",
       "      <td>2.866953</td>\n",
       "      <td>1.589413</td>\n",
       "      <td>2.689557</td>\n",
       "    </tr>\n",
       "    <tr>\n",
       "      <th>std</th>\n",
       "      <td>6.170957e+05</td>\n",
       "      <td>2.815741</td>\n",
       "      <td>3.051459</td>\n",
       "      <td>2.971913</td>\n",
       "      <td>2.855379</td>\n",
       "      <td>2.214300</td>\n",
       "      <td>3.621929</td>\n",
       "      <td>2.438364</td>\n",
       "      <td>3.053634</td>\n",
       "      <td>1.715078</td>\n",
       "      <td>0.951273</td>\n",
       "    </tr>\n",
       "    <tr>\n",
       "      <th>min</th>\n",
       "      <td>6.163400e+04</td>\n",
       "      <td>1.000000</td>\n",
       "      <td>1.000000</td>\n",
       "      <td>1.000000</td>\n",
       "      <td>1.000000</td>\n",
       "      <td>1.000000</td>\n",
       "      <td>1.000000</td>\n",
       "      <td>1.000000</td>\n",
       "      <td>1.000000</td>\n",
       "      <td>1.000000</td>\n",
       "      <td>2.000000</td>\n",
       "    </tr>\n",
       "    <tr>\n",
       "      <th>25%</th>\n",
       "      <td>8.706885e+05</td>\n",
       "      <td>2.000000</td>\n",
       "      <td>1.000000</td>\n",
       "      <td>1.000000</td>\n",
       "      <td>1.000000</td>\n",
       "      <td>2.000000</td>\n",
       "      <td>1.000000</td>\n",
       "      <td>2.000000</td>\n",
       "      <td>1.000000</td>\n",
       "      <td>1.000000</td>\n",
       "      <td>2.000000</td>\n",
       "    </tr>\n",
       "    <tr>\n",
       "      <th>50%</th>\n",
       "      <td>1.171710e+06</td>\n",
       "      <td>4.000000</td>\n",
       "      <td>1.000000</td>\n",
       "      <td>1.000000</td>\n",
       "      <td>1.000000</td>\n",
       "      <td>2.000000</td>\n",
       "      <td>1.000000</td>\n",
       "      <td>3.000000</td>\n",
       "      <td>1.000000</td>\n",
       "      <td>1.000000</td>\n",
       "      <td>2.000000</td>\n",
       "    </tr>\n",
       "    <tr>\n",
       "      <th>75%</th>\n",
       "      <td>1.238298e+06</td>\n",
       "      <td>6.000000</td>\n",
       "      <td>5.000000</td>\n",
       "      <td>5.000000</td>\n",
       "      <td>4.000000</td>\n",
       "      <td>4.000000</td>\n",
       "      <td>5.000000</td>\n",
       "      <td>5.000000</td>\n",
       "      <td>4.000000</td>\n",
       "      <td>1.000000</td>\n",
       "      <td>4.000000</td>\n",
       "    </tr>\n",
       "    <tr>\n",
       "      <th>max</th>\n",
       "      <td>1.345435e+07</td>\n",
       "      <td>10.000000</td>\n",
       "      <td>10.000000</td>\n",
       "      <td>10.000000</td>\n",
       "      <td>10.000000</td>\n",
       "      <td>10.000000</td>\n",
       "      <td>10.000000</td>\n",
       "      <td>10.000000</td>\n",
       "      <td>10.000000</td>\n",
       "      <td>10.000000</td>\n",
       "      <td>4.000000</td>\n",
       "    </tr>\n",
       "  </tbody>\n",
       "</table>\n",
       "</div>"
      ],
      "text/plain": [
       "                 ID  ClumpThickness   Cell Size  Cell Shape  \\\n",
       "count  6.990000e+02      699.000000  699.000000  699.000000   \n",
       "mean   1.071704e+06        4.417740    3.134478    3.207439   \n",
       "std    6.170957e+05        2.815741    3.051459    2.971913   \n",
       "min    6.163400e+04        1.000000    1.000000    1.000000   \n",
       "25%    8.706885e+05        2.000000    1.000000    1.000000   \n",
       "50%    1.171710e+06        4.000000    1.000000    1.000000   \n",
       "75%    1.238298e+06        6.000000    5.000000    5.000000   \n",
       "max    1.345435e+07       10.000000   10.000000   10.000000   \n",
       "\n",
       "       Marginal Adhesion  Single Epithelial Cell Size  Bare Nuclei  \\\n",
       "count         699.000000                   699.000000   699.000000   \n",
       "mean            2.806867                     3.216023     3.486409   \n",
       "std             2.855379                     2.214300     3.621929   \n",
       "min             1.000000                     1.000000     1.000000   \n",
       "25%             1.000000                     2.000000     1.000000   \n",
       "50%             1.000000                     2.000000     1.000000   \n",
       "75%             4.000000                     4.000000     5.000000   \n",
       "max            10.000000                    10.000000    10.000000   \n",
       "\n",
       "       Normal Nucleoli  Bland Chromatin     Mitoses       Class  \n",
       "count       699.000000       699.000000  699.000000  699.000000  \n",
       "mean          3.437768         2.866953    1.589413    2.689557  \n",
       "std           2.438364         3.053634    1.715078    0.951273  \n",
       "min           1.000000         1.000000    1.000000    2.000000  \n",
       "25%           2.000000         1.000000    1.000000    2.000000  \n",
       "50%           3.000000         1.000000    1.000000    2.000000  \n",
       "75%           5.000000         4.000000    1.000000    4.000000  \n",
       "max          10.000000        10.000000   10.000000    4.000000  "
      ]
     },
     "execution_count": 18,
     "metadata": {},
     "output_type": "execute_result"
    }
   ],
   "source": [
    "data.describe()"
   ]
  },
  {
   "cell_type": "markdown",
   "metadata": {},
   "source": [
    "Check if there are any duplicate rows (ID)"
   ]
  },
  {
   "cell_type": "code",
   "execution_count": 19,
   "metadata": {},
   "outputs": [
    {
     "data": {
      "text/plain": [
       "(54, 11)"
      ]
     },
     "execution_count": 19,
     "metadata": {},
     "output_type": "execute_result"
    }
   ],
   "source": [
    "duplicateRows = data[data.duplicated(['ID'])]\n",
    "duplicateRows.shape"
   ]
  },
  {
   "cell_type": "markdown",
   "metadata": {},
   "source": [
    "Dropping these duplicate rows"
   ]
  },
  {
   "cell_type": "code",
   "execution_count": 20,
   "metadata": {},
   "outputs": [],
   "source": [
    "data.drop_duplicates(keep='first', inplace=True)"
   ]
  },
  {
   "cell_type": "code",
   "execution_count": 21,
   "metadata": {},
   "outputs": [
    {
     "data": {
      "text/html": [
       "<div>\n",
       "<style scoped>\n",
       "    .dataframe tbody tr th:only-of-type {\n",
       "        vertical-align: middle;\n",
       "    }\n",
       "\n",
       "    .dataframe tbody tr th {\n",
       "        vertical-align: top;\n",
       "    }\n",
       "\n",
       "    .dataframe thead th {\n",
       "        text-align: right;\n",
       "    }\n",
       "</style>\n",
       "<table border=\"1\" class=\"dataframe\">\n",
       "  <thead>\n",
       "    <tr style=\"text-align: right;\">\n",
       "      <th></th>\n",
       "      <th>ID</th>\n",
       "      <th>ClumpThickness</th>\n",
       "      <th>Cell Size</th>\n",
       "      <th>Cell Shape</th>\n",
       "      <th>Marginal Adhesion</th>\n",
       "      <th>Single Epithelial Cell Size</th>\n",
       "      <th>Bare Nuclei</th>\n",
       "      <th>Normal Nucleoli</th>\n",
       "      <th>Bland Chromatin</th>\n",
       "      <th>Mitoses</th>\n",
       "      <th>Class</th>\n",
       "    </tr>\n",
       "  </thead>\n",
       "  <tbody>\n",
       "    <tr>\n",
       "      <th>count</th>\n",
       "      <td>6.900000e+02</td>\n",
       "      <td>690.000000</td>\n",
       "      <td>690.000000</td>\n",
       "      <td>690.000000</td>\n",
       "      <td>690.000000</td>\n",
       "      <td>690.000000</td>\n",
       "      <td>690.000000</td>\n",
       "      <td>690.000000</td>\n",
       "      <td>690.000000</td>\n",
       "      <td>690.000000</td>\n",
       "      <td>690.000000</td>\n",
       "    </tr>\n",
       "    <tr>\n",
       "      <th>mean</th>\n",
       "      <td>1.073826e+06</td>\n",
       "      <td>4.428986</td>\n",
       "      <td>3.133333</td>\n",
       "      <td>3.204348</td>\n",
       "      <td>2.827536</td>\n",
       "      <td>3.213043</td>\n",
       "      <td>3.482609</td>\n",
       "      <td>3.436232</td>\n",
       "      <td>2.885507</td>\n",
       "      <td>1.594203</td>\n",
       "      <td>2.689855</td>\n",
       "    </tr>\n",
       "    <tr>\n",
       "      <th>std</th>\n",
       "      <td>6.196092e+05</td>\n",
       "      <td>2.817378</td>\n",
       "      <td>3.042451</td>\n",
       "      <td>2.960844</td>\n",
       "      <td>2.867787</td>\n",
       "      <td>2.200964</td>\n",
       "      <td>3.617064</td>\n",
       "      <td>2.444060</td>\n",
       "      <td>3.067682</td>\n",
       "      <td>1.724230</td>\n",
       "      <td>0.951379</td>\n",
       "    </tr>\n",
       "    <tr>\n",
       "      <th>min</th>\n",
       "      <td>6.163400e+04</td>\n",
       "      <td>1.000000</td>\n",
       "      <td>1.000000</td>\n",
       "      <td>1.000000</td>\n",
       "      <td>1.000000</td>\n",
       "      <td>1.000000</td>\n",
       "      <td>1.000000</td>\n",
       "      <td>1.000000</td>\n",
       "      <td>1.000000</td>\n",
       "      <td>1.000000</td>\n",
       "      <td>2.000000</td>\n",
       "    </tr>\n",
       "    <tr>\n",
       "      <th>25%</th>\n",
       "      <td>8.744845e+05</td>\n",
       "      <td>2.000000</td>\n",
       "      <td>1.000000</td>\n",
       "      <td>1.000000</td>\n",
       "      <td>1.000000</td>\n",
       "      <td>2.000000</td>\n",
       "      <td>1.000000</td>\n",
       "      <td>2.000000</td>\n",
       "      <td>1.000000</td>\n",
       "      <td>1.000000</td>\n",
       "      <td>2.000000</td>\n",
       "    </tr>\n",
       "    <tr>\n",
       "      <th>50%</th>\n",
       "      <td>1.171752e+06</td>\n",
       "      <td>4.000000</td>\n",
       "      <td>1.000000</td>\n",
       "      <td>1.000000</td>\n",
       "      <td>1.000000</td>\n",
       "      <td>2.000000</td>\n",
       "      <td>1.000000</td>\n",
       "      <td>3.000000</td>\n",
       "      <td>1.000000</td>\n",
       "      <td>1.000000</td>\n",
       "      <td>2.000000</td>\n",
       "    </tr>\n",
       "    <tr>\n",
       "      <th>75%</th>\n",
       "      <td>1.238450e+06</td>\n",
       "      <td>6.000000</td>\n",
       "      <td>5.000000</td>\n",
       "      <td>5.000000</td>\n",
       "      <td>4.000000</td>\n",
       "      <td>4.000000</td>\n",
       "      <td>5.000000</td>\n",
       "      <td>5.000000</td>\n",
       "      <td>4.000000</td>\n",
       "      <td>1.000000</td>\n",
       "      <td>4.000000</td>\n",
       "    </tr>\n",
       "    <tr>\n",
       "      <th>max</th>\n",
       "      <td>1.345435e+07</td>\n",
       "      <td>10.000000</td>\n",
       "      <td>10.000000</td>\n",
       "      <td>10.000000</td>\n",
       "      <td>10.000000</td>\n",
       "      <td>10.000000</td>\n",
       "      <td>10.000000</td>\n",
       "      <td>10.000000</td>\n",
       "      <td>10.000000</td>\n",
       "      <td>10.000000</td>\n",
       "      <td>4.000000</td>\n",
       "    </tr>\n",
       "  </tbody>\n",
       "</table>\n",
       "</div>"
      ],
      "text/plain": [
       "                 ID  ClumpThickness   Cell Size  Cell Shape  \\\n",
       "count  6.900000e+02      690.000000  690.000000  690.000000   \n",
       "mean   1.073826e+06        4.428986    3.133333    3.204348   \n",
       "std    6.196092e+05        2.817378    3.042451    2.960844   \n",
       "min    6.163400e+04        1.000000    1.000000    1.000000   \n",
       "25%    8.744845e+05        2.000000    1.000000    1.000000   \n",
       "50%    1.171752e+06        4.000000    1.000000    1.000000   \n",
       "75%    1.238450e+06        6.000000    5.000000    5.000000   \n",
       "max    1.345435e+07       10.000000   10.000000   10.000000   \n",
       "\n",
       "       Marginal Adhesion  Single Epithelial Cell Size  Bare Nuclei  \\\n",
       "count         690.000000                   690.000000   690.000000   \n",
       "mean            2.827536                     3.213043     3.482609   \n",
       "std             2.867787                     2.200964     3.617064   \n",
       "min             1.000000                     1.000000     1.000000   \n",
       "25%             1.000000                     2.000000     1.000000   \n",
       "50%             1.000000                     2.000000     1.000000   \n",
       "75%             4.000000                     4.000000     5.000000   \n",
       "max            10.000000                    10.000000    10.000000   \n",
       "\n",
       "       Normal Nucleoli  Bland Chromatin     Mitoses       Class  \n",
       "count       690.000000       690.000000  690.000000  690.000000  \n",
       "mean          3.436232         2.885507    1.594203    2.689855  \n",
       "std           2.444060         3.067682    1.724230    0.951379  \n",
       "min           1.000000         1.000000    1.000000    2.000000  \n",
       "25%           2.000000         1.000000    1.000000    2.000000  \n",
       "50%           3.000000         1.000000    1.000000    2.000000  \n",
       "75%           5.000000         4.000000    1.000000    4.000000  \n",
       "max          10.000000        10.000000   10.000000    4.000000  "
      ]
     },
     "execution_count": 21,
     "metadata": {},
     "output_type": "execute_result"
    }
   ],
   "source": [
    "data.describe()"
   ]
  },
  {
   "cell_type": "markdown",
   "metadata": {
    "colab_type": "text",
    "id": "YAu8NvGaWCxr"
   },
   "source": [
    "# Q4. Perform bi variate analysis including correlation, pairplots and state the inferences. \n"
   ]
  },
  {
   "cell_type": "markdown",
   "metadata": {},
   "source": [
    "Removing ID for further analysis"
   ]
  },
  {
   "cell_type": "code",
   "execution_count": 22,
   "metadata": {},
   "outputs": [],
   "source": [
    "data.drop(columns='ID', inplace=True)"
   ]
  },
  {
   "cell_type": "code",
   "execution_count": null,
   "metadata": {
    "colab": {},
    "colab_type": "code",
    "id": "nu6J2sWuSM4m"
   },
   "outputs": [],
   "source": [
    "# Check for correlation of variable"
   ]
  },
  {
   "cell_type": "code",
   "execution_count": 23,
   "metadata": {},
   "outputs": [
    {
     "data": {
      "text/html": [
       "<div>\n",
       "<style scoped>\n",
       "    .dataframe tbody tr th:only-of-type {\n",
       "        vertical-align: middle;\n",
       "    }\n",
       "\n",
       "    .dataframe tbody tr th {\n",
       "        vertical-align: top;\n",
       "    }\n",
       "\n",
       "    .dataframe thead th {\n",
       "        text-align: right;\n",
       "    }\n",
       "</style>\n",
       "<table border=\"1\" class=\"dataframe\">\n",
       "  <thead>\n",
       "    <tr style=\"text-align: right;\">\n",
       "      <th></th>\n",
       "      <th>ClumpThickness</th>\n",
       "      <th>Cell Size</th>\n",
       "      <th>Cell Shape</th>\n",
       "      <th>Marginal Adhesion</th>\n",
       "      <th>Single Epithelial Cell Size</th>\n",
       "      <th>Bare Nuclei</th>\n",
       "      <th>Normal Nucleoli</th>\n",
       "      <th>Bland Chromatin</th>\n",
       "      <th>Mitoses</th>\n",
       "      <th>Class</th>\n",
       "    </tr>\n",
       "  </thead>\n",
       "  <tbody>\n",
       "    <tr>\n",
       "      <th>ClumpThickness</th>\n",
       "      <td>1.000000</td>\n",
       "      <td>0.643173</td>\n",
       "      <td>0.653589</td>\n",
       "      <td>0.487715</td>\n",
       "      <td>0.517253</td>\n",
       "      <td>0.590648</td>\n",
       "      <td>0.561063</td>\n",
       "      <td>0.535507</td>\n",
       "      <td>0.350196</td>\n",
       "      <td>0.716812</td>\n",
       "    </tr>\n",
       "    <tr>\n",
       "      <th>Cell Size</th>\n",
       "      <td>0.643173</td>\n",
       "      <td>1.000000</td>\n",
       "      <td>0.905349</td>\n",
       "      <td>0.712933</td>\n",
       "      <td>0.746982</td>\n",
       "      <td>0.684571</td>\n",
       "      <td>0.759632</td>\n",
       "      <td>0.727073</td>\n",
       "      <td>0.459918</td>\n",
       "      <td>0.817586</td>\n",
       "    </tr>\n",
       "    <tr>\n",
       "      <th>Cell Shape</th>\n",
       "      <td>0.653589</td>\n",
       "      <td>0.905349</td>\n",
       "      <td>1.000000</td>\n",
       "      <td>0.690782</td>\n",
       "      <td>0.714243</td>\n",
       "      <td>0.704165</td>\n",
       "      <td>0.738576</td>\n",
       "      <td>0.724519</td>\n",
       "      <td>0.440435</td>\n",
       "      <td>0.817551</td>\n",
       "    </tr>\n",
       "    <tr>\n",
       "      <th>Marginal Adhesion</th>\n",
       "      <td>0.487715</td>\n",
       "      <td>0.712933</td>\n",
       "      <td>0.690782</td>\n",
       "      <td>1.000000</td>\n",
       "      <td>0.608281</td>\n",
       "      <td>0.672512</td>\n",
       "      <td>0.669860</td>\n",
       "      <td>0.602228</td>\n",
       "      <td>0.417008</td>\n",
       "      <td>0.701175</td>\n",
       "    </tr>\n",
       "    <tr>\n",
       "      <th>Single Epithelial Cell Size</th>\n",
       "      <td>0.517253</td>\n",
       "      <td>0.746982</td>\n",
       "      <td>0.714243</td>\n",
       "      <td>0.608281</td>\n",
       "      <td>1.000000</td>\n",
       "      <td>0.580487</td>\n",
       "      <td>0.620526</td>\n",
       "      <td>0.633880</td>\n",
       "      <td>0.482517</td>\n",
       "      <td>0.681063</td>\n",
       "    </tr>\n",
       "    <tr>\n",
       "      <th>Bare Nuclei</th>\n",
       "      <td>0.590648</td>\n",
       "      <td>0.684571</td>\n",
       "      <td>0.704165</td>\n",
       "      <td>0.672512</td>\n",
       "      <td>0.580487</td>\n",
       "      <td>1.000000</td>\n",
       "      <td>0.672754</td>\n",
       "      <td>0.578161</td>\n",
       "      <td>0.342823</td>\n",
       "      <td>0.816655</td>\n",
       "    </tr>\n",
       "    <tr>\n",
       "      <th>Normal Nucleoli</th>\n",
       "      <td>0.561063</td>\n",
       "      <td>0.759632</td>\n",
       "      <td>0.738576</td>\n",
       "      <td>0.669860</td>\n",
       "      <td>0.620526</td>\n",
       "      <td>0.672754</td>\n",
       "      <td>1.000000</td>\n",
       "      <td>0.669099</td>\n",
       "      <td>0.343769</td>\n",
       "      <td>0.756736</td>\n",
       "    </tr>\n",
       "    <tr>\n",
       "      <th>Bland Chromatin</th>\n",
       "      <td>0.535507</td>\n",
       "      <td>0.727073</td>\n",
       "      <td>0.724519</td>\n",
       "      <td>0.602228</td>\n",
       "      <td>0.633880</td>\n",
       "      <td>0.578161</td>\n",
       "      <td>0.669099</td>\n",
       "      <td>1.000000</td>\n",
       "      <td>0.427490</td>\n",
       "      <td>0.715363</td>\n",
       "    </tr>\n",
       "    <tr>\n",
       "      <th>Mitoses</th>\n",
       "      <td>0.350196</td>\n",
       "      <td>0.459918</td>\n",
       "      <td>0.440435</td>\n",
       "      <td>0.417008</td>\n",
       "      <td>0.482517</td>\n",
       "      <td>0.342823</td>\n",
       "      <td>0.343769</td>\n",
       "      <td>0.427490</td>\n",
       "      <td>1.000000</td>\n",
       "      <td>0.423947</td>\n",
       "    </tr>\n",
       "    <tr>\n",
       "      <th>Class</th>\n",
       "      <td>0.716812</td>\n",
       "      <td>0.817586</td>\n",
       "      <td>0.817551</td>\n",
       "      <td>0.701175</td>\n",
       "      <td>0.681063</td>\n",
       "      <td>0.816655</td>\n",
       "      <td>0.756736</td>\n",
       "      <td>0.715363</td>\n",
       "      <td>0.423947</td>\n",
       "      <td>1.000000</td>\n",
       "    </tr>\n",
       "  </tbody>\n",
       "</table>\n",
       "</div>"
      ],
      "text/plain": [
       "                             ClumpThickness  Cell Size  Cell Shape  \\\n",
       "ClumpThickness                     1.000000   0.643173    0.653589   \n",
       "Cell Size                          0.643173   1.000000    0.905349   \n",
       "Cell Shape                         0.653589   0.905349    1.000000   \n",
       "Marginal Adhesion                  0.487715   0.712933    0.690782   \n",
       "Single Epithelial Cell Size        0.517253   0.746982    0.714243   \n",
       "Bare Nuclei                        0.590648   0.684571    0.704165   \n",
       "Normal Nucleoli                    0.561063   0.759632    0.738576   \n",
       "Bland Chromatin                    0.535507   0.727073    0.724519   \n",
       "Mitoses                            0.350196   0.459918    0.440435   \n",
       "Class                              0.716812   0.817586    0.817551   \n",
       "\n",
       "                             Marginal Adhesion  Single Epithelial Cell Size  \\\n",
       "ClumpThickness                        0.487715                     0.517253   \n",
       "Cell Size                             0.712933                     0.746982   \n",
       "Cell Shape                            0.690782                     0.714243   \n",
       "Marginal Adhesion                     1.000000                     0.608281   \n",
       "Single Epithelial Cell Size           0.608281                     1.000000   \n",
       "Bare Nuclei                           0.672512                     0.580487   \n",
       "Normal Nucleoli                       0.669860                     0.620526   \n",
       "Bland Chromatin                       0.602228                     0.633880   \n",
       "Mitoses                               0.417008                     0.482517   \n",
       "Class                                 0.701175                     0.681063   \n",
       "\n",
       "                             Bare Nuclei  Normal Nucleoli  Bland Chromatin  \\\n",
       "ClumpThickness                  0.590648         0.561063         0.535507   \n",
       "Cell Size                       0.684571         0.759632         0.727073   \n",
       "Cell Shape                      0.704165         0.738576         0.724519   \n",
       "Marginal Adhesion               0.672512         0.669860         0.602228   \n",
       "Single Epithelial Cell Size     0.580487         0.620526         0.633880   \n",
       "Bare Nuclei                     1.000000         0.672754         0.578161   \n",
       "Normal Nucleoli                 0.672754         1.000000         0.669099   \n",
       "Bland Chromatin                 0.578161         0.669099         1.000000   \n",
       "Mitoses                         0.342823         0.343769         0.427490   \n",
       "Class                           0.816655         0.756736         0.715363   \n",
       "\n",
       "                              Mitoses     Class  \n",
       "ClumpThickness               0.350196  0.716812  \n",
       "Cell Size                    0.459918  0.817586  \n",
       "Cell Shape                   0.440435  0.817551  \n",
       "Marginal Adhesion            0.417008  0.701175  \n",
       "Single Epithelial Cell Size  0.482517  0.681063  \n",
       "Bare Nuclei                  0.342823  0.816655  \n",
       "Normal Nucleoli              0.343769  0.756736  \n",
       "Bland Chromatin              0.427490  0.715363  \n",
       "Mitoses                      1.000000  0.423947  \n",
       "Class                        0.423947  1.000000  "
      ]
     },
     "execution_count": 23,
     "metadata": {},
     "output_type": "execute_result"
    }
   ],
   "source": [
    "data.corr()"
   ]
  },
  {
   "cell_type": "code",
   "execution_count": 24,
   "metadata": {
    "colab": {},
    "colab_type": "code",
    "id": "ysZh50iDWCxz"
   },
   "outputs": [],
   "source": [
    "# Cell size shows high significance with cell shape,marginal adhesion, single epithelial cell size,bare nuclei, normal nucleoli \n",
    "# and bland chromatin\n",
    "# Target variable shows high correlation with most of these variables"
   ]
  },
  {
   "cell_type": "code",
   "execution_count": 25,
   "metadata": {
    "colab": {},
    "colab_type": "code",
    "id": "5Wt84dgVSM4s"
   },
   "outputs": [],
   "source": [
    "#Let us check for pair plots"
   ]
  },
  {
   "cell_type": "code",
   "execution_count": 26,
   "metadata": {},
   "outputs": [
    {
     "name": "stderr",
     "output_type": "stream",
     "text": [
      "C:\\Install\\anaconda3\\lib\\site-packages\\statsmodels\\nonparametric\\kde.py:487: RuntimeWarning: invalid value encountered in true_divide\n",
      "  binned = fast_linbin(X, a, b, gridsize) / (delta * nobs)\n",
      "C:\\Install\\anaconda3\\lib\\site-packages\\statsmodels\\nonparametric\\kdetools.py:34: RuntimeWarning: invalid value encountered in double_scalars\n",
      "  FAC1 = 2*(np.pi*bw/RANGE)**2\n"
     ]
    },
    {
     "data": {
      "text/plain": [
       "<seaborn.axisgrid.PairGrid at 0x2c8dc3316d8>"
      ]
     },
     "execution_count": 26,
     "metadata": {},
     "output_type": "execute_result"
    },
    {
     "data": {
      "image/png": "[encoded data removed]",
      "text/plain": [
       "<Figure size 1842.38x1800 with 110 Axes>"
      ]
     },
     "metadata": {
      "needs_background": "light"
     },
     "output_type": "display_data"
    }
   ],
   "source": [
    "sns.pairplot(data, hue='Class')"
   ]
  },
  {
   "cell_type": "markdown",
   "metadata": {},
   "source": [
    "#### Inferences from the pairplot:\n",
    "- Almost all variables have good separation across Class and so are good candidates for the clustering\n",
    "- Distributions of most variables are right-skewed, which means, most values are concentrated on lower side\n",
    "- Except Mitoses, all variabels are having correlation > 0.5 with other variables\n",
    "- Mitoses is having correlation < 0.5 with other variables"
   ]
  },
  {
   "cell_type": "code",
   "execution_count": 27,
   "metadata": {
    "colab": {},
    "colab_type": "code",
    "id": "OTh11akvWCx8"
   },
   "outputs": [],
   "source": [
    "# Relationship between variables shows come correlation. \n",
    "# Distribution of variables shows most of the values are concentrated on lower side, though range remains same for all that is \n",
    "# Between 1 to 10"
   ]
  },
  {
   "cell_type": "markdown",
   "metadata": {
    "colab_type": "text",
    "id": "9hxe7D9BWCx-"
   },
   "source": [
    "# Q5 Remove any unwanted columns or outliers, standardize variables in pre-processing step"
   ]
  },
  {
   "cell_type": "code",
   "execution_count": 28,
   "metadata": {
    "colab": {},
    "colab_type": "code",
    "id": "TqhCGZe4SM43",
    "scrolled": true
   },
   "outputs": [
    {
     "data": {
      "text/plain": [
       "<matplotlib.axes._subplots.AxesSubplot at 0x2c8e5641e80>"
      ]
     },
     "execution_count": 28,
     "metadata": {},
     "output_type": "execute_result"
    },
    {
     "data": {
      "image/png": "[encoded data removed]",
      "text/plain": [
       "<Figure size 1080x720 with 1 Axes>"
      ]
     },
     "metadata": {
      "needs_background": "light"
     },
     "output_type": "display_data"
    }
   ],
   "source": [
    "data.boxplot(figsize=(15, 10))"
   ]
  },
  {
   "cell_type": "markdown",
   "metadata": {},
   "source": [
    "Based on above boxplot, most of the outliers are on higher side on the range of 1 to 10.\n",
    "\n",
    "Choosing these columns to process the outliers:\n",
    "Marginal Adhesion\n",
    "Single Epithelial Cell Size\n",
    "Normal Nucleoli\n",
    "Bland Chromatin\n",
    "Mitoses\n",
    "\n",
    "The outliers are assigned the values to the nearest quartile range (instead of mean or mode of all columns)'"
   ]
  },
  {
   "cell_type": "code",
   "execution_count": 29,
   "metadata": {},
   "outputs": [],
   "source": [
    "data.loc[data['Marginal Adhesion'] > 8, 'Marginal Adhesion'] = 8"
   ]
  },
  {
   "cell_type": "code",
   "execution_count": 30,
   "metadata": {},
   "outputs": [],
   "source": [
    "data.loc[data['Single Epithelial Cell Size'] > 7, 'Single Epithelial Cell Size'] = 7"
   ]
  },
  {
   "cell_type": "code",
   "execution_count": 31,
   "metadata": {},
   "outputs": [],
   "source": [
    "data.loc[data['Normal Nucleoli'] > 9, 'Normal Nucleoli'] = 9"
   ]
  },
  {
   "cell_type": "code",
   "execution_count": 32,
   "metadata": {},
   "outputs": [],
   "source": [
    "data.loc[data['Bland Chromatin'] > 8, 'Bland Chromatin'] = 8"
   ]
  },
  {
   "cell_type": "code",
   "execution_count": 33,
   "metadata": {},
   "outputs": [],
   "source": [
    "data.loc[data['Mitoses'] > 1, 'Mitoses'] = 1"
   ]
  },
  {
   "cell_type": "code",
   "execution_count": 34,
   "metadata": {},
   "outputs": [
    {
     "data": {
      "text/html": [
       "<div>\n",
       "<style scoped>\n",
       "    .dataframe tbody tr th:only-of-type {\n",
       "        vertical-align: middle;\n",
       "    }\n",
       "\n",
       "    .dataframe tbody tr th {\n",
       "        vertical-align: top;\n",
       "    }\n",
       "\n",
       "    .dataframe thead th {\n",
       "        text-align: right;\n",
       "    }\n",
       "</style>\n",
       "<table border=\"1\" class=\"dataframe\">\n",
       "  <thead>\n",
       "    <tr style=\"text-align: right;\">\n",
       "      <th></th>\n",
       "      <th>ClumpThickness</th>\n",
       "      <th>Cell Size</th>\n",
       "      <th>Cell Shape</th>\n",
       "      <th>Marginal Adhesion</th>\n",
       "      <th>Single Epithelial Cell Size</th>\n",
       "      <th>Bare Nuclei</th>\n",
       "      <th>Normal Nucleoli</th>\n",
       "      <th>Bland Chromatin</th>\n",
       "      <th>Mitoses</th>\n",
       "      <th>Class</th>\n",
       "    </tr>\n",
       "  </thead>\n",
       "  <tbody>\n",
       "    <tr>\n",
       "      <th>count</th>\n",
       "      <td>690.000000</td>\n",
       "      <td>690.000000</td>\n",
       "      <td>690.000000</td>\n",
       "      <td>690.000000</td>\n",
       "      <td>690.000000</td>\n",
       "      <td>690.000000</td>\n",
       "      <td>690.000000</td>\n",
       "      <td>690.000000</td>\n",
       "      <td>690.0</td>\n",
       "      <td>690.000000</td>\n",
       "    </tr>\n",
       "    <tr>\n",
       "      <th>mean</th>\n",
       "      <td>4.428986</td>\n",
       "      <td>3.133333</td>\n",
       "      <td>3.204348</td>\n",
       "      <td>2.660870</td>\n",
       "      <td>3.047826</td>\n",
       "      <td>3.482609</td>\n",
       "      <td>3.407246</td>\n",
       "      <td>2.685507</td>\n",
       "      <td>1.0</td>\n",
       "      <td>2.689855</td>\n",
       "    </tr>\n",
       "    <tr>\n",
       "      <th>std</th>\n",
       "      <td>2.817378</td>\n",
       "      <td>3.042451</td>\n",
       "      <td>2.960844</td>\n",
       "      <td>2.478542</td>\n",
       "      <td>1.769530</td>\n",
       "      <td>3.617064</td>\n",
       "      <td>2.370771</td>\n",
       "      <td>2.635240</td>\n",
       "      <td>0.0</td>\n",
       "      <td>0.951379</td>\n",
       "    </tr>\n",
       "    <tr>\n",
       "      <th>min</th>\n",
       "      <td>1.000000</td>\n",
       "      <td>1.000000</td>\n",
       "      <td>1.000000</td>\n",
       "      <td>1.000000</td>\n",
       "      <td>1.000000</td>\n",
       "      <td>1.000000</td>\n",
       "      <td>1.000000</td>\n",
       "      <td>1.000000</td>\n",
       "      <td>1.0</td>\n",
       "      <td>2.000000</td>\n",
       "    </tr>\n",
       "    <tr>\n",
       "      <th>25%</th>\n",
       "      <td>2.000000</td>\n",
       "      <td>1.000000</td>\n",
       "      <td>1.000000</td>\n",
       "      <td>1.000000</td>\n",
       "      <td>2.000000</td>\n",
       "      <td>1.000000</td>\n",
       "      <td>2.000000</td>\n",
       "      <td>1.000000</td>\n",
       "      <td>1.0</td>\n",
       "      <td>2.000000</td>\n",
       "    </tr>\n",
       "    <tr>\n",
       "      <th>50%</th>\n",
       "      <td>4.000000</td>\n",
       "      <td>1.000000</td>\n",
       "      <td>1.000000</td>\n",
       "      <td>1.000000</td>\n",
       "      <td>2.000000</td>\n",
       "      <td>1.000000</td>\n",
       "      <td>3.000000</td>\n",
       "      <td>1.000000</td>\n",
       "      <td>1.0</td>\n",
       "      <td>2.000000</td>\n",
       "    </tr>\n",
       "    <tr>\n",
       "      <th>75%</th>\n",
       "      <td>6.000000</td>\n",
       "      <td>5.000000</td>\n",
       "      <td>5.000000</td>\n",
       "      <td>4.000000</td>\n",
       "      <td>4.000000</td>\n",
       "      <td>5.000000</td>\n",
       "      <td>5.000000</td>\n",
       "      <td>4.000000</td>\n",
       "      <td>1.0</td>\n",
       "      <td>4.000000</td>\n",
       "    </tr>\n",
       "    <tr>\n",
       "      <th>max</th>\n",
       "      <td>10.000000</td>\n",
       "      <td>10.000000</td>\n",
       "      <td>10.000000</td>\n",
       "      <td>8.000000</td>\n",
       "      <td>7.000000</td>\n",
       "      <td>10.000000</td>\n",
       "      <td>9.000000</td>\n",
       "      <td>8.000000</td>\n",
       "      <td>1.0</td>\n",
       "      <td>4.000000</td>\n",
       "    </tr>\n",
       "  </tbody>\n",
       "</table>\n",
       "</div>"
      ],
      "text/plain": [
       "       ClumpThickness   Cell Size  Cell Shape  Marginal Adhesion  \\\n",
       "count      690.000000  690.000000  690.000000         690.000000   \n",
       "mean         4.428986    3.133333    3.204348           2.660870   \n",
       "std          2.817378    3.042451    2.960844           2.478542   \n",
       "min          1.000000    1.000000    1.000000           1.000000   \n",
       "25%          2.000000    1.000000    1.000000           1.000000   \n",
       "50%          4.000000    1.000000    1.000000           1.000000   \n",
       "75%          6.000000    5.000000    5.000000           4.000000   \n",
       "max         10.000000   10.000000   10.000000           8.000000   \n",
       "\n",
       "       Single Epithelial Cell Size  Bare Nuclei  Normal Nucleoli  \\\n",
       "count                   690.000000   690.000000       690.000000   \n",
       "mean                      3.047826     3.482609         3.407246   \n",
       "std                       1.769530     3.617064         2.370771   \n",
       "min                       1.000000     1.000000         1.000000   \n",
       "25%                       2.000000     1.000000         2.000000   \n",
       "50%                       2.000000     1.000000         3.000000   \n",
       "75%                       4.000000     5.000000         5.000000   \n",
       "max                       7.000000    10.000000         9.000000   \n",
       "\n",
       "       Bland Chromatin  Mitoses       Class  \n",
       "count       690.000000    690.0  690.000000  \n",
       "mean          2.685507      1.0    2.689855  \n",
       "std           2.635240      0.0    0.951379  \n",
       "min           1.000000      1.0    2.000000  \n",
       "25%           1.000000      1.0    2.000000  \n",
       "50%           1.000000      1.0    2.000000  \n",
       "75%           4.000000      1.0    4.000000  \n",
       "max           8.000000      1.0    4.000000  "
      ]
     },
     "execution_count": 34,
     "metadata": {},
     "output_type": "execute_result"
    }
   ],
   "source": [
    "data.describe()"
   ]
  },
  {
   "cell_type": "code",
   "execution_count": 35,
   "metadata": {},
   "outputs": [
    {
     "data": {
      "text/plain": [
       "<matplotlib.axes._subplots.AxesSubplot at 0x2c8e73520f0>"
      ]
     },
     "execution_count": 35,
     "metadata": {},
     "output_type": "execute_result"
    },
    {
     "data": {
      "image/png": "[encoded data removed]",
      "text/plain": [
       "<Figure size 1080x720 with 1 Axes>"
      ]
     },
     "metadata": {
      "needs_background": "light"
     },
     "output_type": "display_data"
    }
   ],
   "source": [
    "data.boxplot(figsize=(15, 10))"
   ]
  },
  {
   "cell_type": "markdown",
   "metadata": {
    "colab": {},
    "colab_type": "code",
    "id": "ViVkMsQTWCza"
   },
   "source": [
    "We could that see most of the outliers are now removed."
   ]
  },
  {
   "cell_type": "code",
   "execution_count": 36,
   "metadata": {},
   "outputs": [],
   "source": [
    "sc = StandardScaler()"
   ]
  },
  {
   "cell_type": "code",
   "execution_count": 37,
   "metadata": {},
   "outputs": [],
   "source": [
    "X = data.drop(columns='Class')"
   ]
  },
  {
   "cell_type": "code",
   "execution_count": 38,
   "metadata": {},
   "outputs": [],
   "source": [
    "y = data['Class']"
   ]
  },
  {
   "cell_type": "code",
   "execution_count": 39,
   "metadata": {},
   "outputs": [],
   "source": [
    "X_sc = sc.fit_transform(X)"
   ]
  },
  {
   "cell_type": "markdown",
   "metadata": {
    "colab_type": "text",
    "id": "lmMHMAtkWCzm"
   },
   "source": [
    "# Q6 Create a covariance matrix for identifying Principal components"
   ]
  },
  {
   "cell_type": "code",
   "execution_count": 40,
   "metadata": {
    "colab": {},
    "colab_type": "code",
    "id": "X3pUdlSdSM5D"
   },
   "outputs": [],
   "source": [
    "# PCA\n",
    "# Step 1 - Create covariance matrix"
   ]
  },
  {
   "cell_type": "code",
   "execution_count": 41,
   "metadata": {
    "colab": {},
    "colab_type": "code",
    "id": "ppL2hWreSM5G"
   },
   "outputs": [
    {
     "name": "stdout",
     "output_type": "stream",
     "text": [
      "Covariance Matrix \n",
      "%s [[1.00145138 0.64410677 0.65453792 0.50566766 0.54660373 0.59150555\n",
      "  0.56762194 0.54895554 0.        ]\n",
      " [0.64410677 1.00145138 0.9066632  0.73190433 0.78174972 0.68556472\n",
      "  0.76060761 0.7322064  0.        ]\n",
      " [0.65453792 0.9066632  1.00145138 0.70664526 0.75160088 0.70518656\n",
      "  0.73975369 0.72768806 0.        ]\n",
      " [0.50566766 0.73190433 0.70664526 1.00145138 0.66784054 0.68919517\n",
      "  0.68896322 0.6334195  0.        ]\n",
      " [0.54660373 0.78174972 0.75160088 0.66784054 1.00145138 0.6263289\n",
      "  0.66056222 0.68990315 0.        ]\n",
      " [0.59150555 0.68556472 0.70518656 0.68919517 0.6263289  1.00145138\n",
      "  0.68161737 0.60106392 0.        ]\n",
      " [0.56762194 0.76060761 0.73975369 0.68896322 0.66056222 0.68161737\n",
      "  1.00145138 0.6803516  0.        ]\n",
      " [0.54895554 0.7322064  0.72768806 0.6334195  0.68990315 0.60106392\n",
      "  0.6803516  1.00145138 0.        ]\n",
      " [0.         0.         0.         0.         0.         0.\n",
      "  0.         0.         0.        ]]\n"
     ]
    }
   ],
   "source": [
    "cov_matrix = np.cov(X_sc.T)\n",
    "print('Covariance Matrix \\n%s', cov_matrix)"
   ]
  },
  {
   "cell_type": "markdown",
   "metadata": {
    "colab_type": "text",
    "id": "vbZ-YcsdWCzz"
   },
   "source": [
    "# Q7 Identify eigen values and eigen vector"
   ]
  },
  {
   "cell_type": "code",
   "execution_count": 42,
   "metadata": {
    "colab": {},
    "colab_type": "code",
    "id": "sH-AksvLSM5L"
   },
   "outputs": [],
   "source": [
    "# Step 2- Get eigen values and eigen vector"
   ]
  },
  {
   "cell_type": "code",
   "execution_count": 43,
   "metadata": {
    "colab": {},
    "colab_type": "code",
    "id": "YaNotXfFSM5O"
   },
   "outputs": [],
   "source": [
    "eig_vals, eig_vecs = np.linalg.eig(cov_matrix)"
   ]
  },
  {
   "cell_type": "code",
   "execution_count": 44,
   "metadata": {},
   "outputs": [
    {
     "name": "stdout",
     "output_type": "stream",
     "text": [
      "Eigen Vectors \n",
      "%s [[ 0.30799679 -0.88855863 -0.00115266  0.05182637  0.19731942 -0.26631535\n",
      "  -0.02340462  0.05007625  0.        ]\n",
      " [ 0.38632446  0.04486697 -0.73943418  0.19756566 -0.34955138  0.03868533\n",
      "  -0.20289405 -0.31320367  0.        ]\n",
      " [ 0.38305998 -0.02112671  0.65853186  0.16859924 -0.52512896  0.11953191\n",
      "  -0.17281745 -0.26611016  0.        ]\n",
      " [ 0.34656129  0.33312259  0.05684034 -0.42387996  0.03652014 -0.73667336\n",
      "  -0.19357909  0.06727064  0.        ]\n",
      " [ 0.35338061  0.21633291  0.07824581  0.3339381   0.57169387  0.26208414\n",
      "  -0.51592101  0.22133388  0.        ]\n",
      " [ 0.34279211 -0.08446144 -0.0792238  -0.6516513  -0.14992364  0.51277586\n",
      "   0.03050267  0.39760207  0.        ]\n",
      " [ 0.35647419  0.12116092  0.05896917 -0.15516848  0.44187298  0.14884046\n",
      "   0.51600916 -0.58908479  0.        ]\n",
      " [ 0.34582304  0.16858195 -0.02155318  0.43582173 -0.13123266 -0.12970504\n",
      "   0.59797754  0.51957568  0.        ]\n",
      " [ 0.          0.          0.          0.          0.          0.\n",
      "   0.          0.          1.        ]]\n",
      "\n",
      " Eigen Values \n",
      "%s [5.75121822 0.53651102 0.09014311 0.45176508 0.25234651 0.28616215\n",
      " 0.33869038 0.30477455 0.        ]\n"
     ]
    }
   ],
   "source": [
    "print('Eigen Vectors \\n%s', eig_vecs)\n",
    "print('\\n Eigen Values \\n%s', eig_vals)"
   ]
  },
  {
   "cell_type": "markdown",
   "metadata": {
    "colab_type": "text",
    "id": "-2KqQg2KWCz7"
   },
   "source": [
    "# Q8 Find variance and cumulative variance by each eigen vector"
   ]
  },
  {
   "cell_type": "code",
   "execution_count": 46,
   "metadata": {
    "colab": {},
    "colab_type": "code",
    "id": "HVrVYdZpSM5e"
   },
   "outputs": [
    {
     "name": "stdout",
     "output_type": "stream",
     "text": [
      "Cumulative Variance Explained:\n",
      "[ 71.78603898  78.48270738  84.12158678  88.34908082  92.15324148\n",
      "  95.72508426  98.87484419 100.         100.        ]\n"
     ]
    }
   ],
   "source": [
    "tot = sum(eig_vals)\n",
    "var_exp = [( i /tot ) * 100 for i in sorted(eig_vals, reverse=True)]\n",
    "cum_var_exp = np.cumsum(var_exp)\n",
    "print(\"Cumulative Variance Explained:\")\n",
    "print(cum_var_exp)"
   ]
  },
  {
   "cell_type": "code",
   "execution_count": 47,
   "metadata": {
    "colab": {},
    "colab_type": "code",
    "id": "wGszn1TqSM5i"
   },
   "outputs": [
    {
     "data": {
      "image/png": "[encoded data removed]",
      "text/plain": [
       "<Figure size 432x288 with 1 Axes>"
      ]
     },
     "metadata": {
      "needs_background": "light"
     },
     "output_type": "display_data"
    }
   ],
   "source": [
    "#plt.figure(figsize=(6, 4))\n",
    "plt.bar(range(9), var_exp, alpha = 0.5, align = 'center', label = 'Individual explained variance')\n",
    "plt.step(range(9), cum_var_exp, where='mid', label = 'Cumulative explained variance')\n",
    "plt.ylabel('Explained Variance Ratio')\n",
    "plt.xlabel('Principal Components')\n",
    "plt.legend(loc = 'best')\n",
    "plt.tight_layout()\n",
    "plt.show()"
   ]
  },
  {
   "cell_type": "markdown",
   "metadata": {
    "colab_type": "text",
    "id": "x8YxQPNGWC0e"
   },
   "source": [
    "# Q9 Use PCA command from sklearn and find Principal Components. Transform data to components formed"
   ]
  },
  {
   "cell_type": "markdown",
   "metadata": {},
   "source": [
    "We will be taking 4 Principal Components which is explaining 88% of variance"
   ]
  },
  {
   "cell_type": "code",
   "execution_count": 48,
   "metadata": {},
   "outputs": [],
   "source": [
    "pca = PCA(n_components=4)"
   ]
  },
  {
   "cell_type": "code",
   "execution_count": 49,
   "metadata": {
    "colab": {},
    "colab_type": "code",
    "id": "ZgniQrGWSM5l"
   },
   "outputs": [],
   "source": [
    "X_reduced = pca.fit_transform(X_sc)"
   ]
  },
  {
   "cell_type": "code",
   "execution_count": 50,
   "metadata": {
    "colab": {},
    "colab_type": "code",
    "id": "-06rQu3PSM5o"
   },
   "outputs": [
    {
     "name": "stdout",
     "output_type": "stream",
     "text": [
      "These are the transformed features:\n"
     ]
    },
    {
     "data": {
      "text/plain": [
       "array([[-1.45389231, -0.61826293,  0.02794098, -0.20951456],\n",
       "       [ 1.85955123,  0.40801342, -0.80358543,  1.63437454],\n",
       "       [-1.57785207, -0.01040327, -0.1891672 , -0.23458018],\n",
       "       ...,\n",
       "       [ 3.99536572,  0.98811752,  2.19806797, -0.16353707],\n",
       "       [ 2.43714359,  0.84764399,  0.31840765, -1.39997342],\n",
       "       [ 2.86804471,  0.93880135, -0.06121041, -0.4675035 ]])"
      ]
     },
     "execution_count": 50,
     "metadata": {},
     "output_type": "execute_result"
    }
   ],
   "source": [
    "print('These are the transformed features:')\n",
    "X_reduced"
   ]
  },
  {
   "cell_type": "code",
   "execution_count": 51,
   "metadata": {},
   "outputs": [
    {
     "name": "stdout",
     "output_type": "stream",
     "text": [
      "These are the transformed components:\n"
     ]
    },
    {
     "data": {
      "text/plain": [
       "array([[ 0.30799679,  0.38632446,  0.38305998,  0.34656129,  0.35338061,\n",
       "         0.34279211,  0.35647419,  0.34582304, -0.        ],\n",
       "       [-0.88855863,  0.04486697, -0.02112671,  0.33312259,  0.21633291,\n",
       "        -0.08446144,  0.12116092,  0.16858195, -0.        ],\n",
       "       [ 0.05182637,  0.19756566,  0.16859924, -0.42387996,  0.3339381 ,\n",
       "        -0.6516513 , -0.15516848,  0.43582173, -0.        ],\n",
       "       [ 0.02340462,  0.20289405,  0.17281745,  0.19357909,  0.51592101,\n",
       "        -0.03050267, -0.51600916, -0.59797754,  0.        ]])"
      ]
     },
     "execution_count": 51,
     "metadata": {},
     "output_type": "execute_result"
    }
   ],
   "source": [
    "print('These are the transformed components:')\n",
    "pca.components_"
   ]
  },
  {
   "cell_type": "code",
   "execution_count": 52,
   "metadata": {},
   "outputs": [],
   "source": [
    "pc = pca.explained_variance_"
   ]
  },
  {
   "cell_type": "code",
   "execution_count": 53,
   "metadata": {},
   "outputs": [
    {
     "data": {
      "text/plain": [
       "array([5.75121822, 6.28772924, 6.73949433, 7.0781847 ])"
      ]
     },
     "execution_count": 53,
     "metadata": {},
     "output_type": "execute_result"
    }
   ],
   "source": [
    "np.cumsum(pc)"
   ]
  },
  {
   "cell_type": "markdown",
   "metadata": {
    "colab_type": "text",
    "id": "8L-IGI0QWC0t"
   },
   "source": [
    "# Q10 Find correlation between components and features"
   ]
  },
  {
   "cell_type": "code",
   "execution_count": 54,
   "metadata": {
    "colab": {},
    "colab_type": "code",
    "id": "eLi4UsMcSM5r"
   },
   "outputs": [],
   "source": [
    "corr_comp_feature = pd.DataFrame(pca.components_, columns = list(X.columns))"
   ]
  },
  {
   "cell_type": "code",
   "execution_count": 55,
   "metadata": {
    "colab": {},
    "colab_type": "code",
    "id": "bXUp9TCDWC1G"
   },
   "outputs": [
    {
     "data": {
      "text/html": [
       "<div>\n",
       "<style scoped>\n",
       "    .dataframe tbody tr th:only-of-type {\n",
       "        vertical-align: middle;\n",
       "    }\n",
       "\n",
       "    .dataframe tbody tr th {\n",
       "        vertical-align: top;\n",
       "    }\n",
       "\n",
       "    .dataframe thead th {\n",
       "        text-align: right;\n",
       "    }\n",
       "</style>\n",
       "<table border=\"1\" class=\"dataframe\">\n",
       "  <thead>\n",
       "    <tr style=\"text-align: right;\">\n",
       "      <th></th>\n",
       "      <th>ClumpThickness</th>\n",
       "      <th>Cell Size</th>\n",
       "      <th>Cell Shape</th>\n",
       "      <th>Marginal Adhesion</th>\n",
       "      <th>Single Epithelial Cell Size</th>\n",
       "      <th>Bare Nuclei</th>\n",
       "      <th>Normal Nucleoli</th>\n",
       "      <th>Bland Chromatin</th>\n",
       "      <th>Mitoses</th>\n",
       "    </tr>\n",
       "  </thead>\n",
       "  <tbody>\n",
       "    <tr>\n",
       "      <th>0</th>\n",
       "      <td>0.307997</td>\n",
       "      <td>0.386324</td>\n",
       "      <td>0.383060</td>\n",
       "      <td>0.346561</td>\n",
       "      <td>0.353381</td>\n",
       "      <td>0.342792</td>\n",
       "      <td>0.356474</td>\n",
       "      <td>0.345823</td>\n",
       "      <td>-0.0</td>\n",
       "    </tr>\n",
       "    <tr>\n",
       "      <th>1</th>\n",
       "      <td>-0.888559</td>\n",
       "      <td>0.044867</td>\n",
       "      <td>-0.021127</td>\n",
       "      <td>0.333123</td>\n",
       "      <td>0.216333</td>\n",
       "      <td>-0.084461</td>\n",
       "      <td>0.121161</td>\n",
       "      <td>0.168582</td>\n",
       "      <td>-0.0</td>\n",
       "    </tr>\n",
       "    <tr>\n",
       "      <th>2</th>\n",
       "      <td>0.051826</td>\n",
       "      <td>0.197566</td>\n",
       "      <td>0.168599</td>\n",
       "      <td>-0.423880</td>\n",
       "      <td>0.333938</td>\n",
       "      <td>-0.651651</td>\n",
       "      <td>-0.155168</td>\n",
       "      <td>0.435822</td>\n",
       "      <td>-0.0</td>\n",
       "    </tr>\n",
       "    <tr>\n",
       "      <th>3</th>\n",
       "      <td>0.023405</td>\n",
       "      <td>0.202894</td>\n",
       "      <td>0.172817</td>\n",
       "      <td>0.193579</td>\n",
       "      <td>0.515921</td>\n",
       "      <td>-0.030503</td>\n",
       "      <td>-0.516009</td>\n",
       "      <td>-0.597978</td>\n",
       "      <td>0.0</td>\n",
       "    </tr>\n",
       "  </tbody>\n",
       "</table>\n",
       "</div>"
      ],
      "text/plain": [
       "   ClumpThickness  Cell Size  Cell Shape  Marginal Adhesion  \\\n",
       "0        0.307997   0.386324    0.383060           0.346561   \n",
       "1       -0.888559   0.044867   -0.021127           0.333123   \n",
       "2        0.051826   0.197566    0.168599          -0.423880   \n",
       "3        0.023405   0.202894    0.172817           0.193579   \n",
       "\n",
       "   Single Epithelial Cell Size  Bare Nuclei  Normal Nucleoli  Bland Chromatin  \\\n",
       "0                     0.353381     0.342792         0.356474         0.345823   \n",
       "1                     0.216333    -0.084461         0.121161         0.168582   \n",
       "2                     0.333938    -0.651651        -0.155168         0.435822   \n",
       "3                     0.515921    -0.030503        -0.516009        -0.597978   \n",
       "\n",
       "   Mitoses  \n",
       "0     -0.0  \n",
       "1     -0.0  \n",
       "2     -0.0  \n",
       "3      0.0  "
      ]
     },
     "execution_count": 55,
     "metadata": {},
     "output_type": "execute_result"
    }
   ],
   "source": [
    "corr_comp_feature"
   ]
  },
  {
   "cell_type": "markdown",
   "metadata": {
    "colab_type": "text",
    "id": "HnHXocYbSM6n"
   },
   "source": [
    "# Popularity Based Recommendation System"
   ]
  },
  {
   "cell_type": "markdown",
   "metadata": {
    "colab_type": "text",
    "id": "r8LHW5isSM6o"
   },
   "source": [
    "### About Dataset"
   ]
  },
  {
   "cell_type": "markdown",
   "metadata": {
    "colab_type": "text",
    "id": "m8i-LSc4SM6p"
   },
   "source": [
    "Anonymous Ratings on jokes."
   ]
  },
  {
   "cell_type": "markdown",
   "metadata": {
    "colab_type": "text",
    "id": "y-wmIsyYSM6p"
   },
   "source": [
    "1. Ratings are real values ranging from -10.00 to +10.00 (the value \"99\" corresponds to \"null\" = \"not rated\").\n",
    "\n",
    "2. One row per user\n",
    "\n",
    "3. The first column gives the number of jokes rated by that user. The next 100 columns give the ratings for jokes 01 - 100."
   ]
  },
  {
   "cell_type": "markdown",
   "metadata": {
    "colab_type": "text",
    "id": "LC-Uca2PSM6q"
   },
   "source": [
    "# Q11 Read the dataset(jokes.csv)\n",
    "\n",
    "Take care about the header in read_csv() as there are no column names given in the dataset. "
   ]
  },
  {
   "cell_type": "code",
   "execution_count": 56,
   "metadata": {
    "colab": {},
    "colab_type": "code",
    "id": "mndzWciDSM6r"
   },
   "outputs": [],
   "source": [
    "ratings_data = pd.read_csv('./Data/jokes.csv')"
   ]
  },
  {
   "cell_type": "code",
   "execution_count": 57,
   "metadata": {},
   "outputs": [
    {
     "data": {
      "text/plain": [
       "(24983, 101)"
      ]
     },
     "execution_count": 57,
     "metadata": {},
     "output_type": "execute_result"
    }
   ],
   "source": [
    "ratings_data.shape"
   ]
  },
  {
   "cell_type": "code",
   "execution_count": 58,
   "metadata": {},
   "outputs": [
    {
     "data": {
      "text/plain": [
       "Index(['NumJokes', 'Joke1', 'Joke2', 'Joke3', 'Joke4', 'Joke5', 'Joke6',\n",
       "       'Joke7', 'Joke8', 'Joke9',\n",
       "       ...\n",
       "       'Joke91', 'Joke92', 'Joke93', 'Joke94', 'Joke95', 'Joke96', 'Joke97',\n",
       "       'Joke98', 'Joke99', 'Joke100'],\n",
       "      dtype='object', length=101)"
      ]
     },
     "execution_count": 58,
     "metadata": {},
     "output_type": "execute_result"
    }
   ],
   "source": [
    "ratings_data.columns"
   ]
  },
  {
   "cell_type": "markdown",
   "metadata": {},
   "source": [
    "The headers are already given in the dataset"
   ]
  },
  {
   "cell_type": "markdown",
   "metadata": {
    "colab_type": "text",
    "id": "6QEWF8o-SM6t"
   },
   "source": [
    "# Q12 Consider `ratings` named dataframe with only first 200 rows and all columns from 1(first column is 0) of dataset"
   ]
  },
  {
   "cell_type": "code",
   "execution_count": 59,
   "metadata": {},
   "outputs": [],
   "source": [
    "ratings = ratings_data.iloc[0:200, 1:]"
   ]
  },
  {
   "cell_type": "code",
   "execution_count": 60,
   "metadata": {
    "colab": {},
    "colab_type": "code",
    "id": "xc0b-lBRSM6u"
   },
   "outputs": [
    {
     "data": {
      "text/html": [
       "<div>\n",
       "<style scoped>\n",
       "    .dataframe tbody tr th:only-of-type {\n",
       "        vertical-align: middle;\n",
       "    }\n",
       "\n",
       "    .dataframe tbody tr th {\n",
       "        vertical-align: top;\n",
       "    }\n",
       "\n",
       "    .dataframe thead th {\n",
       "        text-align: right;\n",
       "    }\n",
       "</style>\n",
       "<table border=\"1\" class=\"dataframe\">\n",
       "  <thead>\n",
       "    <tr style=\"text-align: right;\">\n",
       "      <th></th>\n",
       "      <th>Joke1</th>\n",
       "      <th>Joke2</th>\n",
       "      <th>Joke3</th>\n",
       "      <th>Joke4</th>\n",
       "      <th>Joke5</th>\n",
       "      <th>Joke6</th>\n",
       "      <th>Joke7</th>\n",
       "      <th>Joke8</th>\n",
       "      <th>Joke9</th>\n",
       "      <th>Joke10</th>\n",
       "      <th>...</th>\n",
       "      <th>Joke91</th>\n",
       "      <th>Joke92</th>\n",
       "      <th>Joke93</th>\n",
       "      <th>Joke94</th>\n",
       "      <th>Joke95</th>\n",
       "      <th>Joke96</th>\n",
       "      <th>Joke97</th>\n",
       "      <th>Joke98</th>\n",
       "      <th>Joke99</th>\n",
       "      <th>Joke100</th>\n",
       "    </tr>\n",
       "  </thead>\n",
       "  <tbody>\n",
       "    <tr>\n",
       "      <th>0</th>\n",
       "      <td>-7.82</td>\n",
       "      <td>8.79</td>\n",
       "      <td>-9.66</td>\n",
       "      <td>-8.16</td>\n",
       "      <td>-7.52</td>\n",
       "      <td>-8.50</td>\n",
       "      <td>-9.85</td>\n",
       "      <td>4.17</td>\n",
       "      <td>-8.98</td>\n",
       "      <td>-4.76</td>\n",
       "      <td>...</td>\n",
       "      <td>2.82</td>\n",
       "      <td>99.00</td>\n",
       "      <td>99.00</td>\n",
       "      <td>99.00</td>\n",
       "      <td>99.00</td>\n",
       "      <td>99.00</td>\n",
       "      <td>-5.63</td>\n",
       "      <td>99.00</td>\n",
       "      <td>99.00</td>\n",
       "      <td>99.00</td>\n",
       "    </tr>\n",
       "    <tr>\n",
       "      <th>1</th>\n",
       "      <td>4.08</td>\n",
       "      <td>-0.29</td>\n",
       "      <td>6.36</td>\n",
       "      <td>4.37</td>\n",
       "      <td>-2.38</td>\n",
       "      <td>-9.66</td>\n",
       "      <td>-0.73</td>\n",
       "      <td>-5.34</td>\n",
       "      <td>8.88</td>\n",
       "      <td>9.22</td>\n",
       "      <td>...</td>\n",
       "      <td>2.82</td>\n",
       "      <td>-4.95</td>\n",
       "      <td>-0.29</td>\n",
       "      <td>7.86</td>\n",
       "      <td>-0.19</td>\n",
       "      <td>-2.14</td>\n",
       "      <td>3.06</td>\n",
       "      <td>0.34</td>\n",
       "      <td>-4.32</td>\n",
       "      <td>1.07</td>\n",
       "    </tr>\n",
       "    <tr>\n",
       "      <th>2</th>\n",
       "      <td>99.00</td>\n",
       "      <td>99.00</td>\n",
       "      <td>99.00</td>\n",
       "      <td>99.00</td>\n",
       "      <td>9.03</td>\n",
       "      <td>9.27</td>\n",
       "      <td>9.03</td>\n",
       "      <td>9.27</td>\n",
       "      <td>99.00</td>\n",
       "      <td>99.00</td>\n",
       "      <td>...</td>\n",
       "      <td>99.00</td>\n",
       "      <td>99.00</td>\n",
       "      <td>99.00</td>\n",
       "      <td>9.08</td>\n",
       "      <td>99.00</td>\n",
       "      <td>99.00</td>\n",
       "      <td>99.00</td>\n",
       "      <td>99.00</td>\n",
       "      <td>99.00</td>\n",
       "      <td>99.00</td>\n",
       "    </tr>\n",
       "    <tr>\n",
       "      <th>3</th>\n",
       "      <td>99.00</td>\n",
       "      <td>8.35</td>\n",
       "      <td>99.00</td>\n",
       "      <td>99.00</td>\n",
       "      <td>1.80</td>\n",
       "      <td>8.16</td>\n",
       "      <td>-2.82</td>\n",
       "      <td>6.21</td>\n",
       "      <td>99.00</td>\n",
       "      <td>1.84</td>\n",
       "      <td>...</td>\n",
       "      <td>99.00</td>\n",
       "      <td>99.00</td>\n",
       "      <td>99.00</td>\n",
       "      <td>0.53</td>\n",
       "      <td>99.00</td>\n",
       "      <td>99.00</td>\n",
       "      <td>99.00</td>\n",
       "      <td>99.00</td>\n",
       "      <td>99.00</td>\n",
       "      <td>99.00</td>\n",
       "    </tr>\n",
       "    <tr>\n",
       "      <th>4</th>\n",
       "      <td>8.50</td>\n",
       "      <td>4.61</td>\n",
       "      <td>-4.17</td>\n",
       "      <td>-5.39</td>\n",
       "      <td>1.36</td>\n",
       "      <td>1.60</td>\n",
       "      <td>7.04</td>\n",
       "      <td>4.61</td>\n",
       "      <td>-0.44</td>\n",
       "      <td>5.73</td>\n",
       "      <td>...</td>\n",
       "      <td>5.19</td>\n",
       "      <td>5.58</td>\n",
       "      <td>4.27</td>\n",
       "      <td>5.19</td>\n",
       "      <td>5.73</td>\n",
       "      <td>1.55</td>\n",
       "      <td>3.11</td>\n",
       "      <td>6.55</td>\n",
       "      <td>1.80</td>\n",
       "      <td>1.60</td>\n",
       "    </tr>\n",
       "  </tbody>\n",
       "</table>\n",
       "<p>5 rows × 100 columns</p>\n",
       "</div>"
      ],
      "text/plain": [
       "   Joke1  Joke2  Joke3  Joke4  Joke5  Joke6  Joke7  Joke8  Joke9  Joke10  ...  \\\n",
       "0  -7.82   8.79  -9.66  -8.16  -7.52  -8.50  -9.85   4.17  -8.98   -4.76  ...   \n",
       "1   4.08  -0.29   6.36   4.37  -2.38  -9.66  -0.73  -5.34   8.88    9.22  ...   \n",
       "2  99.00  99.00  99.00  99.00   9.03   9.27   9.03   9.27  99.00   99.00  ...   \n",
       "3  99.00   8.35  99.00  99.00   1.80   8.16  -2.82   6.21  99.00    1.84  ...   \n",
       "4   8.50   4.61  -4.17  -5.39   1.36   1.60   7.04   4.61  -0.44    5.73  ...   \n",
       "\n",
       "   Joke91  Joke92  Joke93  Joke94  Joke95  Joke96  Joke97  Joke98  Joke99  \\\n",
       "0    2.82   99.00   99.00   99.00   99.00   99.00   -5.63   99.00   99.00   \n",
       "1    2.82   -4.95   -0.29    7.86   -0.19   -2.14    3.06    0.34   -4.32   \n",
       "2   99.00   99.00   99.00    9.08   99.00   99.00   99.00   99.00   99.00   \n",
       "3   99.00   99.00   99.00    0.53   99.00   99.00   99.00   99.00   99.00   \n",
       "4    5.19    5.58    4.27    5.19    5.73    1.55    3.11    6.55    1.80   \n",
       "\n",
       "   Joke100  \n",
       "0    99.00  \n",
       "1     1.07  \n",
       "2    99.00  \n",
       "3    99.00  \n",
       "4     1.60  \n",
       "\n",
       "[5 rows x 100 columns]"
      ]
     },
     "execution_count": 60,
     "metadata": {},
     "output_type": "execute_result"
    }
   ],
   "source": [
    "ratings.head()"
   ]
  },
  {
   "cell_type": "markdown",
   "metadata": {
    "colab_type": "text",
    "id": "yl1TNKQGSM6y"
   },
   "source": [
    "# Q13 Change the column indices from 0 to 99"
   ]
  },
  {
   "cell_type": "code",
   "execution_count": 61,
   "metadata": {
    "colab": {},
    "colab_type": "code",
    "id": "376Xre-TSM6z"
   },
   "outputs": [],
   "source": [
    "ratings.columns = range(100)"
   ]
  },
  {
   "cell_type": "code",
   "execution_count": 62,
   "metadata": {},
   "outputs": [
    {
     "data": {
      "text/html": [
       "<div>\n",
       "<style scoped>\n",
       "    .dataframe tbody tr th:only-of-type {\n",
       "        vertical-align: middle;\n",
       "    }\n",
       "\n",
       "    .dataframe tbody tr th {\n",
       "        vertical-align: top;\n",
       "    }\n",
       "\n",
       "    .dataframe thead th {\n",
       "        text-align: right;\n",
       "    }\n",
       "</style>\n",
       "<table border=\"1\" class=\"dataframe\">\n",
       "  <thead>\n",
       "    <tr style=\"text-align: right;\">\n",
       "      <th></th>\n",
       "      <th>0</th>\n",
       "      <th>1</th>\n",
       "      <th>2</th>\n",
       "      <th>3</th>\n",
       "      <th>4</th>\n",
       "      <th>5</th>\n",
       "      <th>6</th>\n",
       "      <th>7</th>\n",
       "      <th>8</th>\n",
       "      <th>9</th>\n",
       "      <th>...</th>\n",
       "      <th>90</th>\n",
       "      <th>91</th>\n",
       "      <th>92</th>\n",
       "      <th>93</th>\n",
       "      <th>94</th>\n",
       "      <th>95</th>\n",
       "      <th>96</th>\n",
       "      <th>97</th>\n",
       "      <th>98</th>\n",
       "      <th>99</th>\n",
       "    </tr>\n",
       "  </thead>\n",
       "  <tbody>\n",
       "    <tr>\n",
       "      <th>0</th>\n",
       "      <td>-7.82</td>\n",
       "      <td>8.79</td>\n",
       "      <td>-9.66</td>\n",
       "      <td>-8.16</td>\n",
       "      <td>-7.52</td>\n",
       "      <td>-8.50</td>\n",
       "      <td>-9.85</td>\n",
       "      <td>4.17</td>\n",
       "      <td>-8.98</td>\n",
       "      <td>-4.76</td>\n",
       "      <td>...</td>\n",
       "      <td>2.82</td>\n",
       "      <td>99.00</td>\n",
       "      <td>99.00</td>\n",
       "      <td>99.00</td>\n",
       "      <td>99.00</td>\n",
       "      <td>99.00</td>\n",
       "      <td>-5.63</td>\n",
       "      <td>99.00</td>\n",
       "      <td>99.00</td>\n",
       "      <td>99.00</td>\n",
       "    </tr>\n",
       "    <tr>\n",
       "      <th>1</th>\n",
       "      <td>4.08</td>\n",
       "      <td>-0.29</td>\n",
       "      <td>6.36</td>\n",
       "      <td>4.37</td>\n",
       "      <td>-2.38</td>\n",
       "      <td>-9.66</td>\n",
       "      <td>-0.73</td>\n",
       "      <td>-5.34</td>\n",
       "      <td>8.88</td>\n",
       "      <td>9.22</td>\n",
       "      <td>...</td>\n",
       "      <td>2.82</td>\n",
       "      <td>-4.95</td>\n",
       "      <td>-0.29</td>\n",
       "      <td>7.86</td>\n",
       "      <td>-0.19</td>\n",
       "      <td>-2.14</td>\n",
       "      <td>3.06</td>\n",
       "      <td>0.34</td>\n",
       "      <td>-4.32</td>\n",
       "      <td>1.07</td>\n",
       "    </tr>\n",
       "    <tr>\n",
       "      <th>2</th>\n",
       "      <td>99.00</td>\n",
       "      <td>99.00</td>\n",
       "      <td>99.00</td>\n",
       "      <td>99.00</td>\n",
       "      <td>9.03</td>\n",
       "      <td>9.27</td>\n",
       "      <td>9.03</td>\n",
       "      <td>9.27</td>\n",
       "      <td>99.00</td>\n",
       "      <td>99.00</td>\n",
       "      <td>...</td>\n",
       "      <td>99.00</td>\n",
       "      <td>99.00</td>\n",
       "      <td>99.00</td>\n",
       "      <td>9.08</td>\n",
       "      <td>99.00</td>\n",
       "      <td>99.00</td>\n",
       "      <td>99.00</td>\n",
       "      <td>99.00</td>\n",
       "      <td>99.00</td>\n",
       "      <td>99.00</td>\n",
       "    </tr>\n",
       "    <tr>\n",
       "      <th>3</th>\n",
       "      <td>99.00</td>\n",
       "      <td>8.35</td>\n",
       "      <td>99.00</td>\n",
       "      <td>99.00</td>\n",
       "      <td>1.80</td>\n",
       "      <td>8.16</td>\n",
       "      <td>-2.82</td>\n",
       "      <td>6.21</td>\n",
       "      <td>99.00</td>\n",
       "      <td>1.84</td>\n",
       "      <td>...</td>\n",
       "      <td>99.00</td>\n",
       "      <td>99.00</td>\n",
       "      <td>99.00</td>\n",
       "      <td>0.53</td>\n",
       "      <td>99.00</td>\n",
       "      <td>99.00</td>\n",
       "      <td>99.00</td>\n",
       "      <td>99.00</td>\n",
       "      <td>99.00</td>\n",
       "      <td>99.00</td>\n",
       "    </tr>\n",
       "    <tr>\n",
       "      <th>4</th>\n",
       "      <td>8.50</td>\n",
       "      <td>4.61</td>\n",
       "      <td>-4.17</td>\n",
       "      <td>-5.39</td>\n",
       "      <td>1.36</td>\n",
       "      <td>1.60</td>\n",
       "      <td>7.04</td>\n",
       "      <td>4.61</td>\n",
       "      <td>-0.44</td>\n",
       "      <td>5.73</td>\n",
       "      <td>...</td>\n",
       "      <td>5.19</td>\n",
       "      <td>5.58</td>\n",
       "      <td>4.27</td>\n",
       "      <td>5.19</td>\n",
       "      <td>5.73</td>\n",
       "      <td>1.55</td>\n",
       "      <td>3.11</td>\n",
       "      <td>6.55</td>\n",
       "      <td>1.80</td>\n",
       "      <td>1.60</td>\n",
       "    </tr>\n",
       "  </tbody>\n",
       "</table>\n",
       "<p>5 rows × 100 columns</p>\n",
       "</div>"
      ],
      "text/plain": [
       "      0      1      2      3     4     5     6     7      8      9   ...  \\\n",
       "0  -7.82   8.79  -9.66  -8.16 -7.52 -8.50 -9.85  4.17  -8.98  -4.76  ...   \n",
       "1   4.08  -0.29   6.36   4.37 -2.38 -9.66 -0.73 -5.34   8.88   9.22  ...   \n",
       "2  99.00  99.00  99.00  99.00  9.03  9.27  9.03  9.27  99.00  99.00  ...   \n",
       "3  99.00   8.35  99.00  99.00  1.80  8.16 -2.82  6.21  99.00   1.84  ...   \n",
       "4   8.50   4.61  -4.17  -5.39  1.36  1.60  7.04  4.61  -0.44   5.73  ...   \n",
       "\n",
       "      90     91     92     93     94     95     96     97     98     99  \n",
       "0   2.82  99.00  99.00  99.00  99.00  99.00  -5.63  99.00  99.00  99.00  \n",
       "1   2.82  -4.95  -0.29   7.86  -0.19  -2.14   3.06   0.34  -4.32   1.07  \n",
       "2  99.00  99.00  99.00   9.08  99.00  99.00  99.00  99.00  99.00  99.00  \n",
       "3  99.00  99.00  99.00   0.53  99.00  99.00  99.00  99.00  99.00  99.00  \n",
       "4   5.19   5.58   4.27   5.19   5.73   1.55   3.11   6.55   1.80   1.60  \n",
       "\n",
       "[5 rows x 100 columns]"
      ]
     },
     "execution_count": 62,
     "metadata": {},
     "output_type": "execute_result"
    }
   ],
   "source": [
    "ratings.head()"
   ]
  },
  {
   "cell_type": "markdown",
   "metadata": {
    "colab_type": "text",
    "id": "d-0_FGl0SM6-"
   },
   "source": [
    "# Q14 In the dataset, the null ratings are given as 99.00, so replace all 99.00s with 0\n",
    "Hint: You can use `ratings.replace(<the given value>, <new value you wanted to change with>)`"
   ]
  },
  {
   "cell_type": "code",
   "execution_count": 63,
   "metadata": {
    "colab": {},
    "colab_type": "code",
    "id": "veL5hwRLSM6_"
   },
   "outputs": [],
   "source": [
    "ratings.replace(to_replace=99.00, value=0, inplace=True)"
   ]
  },
  {
   "cell_type": "markdown",
   "metadata": {
    "colab_type": "text",
    "id": "tgXnvJajSM7E"
   },
   "source": [
    "# Q15 Normalize the ratings using StandardScaler and save them in `ratings_diff` variable"
   ]
  },
  {
   "cell_type": "markdown",
   "metadata": {},
   "source": [
    "If we do the direct scaling of ratings data, it will compute the mean as zero for all jokes.\n",
    "\n",
    "We will be doing the scaling across users (rowwise), so that every joke will have scaled ratings for every user"
   ]
  },
  {
   "cell_type": "code",
   "execution_count": 64,
   "metadata": {
    "colab": {},
    "colab_type": "code",
    "id": "JS3Mx_DjSM7K"
   },
   "outputs": [],
   "source": [
    "ratings_diff = pd.DataFrame(sc.fit_transform(ratings.T).T)"
   ]
  },
  {
   "cell_type": "code",
   "execution_count": 65,
   "metadata": {},
   "outputs": [
    {
     "data": {
      "text/html": [
       "<div>\n",
       "<style scoped>\n",
       "    .dataframe tbody tr th:only-of-type {\n",
       "        vertical-align: middle;\n",
       "    }\n",
       "\n",
       "    .dataframe tbody tr th {\n",
       "        vertical-align: top;\n",
       "    }\n",
       "\n",
       "    .dataframe thead th {\n",
       "        text-align: right;\n",
       "    }\n",
       "</style>\n",
       "<table border=\"1\" class=\"dataframe\">\n",
       "  <thead>\n",
       "    <tr style=\"text-align: right;\">\n",
       "      <th></th>\n",
       "      <th>0</th>\n",
       "      <th>1</th>\n",
       "      <th>2</th>\n",
       "      <th>3</th>\n",
       "      <th>4</th>\n",
       "      <th>5</th>\n",
       "      <th>6</th>\n",
       "      <th>7</th>\n",
       "      <th>8</th>\n",
       "      <th>9</th>\n",
       "      <th>...</th>\n",
       "      <th>90</th>\n",
       "      <th>91</th>\n",
       "      <th>92</th>\n",
       "      <th>93</th>\n",
       "      <th>94</th>\n",
       "      <th>95</th>\n",
       "      <th>96</th>\n",
       "      <th>97</th>\n",
       "      <th>98</th>\n",
       "      <th>99</th>\n",
       "    </tr>\n",
       "  </thead>\n",
       "  <tbody>\n",
       "    <tr>\n",
       "      <th>0</th>\n",
       "      <td>-0.927207</td>\n",
       "      <td>1.989411</td>\n",
       "      <td>-1.250300</td>\n",
       "      <td>-0.986909</td>\n",
       "      <td>-0.874529</td>\n",
       "      <td>-1.046611</td>\n",
       "      <td>-1.283663</td>\n",
       "      <td>1.178166</td>\n",
       "      <td>-1.130896</td>\n",
       "      <td>-0.389889</td>\n",
       "      <td>...</td>\n",
       "      <td>0.941114</td>\n",
       "      <td>0.445939</td>\n",
       "      <td>0.445939</td>\n",
       "      <td>0.445939</td>\n",
       "      <td>0.445939</td>\n",
       "      <td>0.445939</td>\n",
       "      <td>-0.542656</td>\n",
       "      <td>0.445939</td>\n",
       "      <td>0.445939</td>\n",
       "      <td>0.445939</td>\n",
       "    </tr>\n",
       "    <tr>\n",
       "      <th>1</th>\n",
       "      <td>0.274579</td>\n",
       "      <td>-0.625106</td>\n",
       "      <td>0.743980</td>\n",
       "      <td>0.334284</td>\n",
       "      <td>-1.055391</td>\n",
       "      <td>-2.554180</td>\n",
       "      <td>-0.715693</td>\n",
       "      <td>-1.664789</td>\n",
       "      <td>1.262792</td>\n",
       "      <td>1.332790</td>\n",
       "      <td>...</td>\n",
       "      <td>0.015173</td>\n",
       "      <td>-1.584496</td>\n",
       "      <td>-0.625106</td>\n",
       "      <td>1.052797</td>\n",
       "      <td>-0.604519</td>\n",
       "      <td>-1.005980</td>\n",
       "      <td>0.064584</td>\n",
       "      <td>-0.495403</td>\n",
       "      <td>-1.454794</td>\n",
       "      <td>-0.345113</td>\n",
       "    </tr>\n",
       "    <tr>\n",
       "      <th>2</th>\n",
       "      <td>-0.787867</td>\n",
       "      <td>-0.787867</td>\n",
       "      <td>-0.787867</td>\n",
       "      <td>-0.787867</td>\n",
       "      <td>1.257275</td>\n",
       "      <td>1.311631</td>\n",
       "      <td>1.257275</td>\n",
       "      <td>1.311631</td>\n",
       "      <td>-0.787867</td>\n",
       "      <td>-0.787867</td>\n",
       "      <td>...</td>\n",
       "      <td>-0.787867</td>\n",
       "      <td>-0.787867</td>\n",
       "      <td>-0.787867</td>\n",
       "      <td>1.268600</td>\n",
       "      <td>-0.787867</td>\n",
       "      <td>-0.787867</td>\n",
       "      <td>-0.787867</td>\n",
       "      <td>-0.787867</td>\n",
       "      <td>-0.787867</td>\n",
       "      <td>-0.787867</td>\n",
       "    </tr>\n",
       "    <tr>\n",
       "      <th>3</th>\n",
       "      <td>-0.347962</td>\n",
       "      <td>1.929242</td>\n",
       "      <td>-0.347962</td>\n",
       "      <td>-0.347962</td>\n",
       "      <td>0.142932</td>\n",
       "      <td>1.877425</td>\n",
       "      <td>-1.117030</td>\n",
       "      <td>1.345623</td>\n",
       "      <td>-0.347962</td>\n",
       "      <td>0.153841</td>\n",
       "      <td>...</td>\n",
       "      <td>-0.347962</td>\n",
       "      <td>-0.347962</td>\n",
       "      <td>-0.347962</td>\n",
       "      <td>-0.203421</td>\n",
       "      <td>-0.347962</td>\n",
       "      <td>-0.347962</td>\n",
       "      <td>-0.347962</td>\n",
       "      <td>-0.347962</td>\n",
       "      <td>-0.347962</td>\n",
       "      <td>-0.347962</td>\n",
       "    </tr>\n",
       "    <tr>\n",
       "      <th>4</th>\n",
       "      <td>1.306203</td>\n",
       "      <td>0.389048</td>\n",
       "      <td>-1.681034</td>\n",
       "      <td>-1.968676</td>\n",
       "      <td>-0.377212</td>\n",
       "      <td>-0.320627</td>\n",
       "      <td>0.961975</td>\n",
       "      <td>0.389048</td>\n",
       "      <td>-0.801603</td>\n",
       "      <td>0.653113</td>\n",
       "      <td>...</td>\n",
       "      <td>0.525796</td>\n",
       "      <td>0.617747</td>\n",
       "      <td>0.308885</td>\n",
       "      <td>0.525796</td>\n",
       "      <td>0.653113</td>\n",
       "      <td>-0.332416</td>\n",
       "      <td>0.035389</td>\n",
       "      <td>0.846447</td>\n",
       "      <td>-0.273472</td>\n",
       "      <td>-0.320627</td>\n",
       "    </tr>\n",
       "  </tbody>\n",
       "</table>\n",
       "<p>5 rows × 100 columns</p>\n",
       "</div>"
      ],
      "text/plain": [
       "         0         1         2         3         4         5         6   \\\n",
       "0 -0.927207  1.989411 -1.250300 -0.986909 -0.874529 -1.046611 -1.283663   \n",
       "1  0.274579 -0.625106  0.743980  0.334284 -1.055391 -2.554180 -0.715693   \n",
       "2 -0.787867 -0.787867 -0.787867 -0.787867  1.257275  1.311631  1.257275   \n",
       "3 -0.347962  1.929242 -0.347962 -0.347962  0.142932  1.877425 -1.117030   \n",
       "4  1.306203  0.389048 -1.681034 -1.968676 -0.377212 -0.320627  0.961975   \n",
       "\n",
       "         7         8         9   ...        90        91        92        93  \\\n",
       "0  1.178166 -1.130896 -0.389889  ...  0.941114  0.445939  0.445939  0.445939   \n",
       "1 -1.664789  1.262792  1.332790  ...  0.015173 -1.584496 -0.625106  1.052797   \n",
       "2  1.311631 -0.787867 -0.787867  ... -0.787867 -0.787867 -0.787867  1.268600   \n",
       "3  1.345623 -0.347962  0.153841  ... -0.347962 -0.347962 -0.347962 -0.203421   \n",
       "4  0.389048 -0.801603  0.653113  ...  0.525796  0.617747  0.308885  0.525796   \n",
       "\n",
       "         94        95        96        97        98        99  \n",
       "0  0.445939  0.445939 -0.542656  0.445939  0.445939  0.445939  \n",
       "1 -0.604519 -1.005980  0.064584 -0.495403 -1.454794 -0.345113  \n",
       "2 -0.787867 -0.787867 -0.787867 -0.787867 -0.787867 -0.787867  \n",
       "3 -0.347962 -0.347962 -0.347962 -0.347962 -0.347962 -0.347962  \n",
       "4  0.653113 -0.332416  0.035389  0.846447 -0.273472 -0.320627  \n",
       "\n",
       "[5 rows x 100 columns]"
      ]
     },
     "execution_count": 65,
     "metadata": {},
     "output_type": "execute_result"
    }
   ],
   "source": [
    "ratings_diff.head()"
   ]
  },
  {
   "cell_type": "markdown",
   "metadata": {
    "colab_type": "text",
    "id": "bWFmyVobSM7R"
   },
   "source": [
    "### Popularity based recommendation system"
   ]
  },
  {
   "cell_type": "markdown",
   "metadata": {
    "colab_type": "text",
    "id": "T8K_S9ukSM7b"
   },
   "source": [
    "# Q16  Find the mean for each column  in `ratings_diff` i.e, for each joke\n",
    "Consider all the mean ratings and find the jokes with highest mean value and display the top 10 joke IDs."
   ]
  },
  {
   "cell_type": "code",
   "execution_count": 66,
   "metadata": {
    "colab": {},
    "colab_type": "code",
    "id": "usXWscbfSM7c"
   },
   "outputs": [
    {
     "name": "stdout",
     "output_type": "stream",
     "text": [
      "These are the index of the top 10 jokes with highest ratings:\n"
     ]
    },
    {
     "data": {
      "text/plain": [
       "[49, 35, 52, 34, 28, 26, 61, 48, 31, 30]"
      ]
     },
     "execution_count": 66,
     "metadata": {},
     "output_type": "execute_result"
    }
   ],
   "source": [
    "print('These are the index of the top 10 jokes with highest ratings:')\n",
    "list(np.argsort(ratings_diff.mean())[::-1][:10])"
   ]
  },
  {
   "cell_type": "code",
   "execution_count": 67,
   "metadata": {},
   "outputs": [
    {
     "name": "stdout",
     "output_type": "stream",
     "text": [
      "These are the top 10 highest ratings:\n"
     ]
    },
    {
     "data": {
      "text/plain": [
       "array([0.87821678, 0.75197178, 0.73670016, 0.69230389, 0.6642304 ,\n",
       "       0.60972362, 0.55754984, 0.5320071 , 0.52189075, 0.50249102])"
      ]
     },
     "execution_count": 67,
     "metadata": {},
     "output_type": "execute_result"
    }
   ],
   "source": [
    "print('These are the top 10 highest ratings:')\n",
    "np.sort(ratings_diff.mean())[::-1][:10]"
   ]
  }
 ],
 "metadata": {
  "colab": {
   "name": "R5_Internal_Lab_PCA_PBRS.ipynb",
   "provenance": []
  },
  "kernelspec": {
   "display_name": "Python 3",
   "language": "python",
   "name": "python3"
  },
  "language_info": {
   "codemirror_mode": {
    "name": "ipython",
    "version": 3
   },
   "file_extension": ".py",
   "mimetype": "text/x-python",
   "name": "python",
   "nbconvert_exporter": "python",
   "pygments_lexer": "ipython3",
   "version": "3.7.3"
  }
 },
 "nbformat": 4,
 "nbformat_minor": 1
}
