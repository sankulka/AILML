{
 "cells": [
  {
   "cell_type": "markdown",
   "metadata": {
    "colab_type": "text",
    "id": "YYk8NG3yOIT9"
   },
   "source": [
    "### A MNIST-like fashion product database\n",
    "\n",
    "In this, we classify the images into respective classes given in the dataset. We use a Neural Net and a Deep Neural Net in Keras to solve this and check the accuracy scores."
   ]
  },
  {
   "cell_type": "markdown",
   "metadata": {
    "colab_type": "text",
    "id": "tFO6PuxzOIT_"
   },
   "source": [
    "### Load tensorflow"
   ]
  },
  {
   "cell_type": "code",
   "execution_count": 1,
   "metadata": {
    "colab": {
     "base_uri": "https://localhost:8080/",
     "height": 34
    },
    "colab_type": "code",
    "executionInfo": {
     "elapsed": 2377,
     "status": "ok",
     "timestamp": 1576242680763,
     "user": {
      "displayName": "Santosh Kulkarni",
      "photoUrl": "https://lh3.googleusercontent.com/a-/AAuE7mDmeIHDJbwTZS-iFO8rlNCs50kBwUt8ms9DGthD=s64",
      "userId": "07011934147846339398"
     },
     "user_tz": -330
    },
    "id": "efNjNImfOIUC",
    "outputId": "1a9587ab-e5e1-44fe-df9a-becda244400d"
   },
   "outputs": [],
   "source": [
    "import numpy as np\n",
    "import tensorflow as tf\n",
    "import matplotlib.pyplot as plt"
   ]
  },
  {
   "cell_type": "code",
   "execution_count": 2,
   "metadata": {
    "colab": {
     "base_uri": "https://localhost:8080/",
     "height": 34
    },
    "colab_type": "code",
    "executionInfo": {
     "elapsed": 2333,
     "status": "ok",
     "timestamp": 1576242680769,
     "user": {
      "displayName": "Santosh Kulkarni",
      "photoUrl": "https://lh3.googleusercontent.com/a-/AAuE7mDmeIHDJbwTZS-iFO8rlNCs50kBwUt8ms9DGthD=s64",
      "userId": "07011934147846339398"
     },
     "user_tz": -330
    },
    "id": "l9C4aAIGOIUH",
    "outputId": "84bafcd9-8c12-4585-d9fd-813022964a43"
   },
   "outputs": [
    {
     "data": {
      "text/plain": [
       "'2.0.0'"
      ]
     },
     "execution_count": 2,
     "metadata": {},
     "output_type": "execute_result"
    }
   ],
   "source": [
    "tf.__version__"
   ]
  },
  {
   "cell_type": "markdown",
   "metadata": {},
   "source": [
    "### Set Random Seed"
   ]
  },
  {
   "cell_type": "code",
   "execution_count": 3,
   "metadata": {},
   "outputs": [],
   "source": [
    "tf.random.set_seed(42)"
   ]
  },
  {
   "cell_type": "markdown",
   "metadata": {
    "colab_type": "text",
    "id": "HcoZBStrOIUQ"
   },
   "source": [
    "### Collect Data"
   ]
  },
  {
   "cell_type": "code",
   "execution_count": 4,
   "metadata": {
    "colab": {},
    "colab_type": "code",
    "id": "qnbx7TyQOIUY"
   },
   "outputs": [],
   "source": [
    "(trainX, trainY), (testX, testY) = tf.keras.datasets.fashion_mnist.load_data()"
   ]
  },
  {
   "cell_type": "markdown",
   "metadata": {
    "colab_type": "text",
    "id": "lDAYzkwyOIUj"
   },
   "source": [
    "### Convert both training and testing labels into one-hot vectors.\n",
    "\n",
    "**Hint:** check **tf.keras.utils.to_categorical()**"
   ]
  },
  {
   "cell_type": "code",
   "execution_count": 5,
   "metadata": {
    "colab": {
     "base_uri": "https://localhost:8080/",
     "height": 34
    },
    "colab_type": "code",
    "executionInfo": {
     "elapsed": 2795,
     "status": "ok",
     "timestamp": 1576242681363,
     "user": {
      "displayName": "Santosh Kulkarni",
      "photoUrl": "https://lh3.googleusercontent.com/a-/AAuE7mDmeIHDJbwTZS-iFO8rlNCs50kBwUt8ms9DGthD=s64",
      "userId": "07011934147846339398"
     },
     "user_tz": -330
    },
    "id": "vBlfYlANOIUk",
    "outputId": "1aee593c-b332-4ef1-a992-c81d7bd9c931"
   },
   "outputs": [
    {
     "data": {
      "text/plain": [
       "((60000, 28, 28), (60000,), (10000, 28, 28), (10000,))"
      ]
     },
     "execution_count": 5,
     "metadata": {},
     "output_type": "execute_result"
    }
   ],
   "source": [
    "trainX.shape, trainY.shape, testX.shape, testY.shape"
   ]
  },
  {
   "cell_type": "code",
   "execution_count": 6,
   "metadata": {
    "colab": {},
    "colab_type": "code",
    "id": "4pk10AJM4XHF"
   },
   "outputs": [],
   "source": [
    "trainY = tf.keras.utils.to_categorical(trainY)\n",
    "testY = tf.keras.utils.to_categorical(testY)"
   ]
  },
  {
   "cell_type": "code",
   "execution_count": 7,
   "metadata": {},
   "outputs": [
    {
     "data": {
      "text/plain": [
       "((60000, 28, 28), (60000, 10), (10000, 28, 28), (10000, 10))"
      ]
     },
     "execution_count": 7,
     "metadata": {},
     "output_type": "execute_result"
    }
   ],
   "source": [
    "trainX.shape, trainY.shape, testX.shape, testY.shape"
   ]
  },
  {
   "cell_type": "markdown",
   "metadata": {
    "colab_type": "text",
    "id": "FwhQ8e7VOIUw"
   },
   "source": [
    "### Visualize the data\n",
    "\n",
    "Plot first 10 images in the triaining set and their labels."
   ]
  },
  {
   "cell_type": "code",
   "execution_count": 8,
   "metadata": {
    "colab": {
     "base_uri": "https://localhost:8080/",
     "height": 265
    },
    "colab_type": "code",
    "executionInfo": {
     "elapsed": 2663,
     "status": "ok",
     "timestamp": 1576242681369,
     "user": {
      "displayName": "Santosh Kulkarni",
      "photoUrl": "https://lh3.googleusercontent.com/a-/AAuE7mDmeIHDJbwTZS-iFO8rlNCs50kBwUt8ms9DGthD=s64",
      "userId": "07011934147846339398"
     },
     "user_tz": -330
    },
    "id": "dn5FwcpD-DGx",
    "outputId": "d6ae2bd6-b2ca-4c3f-8706-e16e086d7e0d"
   },
   "outputs": [
    {
     "data": {
      "image/png": "[encoded data removed]",
      "text/plain": [
       "<Figure size 432x288 with 2 Axes>"
      ]
     },
     "metadata": {
      "needs_background": "light"
     },
     "output_type": "display_data"
    }
   ],
   "source": [
    "plt.figure()\n",
    "plt.imshow(trainX[0])\n",
    "plt.colorbar()\n",
    "plt.grid(False)\n",
    "plt.show()"
   ]
  },
  {
   "cell_type": "code",
   "execution_count": 9,
   "metadata": {
    "colab": {
     "base_uri": "https://localhost:8080/",
     "height": 92
    },
    "colab_type": "code",
    "executionInfo": {
     "elapsed": 3391,
     "status": "ok",
     "timestamp": 1576242682131,
     "user": {
      "displayName": "Santosh Kulkarni",
      "photoUrl": "https://lh3.googleusercontent.com/a-/AAuE7mDmeIHDJbwTZS-iFO8rlNCs50kBwUt8ms9DGthD=s64",
      "userId": "07011934147846339398"
     },
     "user_tz": -330
    },
    "id": "zniuelTJ-DNf",
    "outputId": "c81231b9-bb59-4dac-fd1c-4cd2ee2b2922"
   },
   "outputs": [
    {
     "data": {
      "image/png": "[encoded data removed]",
      "text/plain": [
       "<Figure size 720x720 with 10 Axes>"
      ]
     },
     "metadata": {},
     "output_type": "display_data"
    }
   ],
   "source": [
    "plt.figure(figsize=(10,10))\n",
    "for i in range(10):\n",
    "    plt.subplot(1,10,i+1)\n",
    "    plt.xticks([])\n",
    "    plt.yticks([])\n",
    "    plt.imshow(trainX[i], cmap=plt.cm.binary)\n",
    "    plt.xlabel(np.argmax(trainY[i]))\n",
    "    #plt.xlabel(trainY[i])\n",
    "plt.show()"
   ]
  },
  {
   "cell_type": "markdown",
   "metadata": {
    "colab_type": "text",
    "id": "l4TbJGeSOIU4"
   },
   "source": [
    "### Build a neural Network with a cross entropy loss function and sgd optimizer in Keras. The output layer with 10 neurons as we have 10 classes."
   ]
  },
  {
   "cell_type": "code",
   "execution_count": 10,
   "metadata": {
    "colab": {},
    "colab_type": "code",
    "id": "Ac06XZZTOIU6"
   },
   "outputs": [],
   "source": [
    "model = tf.keras.Sequential([\n",
    "    tf.keras.layers.Reshape((784,),input_shape=(28,28,)),\n",
    "    tf.keras.layers.Dense(10, activation='softmax')\n",
    "])"
   ]
  },
  {
   "cell_type": "code",
   "execution_count": 11,
   "metadata": {
    "colab": {},
    "colab_type": "code",
    "id": "De2f6VKDK8Cu"
   },
   "outputs": [],
   "source": [
    "model.compile(optimizer='sgd', loss='categorical_crossentropy', metrics=['accuracy'])"
   ]
  },
  {
   "cell_type": "markdown",
   "metadata": {
    "colab_type": "text",
    "id": "3hQpLv3aOIU_"
   },
   "source": [
    "### Execute the model using model.fit()"
   ]
  },
  {
   "cell_type": "code",
   "execution_count": 12,
   "metadata": {
    "colab": {
     "base_uri": "https://localhost:8080/",
     "height": 386
    },
    "colab_type": "code",
    "executionInfo": {
     "elapsed": 47356,
     "status": "ok",
     "timestamp": 1576242726158,
     "user": {
      "displayName": "Santosh Kulkarni",
      "photoUrl": "https://lh3.googleusercontent.com/a-/AAuE7mDmeIHDJbwTZS-iFO8rlNCs50kBwUt8ms9DGthD=s64",
      "userId": "07011934147846339398"
     },
     "user_tz": -330
    },
    "id": "O59C_-IgOIVB",
    "outputId": "000c7b34-6cdf-4f0c-a6dd-38d0ccd79127"
   },
   "outputs": [
    {
     "name": "stdout",
     "output_type": "stream",
     "text": [
      "Train on 60000 samples\n",
      "Epoch 1/10\n",
      "60000/60000 [==============================] - 2s 27us/sample - loss: 233.7262 - accuracy: 0.1228\n",
      "Epoch 2/10\n",
      "60000/60000 [==============================] - 0s 5us/sample - loss: 7577.1499 - accuracy: 0.2860\n",
      "Epoch 3/10\n",
      "60000/60000 [==============================] - 0s 4us/sample - loss: 13565.4023 - accuracy: 0.3320\n",
      "Epoch 4/10\n",
      "60000/60000 [==============================] - 0s 4us/sample - loss: 13559.5684 - accuracy: 0.2504\n",
      "Epoch 5/10\n",
      "60000/60000 [==============================] - 0s 4us/sample - loss: 13477.7344 - accuracy: 0.2549\n",
      "Epoch 6/10\n",
      "60000/60000 [==============================] - 0s 5us/sample - loss: 12577.6025 - accuracy: 0.3085\n",
      "Epoch 7/10\n",
      "60000/60000 [==============================] - 0s 5us/sample - loss: 8405.8408 - accuracy: 0.2187\n",
      "Epoch 8/10\n",
      "60000/60000 [==============================] - 0s 4us/sample - loss: 9382.3379 - accuracy: 0.3432\n",
      "Epoch 9/10\n",
      "60000/60000 [==============================] - 0s 4us/sample - loss: 11184.5010 - accuracy: 0.1995\n",
      "Epoch 10/10\n",
      "60000/60000 [==============================] - 0s 5us/sample - loss: 10597.0342 - accuracy: 0.3477\n"
     ]
    },
    {
     "data": {
      "text/plain": [
       "<tensorflow.python.keras.callbacks.History at 0x2761e413bc8>"
      ]
     },
     "execution_count": 12,
     "metadata": {},
     "output_type": "execute_result"
    }
   ],
   "source": [
    "model.fit(trainX, trainY, epochs=10, batch_size = trainX.shape[0])"
   ]
  },
  {
   "cell_type": "markdown",
   "metadata": {
    "colab_type": "text",
    "id": "JdzDtGwDOIVF"
   },
   "source": [
    "### In the above Neural Network model add Batch Normalization layer after the input layer and repeat the steps."
   ]
  },
  {
   "cell_type": "code",
   "execution_count": 13,
   "metadata": {
    "colab": {},
    "colab_type": "code",
    "id": "kndfpdidOIVI"
   },
   "outputs": [],
   "source": [
    "model = tf.keras.Sequential([\n",
    "    tf.keras.layers.Reshape((784,),input_shape=(28,28,)),\n",
    "    tf.keras.layers.BatchNormalization(),\n",
    "    tf.keras.layers.Dense(10, activation='softmax')\n",
    "])"
   ]
  },
  {
   "cell_type": "code",
   "execution_count": 14,
   "metadata": {
    "colab": {},
    "colab_type": "code",
    "id": "8mUQzOV9V5oM"
   },
   "outputs": [],
   "source": [
    "model.compile(optimizer='sgd', loss='categorical_crossentropy', metrics=['accuracy'])"
   ]
  },
  {
   "cell_type": "markdown",
   "metadata": {
    "colab_type": "text",
    "id": "mwk3T5LJOIVN"
   },
   "source": [
    "### Execute the model"
   ]
  },
  {
   "cell_type": "code",
   "execution_count": 15,
   "metadata": {
    "colab": {
     "base_uri": "https://localhost:8080/",
     "height": 386
    },
    "colab_type": "code",
    "executionInfo": {
     "elapsed": 107290,
     "status": "ok",
     "timestamp": 1576242786163,
     "user": {
      "displayName": "Santosh Kulkarni",
      "photoUrl": "https://lh3.googleusercontent.com/a-/AAuE7mDmeIHDJbwTZS-iFO8rlNCs50kBwUt8ms9DGthD=s64",
      "userId": "07011934147846339398"
     },
     "user_tz": -330
    },
    "id": "kkRmNxfqV5zf",
    "outputId": "e986012d-8f60-4b9a-ed60-d4e3de33e8b8"
   },
   "outputs": [
    {
     "name": "stdout",
     "output_type": "stream",
     "text": [
      "Train on 60000 samples\n",
      "Epoch 1/10\n",
      "60000/60000 [==============================] - 5s 76us/sample - loss: 3.2483 - accuracy: 0.0811\n",
      "Epoch 2/10\n",
      "60000/60000 [==============================] - 3s 54us/sample - loss: 2.9163 - accuracy: 0.1081\n",
      "Epoch 3/10\n",
      "60000/60000 [==============================] - 3s 52us/sample - loss: 2.6447 - accuracy: 0.1383\n",
      "Epoch 4/10\n",
      "60000/60000 [==============================] - 3s 52us/sample - loss: 2.4196 - accuracy: 0.1724\n",
      "Epoch 5/10\n",
      "60000/60000 [==============================] - 3s 54us/sample - loss: 2.2317 - accuracy: 0.2101\n",
      "Epoch 6/10\n",
      "60000/60000 [==============================] - 3s 51us/sample - loss: 2.0744 - accuracy: 0.2491\n",
      "Epoch 7/10\n",
      "60000/60000 [==============================] - 3s 58us/sample - loss: 1.9424 - accuracy: 0.2898\n",
      "Epoch 8/10\n",
      "60000/60000 [==============================] - 3s 55us/sample - loss: 1.8315 - accuracy: 0.3306\n",
      "Epoch 9/10\n",
      "60000/60000 [==============================] - 3s 51us/sample - loss: 1.7378 - accuracy: 0.3686\n",
      "Epoch 10/10\n",
      "60000/60000 [==============================] - 4s 58us/sample - loss: 1.6583 - accuracy: 0.4017\n"
     ]
    },
    {
     "data": {
      "text/plain": [
       "<tensorflow.python.keras.callbacks.History at 0x2761df64a88>"
      ]
     },
     "execution_count": 15,
     "metadata": {},
     "output_type": "execute_result"
    }
   ],
   "source": [
    "model.fit(trainX, trainY, epochs=10, batch_size = trainX.shape[0])"
   ]
  },
  {
   "cell_type": "markdown",
   "metadata": {
    "colab_type": "text",
    "id": "Py-KwkmjOIVU"
   },
   "source": [
    "### Customize the learning rate to 0.001 in sgd optimizer and run the model"
   ]
  },
  {
   "cell_type": "code",
   "execution_count": 16,
   "metadata": {
    "colab": {},
    "colab_type": "code",
    "id": "gMAa864JXCi2"
   },
   "outputs": [],
   "source": [
    "sgd = tf.keras.optimizers.SGD(learning_rate=0.001)"
   ]
  },
  {
   "cell_type": "code",
   "execution_count": 17,
   "metadata": {
    "colab": {},
    "colab_type": "code",
    "id": "yLXUE9jWOIVV"
   },
   "outputs": [],
   "source": [
    "model.compile(optimizer=sgd, loss='categorical_crossentropy', metrics=['accuracy'])"
   ]
  },
  {
   "cell_type": "code",
   "execution_count": 18,
   "metadata": {
    "colab": {
     "base_uri": "https://localhost:8080/",
     "height": 386
    },
    "colab_type": "code",
    "executionInfo": {
     "elapsed": 165274,
     "status": "ok",
     "timestamp": 1576242844216,
     "user": {
      "displayName": "Santosh Kulkarni",
      "photoUrl": "https://lh3.googleusercontent.com/a-/AAuE7mDmeIHDJbwTZS-iFO8rlNCs50kBwUt8ms9DGthD=s64",
      "userId": "07011934147846339398"
     },
     "user_tz": -330
    },
    "id": "pJUqA5T4OIVc",
    "outputId": "75e35d41-1c1c-4d89-f943-0011df537a02"
   },
   "outputs": [
    {
     "name": "stdout",
     "output_type": "stream",
     "text": [
      "Train on 60000 samples\n",
      "Epoch 1/10\n",
      "60000/60000 [==============================] - 5s 82us/sample - loss: 1.5901 - accuracy: 0.4306\n",
      "Epoch 2/10\n",
      "60000/60000 [==============================] - 3s 46us/sample - loss: 1.5840 - accuracy: 0.4333\n",
      "Epoch 3/10\n",
      "60000/60000 [==============================] - 3s 55us/sample - loss: 1.5780 - accuracy: 0.4362\n",
      "Epoch 4/10\n",
      "60000/60000 [==============================] - 3s 54us/sample - loss: 1.5721 - accuracy: 0.4383\n",
      "Epoch 5/10\n",
      "60000/60000 [==============================] - 3s 54us/sample - loss: 1.5663 - accuracy: 0.4407\n",
      "Epoch 6/10\n",
      "60000/60000 [==============================] - 3s 57us/sample - loss: 1.5605 - accuracy: 0.4429\n",
      "Epoch 7/10\n",
      "60000/60000 [==============================] - 4s 61us/sample - loss: 1.5549 - accuracy: 0.4450\n",
      "Epoch 8/10\n",
      "60000/60000 [==============================] - 4s 59us/sample - loss: 1.5493 - accuracy: 0.4473\n",
      "Epoch 9/10\n",
      "60000/60000 [==============================] - 3s 46us/sample - loss: 1.5437 - accuracy: 0.4495\n",
      "Epoch 10/10\n",
      "60000/60000 [==============================] - 3s 45us/sample - loss: 1.5383 - accuracy: 0.4519\n"
     ]
    },
    {
     "data": {
      "text/plain": [
       "<tensorflow.python.keras.callbacks.History at 0x2761758dac8>"
      ]
     },
     "execution_count": 18,
     "metadata": {},
     "output_type": "execute_result"
    }
   ],
   "source": [
    "model.fit(trainX, trainY, epochs=10, batch_size = trainX.shape[0])"
   ]
  },
  {
   "cell_type": "markdown",
   "metadata": {
    "colab_type": "text",
    "id": "j9CSqKvpOIVk"
   },
   "source": [
    "### Build the Neural Network model with 3 Dense layers with 100,100,10 neurons respectively in each layer. Use cross entropy loss function and singmoid as activation in the hidden layers and softmax as activation function in the output layer. Use sgd optimizer with learning rate 0.03."
   ]
  },
  {
   "cell_type": "code",
   "execution_count": 19,
   "metadata": {
    "colab": {},
    "colab_type": "code",
    "id": "GGAad54JOIVm"
   },
   "outputs": [],
   "source": [
    "model = tf.keras.Sequential([\n",
    "    tf.keras.layers.Reshape((784,),input_shape=(28,28,)),\n",
    "    tf.keras.layers.BatchNormalization(),\n",
    "    tf.keras.layers.Dense(100, activation='sigmoid'),\n",
    "    tf.keras.layers.Dense(100, activation='sigmoid'),\n",
    "    tf.keras.layers.Dense(10, activation='softmax')\n",
    "])"
   ]
  },
  {
   "cell_type": "code",
   "execution_count": 20,
   "metadata": {
    "colab": {},
    "colab_type": "code",
    "id": "MQ7oIymROIVp"
   },
   "outputs": [],
   "source": [
    "sgd = tf.keras.optimizers.SGD(learning_rate=0.03)"
   ]
  },
  {
   "cell_type": "markdown",
   "metadata": {
    "colab_type": "text",
    "id": "Nr2YsZV0OIV0"
   },
   "source": [
    "## Review model"
   ]
  },
  {
   "cell_type": "code",
   "execution_count": 21,
   "metadata": {
    "colab": {},
    "colab_type": "code",
    "id": "X-O-fFxnOIVt"
   },
   "outputs": [],
   "source": [
    "model.compile(optimizer=sgd, loss='categorical_crossentropy', metrics=['accuracy'])"
   ]
  },
  {
   "cell_type": "markdown",
   "metadata": {
    "colab_type": "text",
    "id": "gfFGmbZLOIV5"
   },
   "source": [
    "### Run the model"
   ]
  },
  {
   "cell_type": "code",
   "execution_count": 22,
   "metadata": {
    "colab": {
     "base_uri": "https://localhost:8080/",
     "height": 386
    },
    "colab_type": "code",
    "executionInfo": {
     "elapsed": 222829,
     "status": "ok",
     "timestamp": 1576242901854,
     "user": {
      "displayName": "Santosh Kulkarni",
      "photoUrl": "https://lh3.googleusercontent.com/a-/AAuE7mDmeIHDJbwTZS-iFO8rlNCs50kBwUt8ms9DGthD=s64",
      "userId": "07011934147846339398"
     },
     "user_tz": -330
    },
    "id": "BiP7IL52OIVw",
    "outputId": "a14d399e-a565-40d5-80b8-5713611ce730"
   },
   "outputs": [
    {
     "name": "stdout",
     "output_type": "stream",
     "text": [
      "Train on 60000 samples\n",
      "Epoch 1/10\n",
      "60000/60000 [==============================] - 6s 94us/sample - loss: 2.4893 - accuracy: 0.1000\n",
      "Epoch 2/10\n",
      "60000/60000 [==============================] - 4s 61us/sample - loss: 2.4377 - accuracy: 0.1000\n",
      "Epoch 3/10\n",
      "60000/60000 [==============================] - 3s 54us/sample - loss: 2.4006 - accuracy: 0.1000\n",
      "Epoch 4/10\n",
      "60000/60000 [==============================] - 3s 54us/sample - loss: 2.3727 - accuracy: 0.1003\n",
      "Epoch 5/10\n",
      "60000/60000 [==============================] - 4s 58us/sample - loss: 2.3510 - accuracy: 0.1019\n",
      "Epoch 6/10\n",
      "60000/60000 [==============================] - 4s 66us/sample - loss: 2.3337 - accuracy: 0.1067\n",
      "Epoch 7/10\n",
      "60000/60000 [==============================] - 3s 57us/sample - loss: 2.3196 - accuracy: 0.1176\n",
      "Epoch 8/10\n",
      "60000/60000 [==============================] - 3s 54us/sample - loss: 2.3078 - accuracy: 0.1324\n",
      "Epoch 9/10\n",
      "60000/60000 [==============================] - 3s 55us/sample - loss: 2.2979 - accuracy: 0.1483\n",
      "Epoch 10/10\n",
      "60000/60000 [==============================] - 3s 56us/sample - loss: 2.2893 - accuracy: 0.1619\n"
     ]
    },
    {
     "data": {
      "text/plain": [
       "<tensorflow.python.keras.callbacks.History at 0x276a578d388>"
      ]
     },
     "execution_count": 22,
     "metadata": {},
     "output_type": "execute_result"
    }
   ],
   "source": [
    "model.fit(trainX, trainY, epochs=10, batch_size = trainX.shape[0])"
   ]
  },
  {
   "cell_type": "markdown",
   "metadata": {},
   "source": [
    "### Summary:\n",
    "- After adding BatchNormalization(), the accuracy increased from 0.3477 to 0.4017\n",
    "- After setting learning rate of 0.001, the accuracy increased to 0.4519\n",
    "- After adding two Dense layers of 100 neurons each and learning rate of 0.03, the accuracy came down to 0.1619\n",
    "- A systematic model tuning parameter exercise is needed to improve the accuracy of the final model"
   ]
  }
 ],
 "metadata": {
  "colab": {
   "collapsed_sections": [],
   "machine_shape": "hm",
   "name": "Copy of R6_ExternalLab_AIML.ipynb",
   "provenance": [
    {
     "file_id": "1b9xJvQ_WNSwJySUtN5W_4BQtt3oU9iGI",
     "timestamp": 1576242956005
    }
   ]
  },
  "kernelspec": {
   "display_name": "Python 3",
   "language": "python",
   "name": "python3"
  },
  "language_info": {
   "codemirror_mode": {
    "name": "ipython",
    "version": 3
   },
   "file_extension": ".py",
   "mimetype": "text/x-python",
   "name": "python",
   "nbconvert_exporter": "python",
   "pygments_lexer": "ipython3",
   "version": "3.7.5"
  }
 },
 "nbformat": 4,
 "nbformat_minor": 1
}
