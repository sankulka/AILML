{
  "nbformat": 4,
  "nbformat_minor": 0,
  "metadata": {
    "accelerator": "GPU",
    "colab": {
      "name": "R7_Internal_Lab_Questions_FMNIST_Simple_CNN_updated.ipynb",
      "provenance": [],
      "collapsed_sections": []
    },
    "kernelspec": {
      "display_name": "Python 3",
      "language": "python",
      "name": "python3"
    },
    "language_info": {
      "codemirror_mode": {
        "name": "ipython",
        "version": 3
      },
      "file_extension": ".py",
      "mimetype": "text/x-python",
      "name": "python",
      "nbconvert_exporter": "python",
      "pygments_lexer": "ipython3",
      "version": "3.7.3"
    }
  },
  "cells": [
    {
      "cell_type": "markdown",
      "metadata": {
        "colab_type": "text",
        "id": "MyfMmMnPJjvn"
      },
      "source": [
        "## Train a simple convnet on the Fashion MNIST dataset"
      ]
    },
    {
      "cell_type": "markdown",
      "metadata": {
        "colab_type": "text",
        "id": "zjcGOJhcJjvp"
      },
      "source": [
        "In this, we will see how to deal with image data and train a convnet for image classification task."
      ]
    },
    {
      "cell_type": "markdown",
      "metadata": {
        "id": "YvbL1jmax1dx",
        "colab_type": "text"
      },
      "source": [
        "###1. Import and set and Tensorflow 2 and verify version"
      ]
    },
    {
      "cell_type": "code",
      "metadata": {
        "id": "zNRysFX98Jzg",
        "colab_type": "code",
        "colab": {
          "base_uri": "https://localhost:8080/",
          "height": 34
        },
        "outputId": "29d5ff79-0b33-4d0d-8b69-d79166bfdb43"
      },
      "source": [
        "%tensorflow_version 2.x\n",
        "import numpy as np\n",
        "from random import randint\n",
        "import tensorflow as tf\n",
        "import matplotlib.pyplot as plt"
      ],
      "execution_count": 1,
      "outputs": [
        {
          "output_type": "stream",
          "text": [
            "TensorFlow 2.x selected.\n"
          ],
          "name": "stdout"
        }
      ]
    },
    {
      "cell_type": "code",
      "metadata": {
        "id": "9DvCahkI70SY",
        "colab_type": "code",
        "colab": {
          "base_uri": "https://localhost:8080/",
          "height": 34
        },
        "outputId": "fe2f1bd2-3c5b-444c-b38d-b74ba7718b13"
      },
      "source": [
        "tf.__version__"
      ],
      "execution_count": 2,
      "outputs": [
        {
          "output_type": "execute_result",
          "data": {
            "text/plain": [
              "'2.1.0-rc1'"
            ]
          },
          "metadata": {
            "tags": []
          },
          "execution_count": 2
        }
      ]
    },
    {
      "cell_type": "markdown",
      "metadata": {
        "colab_type": "text",
        "id": "jR0Pl2XjJjvq"
      },
      "source": [
        "### 2. Load the  `fashion_mnist`  dataset\n",
        "\n",
        "** Use keras.datasets to load the dataset **"
      ]
    },
    {
      "cell_type": "code",
      "metadata": {
        "colab_type": "code",
        "id": "Qr75v_UYJjvs",
        "colab": {
          "base_uri": "https://localhost:8080/",
          "height": 34
        },
        "outputId": "1ca4db7e-2ebf-4570-e320-f7d5762374fd"
      },
      "source": [
        "from keras.datasets import fashion_mnist\n",
        "(x_train, y_train), (x_test, y_test) = fashion_mnist.load_data()"
      ],
      "execution_count": 3,
      "outputs": [
        {
          "output_type": "stream",
          "text": [
            "Using TensorFlow backend.\n"
          ],
          "name": "stderr"
        }
      ]
    },
    {
      "cell_type": "markdown",
      "metadata": {
        "id": "Zf2NG5NJ05w_",
        "colab_type": "text"
      },
      "source": [
        "###3. Create a list 'class_names' of below Class Names\n",
        "**Class - Class Name** ==> \n",
        "0 - T-shirt, \n",
        "1 - Trouser, \n",
        "2 - Pullover, \n",
        "3 - Dress, \n",
        "4 - Coat, \n",
        "5 - Sandal, \n",
        "6 - Shirt, \n",
        "7 - Sneaker, \n",
        "8 - Bag, \n",
        "9 - Ankle boot,"
      ]
    },
    {
      "cell_type": "code",
      "metadata": {
        "id": "30E9G9cRRxwx",
        "colab_type": "code",
        "colab": {}
      },
      "source": [
        "class_names = ['T-shirt', 'Trouser', 'Pullover', 'Dress', 'Coat', 'Sandal', 'Shirt', 'Sneaker', 'Bag', 'Ankle boot']\n"
      ],
      "execution_count": 0,
      "outputs": []
    },
    {
      "cell_type": "markdown",
      "metadata": {
        "colab_type": "text",
        "id": "hTI42-0qJjvw"
      },
      "source": [
        "###4. Find no.of samples in training and test dataset"
      ]
    },
    {
      "cell_type": "code",
      "metadata": {
        "colab_type": "code",
        "id": "g2sf67VoJjvx",
        "colab": {
          "base_uri": "https://localhost:8080/",
          "height": 34
        },
        "outputId": "48cd940c-fd13-4db0-cc58-c4786ff1cbb4"
      },
      "source": [
        "x_train.shape, y_train.shape"
      ],
      "execution_count": 5,
      "outputs": [
        {
          "output_type": "execute_result",
          "data": {
            "text/plain": [
              "((60000, 28, 28), (60000,))"
            ]
          },
          "metadata": {
            "tags": []
          },
          "execution_count": 5
        }
      ]
    },
    {
      "cell_type": "code",
      "metadata": {
        "colab_type": "code",
        "id": "zewyDcBlJjv1",
        "colab": {
          "base_uri": "https://localhost:8080/",
          "height": 34
        },
        "outputId": "5ef3d9e3-f773-47c5-9a28-1dbe6a2ac3cb"
      },
      "source": [
        " x_test.shape, y_test.shape"
      ],
      "execution_count": 6,
      "outputs": [
        {
          "output_type": "execute_result",
          "data": {
            "text/plain": [
              "((10000, 28, 28), (10000,))"
            ]
          },
          "metadata": {
            "tags": []
          },
          "execution_count": 6
        }
      ]
    },
    {
      "cell_type": "markdown",
      "metadata": {
        "colab_type": "text",
        "id": "WytT2eRnJjv4"
      },
      "source": [
        "###5. Find dimensions of an image in the dataset"
      ]
    },
    {
      "cell_type": "code",
      "metadata": {
        "colab_type": "code",
        "id": "XycQGBSGJjv5",
        "colab": {
          "base_uri": "https://localhost:8080/",
          "height": 34
        },
        "outputId": "e6d38101-8182-4efa-c655-683f416e1135"
      },
      "source": [
        "x_train[1].shape"
      ],
      "execution_count": 7,
      "outputs": [
        {
          "output_type": "execute_result",
          "data": {
            "text/plain": [
              "(28, 28)"
            ]
          },
          "metadata": {
            "tags": []
          },
          "execution_count": 7
        }
      ]
    },
    {
      "cell_type": "code",
      "metadata": {
        "id": "gdt9gtHT_D5_",
        "colab_type": "code",
        "colab": {
          "base_uri": "https://localhost:8080/",
          "height": 34
        },
        "outputId": "3a9b1140-6f98-4ffa-d625-594f674d8c90"
      },
      "source": [
        "y_train[0]"
      ],
      "execution_count": 8,
      "outputs": [
        {
          "output_type": "execute_result",
          "data": {
            "text/plain": [
              "9"
            ]
          },
          "metadata": {
            "tags": []
          },
          "execution_count": 8
        }
      ]
    },
    {
      "cell_type": "markdown",
      "metadata": {
        "id": "JJaUaIKATSVr",
        "colab_type": "text"
      },
      "source": [
        "### 6. Verify if existing labels/Classes are correct "
      ]
    },
    {
      "cell_type": "code",
      "metadata": {
        "id": "UAzXREYjTRhn",
        "colab_type": "code",
        "colab": {
          "base_uri": "https://localhost:8080/",
          "height": 476
        },
        "outputId": "c07dccd7-7b8e-4c08-d7e5-300f790a171d"
      },
      "source": [
        "plt.figure(figsize=(10,10))\n",
        "for i in range(20):\n",
        "    plt.subplot(5,5,i+1)\n",
        "    plt.xticks([])\n",
        "    plt.yticks([])\n",
        "    plt.grid(False)\n",
        "    rand_num = randint(10, 1000) # Taking some random numbers to see the picture and their labels\n",
        "    plt.imshow(x_train[i], cmap='gray')\n",
        "    plt.xlabel(class_names[y_train[i]])\n",
        "plt.show()"
      ],
      "execution_count": 9,
      "outputs": [
        {
          "output_type": "display_data",
          "data": {
            "image/png": "[encoded data removed]",
            "text/plain": [
              "<Figure size 720x720 with 20 Axes>"
            ]
          },
          "metadata": {
            "tags": []
          }
        }
      ]
    },
    {
      "cell_type": "markdown",
      "metadata": {
        "colab_type": "text",
        "id": "5jtdZ7RqJjv8"
      },
      "source": [
        "### 7. Convert train and test labels to one hot vectors\n",
        "\n",
        "** check `tensorflow.keras.utils.to_categorical()` **"
      ]
    },
    {
      "cell_type": "code",
      "metadata": {
        "colab_type": "code",
        "id": "sAD3q5I6Jjv9",
        "colab": {}
      },
      "source": [
        "y_train_enc = tf.convert_to_tensor(tf.keras.utils.to_categorical(y_train, num_classes=10))"
      ],
      "execution_count": 0,
      "outputs": []
    },
    {
      "cell_type": "code",
      "metadata": {
        "colab_type": "code",
        "id": "mgHSCXy3JjwA",
        "colab": {}
      },
      "source": [
        "y_test_enc = tf.convert_to_tensor(tf.keras.utils.to_categorical(y_test, num_classes=10))"
      ],
      "execution_count": 0,
      "outputs": []
    },
    {
      "cell_type": "markdown",
      "metadata": {
        "colab_type": "text",
        "id": "xO5BRBzBJjwD"
      },
      "source": [
        "###8. Normalize both the train and test image data from 0-255 to 0-1"
      ]
    },
    {
      "cell_type": "code",
      "metadata": {
        "colab_type": "code",
        "id": "3fUQpMHxJjwE",
        "colab": {}
      },
      "source": [
        "x_train_norm = x_train / 255.0"
      ],
      "execution_count": 0,
      "outputs": []
    },
    {
      "cell_type": "code",
      "metadata": {
        "colab_type": "code",
        "id": "Okwo_SB5JjwI",
        "colab": {}
      },
      "source": [
        "x_test_norm = x_test / 255.0"
      ],
      "execution_count": 0,
      "outputs": []
    },
    {
      "cell_type": "markdown",
      "metadata": {
        "colab_type": "text",
        "id": "da5-DwgrJjwM"
      },
      "source": [
        "###9. Reshape the data from 28x28 to 28x28x1 to match input dimensions in Conv2D layer in keras\n",
        "check `tensorflow.keras.backend.expand_dims`\n"
      ]
    },
    {
      "cell_type": "code",
      "metadata": {
        "id": "-WEEmP3TDQVw",
        "colab_type": "code",
        "colab": {}
      },
      "source": [
        "x_train_reshaped = tf.keras.backend.expand_dims(x_train_norm)"
      ],
      "execution_count": 0,
      "outputs": []
    },
    {
      "cell_type": "code",
      "metadata": {
        "id": "A60S-WssFn20",
        "colab_type": "code",
        "colab": {}
      },
      "source": [
        "x_test_reshaped = tf.keras.backend.expand_dims(x_test_norm)"
      ],
      "execution_count": 0,
      "outputs": []
    },
    {
      "cell_type": "markdown",
      "metadata": {
        "colab_type": "text",
        "id": "OFRRTJq8JjwQ"
      },
      "source": [
        "###10. Import the necessary layers from keras to build the model"
      ]
    },
    {
      "cell_type": "code",
      "metadata": {
        "colab_type": "code",
        "id": "dWTZYnKSJjwR",
        "colab": {}
      },
      "source": [
        "# Clear the session before building the model\n",
        "tf.keras.backend.clear_session()"
      ],
      "execution_count": 0,
      "outputs": []
    },
    {
      "cell_type": "markdown",
      "metadata": {
        "colab_type": "text",
        "id": "C18AoS7eJjwU"
      },
      "source": [
        "### 11. Build a model \n",
        "\n",
        "** with 2 Conv layers having `32 3x3 filters` in both convolutions with `relu activations` and `flatten` before passing the feature map into 2 fully connected layers (or Dense Layers) having 128 and 10 neurons with `relu` and `softmax` activations respectively. Now, using `categorical_crossentropy` loss with `adam` optimizer train the model with no.of `epochs=10`. **"
      ]
    },
    {
      "cell_type": "code",
      "metadata": {
        "colab_type": "code",
        "id": "DORCLgSwJjwV",
        "colab": {}
      },
      "source": [
        "# Initialize model, reshape & normalize data\n",
        "model1 = tf.keras.models.Sequential()\n",
        "\n",
        "#Add first convolutional layer\n",
        "model1.add(tf.keras.layers.Conv2D(32, kernel_size=(3,3), activation='relu'))\n",
        "\n",
        "#Add second convolutional layer\n",
        "model1.add(tf.keras.layers.Conv2D(32, kernel_size=(3,3), activation='relu'))"
      ],
      "execution_count": 0,
      "outputs": []
    },
    {
      "cell_type": "code",
      "metadata": {
        "id": "JtMVrdRmKrb7",
        "colab_type": "code",
        "colab": {}
      },
      "source": [
        "#Flatten the output\n",
        "model1.add(tf.keras.layers.Flatten())\n",
        "\n",
        "#First Dense layer\n",
        "model1.add(tf.keras.layers.Dense(128, activation='relu'))\n",
        "\n",
        "#Second Dense layer\n",
        "model1.add(tf.keras.layers.Dense(10, activation='softmax'))"
      ],
      "execution_count": 0,
      "outputs": []
    },
    {
      "cell_type": "code",
      "metadata": {
        "id": "ul_hOX6nKymq",
        "colab_type": "code",
        "colab": {}
      },
      "source": [
        "#Compile the model\n",
        "model1.compile(optimizer='adam', loss='categorical_crossentropy', metrics=['accuracy'])"
      ],
      "execution_count": 0,
      "outputs": []
    },
    {
      "cell_type": "code",
      "metadata": {
        "colab_type": "code",
        "id": "L2hAP94vJjwY",
        "colab": {
          "base_uri": "https://localhost:8080/",
          "height": 386
        },
        "outputId": "05d1a402-962f-4f96-a9f4-d14d191fa1ab"
      },
      "source": [
        "#Fit the first model with the given dataset\n",
        "model1.fit(x_train_reshaped, y_train_enc, validation_data=(x_test_reshaped, y_test_enc), epochs=10, batch_size=32)"
      ],
      "execution_count": 20,
      "outputs": [
        {
          "output_type": "stream",
          "text": [
            "Train on 60000 samples, validate on 10000 samples\n",
            "Epoch 1/10\n",
            "60000/60000 [==============================] - 10s 169us/sample - loss: 0.3676 - accuracy: 0.8683 - val_loss: 0.2803 - val_accuracy: 0.8977\n",
            "Epoch 2/10\n",
            "60000/60000 [==============================] - 7s 124us/sample - loss: 0.2288 - accuracy: 0.9147 - val_loss: 0.2755 - val_accuracy: 0.9031\n",
            "Epoch 3/10\n",
            "60000/60000 [==============================] - 7s 125us/sample - loss: 0.1678 - accuracy: 0.9375 - val_loss: 0.2401 - val_accuracy: 0.9177\n",
            "Epoch 4/10\n",
            "60000/60000 [==============================] - 7s 123us/sample - loss: 0.1167 - accuracy: 0.9566 - val_loss: 0.2453 - val_accuracy: 0.9202\n",
            "Epoch 5/10\n",
            "60000/60000 [==============================] - 8s 126us/sample - loss: 0.0785 - accuracy: 0.9703 - val_loss: 0.2980 - val_accuracy: 0.9183\n",
            "Epoch 6/10\n",
            "60000/60000 [==============================] - 8s 136us/sample - loss: 0.0526 - accuracy: 0.9807 - val_loss: 0.3405 - val_accuracy: 0.9144\n",
            "Epoch 7/10\n",
            "60000/60000 [==============================] - 7s 124us/sample - loss: 0.0380 - accuracy: 0.9864 - val_loss: 0.4186 - val_accuracy: 0.9168\n",
            "Epoch 8/10\n",
            "60000/60000 [==============================] - 7s 124us/sample - loss: 0.0273 - accuracy: 0.9908 - val_loss: 0.4880 - val_accuracy: 0.9160\n",
            "Epoch 9/10\n",
            "60000/60000 [==============================] - 7s 123us/sample - loss: 0.0242 - accuracy: 0.9915 - val_loss: 0.4626 - val_accuracy: 0.9128\n",
            "Epoch 10/10\n",
            "60000/60000 [==============================] - 7s 124us/sample - loss: 0.0202 - accuracy: 0.9928 - val_loss: 0.5027 - val_accuracy: 0.9152\n"
          ],
          "name": "stdout"
        },
        {
          "output_type": "execute_result",
          "data": {
            "text/plain": [
              "<tensorflow.python.keras.callbacks.History at 0x7f01900707f0>"
            ]
          },
          "metadata": {
            "tags": []
          },
          "execution_count": 20
        }
      ]
    },
    {
      "cell_type": "markdown",
      "metadata": {
        "colab_type": "text",
        "id": "ju69vKdIJjwX"
      },
      "source": [
        "###12. Now, to the above model add `max` pooling layer of `filter size 2x2` and `dropout` layer with `p=0.25` after the 2 conv layers and run the model"
      ]
    },
    {
      "cell_type": "code",
      "metadata": {
        "colab_type": "code",
        "id": "kqEpIeaxLm47",
        "colab": {}
      },
      "source": [
        "# Initialize model, reshape & normalize data\n",
        "model2 = tf.keras.models.Sequential()\n",
        "\n",
        "#Add first convolutional layer\n",
        "model2.add(tf.keras.layers.Conv2D(32, kernel_size=(3,3), activation='relu'))\n",
        "\n",
        "#Add second convolutional layer\n",
        "model2.add(tf.keras.layers.Conv2D(32, kernel_size=(3,3), activation='relu'))"
      ],
      "execution_count": 0,
      "outputs": []
    },
    {
      "cell_type": "code",
      "metadata": {
        "id": "xbPBRoIRRiJl",
        "colab_type": "code",
        "colab": {}
      },
      "source": [
        "#Add MaxPooling layer\n",
        "model2.add(tf.keras.layers.MaxPool2D(pool_size=(2,2)))"
      ],
      "execution_count": 0,
      "outputs": []
    },
    {
      "cell_type": "code",
      "metadata": {
        "id": "9a303LDKH79u",
        "colab_type": "code",
        "colab": {}
      },
      "source": [
        "#Add another dropout layer\n",
        "model2.add(tf.keras.layers.Dropout(0.25))"
      ],
      "execution_count": 0,
      "outputs": []
    },
    {
      "cell_type": "code",
      "metadata": {
        "id": "Ode2BbZJEsWn",
        "colab_type": "code",
        "colab": {}
      },
      "source": [
        "#Flatten the output\n",
        "model2.add(tf.keras.layers.Flatten())\n",
        "\n",
        "#First Dense layer\n",
        "model2.add(tf.keras.layers.Dense(128, activation='relu'))\n",
        "\n",
        "#Second Dense layer\n",
        "model2.add(tf.keras.layers.Dense(10, activation='softmax'))"
      ],
      "execution_count": 0,
      "outputs": []
    },
    {
      "cell_type": "code",
      "metadata": {
        "id": "_kE4eOxNFGNf",
        "colab_type": "code",
        "colab": {}
      },
      "source": [
        "#Compile the model\n",
        "model2.compile(optimizer='adam', loss='categorical_crossentropy', metrics=['accuracy'])"
      ],
      "execution_count": 0,
      "outputs": []
    },
    {
      "cell_type": "code",
      "metadata": {
        "id": "48brxbLJL0vD",
        "colab_type": "code",
        "colab": {
          "base_uri": "https://localhost:8080/",
          "height": 386
        },
        "outputId": "d102eb6b-dacf-4f1c-e984-7d23121c81f3"
      },
      "source": [
        "#Fit the second model with the given dataset\n",
        "model2.fit(x_train_reshaped, y_train_enc, validation_data=(x_test_reshaped, y_test_enc), epochs=10, batch_size=32)"
      ],
      "execution_count": 26,
      "outputs": [
        {
          "output_type": "stream",
          "text": [
            "Train on 60000 samples, validate on 10000 samples\n",
            "Epoch 1/10\n",
            "60000/60000 [==============================] - 8s 129us/sample - loss: 0.3879 - accuracy: 0.8601 - val_loss: 0.3040 - val_accuracy: 0.8935\n",
            "Epoch 2/10\n",
            "60000/60000 [==============================] - 7s 123us/sample - loss: 0.2568 - accuracy: 0.9058 - val_loss: 0.2574 - val_accuracy: 0.9057\n",
            "Epoch 3/10\n",
            "60000/60000 [==============================] - 7s 122us/sample - loss: 0.2095 - accuracy: 0.9230 - val_loss: 0.2265 - val_accuracy: 0.9194\n",
            "Epoch 4/10\n",
            "60000/60000 [==============================] - 7s 122us/sample - loss: 0.1749 - accuracy: 0.9345 - val_loss: 0.2266 - val_accuracy: 0.9206\n",
            "Epoch 5/10\n",
            "60000/60000 [==============================] - 7s 121us/sample - loss: 0.1488 - accuracy: 0.9437 - val_loss: 0.2285 - val_accuracy: 0.9195\n",
            "Epoch 6/10\n",
            "60000/60000 [==============================] - 7s 121us/sample - loss: 0.1265 - accuracy: 0.9518 - val_loss: 0.2431 - val_accuracy: 0.9242\n",
            "Epoch 7/10\n",
            "60000/60000 [==============================] - 7s 124us/sample - loss: 0.1085 - accuracy: 0.9593 - val_loss: 0.2523 - val_accuracy: 0.9231\n",
            "Epoch 8/10\n",
            "60000/60000 [==============================] - 7s 124us/sample - loss: 0.0930 - accuracy: 0.9654 - val_loss: 0.2511 - val_accuracy: 0.9244\n",
            "Epoch 9/10\n",
            "60000/60000 [==============================] - 7s 125us/sample - loss: 0.0844 - accuracy: 0.9682 - val_loss: 0.2539 - val_accuracy: 0.9250\n",
            "Epoch 10/10\n",
            "60000/60000 [==============================] - 7s 123us/sample - loss: 0.0706 - accuracy: 0.9741 - val_loss: 0.2683 - val_accuracy: 0.9220\n"
          ],
          "name": "stdout"
        },
        {
          "output_type": "execute_result",
          "data": {
            "text/plain": [
              "<tensorflow.python.keras.callbacks.History at 0x7f017a451550>"
            ]
          },
          "metadata": {
            "tags": []
          },
          "execution_count": 26
        }
      ]
    },
    {
      "cell_type": "markdown",
      "metadata": {
        "colab_type": "text",
        "id": "MwQQW5iOJjwq"
      },
      "source": [
        "###13. Verify accuracy of the model\n",
        "\n",
        "> "
      ]
    },
    {
      "cell_type": "code",
      "metadata": {
        "id": "DST27NbGX8LU",
        "colab_type": "code",
        "colab": {
          "base_uri": "https://localhost:8080/",
          "height": 50
        },
        "outputId": "1385bec5-c4be-4379-e18e-0693e59da1e4"
      },
      "source": [
        "model1.evaluate(x_test_reshaped, y_test_enc)"
      ],
      "execution_count": 27,
      "outputs": [
        {
          "output_type": "stream",
          "text": [
            "10000/10000 [==============================] - 1s 88us/sample - loss: 0.5027 - accuracy: 0.9152\n"
          ],
          "name": "stdout"
        },
        {
          "output_type": "execute_result",
          "data": {
            "text/plain": [
              "[0.502664310169965, 0.9152]"
            ]
          },
          "metadata": {
            "tags": []
          },
          "execution_count": 27
        }
      ]
    },
    {
      "cell_type": "code",
      "metadata": {
        "id": "ZeHA5GOBX75u",
        "colab_type": "code",
        "colab": {
          "base_uri": "https://localhost:8080/",
          "height": 50
        },
        "outputId": "7bbb74ad-c359-4f0f-d023-b30a29d124ac"
      },
      "source": [
        "model2.evaluate(x_test_reshaped, y_test_enc)"
      ],
      "execution_count": 28,
      "outputs": [
        {
          "output_type": "stream",
          "text": [
            "10000/10000 [==============================] - 1s 83us/sample - loss: 0.2683 - accuracy: 0.9220\n"
          ],
          "name": "stdout"
        },
        {
          "output_type": "execute_result",
          "data": {
            "text/plain": [
              "[0.2683416126206517, 0.922]"
            ]
          },
          "metadata": {
            "tags": []
          },
          "execution_count": 28
        }
      ]
    },
    {
      "cell_type": "markdown",
      "metadata": {
        "id": "qfjNBWhbZ2KM",
        "colab_type": "text"
      },
      "source": [
        "####14. Verify performance of your model selectively "
      ]
    },
    {
      "cell_type": "code",
      "metadata": {
        "id": "erPkStxJaHEO",
        "colab_type": "code",
        "colab": {}
      },
      "source": [
        "predictions = model1.predict(x_train_reshaped)\n",
        "\n",
        "def plot_image(i, predictions_array, true_label, img):\n",
        "  predictions_array, true_label, img = predictions_array, true_label[i], img[i]\n",
        "  plt.grid(False)\n",
        "  plt.xticks([])\n",
        "  plt.yticks([])\n",
        "\n",
        "  plt.imshow(img, cmap=plt.cm.binary)\n",
        "\n",
        "  predicted_label = np.argmax(predictions_array)\n",
        "\n",
        "  plt.xlabel(\"{} {:2.0f}% ({})\".format(class_names[predicted_label],\n",
        "                                100*np.max(predictions_array),\n",
        "                                class_names[true_label]), color='blue')\n",
        "\n",
        "def plot_value_array(i, predictions_array, true_label):\n",
        "  predictions_array, true_label = predictions_array, true_label[i]\n",
        "  plt.grid(False)\n",
        "  plt.xticks(range(9), class_names, rotation=90)\n",
        "  plt.yticks([])\n",
        "  thisplot = plt.bar(range(10), predictions_array, color='blue')\n",
        "  plt.ylim([0, 1])\n",
        "  predicted_label = np.argmax(predictions_array)"
      ],
      "execution_count": 0,
      "outputs": []
    },
    {
      "cell_type": "code",
      "metadata": {
        "id": "cFPzCbnDaYAH",
        "colab_type": "code",
        "colab": {
          "base_uri": "https://localhost:8080/",
          "height": 296
        },
        "outputId": "9f754ec4-ff61-4605-fe40-b190f5533b83"
      },
      "source": [
        "#Replace value of i with other index to check other product\n",
        "i = 5\n",
        "plt.figure(figsize=(8,4))\n",
        "plt.subplot(1,2,1)\n",
        "plot_image(i, predictions[i], y_train, x_train)\n",
        "plt.subplot(1,2,2)\n",
        "plot_value_array(i, predictions[i],  y_train)\n",
        "plt.show()"
      ],
      "execution_count": 30,
      "outputs": [
        {
          "output_type": "display_data",
          "data": {
            "image/png": "[encoded data removed]",
            "text/plain": [
              "<Figure size 576x288 with 2 Axes>"
            ]
          },
          "metadata": {
            "tags": []
          }
        }
      ]
    },
    {
      "cell_type": "markdown",
      "metadata": {
        "colab_type": "text",
        "id": "lGTA3bfEJjwa"
      },
      "source": [
        "### Now, to the above model, lets add Data Augmentation "
      ]
    },
    {
      "cell_type": "markdown",
      "metadata": {
        "colab_type": "text",
        "id": "F6gX8n5SJjwb"
      },
      "source": [
        "###15. Import the ImageDataGenrator from keras and fit the training images"
      ]
    },
    {
      "cell_type": "code",
      "metadata": {
        "id": "ewRhXQFUSuDH",
        "colab_type": "code",
        "colab": {}
      },
      "source": [
        "from tensorflow.keras.preprocessing.image import ImageDataGenerator"
      ],
      "execution_count": 0,
      "outputs": []
    },
    {
      "cell_type": "code",
      "metadata": {
        "id": "MLgIqt_FNpmv",
        "colab_type": "code",
        "colab": {}
      },
      "source": [
        "# create image data augmentation generator\n",
        "datagen = ImageDataGenerator(\n",
        "    featurewise_center=True,\n",
        "    featurewise_std_normalization=True,\n",
        "    rotation_range=20,\n",
        "    width_shift_range=0.2,\n",
        "    height_shift_range=0.2,\n",
        "    horizontal_flip=True)"
      ],
      "execution_count": 0,
      "outputs": []
    },
    {
      "cell_type": "code",
      "metadata": {
        "id": "HjlfO61AOAcc",
        "colab_type": "code",
        "colab": {}
      },
      "source": [
        "datagen.fit(x_train_reshaped)"
      ],
      "execution_count": 0,
      "outputs": []
    },
    {
      "cell_type": "code",
      "metadata": {
        "id": "awMf0cIAWBVT",
        "colab_type": "code",
        "colab": {
          "base_uri": "https://localhost:8080/",
          "height": 356
        },
        "outputId": "b134630f-c608-4735-fda0-c90bf957a0a1"
      },
      "source": [
        "model2.fit_generator(datagen.flow(x_train_reshaped, y_train_enc, batch_size=32),\n",
        "                    steps_per_epoch=len(x_train_reshaped) / 32, epochs=5)"
      ],
      "execution_count": 34,
      "outputs": [
        {
          "output_type": "stream",
          "text": [
            "WARNING:tensorflow:From <ipython-input-34-eb00de60fb31>:2: Model.fit_generator (from tensorflow.python.keras.engine.training) is deprecated and will be removed in a future version.\n",
            "Instructions for updating:\n",
            "Please use Model.fit, which supports generators.\n",
            "WARNING:tensorflow:sample_weight modes were coerced from\n",
            "  ...\n",
            "    to  \n",
            "  ['...']\n",
            "Train for 1875.0 steps\n",
            "Epoch 1/5\n",
            "1875/1875 [==============================] - 21s 11ms/step - loss: 1.0443 - accuracy: 0.6501\n",
            "Epoch 2/5\n",
            "1875/1875 [==============================] - 21s 11ms/step - loss: 0.6467 - accuracy: 0.7599\n",
            "Epoch 3/5\n",
            "1875/1875 [==============================] - 21s 11ms/step - loss: 0.5790 - accuracy: 0.7861\n",
            "Epoch 4/5\n",
            "1875/1875 [==============================] - 21s 11ms/step - loss: 0.5400 - accuracy: 0.8006\n",
            "Epoch 5/5\n",
            "1875/1875 [==============================] - 21s 11ms/step - loss: 0.5064 - accuracy: 0.8123\n"
          ],
          "name": "stdout"
        },
        {
          "output_type": "execute_result",
          "data": {
            "text/plain": [
              "<tensorflow.python.keras.callbacks.History at 0x7f01a00c60f0>"
            ]
          },
          "metadata": {
            "tags": []
          },
          "execution_count": 34
        }
      ]
    },
    {
      "cell_type": "markdown",
      "metadata": {
        "colab_type": "text",
        "id": "pl-8dOo7Jjwf"
      },
      "source": [
        "####16. Showing 5 versions of the first image in training dataset using image datagenerator.flow()"
      ]
    },
    {
      "cell_type": "code",
      "metadata": {
        "colab_type": "code",
        "id": "DpI1_McYJjwg",
        "scrolled": true,
        "colab": {
          "base_uri": "https://localhost:8080/",
          "height": 89
        },
        "outputId": "df7fb6cd-8172-4247-84d7-42a09d55ccdf"
      },
      "source": [
        "from matplotlib import pyplot as plt\n",
        "gen = datagen.flow(x_train_reshaped[0:1], batch_size=1)\n",
        "for i in range(1, 6):\n",
        "    plt.subplot(1,5,i)\n",
        "    plt.axis(\"off\")\n",
        "    plt.imshow(gen.next().squeeze(), cmap='gray')\n",
        "    plt.plot()\n",
        "plt.show()"
      ],
      "execution_count": 35,
      "outputs": [
        {
          "output_type": "display_data",
          "data": {
            "image/png": "[encoded data removed]",
            "text/plain": [
              "<Figure size 432x288 with 5 Axes>"
            ]
          },
          "metadata": {
            "tags": []
          }
        }
      ]
    }
  ]
}