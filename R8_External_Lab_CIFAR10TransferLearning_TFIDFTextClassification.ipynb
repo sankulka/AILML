{
 "cells": [
  {
   "cell_type": "markdown",
   "metadata": {
    "colab_type": "text",
    "id": "QGIsF1ADyJ58"
   },
   "source": [
    "# Transfer Learning CIFAR10"
   ]
  },
  {
   "cell_type": "markdown",
   "metadata": {
    "colab_type": "text",
    "id": "E-n6tVFayGBe"
   },
   "source": [
    "* Train a simple convnet on the CIFAR dataset the first 5 output classes [0..4].\n",
    "* Freeze convolutional layers and fine-tune dense layers for the last 5 ouput classes [5..9].\n"
   ]
  },
  {
   "cell_type": "markdown",
   "metadata": {
    "colab_type": "text",
    "id": "Cq8ejXHJyGYq"
   },
   "source": [
    "### 1. Import CIFAR10 data and create 2 datasets with one dataset having classes from 0 to 4 and other having classes from 5 to 9 "
   ]
  },
  {
   "cell_type": "code",
   "execution_count": 1,
   "metadata": {
    "colab": {},
    "colab_type": "code",
    "id": "uWYbxnBayFUP"
   },
   "outputs": [],
   "source": [
    "import tensorflow as tf\n",
    "import numpy as np\n",
    "from tensorflow.keras.models import Sequential\n",
    "from tensorflow.keras.layers import Dense, Dropout, Activation, Flatten, BatchNormalization\n",
    "from tensorflow.keras.layers import Conv2D, MaxPooling2D\n",
    "from tensorflow.keras.preprocessing.image import ImageDataGenerator"
   ]
  },
  {
   "cell_type": "code",
   "execution_count": 2,
   "metadata": {},
   "outputs": [
    {
     "data": {
      "text/plain": [
       "'2.0.0'"
      ]
     },
     "execution_count": 2,
     "metadata": {},
     "output_type": "execute_result"
    }
   ],
   "source": [
    "tf.__version__"
   ]
  },
  {
   "cell_type": "code",
   "execution_count": 3,
   "metadata": {},
   "outputs": [],
   "source": [
    "(trainX, trainY),(testX, testY) = tf.keras.datasets.cifar10.load_data()"
   ]
  },
  {
   "cell_type": "code",
   "execution_count": 4,
   "metadata": {},
   "outputs": [
    {
     "data": {
      "text/plain": [
       "((50000, 32, 32, 3), (50000, 1), (10000, 32, 32, 3), (10000, 1))"
      ]
     },
     "execution_count": 4,
     "metadata": {},
     "output_type": "execute_result"
    }
   ],
   "source": [
    "trainX.shape, trainY.shape, testX.shape, testY.shape"
   ]
  },
  {
   "cell_type": "markdown",
   "metadata": {},
   "source": [
    "### First concatinating the X and y arrays"
   ]
  },
  {
   "cell_type": "code",
   "execution_count": 5,
   "metadata": {},
   "outputs": [],
   "source": [
    "X = np.concatenate([trainX, testX], 0)\n",
    "y = np.concatenate([trainY, testY], 0)"
   ]
  },
  {
   "cell_type": "markdown",
   "metadata": {},
   "source": [
    "### Check the shape of X and y after concatenation"
   ]
  },
  {
   "cell_type": "code",
   "execution_count": 6,
   "metadata": {},
   "outputs": [
    {
     "data": {
      "text/plain": [
       "((60000, 32, 32, 3), (60000, 1))"
      ]
     },
     "execution_count": 6,
     "metadata": {},
     "output_type": "execute_result"
    }
   ],
   "source": [
    "X.shape, y.shape"
   ]
  },
  {
   "cell_type": "markdown",
   "metadata": {},
   "source": [
    "### Create a filter to get the indices of target values < 5 and >= 5"
   ]
  },
  {
   "cell_type": "code",
   "execution_count": 7,
   "metadata": {},
   "outputs": [],
   "source": [
    "train_filter = np.where(y < 5)\n",
    "test_filter = np.where(y >= 5)"
   ]
  },
  {
   "cell_type": "markdown",
   "metadata": {},
   "source": [
    "### Get the train, test values based on above filter"
   ]
  },
  {
   "cell_type": "code",
   "execution_count": 8,
   "metadata": {},
   "outputs": [],
   "source": [
    "trainX, trainY = X[train_filter[0]], y[train_filter]\n",
    "testX, testY = X[test_filter[0]], y[test_filter]"
   ]
  },
  {
   "cell_type": "markdown",
   "metadata": {},
   "source": [
    "### Check the shape of X and y after applying filter"
   ]
  },
  {
   "cell_type": "code",
   "execution_count": 9,
   "metadata": {},
   "outputs": [
    {
     "data": {
      "text/plain": [
       "((30000, 32, 32, 3), (30000,), (30000, 32, 32, 3), (30000,))"
      ]
     },
     "execution_count": 9,
     "metadata": {},
     "output_type": "execute_result"
    }
   ],
   "source": [
    "trainX.shape, trainY.shape, testX.shape, testY.shape"
   ]
  },
  {
   "cell_type": "markdown",
   "metadata": {
    "colab_type": "text",
    "id": "xtCKmQh4yXhT"
   },
   "source": [
    "### 2. Use One-hot encoding to divide y_train and y_test into required no of output classes"
   ]
  },
  {
   "cell_type": "code",
   "execution_count": 10,
   "metadata": {},
   "outputs": [],
   "source": [
    "#Convert labels to one hot encoding\n",
    "trainY = tf.keras.utils.to_categorical(trainY, num_classes=10)\n",
    "testY = tf.keras.utils.to_categorical(testY, num_classes=10)"
   ]
  },
  {
   "cell_type": "markdown",
   "metadata": {
    "colab_type": "text",
    "id": "cuOiKWfeybAl"
   },
   "source": [
    "### 3. Build a sequential neural network model which can classify the classes 0 to 4 of CIFAR10 dataset with at least 80% accuracy on test data"
   ]
  },
  {
   "cell_type": "code",
   "execution_count": 11,
   "metadata": {
    "colab": {},
    "colab_type": "code",
    "id": "5HzxNbiiyoBD"
   },
   "outputs": [],
   "source": [
    "#Clear out tensorflow memory\n",
    "tf.keras.backend.clear_session()\n",
    "\n",
    "#Initialize Sequential model\n",
    "model = tf.keras.models.Sequential()\n",
    "\n",
    "#Reshape data from 2D to 1D\n",
    "model.add(tf.keras.layers.Reshape((32,32,3),input_shape=(32,32,3)))\n",
    "\n",
    "#Normalize the data\n",
    "model.add(tf.keras.layers.BatchNormalization())\n",
    "\n",
    "#Add first convolutional layer\n",
    "model.add(tf.keras.layers.Conv2D(32, kernel_size=(3,3), activation='relu'))\n",
    "\n",
    "#Add second convolutional layer\n",
    "model.add(tf.keras.layers.Conv2D(64, kernel_size=(3,3), activation='relu'))\n",
    "\n",
    "#Add MaxPooling layer\n",
    "model.add(tf.keras.layers.MaxPool2D(pool_size=(2,2)))\n",
    "\n",
    "#Flatten the output\n",
    "model.add(tf.keras.layers.Flatten())\n",
    "\n",
    "#Add another dropout layer\n",
    "model.add(tf.keras.layers.Dropout(0.25))\n",
    "\n",
    "#Output layer\n",
    "model.add(tf.keras.layers.Dense(10, activation='softmax'))"
   ]
  },
  {
   "cell_type": "code",
   "execution_count": 12,
   "metadata": {},
   "outputs": [],
   "source": [
    "model.compile(optimizer='adam', loss='categorical_crossentropy', metrics=['accuracy'])"
   ]
  },
  {
   "cell_type": "code",
   "execution_count": 13,
   "metadata": {},
   "outputs": [
    {
     "name": "stdout",
     "output_type": "stream",
     "text": [
      "Model: \"sequential\"\n",
      "_________________________________________________________________\n",
      "Layer (type)                 Output Shape              Param #   \n",
      "=================================================================\n",
      "reshape (Reshape)            (None, 32, 32, 3)         0         \n",
      "_________________________________________________________________\n",
      "batch_normalization (BatchNo (None, 32, 32, 3)         12        \n",
      "_________________________________________________________________\n",
      "conv2d (Conv2D)              (None, 30, 30, 32)        896       \n",
      "_________________________________________________________________\n",
      "conv2d_1 (Conv2D)            (None, 28, 28, 64)        18496     \n",
      "_________________________________________________________________\n",
      "max_pooling2d (MaxPooling2D) (None, 14, 14, 64)        0         \n",
      "_________________________________________________________________\n",
      "flatten (Flatten)            (None, 12544)             0         \n",
      "_________________________________________________________________\n",
      "dropout (Dropout)            (None, 12544)             0         \n",
      "_________________________________________________________________\n",
      "dense (Dense)                (None, 10)                125450    \n",
      "=================================================================\n",
      "Total params: 144,854\n",
      "Trainable params: 144,848\n",
      "Non-trainable params: 6\n",
      "_________________________________________________________________\n"
     ]
    }
   ],
   "source": [
    "model.summary()"
   ]
  },
  {
   "cell_type": "code",
   "execution_count": 14,
   "metadata": {},
   "outputs": [],
   "source": [
    "#Saving the best model using model checkpoint callback\n",
    "model_checkpoint_04=tf.keras.callbacks.ModelCheckpoint('cifar10-model_04.h5', \n",
    "                                                    save_best_only=True, \n",
    "                                                    monitor='accuracy', \n",
    "                                                    mode='max', \n",
    "                                                    verbose=1)"
   ]
  },
  {
   "cell_type": "code",
   "execution_count": 46,
   "metadata": {
    "scrolled": true
   },
   "outputs": [
    {
     "name": "stdout",
     "output_type": "stream",
     "text": [
      "Train on 30000 samples\n",
      "Epoch 1/10\n",
      "29984/30000 [============================>.] - ETA: 0s - loss: 0.3472 - accuracy: 0.8738\n",
      "Epoch 00002: accuracy did not improve from 0.89020\n",
      "30000/30000 [==============================] - 87s 3ms/sample - loss: 0.3474 - accuracy: 0.8738\n",
      "Epoch 3/10\n",
      "29984/30000 [============================>.] - ETA: 0s - loss: 0.2932 - accuracy: 0.8926\n",
      "Epoch 00003: accuracy improved from 0.89020 to 0.89250, saving model to cifar10-model_04.h5\n",
      "30000/30000 [==============================] - 89s 3ms/sample - loss: 0.2933 - accuracy: 0.8925\n",
      "Epoch 4/10\n",
      "29984/30000 [============================>.] - ETA: 0s - loss: 0.2605 - accuracy: 0.9061\n",
      "Epoch 00004: accuracy improved from 0.89250 to 0.90607, saving model to cifar10-model_04.h5\n",
      "30000/30000 [==============================] - 87s 3ms/sample - loss: 0.2606 - accuracy: 0.9061\n",
      "Epoch 5/10\n",
      "29984/30000 [============================>.] - ETA: 0s - loss: 0.2391 - accuracy: 0.9115\n",
      "Epoch 00005: accuracy improved from 0.90607 to 0.91147, saving model to cifar10-model_04.h5\n",
      "30000/30000 [==============================] - 91s 3ms/sample - loss: 0.2391 - accuracy: 0.9115\n",
      "Epoch 6/10\n",
      "29984/30000 [============================>.] - ETA: 0s - loss: 0.2249 - accuracy: 0.9164\n",
      "Epoch 00006: accuracy improved from 0.91147 to 0.91637, saving model to cifar10-model_04.h5\n",
      "30000/30000 [==============================] - 93s 3ms/sample - loss: 0.2250 - accuracy: 0.9164\n",
      "Epoch 7/10\n",
      "29984/30000 [============================>.] - ETA: 0s - loss: 0.2087 - accuracy: 0.9224\n",
      "Epoch 00007: accuracy improved from 0.91637 to 0.92240, saving model to cifar10-model_04.h5\n",
      "30000/30000 [==============================] - 93s 3ms/sample - loss: 0.2086 - accuracy: 0.9224\n",
      "Epoch 8/10\n",
      "29984/30000 [============================>.] - ETA: 0s - loss: 0.2037 - accuracy: 0.9234\n",
      "Epoch 00008: accuracy improved from 0.92240 to 0.92333, saving model to cifar10-model_04.h5\n",
      "30000/30000 [==============================] - 92s 3ms/sample - loss: 0.2037 - accuracy: 0.9233\n",
      "Epoch 9/10\n",
      "29984/30000 [============================>.] - ETA: 0s - loss: 0.1943 - accuracy: 0.9289\n",
      "Epoch 00009: accuracy improved from 0.92333 to 0.92893, saving model to cifar10-model_04.h5\n",
      "30000/30000 [==============================] - 92s 3ms/sample - loss: 0.1943 - accuracy: 0.9289\n",
      "Epoch 10/10\n",
      "29984/30000 [============================>.] - ETA: 0s - loss: 0.1876 - accuracy: 0.9291\n",
      "Epoch 00010: accuracy improved from 0.92893 to 0.92907, saving model to cifar10-model_04.h5\n",
      "30000/30000 [==============================] - 92s 3ms/sample - loss: 0.1877 - accuracy: 0.9291\n"
     ]
    },
    {
     "data": {
      "text/plain": [
       "<tensorflow.python.keras.callbacks.History at 0x1d280609b08>"
      ]
     },
     "execution_count": 46,
     "metadata": {},
     "output_type": "execute_result"
    }
   ],
   "source": [
    "model.fit(trainX, trainY, epochs=10, batch_size=32, callbacks=[model_checkpoint_04])"
   ]
  },
  {
   "cell_type": "markdown",
   "metadata": {
    "colab_type": "text",
    "id": "woTfNst_ynRG"
   },
   "source": [
    "### 4. In the model which was built above (for classification of classes 0-4 in CIFAR10), make only the dense layers to be trainable and conv layers to be non-trainable"
   ]
  },
  {
   "cell_type": "code",
   "execution_count": 17,
   "metadata": {},
   "outputs": [],
   "source": [
    "for layer in model.layers:\n",
    "    if(\"conv\" in layer.name):\n",
    "        layer.trainable = False"
   ]
  },
  {
   "cell_type": "code",
   "execution_count": 18,
   "metadata": {},
   "outputs": [
    {
     "name": "stdout",
     "output_type": "stream",
     "text": [
      "reshape True\n",
      "batch_normalization True\n",
      "conv2d False\n",
      "conv2d_1 False\n",
      "max_pooling2d True\n",
      "flatten True\n",
      "dropout True\n",
      "dense True\n"
     ]
    }
   ],
   "source": [
    "for layer in model.layers:\n",
    "    print(layer.name, layer.trainable)"
   ]
  },
  {
   "cell_type": "code",
   "execution_count": 19,
   "metadata": {},
   "outputs": [],
   "source": [
    "model.compile(optimizer='adam', loss='categorical_crossentropy', metrics=['accuracy'])"
   ]
  },
  {
   "cell_type": "code",
   "execution_count": 20,
   "metadata": {},
   "outputs": [
    {
     "name": "stdout",
     "output_type": "stream",
     "text": [
      "Model: \"sequential\"\n",
      "_________________________________________________________________\n",
      "Layer (type)                 Output Shape              Param #   \n",
      "=================================================================\n",
      "reshape (Reshape)            (None, 32, 32, 3)         0         \n",
      "_________________________________________________________________\n",
      "batch_normalization (BatchNo (None, 32, 32, 3)         12        \n",
      "_________________________________________________________________\n",
      "conv2d (Conv2D)              (None, 30, 30, 32)        896       \n",
      "_________________________________________________________________\n",
      "conv2d_1 (Conv2D)            (None, 28, 28, 64)        18496     \n",
      "_________________________________________________________________\n",
      "max_pooling2d (MaxPooling2D) (None, 14, 14, 64)        0         \n",
      "_________________________________________________________________\n",
      "flatten (Flatten)            (None, 12544)             0         \n",
      "_________________________________________________________________\n",
      "dropout (Dropout)            (None, 12544)             0         \n",
      "_________________________________________________________________\n",
      "dense (Dense)                (None, 10)                125450    \n",
      "=================================================================\n",
      "Total params: 144,854\n",
      "Trainable params: 125,456\n",
      "Non-trainable params: 19,398\n",
      "_________________________________________________________________\n"
     ]
    }
   ],
   "source": [
    "model.summary()"
   ]
  },
  {
   "cell_type": "markdown",
   "metadata": {},
   "source": [
    "### We see that the Convolutional layers are not trainable and their weights are freezed now. Only the last Dense layer is trainable "
   ]
  },
  {
   "cell_type": "markdown",
   "metadata": {
    "colab_type": "text",
    "id": "1-uUPqWpyeyX"
   },
   "source": [
    "### 5. Utilize the the model trained on CIFAR 10 (classes 0 to 4) to classify the classes 5 to 9 of CIFAR 10  (Use Transfer Learning) <br>\n",
    "Achieve an accuracy of more than 85% on test data"
   ]
  },
  {
   "cell_type": "markdown",
   "metadata": {},
   "source": [
    "### Remove the last Dense layer from the earlier trained model for 0-4 classes"
   ]
  },
  {
   "cell_type": "code",
   "execution_count": 21,
   "metadata": {},
   "outputs": [],
   "source": [
    "model.pop()"
   ]
  },
  {
   "cell_type": "markdown",
   "metadata": {},
   "source": [
    "### Add the new Dense layer for 5-9 classes"
   ]
  },
  {
   "cell_type": "code",
   "execution_count": 22,
   "metadata": {},
   "outputs": [],
   "source": [
    "#Output layer\n",
    "model.add(tf.keras.layers.Dense(10, activation='softmax'))"
   ]
  },
  {
   "cell_type": "code",
   "execution_count": 23,
   "metadata": {},
   "outputs": [],
   "source": [
    "model.compile(optimizer='adam', loss='categorical_crossentropy', metrics=['accuracy'])"
   ]
  },
  {
   "cell_type": "markdown",
   "metadata": {},
   "source": [
    "### Check the model, layers and the parameters"
   ]
  },
  {
   "cell_type": "code",
   "execution_count": 24,
   "metadata": {},
   "outputs": [
    {
     "name": "stdout",
     "output_type": "stream",
     "text": [
      "Model: \"sequential\"\n",
      "_________________________________________________________________\n",
      "Layer (type)                 Output Shape              Param #   \n",
      "=================================================================\n",
      "reshape (Reshape)            (None, 32, 32, 3)         0         \n",
      "_________________________________________________________________\n",
      "batch_normalization (BatchNo (None, 32, 32, 3)         12        \n",
      "_________________________________________________________________\n",
      "conv2d (Conv2D)              (None, 30, 30, 32)        896       \n",
      "_________________________________________________________________\n",
      "conv2d_1 (Conv2D)            (None, 28, 28, 64)        18496     \n",
      "_________________________________________________________________\n",
      "max_pooling2d (MaxPooling2D) (None, 14, 14, 64)        0         \n",
      "_________________________________________________________________\n",
      "flatten (Flatten)            (None, 12544)             0         \n",
      "_________________________________________________________________\n",
      "dropout (Dropout)            (None, 12544)             0         \n",
      "_________________________________________________________________\n",
      "dense_1 (Dense)              (None, 10)                125450    \n",
      "=================================================================\n",
      "Total params: 144,854\n",
      "Trainable params: 125,456\n",
      "Non-trainable params: 19,398\n",
      "_________________________________________________________________\n"
     ]
    }
   ],
   "source": [
    "model.summary()"
   ]
  },
  {
   "cell_type": "code",
   "execution_count": 25,
   "metadata": {},
   "outputs": [],
   "source": [
    "#Saving the best model using model checkpoint callback\n",
    "model_checkpoint_59=tf.keras.callbacks.ModelCheckpoint('cifar10-model_59.h5', \n",
    "                                                    save_best_only=True, \n",
    "                                                    monitor='accuracy', \n",
    "                                                    mode='max', \n",
    "                                                    verbose=1)"
   ]
  },
  {
   "cell_type": "markdown",
   "metadata": {},
   "source": [
    "### Now, retrain the model with test data of classes 5-9"
   ]
  },
  {
   "cell_type": "code",
   "execution_count": 26,
   "metadata": {
    "scrolled": true
   },
   "outputs": [
    {
     "name": "stdout",
     "output_type": "stream",
     "text": [
      "Train on 30000 samples\n",
      "Epoch 1/10\n",
      "29984/30000 [============================>.] - ETA: 0s - loss: 0.3010 - accuracy: 0.8938\n",
      "Epoch 00002: accuracy improved from 0.82710 to 0.89383, saving model to cifar10-model_59.h5\n",
      "30000/30000 [==============================] - 95s 3ms/sample - loss: 0.3009 - accuracy: 0.8938\n",
      "Epoch 3/10\n",
      "29984/30000 [============================>.] - ETA: 0s - loss: 0.2369 - accuracy: 0.9172\n",
      "Epoch 00003: accuracy improved from 0.89383 to 0.91723, saving model to cifar10-model_59.h5\n",
      "30000/30000 [==============================] - 91s 3ms/sample - loss: 0.2369 - accuracy: 0.9172\n",
      "Epoch 4/10\n",
      "29984/30000 [============================>.] - ETA: 0s - loss: 0.2015 - accuracy: 0.9273\n",
      "Epoch 00004: accuracy improved from 0.91723 to 0.92730, saving model to cifar10-model_59.h5\n",
      "30000/30000 [==============================] - 87s 3ms/sample - loss: 0.2015 - accuracy: 0.9273\n",
      "Epoch 5/10\n",
      "29984/30000 [============================>.] - ETA: 0s - loss: 0.1797 - accuracy: 0.9351 ETA: 5s - los - E - E\n",
      "Epoch 00005: accuracy improved from 0.92730 to 0.93507, saving model to cifar10-model_59.h5\n",
      "30000/30000 [==============================] - 87s 3ms/sample - loss: 0.1797 - accuracy: 0.9351\n",
      "Epoch 6/10\n",
      "29984/30000 [============================>.] - ETA: 0s - loss: 0.1633 - accuracy: 0.9396\n",
      "Epoch 00006: accuracy improved from 0.93507 to 0.93967, saving model to cifar10-model_59.h5\n",
      "30000/30000 [==============================] - 87s 3ms/sample - loss: 0.1633 - accuracy: 0.9397\n",
      "Epoch 7/10\n",
      "29984/30000 [============================>.] - ETA: 0s - loss: 0.1494 - accuracy: 0.9446 ETA: 0s - loss: 0.1489 \n",
      "Epoch 00007: accuracy improved from 0.93967 to 0.94460, saving model to cifar10-model_59.h5\n",
      "30000/30000 [==============================] - 88s 3ms/sample - loss: 0.1495 - accuracy: 0.9446\n",
      "Epoch 8/10\n",
      "29984/30000 [============================>.] - ETA: 0s - loss: 0.1414 - accuracy: 0.9479\n",
      "Epoch 00008: accuracy improved from 0.94460 to 0.94793, saving model to cifar10-model_59.h5\n",
      "30000/30000 [==============================] - 88s 3ms/sample - loss: 0.1414 - accuracy: 0.9479\n",
      "Epoch 9/10\n",
      "29984/30000 [============================>.] - ETA: 0s - loss: 0.1348 - accuracy: 0.9505\n",
      "Epoch 00009: accuracy improved from 0.94793 to 0.95050, saving model to cifar10-model_59.h5\n",
      "30000/30000 [==============================] - 94s 3ms/sample - loss: 0.1348 - accuracy: 0.9505\n",
      "Epoch 10/10\n",
      "29984/30000 [============================>.] - ETA: 0s - loss: 0.1272 - accuracy: 0.9526\n",
      "Epoch 00010: accuracy improved from 0.95050 to 0.95257, saving model to cifar10-model_59.h5\n",
      "30000/30000 [==============================] - 93s 3ms/sample - loss: 0.1272 - accuracy: 0.9526\n"
     ]
    },
    {
     "data": {
      "text/plain": [
       "<tensorflow.python.keras.callbacks.History at 0x1d2d4851888>"
      ]
     },
     "execution_count": 26,
     "metadata": {},
     "output_type": "execute_result"
    }
   ],
   "source": [
    "model.fit(testX, testY, epochs=10, batch_size=32, callbacks=[model_checkpoint_59])"
   ]
  },
  {
   "cell_type": "markdown",
   "metadata": {
    "colab_type": "text",
    "id": "0zDuRecXzEtr"
   },
   "source": [
    "# Text classification using TF-IDF"
   ]
  },
  {
   "cell_type": "markdown",
   "metadata": {
    "colab_type": "text",
    "id": "xMPlEJhHzb6P"
   },
   "source": [
    "### 6. Load the dataset from sklearn.datasets"
   ]
  },
  {
   "cell_type": "code",
   "execution_count": 28,
   "metadata": {
    "colab": {},
    "colab_type": "code",
    "id": "Fe-B59u3zHNb"
   },
   "outputs": [],
   "source": [
    "from sklearn.datasets import fetch_20newsgroups\n",
    "from sklearn.linear_model import LogisticRegression\n",
    "from sklearn import metrics\n",
    "from sklearn.feature_extraction.text import TfidfVectorizer"
   ]
  },
  {
   "cell_type": "code",
   "execution_count": 29,
   "metadata": {
    "colab": {},
    "colab_type": "code",
    "id": "PRrMemVQzbHU"
   },
   "outputs": [],
   "source": [
    "categories = ['alt.atheism', 'soc.religion.christian', 'comp.graphics', 'sci.med']"
   ]
  },
  {
   "cell_type": "markdown",
   "metadata": {
    "colab_type": "text",
    "id": "-sZX0UbJzmg5"
   },
   "source": [
    "### 7. Training data"
   ]
  },
  {
   "cell_type": "code",
   "execution_count": 30,
   "metadata": {
    "colab": {},
    "colab_type": "code",
    "id": "CITr_5aXziJ2"
   },
   "outputs": [],
   "source": [
    "twenty_train = fetch_20newsgroups(subset='train', categories=categories, shuffle=True, random_state=42)"
   ]
  },
  {
   "cell_type": "markdown",
   "metadata": {
    "colab_type": "text",
    "id": "xcESc5QXzr6p"
   },
   "source": [
    "### 8. Test data"
   ]
  },
  {
   "cell_type": "code",
   "execution_count": 31,
   "metadata": {
    "colab": {},
    "colab_type": "code",
    "id": "ysInblUMzpvl"
   },
   "outputs": [],
   "source": [
    "twenty_test = fetch_20newsgroups(subset='test', categories=categories, shuffle=True, random_state=42)"
   ]
  },
  {
   "cell_type": "markdown",
   "metadata": {
    "colab_type": "text",
    "id": "DriL2yZ50DQq"
   },
   "source": [
    "###  a.  You can access the values for the target variable using .target attribute \n",
    "###  b. You can access the name of the class in the target variable with .target_names\n"
   ]
  },
  {
   "cell_type": "code",
   "execution_count": 32,
   "metadata": {
    "colab": {},
    "colab_type": "code",
    "id": "vlUuai99z1hX"
   },
   "outputs": [
    {
     "data": {
      "text/plain": [
       "array([1, 1, 3, ..., 2, 2, 2], dtype=int64)"
      ]
     },
     "execution_count": 32,
     "metadata": {},
     "output_type": "execute_result"
    }
   ],
   "source": [
    "twenty_train.target"
   ]
  },
  {
   "cell_type": "code",
   "execution_count": 33,
   "metadata": {
    "colab": {},
    "colab_type": "code",
    "id": "VEKzaDfSz5E-"
   },
   "outputs": [
    {
     "data": {
      "text/plain": [
       "['alt.atheism', 'comp.graphics', 'sci.med', 'soc.religion.christian']"
      ]
     },
     "execution_count": 33,
     "metadata": {},
     "output_type": "execute_result"
    }
   ],
   "source": [
    "twenty_train.target_names"
   ]
  },
  {
   "cell_type": "code",
   "execution_count": 34,
   "metadata": {
    "colab": {},
    "colab_type": "code",
    "id": "clBMKHzC0_N1"
   },
   "outputs": [
    {
     "data": {
      "text/plain": [
       "['From: sd345@city.ac.uk (Michael Collier)\\nSubject: Converting images to HP LaserJet III?\\nNntp-Posting-Host: hampton\\nOrganization: The City University\\nLines: 14\\n\\nDoes anyone know of a good way (standard PC application/PD utility) to\\nconvert tif/img/tga files into LaserJet III format.  We would also like to\\ndo the same, converting to HPGL (HP plotter) files.\\n\\nPlease email any response.\\n\\nIs this the correct group?\\n\\nThanks in advance.  Michael.\\n-- \\nMichael Collier (Programmer)                 The Computer Unit,\\nEmail: M.P.Collier@uk.ac.city                The City University,\\nTel: 071 477-8000 x3769                      London,\\nFax: 071 477-8565                            EC1V 0HB.\\n',\n",
       " \"From: ani@ms.uky.edu (Aniruddha B. Deglurkar)\\nSubject: help: Splitting a trimming region along a mesh \\nOrganization: University Of Kentucky, Dept. of Math Sciences\\nLines: 28\\n\\n\\n\\n\\tHi,\\n\\n\\tI have a problem, I hope some of the 'gurus' can help me solve.\\n\\n\\tBackground of the problem:\\n\\tI have a rectangular mesh in the uv domain, i.e  the mesh is a \\n\\tmapping of a 3d Bezier patch into 2d. The area in this domain\\n\\twhich is inside a trimming loop had to be rendered. The trimming\\n\\tloop is a set of 2d Bezier curve segments.\\n\\tFor the sake of notation: the mesh is made up of cells.\\n\\n\\tMy problem is this :\\n\\tThe trimming area has to be split up into individual smaller\\n\\tcells bounded by the trimming curve segments. If a cell\\n\\tis wholly inside the area...then it is output as a whole ,\\n\\telse it is trivially rejected. \\n\\n\\tDoes any body know how thiss can be done, or is there any algo. \\n\\tsomewhere for doing this.\\n\\n\\tAny help would be appreciated.\\n\\n\\tThanks, \\n\\tAni.\\n-- \\nTo get irritated is human, to stay cool, divine.\\n\",\n",
       " \"From: djohnson@cs.ucsd.edu (Darin Johnson)\\nSubject: Re: harrassed at work, could use some prayers\\nOrganization: =CSE Dept., U.C. San Diego\\nLines: 63\\n\\n(Well, I'll email also, but this may apply to other people, so\\nI'll post also.)\\n\\n>I've been working at this company for eight years in various\\n>engineering jobs.  I'm female.  Yesterday I counted and realized that\\n>on seven different occasions I've been sexually harrassed at this\\n>company.\\n\\n>I dreaded coming back to work today.  What if my boss comes in to ask\\n>me some kind of question...\\n\\nYour boss should be the person bring these problems to.  If he/she\\ndoes not seem to take any action, keep going up higher and higher.\\nSexual harrassment does not need to be tolerated, and it can be an\\nenormous emotional support to discuss this with someone and know that\\nthey are trying to do something about it.  If you feel you can not\\ndiscuss this with your boss, perhaps your company has a personnel\\ndepartment that can work for you while preserving your privacy.  Most\\ncompanies will want to deal with this problem because constant anxiety\\ndoes seriously affect how effectively employees do their jobs.\\n\\nIt is unclear from your letter if you have done this or not.  It is\\nnot inconceivable that management remains ignorant of employee\\nproblems/strife even after eight years (it's a miracle if they do\\nnotice).  Perhaps your manager did not bring to the attention of\\nhigher ups?  If the company indeed does seem to want to ignore the\\nentire problem, there may be a state agency willing to fight with\\nyou.  (check with a lawyer, a women's resource center, etc to find out)\\n\\nYou may also want to discuss this with your paster, priest, husband,\\netc.  That is, someone you know will not be judgemental and that is\\nsupportive, comforting, etc.  This will bring a lot of healing.\\n\\n>So I returned at 11:25, only to find that ever single\\n>person had already left for lunch.  They left at 11:15 or so.  No one\\n>could be bothered to call me at the other building, even though my\\n>number was posted.\\n\\nThis happens to a lot of people.  Honest.  I believe it may seem\\nto be due to gross insensitivity because of the feelings you are\\ngoing through.  People in offices tend to be more insensitive while\\nworking than they normally are (maybe it's the hustle or stress or...)\\nI've had this happen to me a lot, often because they didn't realize\\nmy car was broken, etc.  Then they will come back and wonder why I\\ndidn't want to go (this would tend to make me stop being angry at\\nbeing ignored and make me laugh).  Once, we went off without our\\nboss, who was paying for the lunch :-)\\n\\n>For this\\n>reason I hope good Mr. Moderator allows me this latest indulgence.\\n\\nWell, if you can't turn to the computer for support, what would\\nwe do?  (signs of the computer age :-)\\n\\nIn closing, please don't let the hateful actions of a single person\\nharm you.  They are doing it because they are still the playground\\nbully and enjoy seeing the hurt they cause.  And you should not\\naccept the opinions of an imbecile that you are worthless - much\\nwiser people hold you in great esteem.\\n-- \\nDarin Johnson\\ndjohnson@ucsd.edu\\n  - Luxury!  In MY day, we had to make do with 5 bytes of swap...\\n\",\n",
       " 'From: s0612596@let.rug.nl (M.M. Zwart)\\nSubject: catholic church poland\\nOrganization: Faculteit der Letteren, Rijksuniversiteit Groningen, NL\\nLines: 10\\n\\nHello,\\n\\nI\\'m writing a paper on the role of the catholic church in Poland after 1989. \\nCan anyone tell me more about this, or fill me in on recent books/articles(\\nin english, german or french). Most important for me is the role of the \\nchurch concerning the abortion-law, religious education at schools,\\nbirth-control and the relation church-state(government). Thanx,\\n\\n                                                 Masja,\\n\"M.M.Zwart\"<s0612596@let.rug.nl>\\n',\n",
       " 'From: stanly@grok11.columbiasc.ncr.com (stanly)\\nSubject: Re: Elder Brother\\nOrganization: NCR Corp., Columbia SC\\nLines: 15\\n\\nIn article <Apr.8.00.57.41.1993.28246@athos.rutgers.edu> REXLEX@fnal.gov writes:\\n>In article <Apr.7.01.56.56.1993.22824@athos.rutgers.edu> shrum@hpfcso.fc.hp.com\\n>Matt. 22:9-14 \\'Go therefore to the main highways, and as many as you find\\n>there, invite to the wedding feast.\\'...\\n\\n>hmmmmmm.  Sounds like your theology and Christ\\'s are at odds. Which one am I \\n>to believe?\\n\\nIn this parable, Jesus tells the parable of the wedding feast. \"The kingdom\\nof heaven is like unto a certain king which made a marriage for his son\".\\nSo the wedding clothes were customary,  and \"given\" to those who \"chose\" to\\nattend.  This man \"refused\" to wear the clothes.  The wedding clothes are\\nequalivant to the \"clothes of righteousness\".  When Jesus died for our sins,\\nthose \"clothes\" were then provided.  Like that man, it is our decision to\\nput the clothes on.\\n']"
      ]
     },
     "execution_count": 34,
     "metadata": {},
     "output_type": "execute_result"
    }
   ],
   "source": [
    "twenty_train.data[0:5]"
   ]
  },
  {
   "cell_type": "markdown",
   "metadata": {
    "colab_type": "text",
    "id": "hTz4EaN_1WGc"
   },
   "source": [
    "### 9.  Now with dependent and independent data available for both train and test datasets, using TfidfVectorizer fit and transform the training data and test data and get the tfidf features for both"
   ]
  },
  {
   "cell_type": "code",
   "execution_count": 35,
   "metadata": {},
   "outputs": [
    {
     "data": {
      "text/plain": [
       "(2257, 2257, 1502, 1502)"
      ]
     },
     "execution_count": 35,
     "metadata": {},
     "output_type": "execute_result"
    }
   ],
   "source": [
    "len(twenty_train.data), len(twenty_train.target), len(twenty_test.data), len(twenty_test.target)"
   ]
  },
  {
   "cell_type": "code",
   "execution_count": 36,
   "metadata": {
    "colab": {},
    "colab_type": "code",
    "id": "H5G477f81C0Z"
   },
   "outputs": [],
   "source": [
    "tfidf_vectorizer = TfidfVectorizer(min_df=3, max_df=0.8, stop_words='english')"
   ]
  },
  {
   "cell_type": "code",
   "execution_count": 37,
   "metadata": {},
   "outputs": [],
   "source": [
    "twenty_train_X = tfidf_vectorizer.fit_transform(twenty_train.data)"
   ]
  },
  {
   "cell_type": "code",
   "execution_count": 38,
   "metadata": {},
   "outputs": [],
   "source": [
    "twenty_test_X = tfidf_vectorizer.transform(twenty_test.data)"
   ]
  },
  {
   "cell_type": "code",
   "execution_count": 39,
   "metadata": {},
   "outputs": [
    {
     "data": {
      "text/plain": [
       "['00',\n",
       " '000',\n",
       " '0001',\n",
       " '0010580b',\n",
       " '01',\n",
       " '0100',\n",
       " '01580',\n",
       " '02',\n",
       " '0200',\n",
       " '02118',\n",
       " '02173',\n",
       " '023044',\n",
       " '024103',\n",
       " '03',\n",
       " '0349',\n",
       " '0358',\n",
       " '04',\n",
       " '040',\n",
       " '041343',\n",
       " '05',\n",
       " '0511',\n",
       " '06',\n",
       " '0600',\n",
       " '0608',\n",
       " '06320',\n",
       " '07',\n",
       " '08',\n",
       " '081052',\n",
       " '084042',\n",
       " '09',\n",
       " '095220',\n",
       " '0x100',\n",
       " '10',\n",
       " '100',\n",
       " '1000',\n",
       " '101',\n",
       " '10101',\n",
       " '101010',\n",
       " '1013',\n",
       " '102',\n",
       " '102007',\n",
       " '1024',\n",
       " '1024x768',\n",
       " '103',\n",
       " '104',\n",
       " '105',\n",
       " '106',\n",
       " '109',\n",
       " '10th',\n",
       " '11',\n",
       " '110',\n",
       " '1100',\n",
       " '111',\n",
       " '1111',\n",
       " '112',\n",
       " '11230',\n",
       " '11292',\n",
       " '113',\n",
       " '114',\n",
       " '114127',\n",
       " '114158',\n",
       " '115',\n",
       " '115288',\n",
       " '115565',\n",
       " '115a',\n",
       " '116305',\n",
       " '11632',\n",
       " '1165',\n",
       " '11670',\n",
       " '117',\n",
       " '1170',\n",
       " '118',\n",
       " '11825',\n",
       " '119',\n",
       " '1192d',\n",
       " '12',\n",
       " '120',\n",
       " '1200',\n",
       " '12091',\n",
       " '121',\n",
       " '122',\n",
       " '122647',\n",
       " '123',\n",
       " '1246',\n",
       " '125',\n",
       " '126',\n",
       " '127',\n",
       " '128',\n",
       " '1280',\n",
       " '129',\n",
       " '13',\n",
       " '130',\n",
       " '1300',\n",
       " '131',\n",
       " '1312',\n",
       " '131239',\n",
       " '132',\n",
       " '133',\n",
       " '134',\n",
       " '13495',\n",
       " '135',\n",
       " '1352',\n",
       " '135941',\n",
       " '136',\n",
       " '137',\n",
       " '1379',\n",
       " '138',\n",
       " '139',\n",
       " '13h',\n",
       " '13th',\n",
       " '14',\n",
       " '140',\n",
       " '1400',\n",
       " '141',\n",
       " '142',\n",
       " '143',\n",
       " '14313',\n",
       " '14385',\n",
       " '14388',\n",
       " '14391',\n",
       " '144',\n",
       " '144843',\n",
       " '145',\n",
       " '146',\n",
       " '147',\n",
       " '148',\n",
       " '149',\n",
       " '15',\n",
       " '150',\n",
       " '1500',\n",
       " '150550',\n",
       " '151',\n",
       " '15118',\n",
       " '152',\n",
       " '15213',\n",
       " '153',\n",
       " '15347',\n",
       " '154',\n",
       " '155',\n",
       " '155123',\n",
       " '155919',\n",
       " '156',\n",
       " '157',\n",
       " '16',\n",
       " '1600',\n",
       " '160x2xx',\n",
       " '161',\n",
       " '16105',\n",
       " '163',\n",
       " '16364',\n",
       " '164940',\n",
       " '1653',\n",
       " '165410',\n",
       " '167',\n",
       " '16937',\n",
       " '16th',\n",
       " '17',\n",
       " '171',\n",
       " '172',\n",
       " '172965',\n",
       " '17505',\n",
       " '178',\n",
       " '179',\n",
       " '17th',\n",
       " '18',\n",
       " '1800',\n",
       " '182',\n",
       " '18669',\n",
       " '187',\n",
       " '18833',\n",
       " '1888',\n",
       " '1890',\n",
       " '19',\n",
       " '192',\n",
       " '192947',\n",
       " '193758',\n",
       " '1939',\n",
       " '194',\n",
       " '1946',\n",
       " '1947',\n",
       " '1949',\n",
       " '1950',\n",
       " '19549',\n",
       " '1958',\n",
       " '19580',\n",
       " '1960',\n",
       " '1960s',\n",
       " '1963',\n",
       " '19687',\n",
       " '1970s',\n",
       " '1971',\n",
       " '1972',\n",
       " '1973',\n",
       " '1974',\n",
       " '1976',\n",
       " '1977',\n",
       " '1979',\n",
       " '198',\n",
       " '1980',\n",
       " '1981',\n",
       " '1983',\n",
       " '1984',\n",
       " '1985',\n",
       " '1986',\n",
       " '1987',\n",
       " '1988',\n",
       " '1989',\n",
       " '1990',\n",
       " '1991',\n",
       " '1992',\n",
       " '1993',\n",
       " '1993apr03',\n",
       " '1993apr10',\n",
       " '1993apr11',\n",
       " '1993apr12',\n",
       " '1993apr13',\n",
       " '1993apr14',\n",
       " '1993apr15',\n",
       " '1993apr16',\n",
       " '1993apr17',\n",
       " '1993apr18',\n",
       " '1993apr19',\n",
       " '1993apr2',\n",
       " '1993apr20',\n",
       " '1993apr21',\n",
       " '1993apr22',\n",
       " '1993apr23',\n",
       " '1993apr3',\n",
       " '1993apr5',\n",
       " '1993apr6',\n",
       " '1993apr7',\n",
       " '1993apr9',\n",
       " '1993mar25',\n",
       " '1993mar26',\n",
       " '1993mar27',\n",
       " '1993mar29',\n",
       " '1993mar30',\n",
       " '1994',\n",
       " '19th',\n",
       " '1d9',\n",
       " '1l4',\n",
       " '1m',\n",
       " '1mb',\n",
       " '1pscti',\n",
       " '1qi3l5',\n",
       " '1qkgbuinns9n',\n",
       " '1qkq9t',\n",
       " '1qnns0',\n",
       " '1quvdoinn3e7',\n",
       " '1r6g8finne88',\n",
       " '1st',\n",
       " '1x1',\n",
       " '20',\n",
       " '200',\n",
       " '2000',\n",
       " '200344',\n",
       " '2006',\n",
       " '20084',\n",
       " '201',\n",
       " '201056',\n",
       " '202',\n",
       " '203',\n",
       " '2039',\n",
       " '205',\n",
       " '205341',\n",
       " '205615',\n",
       " '206',\n",
       " '20664',\n",
       " '20742',\n",
       " '20753',\n",
       " '20mhz',\n",
       " '20th',\n",
       " '21',\n",
       " '210',\n",
       " '21000',\n",
       " '2118',\n",
       " '212',\n",
       " '212441',\n",
       " '212706',\n",
       " '212943',\n",
       " '213',\n",
       " '214',\n",
       " '215',\n",
       " '216',\n",
       " '217',\n",
       " '218',\n",
       " '219',\n",
       " '21apr199308571323',\n",
       " '22',\n",
       " '221',\n",
       " '22102',\n",
       " '2213',\n",
       " '224',\n",
       " '2241',\n",
       " '2246',\n",
       " '225',\n",
       " '226',\n",
       " '2268',\n",
       " '227',\n",
       " '22771',\n",
       " '2284',\n",
       " '229',\n",
       " '23',\n",
       " '231',\n",
       " '232',\n",
       " '2362',\n",
       " '23681',\n",
       " '24',\n",
       " '240',\n",
       " '2400',\n",
       " '2400x4',\n",
       " '241',\n",
       " '244',\n",
       " '245',\n",
       " '246',\n",
       " '24632',\n",
       " '248',\n",
       " '249',\n",
       " '24997',\n",
       " '24bit',\n",
       " '24th',\n",
       " '24x',\n",
       " '25',\n",
       " '250',\n",
       " '252',\n",
       " '253',\n",
       " '254',\n",
       " '255',\n",
       " '256',\n",
       " '2575',\n",
       " '25mhz',\n",
       " '25x',\n",
       " '26',\n",
       " '263',\n",
       " '27',\n",
       " '270',\n",
       " '272',\n",
       " '273',\n",
       " '274',\n",
       " '275',\n",
       " '27513',\n",
       " '277',\n",
       " '27903',\n",
       " '28',\n",
       " '280',\n",
       " '2800',\n",
       " '28013',\n",
       " '28040',\n",
       " '28376',\n",
       " '28379',\n",
       " '28388',\n",
       " '28397',\n",
       " '284',\n",
       " '28412',\n",
       " '286',\n",
       " '29',\n",
       " '29266',\n",
       " '29279',\n",
       " '294',\n",
       " '2965',\n",
       " '29880',\n",
       " '2a',\n",
       " '2d',\n",
       " '2mb',\n",
       " '2nd',\n",
       " '30',\n",
       " '300',\n",
       " '3000',\n",
       " '301',\n",
       " '303',\n",
       " '3049',\n",
       " '305',\n",
       " '30602',\n",
       " '30fps',\n",
       " '30pm',\n",
       " '31',\n",
       " '310',\n",
       " '312',\n",
       " '3123',\n",
       " '313',\n",
       " '3168',\n",
       " '32',\n",
       " '320',\n",
       " '3205',\n",
       " '320x200',\n",
       " '320x200x256',\n",
       " '320x240',\n",
       " '3245',\n",
       " '325',\n",
       " '32768',\n",
       " '328',\n",
       " '32bis',\n",
       " '33',\n",
       " '330',\n",
       " '331',\n",
       " '334',\n",
       " '34',\n",
       " '3406',\n",
       " '34125',\n",
       " '3426',\n",
       " '344',\n",
       " '345',\n",
       " '35',\n",
       " '351',\n",
       " '35294',\n",
       " '354',\n",
       " '355',\n",
       " '3553',\n",
       " '357',\n",
       " '358',\n",
       " '36',\n",
       " '360',\n",
       " '362',\n",
       " '369',\n",
       " '37',\n",
       " '372',\n",
       " '3729',\n",
       " '378',\n",
       " '38',\n",
       " '380',\n",
       " '3815',\n",
       " '382',\n",
       " '386',\n",
       " '39',\n",
       " '390',\n",
       " '392',\n",
       " '3d',\n",
       " '3do',\n",
       " '3ds',\n",
       " '3rd',\n",
       " '3xx',\n",
       " '40',\n",
       " '400',\n",
       " '4000',\n",
       " '402',\n",
       " '404',\n",
       " '4060',\n",
       " '407',\n",
       " '408',\n",
       " '41',\n",
       " '4100',\n",
       " '4101',\n",
       " '415',\n",
       " '4159',\n",
       " '416',\n",
       " '417',\n",
       " '42',\n",
       " '4206',\n",
       " '428',\n",
       " '43',\n",
       " '430',\n",
       " '433',\n",
       " '4366',\n",
       " '44',\n",
       " '44135',\n",
       " '444',\n",
       " '447',\n",
       " '45',\n",
       " '451',\n",
       " '455',\n",
       " '45am',\n",
       " '46',\n",
       " '4620',\n",
       " '47',\n",
       " '473',\n",
       " '477',\n",
       " '48',\n",
       " '480',\n",
       " '4800',\n",
       " '48109',\n",
       " '486',\n",
       " '49',\n",
       " '495',\n",
       " '496',\n",
       " '4d',\n",
       " '4l3',\n",
       " '4mb',\n",
       " '4th',\n",
       " '50',\n",
       " '500',\n",
       " '5000',\n",
       " '503',\n",
       " '505',\n",
       " '508',\n",
       " '51',\n",
       " '510',\n",
       " '512',\n",
       " '515',\n",
       " '516',\n",
       " '52',\n",
       " '522',\n",
       " '523296',\n",
       " '525714',\n",
       " '53',\n",
       " '530',\n",
       " '534',\n",
       " '5363',\n",
       " '53766',\n",
       " '53iss6',\n",
       " '54',\n",
       " '5402',\n",
       " '542',\n",
       " '5420',\n",
       " '543',\n",
       " '545',\n",
       " '5473',\n",
       " '55',\n",
       " '5543',\n",
       " '56',\n",
       " '565',\n",
       " '57',\n",
       " '575',\n",
       " '576',\n",
       " '578',\n",
       " '57th',\n",
       " '58',\n",
       " '59',\n",
       " '596',\n",
       " '5of5',\n",
       " '5th',\n",
       " '60',\n",
       " '600',\n",
       " '6000',\n",
       " '601',\n",
       " '602',\n",
       " '604',\n",
       " '60637',\n",
       " '608',\n",
       " '609',\n",
       " '61',\n",
       " '614',\n",
       " '615',\n",
       " '617',\n",
       " '619',\n",
       " '62',\n",
       " '621',\n",
       " '62699',\n",
       " '627',\n",
       " '629',\n",
       " '63',\n",
       " '632',\n",
       " '638',\n",
       " '64',\n",
       " '640',\n",
       " '640x400',\n",
       " '640x480',\n",
       " '640x480x16',\n",
       " '640x480x256',\n",
       " '642',\n",
       " '65',\n",
       " '650',\n",
       " '66',\n",
       " '664',\n",
       " '667',\n",
       " '66n',\n",
       " '67',\n",
       " '677',\n",
       " '68',\n",
       " '68000',\n",
       " '68010',\n",
       " '68040',\n",
       " '68060',\n",
       " '68070',\n",
       " '680x0',\n",
       " '6810',\n",
       " '686',\n",
       " '69',\n",
       " '696',\n",
       " '6th',\n",
       " '6v2',\n",
       " '70',\n",
       " '700',\n",
       " '7000',\n",
       " '702',\n",
       " '703',\n",
       " '7044',\n",
       " '705',\n",
       " '706',\n",
       " '708',\n",
       " '70s',\n",
       " '71',\n",
       " '713',\n",
       " '716',\n",
       " '72',\n",
       " '724',\n",
       " '726',\n",
       " '73',\n",
       " '732',\n",
       " '73237',\n",
       " '733990422',\n",
       " '734849678',\n",
       " '734928689',\n",
       " '735',\n",
       " '74',\n",
       " '7415',\n",
       " '7447',\n",
       " '748',\n",
       " '749',\n",
       " '75',\n",
       " '750',\n",
       " '76',\n",
       " '76203',\n",
       " '763',\n",
       " '767',\n",
       " '768',\n",
       " '77',\n",
       " '78',\n",
       " '786',\n",
       " '78758',\n",
       " '79',\n",
       " '7900',\n",
       " '7968',\n",
       " '79700',\n",
       " '7al',\n",
       " '7mhz',\n",
       " '7qo',\n",
       " '7s1',\n",
       " '7th',\n",
       " '80',\n",
       " '800',\n",
       " '8000',\n",
       " '800x600',\n",
       " '800x600x256',\n",
       " '801',\n",
       " '804',\n",
       " '805',\n",
       " '80s',\n",
       " '81',\n",
       " '8153',\n",
       " '817',\n",
       " '818',\n",
       " '82',\n",
       " '820',\n",
       " '8207',\n",
       " '822',\n",
       " '823',\n",
       " '825',\n",
       " '827',\n",
       " '8298v',\n",
       " '83',\n",
       " '84',\n",
       " '845',\n",
       " '85',\n",
       " '8514',\n",
       " '85721',\n",
       " '86',\n",
       " '8637',\n",
       " '864',\n",
       " '87',\n",
       " '877',\n",
       " '88',\n",
       " '882',\n",
       " '89',\n",
       " '890',\n",
       " '8900',\n",
       " '8900c',\n",
       " '891',\n",
       " '895',\n",
       " '8bit',\n",
       " '90',\n",
       " '900',\n",
       " '9000',\n",
       " '9051467f',\n",
       " '90650',\n",
       " '91',\n",
       " '91109',\n",
       " '914',\n",
       " '916',\n",
       " '919',\n",
       " '92',\n",
       " '92093',\n",
       " '928',\n",
       " '93',\n",
       " '930419',\n",
       " '93108',\n",
       " '933',\n",
       " '934',\n",
       " '93apr20085951',\n",
       " '94',\n",
       " '94039',\n",
       " '94305',\n",
       " '94550',\n",
       " '95',\n",
       " '950',\n",
       " '9585',\n",
       " '96',\n",
       " '9630',\n",
       " '9637',\n",
       " '964',\n",
       " '966',\n",
       " '969',\n",
       " '97',\n",
       " '970',\n",
       " '97231',\n",
       " '975',\n",
       " '9760',\n",
       " '978',\n",
       " '98',\n",
       " '980',\n",
       " '981',\n",
       " '99',\n",
       " '9pl',\n",
       " '_24x_',\n",
       " '__',\n",
       " '___',\n",
       " '____',\n",
       " '_____',\n",
       " '______',\n",
       " '_______',\n",
       " '________',\n",
       " '_______________________________',\n",
       " '____________________________________',\n",
       " '____________________________________________________________________',\n",
       " '_______________________________________________________________________________',\n",
       " '__o',\n",
       " '_a',\n",
       " '_all_',\n",
       " '_animal_',\n",
       " '_are_',\n",
       " '_bad_',\n",
       " '_bashing_',\n",
       " '_believe_',\n",
       " '_body',\n",
       " '_doing_',\n",
       " '_he',\n",
       " '_him_',\n",
       " '_i_',\n",
       " '_in',\n",
       " '_is_',\n",
       " '_just_',\n",
       " '_know_',\n",
       " '_meant_',\n",
       " '_must_',\n",
       " '_no_',\n",
       " '_not_',\n",
       " '_on',\n",
       " '_real_',\n",
       " '_reject_',\n",
       " '_some_',\n",
       " '_source_',\n",
       " '_the',\n",
       " '_they_',\n",
       " '_university_physics_',\n",
       " '_want_',\n",
       " '_what_',\n",
       " '_you_',\n",
       " 'a0000',\n",
       " 'a1200',\n",
       " 'a137490',\n",
       " 'a2i',\n",
       " 'aa',\n",
       " 'aa888',\n",
       " 'aario',\n",
       " 'aaron',\n",
       " 'aaronc',\n",
       " 'ab',\n",
       " 'ab961',\n",
       " 'abad',\n",
       " 'abandon',\n",
       " 'abandoned',\n",
       " 'abc',\n",
       " 'abdominal',\n",
       " 'abduction',\n",
       " 'aberdeen',\n",
       " 'aberrant',\n",
       " 'abiding',\n",
       " 'abilities',\n",
       " 'ability',\n",
       " 'able',\n",
       " 'abnormal',\n",
       " 'abnormalities',\n",
       " 'abo',\n",
       " 'aboard',\n",
       " 'abolish',\n",
       " 'abolished',\n",
       " 'abortion',\n",
       " 'above_',\n",
       " 'abraham',\n",
       " 'absence',\n",
       " 'absent',\n",
       " 'absolute',\n",
       " 'absolutely',\n",
       " 'absolutes',\n",
       " 'absolutist',\n",
       " 'absorbed',\n",
       " 'abstinence',\n",
       " 'abstract',\n",
       " 'abstracts',\n",
       " 'absurd',\n",
       " 'absurdities',\n",
       " 'abundant',\n",
       " 'abuse',\n",
       " 'abused',\n",
       " 'ac',\n",
       " 'acad',\n",
       " 'acad1',\n",
       " 'acad3',\n",
       " 'academia',\n",
       " 'academic',\n",
       " 'academics',\n",
       " 'academy',\n",
       " 'acc',\n",
       " 'accelerator',\n",
       " 'accelerators',\n",
       " 'accept',\n",
       " 'acceptable',\n",
       " 'acceptance',\n",
       " 'accepted',\n",
       " 'accepting',\n",
       " 'accepts',\n",
       " 'access',\n",
       " 'accessible',\n",
       " 'accident',\n",
       " 'accidental',\n",
       " 'accidently',\n",
       " 'accidents',\n",
       " 'acclimatize',\n",
       " 'accompanied',\n",
       " 'accompanying',\n",
       " 'accomplish',\n",
       " 'accomplished',\n",
       " 'accor',\n",
       " 'accord2',\n",
       " 'accordance',\n",
       " 'according',\n",
       " 'accordingly',\n",
       " 'account',\n",
       " 'accountability',\n",
       " 'accountable',\n",
       " 'accounted',\n",
       " 'accounts',\n",
       " 'accumulate',\n",
       " 'accumulated',\n",
       " 'accumulation',\n",
       " 'accupuncture',\n",
       " 'accuracy',\n",
       " 'accurate',\n",
       " 'accurately',\n",
       " 'accusation',\n",
       " 'accusations',\n",
       " 'accuse',\n",
       " 'accused',\n",
       " 'accusing',\n",
       " 'ace',\n",
       " 'ache',\n",
       " 'aches',\n",
       " 'achieve',\n",
       " 'achive',\n",
       " 'acid',\n",
       " 'acidophilous',\n",
       " 'acidophilus',\n",
       " 'acids',\n",
       " 'ack',\n",
       " 'acknowledge',\n",
       " 'acknowledged',\n",
       " 'acknowledgement',\n",
       " 'acknowledging',\n",
       " 'acknowleding',\n",
       " 'acm',\n",
       " 'acne',\n",
       " 'acns',\n",
       " 'acooper',\n",
       " 'acpub',\n",
       " 'acquaintance',\n",
       " 'acquire',\n",
       " 'acquired',\n",
       " 'acquisition',\n",
       " 'acrid',\n",
       " 'acs',\n",
       " 'acsc',\n",
       " 'acsu',\n",
       " 'act',\n",
       " 'acted',\n",
       " 'acting',\n",
       " 'action',\n",
       " 'actions',\n",
       " 'activated',\n",
       " 'active',\n",
       " 'actively',\n",
       " 'activities',\n",
       " 'activity',\n",
       " 'actor',\n",
       " 'actrix',\n",
       " 'acts',\n",
       " 'actual',\n",
       " 'actualization',\n",
       " 'actually',\n",
       " 'acupuncture',\n",
       " 'acupuncturist',\n",
       " 'acutane',\n",
       " 'acute',\n",
       " 'acyclovir',\n",
       " 'ad',\n",
       " 'ad994',\n",
       " 'adagio',\n",
       " 'adam',\n",
       " 'adams',\n",
       " 'adamski',\n",
       " 'adapt',\n",
       " 'adaptation',\n",
       " 'adapted',\n",
       " 'adapting',\n",
       " 'adcs00',\n",
       " 'add',\n",
       " 'adda',\n",
       " 'added',\n",
       " 'addict',\n",
       " 'addiction',\n",
       " 'addictive',\n",
       " 'addicts',\n",
       " 'adding',\n",
       " 'addition',\n",
       " 'additional',\n",
       " 'additionally',\n",
       " 'additions',\n",
       " 'additive',\n",
       " 'additives',\n",
       " 'address',\n",
       " 'addressed',\n",
       " 'addresses',\n",
       " 'addressing',\n",
       " 'aden',\n",
       " 'adept',\n",
       " 'adequate',\n",
       " 'adequately',\n",
       " 'adhere',\n",
       " 'adherents',\n",
       " 'adhering',\n",
       " 'adjust',\n",
       " 'adjustable',\n",
       " 'adjusted',\n",
       " 'adjusting',\n",
       " 'adjustment',\n",
       " 'adjustments',\n",
       " 'admin',\n",
       " 'administer',\n",
       " 'administered',\n",
       " 'administers',\n",
       " 'administration',\n",
       " 'administrative',\n",
       " 'administrator',\n",
       " 'admiration',\n",
       " 'admire',\n",
       " 'admission',\n",
       " 'admissions',\n",
       " 'admit',\n",
       " 'admits',\n",
       " 'admitted',\n",
       " 'admittedly',\n",
       " 'adobe',\n",
       " 'adolescent',\n",
       " 'adopt',\n",
       " 'adopted',\n",
       " 'adopting',\n",
       " 'adoption',\n",
       " 'adorn',\n",
       " 'adrenal',\n",
       " 'adress',\n",
       " 'ads',\n",
       " 'adult',\n",
       " 'adulterous',\n",
       " 'adultery',\n",
       " 'adults',\n",
       " 'advance',\n",
       " 'advanced',\n",
       " 'advancement',\n",
       " 'advances',\n",
       " 'advantage',\n",
       " 'advantages',\n",
       " 'adventists',\n",
       " 'adverse',\n",
       " 'adversely',\n",
       " 'advertised',\n",
       " 'advice',\n",
       " 'advise',\n",
       " 'advised',\n",
       " 'advisory',\n",
       " 'advocacy',\n",
       " 'advocate',\n",
       " 'advocates',\n",
       " 'advocating',\n",
       " 'aesthetic',\n",
       " 'af',\n",
       " 'afar',\n",
       " 'affair',\n",
       " 'affairs',\n",
       " 'affect',\n",
       " 'affected',\n",
       " 'affecting',\n",
       " 'affects',\n",
       " 'affiliated',\n",
       " 'affiliations',\n",
       " 'affirm',\n",
       " 'affirmation',\n",
       " 'affirmed',\n",
       " 'afflicted',\n",
       " 'afford',\n",
       " 'afraid',\n",
       " 'africa',\n",
       " 'african',\n",
       " ...]"
      ]
     },
     "execution_count": 39,
     "metadata": {},
     "output_type": "execute_result"
    }
   ],
   "source": [
    "tfidf_vectorizer.get_feature_names()"
   ]
  },
  {
   "cell_type": "markdown",
   "metadata": {
    "colab_type": "text",
    "id": "tp_fDINJ1t4L"
   },
   "source": [
    "### 10. Use logisticRegression with tfidf features as input and targets as output and train the model and report the train and test accuracy score"
   ]
  },
  {
   "cell_type": "code",
   "execution_count": 40,
   "metadata": {
    "colab": {},
    "colab_type": "code",
    "id": "THlN2b5d1yQp"
   },
   "outputs": [],
   "source": [
    "# import and instantiate a logistic regression model\n",
    "logreg = LogisticRegression()"
   ]
  },
  {
   "cell_type": "code",
   "execution_count": 41,
   "metadata": {},
   "outputs": [
    {
     "data": {
      "text/plain": [
       "LogisticRegression(C=1.0, class_weight=None, dual=False, fit_intercept=True,\n",
       "                   intercept_scaling=1, l1_ratio=None, max_iter=100,\n",
       "                   multi_class='auto', n_jobs=None, penalty='l2',\n",
       "                   random_state=None, solver='lbfgs', tol=0.0001, verbose=0,\n",
       "                   warm_start=False)"
      ]
     },
     "execution_count": 41,
     "metadata": {},
     "output_type": "execute_result"
    }
   ],
   "source": [
    "# train the model using twenty_train_X\n",
    "logreg.fit(twenty_train_X, twenty_train.target)"
   ]
  },
  {
   "cell_type": "code",
   "execution_count": 42,
   "metadata": {},
   "outputs": [],
   "source": [
    "# make class predictions for twenty_train_X\n",
    "twenty_train_predict = logreg.predict(twenty_train_X)"
   ]
  },
  {
   "cell_type": "code",
   "execution_count": 43,
   "metadata": {},
   "outputs": [],
   "source": [
    "# make class predictions for twenty_test_X\n",
    "twenty_test_predict = logreg.predict(twenty_test_X)"
   ]
  },
  {
   "cell_type": "code",
   "execution_count": 44,
   "metadata": {},
   "outputs": [
    {
     "name": "stdout",
     "output_type": "stream",
     "text": [
      "Training Accuracy:  0.9955693398316349\n"
     ]
    }
   ],
   "source": [
    "# calculate accuracy\n",
    "print('Training Accuracy: ', metrics.accuracy_score(twenty_train.target, twenty_train_predict))"
   ]
  },
  {
   "cell_type": "code",
   "execution_count": 45,
   "metadata": {},
   "outputs": [
    {
     "name": "stdout",
     "output_type": "stream",
     "text": [
      "Testing Accuracy:  0.90745672436751\n"
     ]
    }
   ],
   "source": [
    "# calculate accuracy\n",
    "print('Testing Accuracy: ', metrics.accuracy_score(twenty_test.target, twenty_test_predict))"
   ]
  }
 ],
 "metadata": {
  "colab": {
   "collapsed_sections": [],
   "name": "R8_External_Lab_Questions_CIFAR10_Transfer_Learning_TFIDF_Text_Classification.ipynb",
   "provenance": [],
   "version": "0.3.2"
  },
  "kernelspec": {
   "display_name": "Python 3",
   "language": "python",
   "name": "python3"
  },
  "language_info": {
   "codemirror_mode": {
    "name": "ipython",
    "version": 3
   },
   "file_extension": ".py",
   "mimetype": "text/x-python",
   "name": "python",
   "nbconvert_exporter": "python",
   "pygments_lexer": "ipython3",
   "version": "3.7.5"
  }
 },
 "nbformat": 4,
 "nbformat_minor": 1
}
