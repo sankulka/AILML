{
  "nbformat": 4,
  "nbformat_minor": 0,
  "metadata": {
    "colab": {
      "name": "R8_Internal_Lab_ACV_NLP_Question.ipynb",
      "provenance": [],
      "collapsed_sections": []
    },
    "kernelspec": {
      "name": "python3",
      "display_name": "Python 3"
    },
    "language_info": {
      "codemirror_mode": {
        "name": "ipython",
        "version": 3
      },
      "file_extension": ".py",
      "mimetype": "text/x-python",
      "name": "python",
      "nbconvert_exporter": "python",
      "pygments_lexer": "ipython3",
      "version": "3.7.5"
    },
    "accelerator": "GPU"
  },
  "cells": [
    {
      "cell_type": "markdown",
      "metadata": {
        "colab_type": "text",
        "id": "T7kxwViglXkv"
      },
      "source": [
        "# CV and Transfer Learning"
      ]
    },
    {
      "cell_type": "markdown",
      "metadata": {
        "colab_type": "text",
        "id": "OeYGSjUKll8U"
      },
      "source": [
        "Q1. Import tensorflow (2.x Mandatory)\n",
        "\n",
        "*   Import other required libraries"
      ]
    },
    {
      "cell_type": "code",
      "metadata": {
        "colab_type": "code",
        "id": "or2c_abbl8rk",
        "colab": {
          "base_uri": "https://localhost:8080/",
          "height": 34
        },
        "outputId": "130c11c4-b589-47bf-a513-7917355d9df9"
      },
      "source": [
        "%tensorflow_version 2.x\n",
        "import numpy as np\n",
        "from random import randint\n",
        "import tensorflow as tf\n",
        "from sklearn.preprocessing import StandardScaler\n",
        "import matplotlib.pyplot as plt"
      ],
      "execution_count": 1,
      "outputs": [
        {
          "output_type": "stream",
          "text": [
            "TensorFlow 2.x selected.\n"
          ],
          "name": "stdout"
        }
      ]
    },
    {
      "cell_type": "code",
      "metadata": {
        "id": "A9BCHmP-Mp8Y",
        "colab_type": "code",
        "colab": {
          "base_uri": "https://localhost:8080/",
          "height": 34
        },
        "outputId": "7d4f3b5d-e2e3-4394-ba47-446afd59ae14"
      },
      "source": [
        "tf.__version__"
      ],
      "execution_count": 2,
      "outputs": [
        {
          "output_type": "execute_result",
          "data": {
            "text/plain": [
              "'2.1.0'"
            ]
          },
          "metadata": {
            "tags": []
          },
          "execution_count": 2
        }
      ]
    },
    {
      "cell_type": "markdown",
      "metadata": {
        "colab_type": "text",
        "id": "NGrQe1WUl1SZ"
      },
      "source": [
        "Q2. Load CIFAR10 dataset from keras and split into train and test\n",
        "*    Identify shape of x_train and y_train"
      ]
    },
    {
      "cell_type": "code",
      "metadata": {
        "colab_type": "code",
        "id": "ZIA_FBhPminY",
        "colab": {
          "base_uri": "https://localhost:8080/",
          "height": 50
        },
        "outputId": "0104386e-a8aa-4620-f282-0342d750ea97"
      },
      "source": [
        "(trainX, trainY),(testX, testY) = tf.keras.datasets.cifar10.load_data()"
      ],
      "execution_count": 3,
      "outputs": [
        {
          "output_type": "stream",
          "text": [
            "Downloading data from https://www.cs.toronto.edu/~kriz/cifar-10-python.tar.gz\n",
            "170500096/170498071 [==============================] - 2s 0us/step\n"
          ],
          "name": "stdout"
        }
      ]
    },
    {
      "cell_type": "code",
      "metadata": {
        "id": "5tPaRP6FMl3u",
        "colab_type": "code",
        "colab": {
          "base_uri": "https://localhost:8080/",
          "height": 34
        },
        "outputId": "74b0abd9-631c-4d24-dfd8-806cc3d6ec5c"
      },
      "source": [
        "trainX.shape, trainY.shape, testX.shape, testY.shape"
      ],
      "execution_count": 4,
      "outputs": [
        {
          "output_type": "execute_result",
          "data": {
            "text/plain": [
              "((50000, 32, 32, 3), (50000, 1), (10000, 32, 32, 3), (10000, 1))"
            ]
          },
          "metadata": {
            "tags": []
          },
          "execution_count": 4
        }
      ]
    },
    {
      "cell_type": "markdown",
      "metadata": {
        "colab_type": "text",
        "id": "wrk2ohBxmmTx"
      },
      "source": [
        "Q3.\n",
        "\n",
        "*   Transform x_train and x_test on scale of 0-1\n",
        "*   Transform y_train and y_test to categories\n",
        "\n"
      ]
    },
    {
      "cell_type": "code",
      "metadata": {
        "id": "2O2cDXIxMl36",
        "colab_type": "code",
        "colab": {
          "base_uri": "https://localhost:8080/",
          "height": 294
        },
        "outputId": "07da8556-7d7a-40fe-9206-b090cc3f130f"
      },
      "source": [
        "#Let's review the data\n",
        "img_num = np.random.randint(0, testX.shape[0]) #Get a random integer between 0 and number of examples in test dataset\n",
        "plt.imshow(testX[img_num],cmap='gray') #Show the image from test dataset\n",
        "plt.suptitle('Number: ' + str(testY[img_num]))\n",
        "plt.show()"
      ],
      "execution_count": 207,
      "outputs": [
        {
          "output_type": "display_data",
          "data": {
            "image/png": "[encoded data removed]",
            "text/plain": [
              "<Figure size 432x288 with 1 Axes>"
            ]
          },
          "metadata": {
            "tags": []
          }
        }
      ]
    },
    {
      "cell_type": "code",
      "metadata": {
        "id": "dDuAEcTknbo-",
        "colab_type": "code",
        "colab": {}
      },
      "source": [
        ""
      ],
      "execution_count": 0,
      "outputs": []
    },
    {
      "cell_type": "code",
      "metadata": {
        "colab_type": "code",
        "id": "_gFXxAJe41Pe",
        "colab": {}
      },
      "source": [
        "sc = StandardScaler()"
      ],
      "execution_count": 0,
      "outputs": []
    },
    {
      "cell_type": "code",
      "metadata": {
        "id": "HfdsOryJMl4M",
        "colab_type": "code",
        "colab": {}
      },
      "source": [
        "trainX = trainX / 255.0\n",
        "testX = testX / 255.0"
      ],
      "execution_count": 0,
      "outputs": []
    },
    {
      "cell_type": "code",
      "metadata": {
        "id": "7UkCBs9mMl4S",
        "colab_type": "code",
        "colab": {}
      },
      "source": [
        "#Convert labels to one hot encoding\n",
        "trainY = tf.keras.utils.to_categorical(trainY, num_classes=10)\n",
        "testY = tf.keras.utils.to_categorical(testY, num_classes=10)"
      ],
      "execution_count": 0,
      "outputs": []
    },
    {
      "cell_type": "markdown",
      "metadata": {
        "colab_type": "text",
        "id": "MP5j5MhDzuYc"
      },
      "source": [
        "Q4. Import necessary packages required for Model building\n",
        "*   Conv2D, Dense, Flatten, Dropout, MaxPooling2D etc."
      ]
    },
    {
      "cell_type": "markdown",
      "metadata": {
        "colab_type": "text",
        "id": "XQBgmSJdz1fq"
      },
      "source": [
        "Q5. Prepare a CNN\n",
        " \n",
        "*   Which will include above layers\n",
        "*   Freely create your own Architecture and Arguments\n",
        "*   Print Model Summary"
      ]
    },
    {
      "cell_type": "code",
      "metadata": {
        "colab_type": "code",
        "id": "1IXruOry648i",
        "colab": {}
      },
      "source": [
        "#Clear out tensorflow memory\n",
        "tf.keras.backend.clear_session()\n",
        "\n",
        "#Initialize Sequential model\n",
        "model = tf.keras.models.Sequential()\n",
        "\n",
        "#Reshape data from 2D to 1D -> 28x28 to 784\n",
        "model.add(tf.keras.layers.Reshape((32,32,3),input_shape=(32,32,3)))\n",
        "\n",
        "#Normalize the data\n",
        "model.add(tf.keras.layers.BatchNormalization())\n",
        "\n",
        "#Add first convolutional layer\n",
        "model.add(tf.keras.layers.Conv2D(32, kernel_size=(3,3), activation='relu'))\n",
        "\n",
        "#Add second convolutional layer\n",
        "model.add(tf.keras.layers.Conv2D(64, kernel_size=(3,3), activation='relu'))\n",
        "\n",
        "#Add MaxPooling layer\n",
        "model.add(tf.keras.layers.MaxPool2D(pool_size=(2,2)))\n",
        "\n",
        "#Flatten the output\n",
        "model.add(tf.keras.layers.Flatten())\n",
        "\n",
        "#Add another dropout layer\n",
        "model.add(tf.keras.layers.Dropout(0.25))\n",
        "\n",
        "#Output layer\n",
        "model.add(tf.keras.layers.Dense(10, activation='softmax'))"
      ],
      "execution_count": 0,
      "outputs": []
    },
    {
      "cell_type": "markdown",
      "metadata": {
        "colab_type": "text",
        "id": "gyZhZciC0qvw"
      },
      "source": [
        "Q6. Train the CNN\n",
        "\n",
        "*   Compile the model\n",
        "*   Fit the model (10 epochs, 32 batch size)\n",
        "*   Evaluate Model Performance"
      ]
    },
    {
      "cell_type": "code",
      "metadata": {
        "id": "yieo9DDiMl44",
        "colab_type": "code",
        "colab": {}
      },
      "source": [
        "model.compile(optimizer='adam', loss='categorical_crossentropy', metrics=['accuracy'])"
      ],
      "execution_count": 0,
      "outputs": []
    },
    {
      "cell_type": "code",
      "metadata": {
        "id": "DGF3p8sSMl5B",
        "colab_type": "code",
        "colab": {
          "base_uri": "https://localhost:8080/",
          "height": 420
        },
        "outputId": "46382792-dbc4-42de-b586-e6f82dbcc274"
      },
      "source": [
        "model.summary()"
      ],
      "execution_count": 11,
      "outputs": [
        {
          "output_type": "stream",
          "text": [
            "Model: \"sequential\"\n",
            "_________________________________________________________________\n",
            "Layer (type)                 Output Shape              Param #   \n",
            "=================================================================\n",
            "reshape (Reshape)            (None, 32, 32, 3)         0         \n",
            "_________________________________________________________________\n",
            "batch_normalization (BatchNo (None, 32, 32, 3)         12        \n",
            "_________________________________________________________________\n",
            "conv2d (Conv2D)              (None, 30, 30, 32)        896       \n",
            "_________________________________________________________________\n",
            "conv2d_1 (Conv2D)            (None, 28, 28, 64)        18496     \n",
            "_________________________________________________________________\n",
            "max_pooling2d (MaxPooling2D) (None, 14, 14, 64)        0         \n",
            "_________________________________________________________________\n",
            "flatten (Flatten)            (None, 12544)             0         \n",
            "_________________________________________________________________\n",
            "dropout (Dropout)            (None, 12544)             0         \n",
            "_________________________________________________________________\n",
            "dense (Dense)                (None, 10)                125450    \n",
            "=================================================================\n",
            "Total params: 144,854\n",
            "Trainable params: 144,848\n",
            "Non-trainable params: 6\n",
            "_________________________________________________________________\n"
          ],
          "name": "stdout"
        }
      ]
    },
    {
      "cell_type": "code",
      "metadata": {
        "id": "QfzZM3oSMl5H",
        "colab_type": "code",
        "colab": {
          "base_uri": "https://localhost:8080/",
          "height": 386
        },
        "outputId": "3a2ade3d-1363-421b-8149-dd693e69f43a"
      },
      "source": [
        "model.fit(trainX, trainY, validation_data=(testX, testY), epochs=10, batch_size=32)"
      ],
      "execution_count": 12,
      "outputs": [
        {
          "output_type": "stream",
          "text": [
            "Train on 50000 samples, validate on 10000 samples\n",
            "Epoch 1/10\n",
            "50000/50000 [==============================] - 15s 308us/sample - loss: 1.2603 - accuracy: 0.5597 - val_loss: 1.0315 - val_accuracy: 0.6427\n",
            "Epoch 2/10\n",
            "50000/50000 [==============================] - 8s 162us/sample - loss: 0.9473 - accuracy: 0.6717 - val_loss: 0.9342 - val_accuracy: 0.6752\n",
            "Epoch 3/10\n",
            "50000/50000 [==============================] - 8s 158us/sample - loss: 0.8199 - accuracy: 0.7157 - val_loss: 0.8970 - val_accuracy: 0.6941\n",
            "Epoch 4/10\n",
            "50000/50000 [==============================] - 8s 157us/sample - loss: 0.7327 - accuracy: 0.7479 - val_loss: 0.9072 - val_accuracy: 0.6898\n",
            "Epoch 5/10\n",
            "50000/50000 [==============================] - 8s 158us/sample - loss: 0.6653 - accuracy: 0.7688 - val_loss: 0.9218 - val_accuracy: 0.6992\n",
            "Epoch 6/10\n",
            "50000/50000 [==============================] - 8s 159us/sample - loss: 0.6127 - accuracy: 0.7841 - val_loss: 0.9322 - val_accuracy: 0.6958\n",
            "Epoch 7/10\n",
            "50000/50000 [==============================] - 8s 167us/sample - loss: 0.5637 - accuracy: 0.8004 - val_loss: 0.9592 - val_accuracy: 0.6916\n",
            "Epoch 8/10\n",
            "50000/50000 [==============================] - 8s 167us/sample - loss: 0.5353 - accuracy: 0.8108 - val_loss: 0.9700 - val_accuracy: 0.6970\n",
            "Epoch 9/10\n",
            "50000/50000 [==============================] - 8s 164us/sample - loss: 0.4987 - accuracy: 0.8220 - val_loss: 0.9696 - val_accuracy: 0.6995\n",
            "Epoch 10/10\n",
            "50000/50000 [==============================] - 8s 164us/sample - loss: 0.4732 - accuracy: 0.8322 - val_loss: 1.0236 - val_accuracy: 0.6953\n"
          ],
          "name": "stdout"
        },
        {
          "output_type": "execute_result",
          "data": {
            "text/plain": [
              "<tensorflow.python.keras.callbacks.History at 0x7f575002c898>"
            ]
          },
          "metadata": {
            "tags": []
          },
          "execution_count": 12
        }
      ]
    },
    {
      "cell_type": "markdown",
      "metadata": {
        "colab_type": "text",
        "id": "vu_Gno-z11dP"
      },
      "source": [
        "Q7. Import packages required for VGG16\n",
        "\n",
        "*   `tf.keras.application`\n",
        "> VGG16, preprocess_input, decode_predictions\n",
        "*   `tf.keras.preprocessing`\n",
        "> load_img, img_to_array\n",
        "\n"
      ]
    },
    {
      "cell_type": "code",
      "metadata": {
        "colab_type": "code",
        "id": "IVTFoy3B9U35",
        "colab": {}
      },
      "source": [
        "from tensorflow.keras.applications.vgg16 import VGG16, preprocess_input, decode_predictions\n",
        "from tensorflow.keras.preprocessing.image import load_img, img_to_array"
      ],
      "execution_count": 0,
      "outputs": []
    },
    {
      "cell_type": "markdown",
      "metadata": {
        "colab_type": "text",
        "id": "zlfH3ImV2C6i"
      },
      "source": [
        "Q8. Load image\n",
        "\n",
        "\n",
        "*   Mount Google Drive\n",
        "*   Navigate to image location (use `os`)\n",
        "*   Load image and assign a variable (use `load_img`)"
      ]
    },
    {
      "cell_type": "code",
      "metadata": {
        "colab_type": "code",
        "id": "N1QQhRs99UWN",
        "colab": {
          "base_uri": "https://localhost:8080/",
          "height": 34
        },
        "outputId": "76791839-1e44-451e-def1-0265357e2c0e"
      },
      "source": [
        "from google.colab import drive\n",
        "drive.mount('/content/gdrive')"
      ],
      "execution_count": 27,
      "outputs": [
        {
          "output_type": "stream",
          "text": [
            "Mounted at /content/gdrive\n"
          ],
          "name": "stdout"
        }
      ]
    },
    {
      "cell_type": "code",
      "metadata": {
        "id": "35pcnG44Q-D4",
        "colab_type": "code",
        "colab": {}
      },
      "source": [
        "import os\n",
        "os.chdir('/content/gdrive/My Drive/Colab Notebooks/Data')"
      ],
      "execution_count": 0,
      "outputs": []
    },
    {
      "cell_type": "code",
      "metadata": {
        "id": "89EvqbLQSYi8",
        "colab_type": "code",
        "colab": {
          "base_uri": "https://localhost:8080/",
          "height": 241
        },
        "outputId": "2ef93de5-96f1-4d66-bfe9-657d7fb9bc44"
      },
      "source": [
        "image = load_img('surfing.jpg', target_size=(224,224))\n",
        "image"
      ],
      "execution_count": 87,
      "outputs": [
        {
          "output_type": "execute_result",
          "data": {
            "image/png": "[encoded data removed]",
            "text/plain": [
              "<PIL.Image.Image image mode=RGB size=224x224 at 0x7F5732555BA8>"
            ]
          },
          "metadata": {
            "tags": []
          },
          "execution_count": 87
        }
      ]
    },
    {
      "cell_type": "markdown",
      "metadata": {
        "colab_type": "text",
        "id": "0rK0I_E3-tLi"
      },
      "source": [
        "Q9. Preprocess the image\n",
        "\n",
        "\n",
        "*   Convert image into array (use `img_to_array`)\n",
        "*   Check shape of image\n",
        "*   Reshape image into 4 dimensional format (use `reshape`)\n",
        "*   Prepare the image for VGG16 (Use `preprocess_input()`)"
      ]
    },
    {
      "cell_type": "code",
      "metadata": {
        "id": "ImB7_YzcTgS9",
        "colab_type": "code",
        "colab": {
          "base_uri": "https://localhost:8080/",
          "height": 34
        },
        "outputId": "493fcc11-ea88-4d23-b5cc-dc3449203131"
      },
      "source": [
        "model_input = img_to_array(image)\n",
        "model_input.shape"
      ],
      "execution_count": 88,
      "outputs": [
        {
          "output_type": "execute_result",
          "data": {
            "text/plain": [
              "(224, 224, 3)"
            ]
          },
          "metadata": {
            "tags": []
          },
          "execution_count": 88
        }
      ]
    },
    {
      "cell_type": "code",
      "metadata": {
        "id": "eZOrEanrUkIo",
        "colab_type": "code",
        "colab": {
          "base_uri": "https://localhost:8080/",
          "height": 34
        },
        "outputId": "0c567468-11e6-49ef-be5d-0aea878c7514"
      },
      "source": [
        "#Add a dimension to input data to make it a 4D input as required by model\n",
        "model_input = np.expand_dims(model_input, axis=0)\n",
        "#model_input = model_input.reshape(404,550,3,1)\n",
        "model_input.shape"
      ],
      "execution_count": 89,
      "outputs": [
        {
          "output_type": "execute_result",
          "data": {
            "text/plain": [
              "(1, 224, 224, 3)"
            ]
          },
          "metadata": {
            "tags": []
          },
          "execution_count": 89
        }
      ]
    },
    {
      "cell_type": "code",
      "metadata": {
        "id": "j2G8Un8oVKCA",
        "colab_type": "code",
        "colab": {}
      },
      "source": [
        "model_input = tf.keras.applications.vgg16.preprocess_input(model_input)"
      ],
      "execution_count": 0,
      "outputs": []
    },
    {
      "cell_type": "code",
      "metadata": {
        "id": "EdSjfK8SXnVa",
        "colab_type": "code",
        "colab": {
          "base_uri": "https://localhost:8080/",
          "height": 34
        },
        "outputId": "1420bc10-b3ac-4320-e857-60eb9626b492"
      },
      "source": [
        "model_input.shape"
      ],
      "execution_count": 91,
      "outputs": [
        {
          "output_type": "execute_result",
          "data": {
            "text/plain": [
              "(1, 224, 224, 3)"
            ]
          },
          "metadata": {
            "tags": []
          },
          "execution_count": 91
        }
      ]
    },
    {
      "cell_type": "markdown",
      "metadata": {
        "colab_type": "text",
        "id": "L8GCuI6b3VWA"
      },
      "source": [
        "Q10. Predict the Class of image\n",
        "\n",
        "\n",
        "*   Use `predict()` to calculate probabilities (Assign a variable)\n",
        "*   Convert the probabilities to class labels (Use `decode_predictions`)(Assign a variable)\n",
        "*   Print the classification results\n",
        "\n",
        "\n",
        "> Use \n",
        ">*  label = label[0][0]\n",
        ">*   print('%s (%.2f%%)' % (label[1], label[2]*100))\n",
        ">*(where label is variable assigned for `decode_predictions` )\n",
        "\n"
      ]
    },
    {
      "cell_type": "code",
      "metadata": {
        "colab_type": "code",
        "id": "SdpZWegdBy6d",
        "colab": {}
      },
      "source": [
        "#Load VGG Model\n",
        "vgg = tf.keras.applications.vgg16.VGG16(include_top=True, #Should we include classification Layers\n",
        "                                        weights='imagenet', #Load imagenet weights, 'None' will load random weights\n",
        "                                        input_shape=(224,224,3)) #Input image size"
      ],
      "execution_count": 0,
      "outputs": []
    },
    {
      "cell_type": "code",
      "metadata": {
        "id": "ovBjUS3OWxUn",
        "colab_type": "code",
        "colab": {
          "base_uri": "https://localhost:8080/",
          "height": 34
        },
        "outputId": "f3fff7ef-666a-4277-e6f0-8ab52bb8f7ec"
      },
      "source": [
        "#Predict\n",
        "prediction = vgg.predict(model_input)\n",
        "prediction.d"
      ],
      "execution_count": 92,
      "outputs": [
        {
          "output_type": "execute_result",
          "data": {
            "text/plain": [
              "(1, 1000)"
            ]
          },
          "metadata": {
            "tags": []
          },
          "execution_count": 92
        }
      ]
    },
    {
      "cell_type": "code",
      "metadata": {
        "id": "HlYyqiQRZY6l",
        "colab_type": "code",
        "colab": {
          "base_uri": "https://localhost:8080/",
          "height": 50
        },
        "outputId": "201bec55-4390-421d-b11a-469109d60dad"
      },
      "source": [
        "# convert the probabilities to class labels\n",
        "label = decode_predictions(prediction)"
      ],
      "execution_count": 94,
      "outputs": [
        {
          "output_type": "stream",
          "text": [
            "Downloading data from https://storage.googleapis.com/download.tensorflow.org/data/imagenet_class_index.json\n",
            "40960/35363 [==================================] - 0s 0us/step\n"
          ],
          "name": "stdout"
        }
      ]
    },
    {
      "cell_type": "code",
      "metadata": {
        "id": "uepkRK0CZvU1",
        "colab_type": "code",
        "colab": {
          "base_uri": "https://localhost:8080/",
          "height": 34
        },
        "outputId": "e21e8859-3797-4ea4-9793-bf49815b5c3d"
      },
      "source": [
        "label"
      ],
      "execution_count": 96,
      "outputs": [
        {
          "output_type": "execute_result",
          "data": {
            "text/plain": [
              "('n03873416', 'paddle', 0.45588744)"
            ]
          },
          "metadata": {
            "tags": []
          },
          "execution_count": 96
        }
      ]
    },
    {
      "cell_type": "code",
      "metadata": {
        "id": "j_0v5LTwZewp",
        "colab_type": "code",
        "colab": {
          "base_uri": "https://localhost:8080/",
          "height": 34
        },
        "outputId": "62b0d0b9-eee6-4894-8fbb-c80d668931e1"
      },
      "source": [
        "# retrieve the most likely result, e.g. highest probability\n",
        "label = label[0][0]\n",
        "# print the classification\n",
        "print('%s (%.2f%%)' % (label[1], label[2]*100))"
      ],
      "execution_count": 95,
      "outputs": [
        {
          "output_type": "stream",
          "text": [
            "paddle (45.59%)\n"
          ],
          "name": "stdout"
        }
      ]
    },
    {
      "cell_type": "markdown",
      "metadata": {
        "colab_type": "text",
        "id": "KtTaFXdhLeRa"
      },
      "source": [
        "#NLP"
      ]
    },
    {
      "cell_type": "markdown",
      "metadata": {
        "colab_type": "text",
        "id": "BdGoZI6GPiMa"
      },
      "source": [
        "## Question 1"
      ]
    },
    {
      "cell_type": "markdown",
      "metadata": {
        "colab_type": "text",
        "id": "pxuOeh7gLjsg"
      },
      "source": [
        "Read file 'tweets.csv'"
      ]
    },
    {
      "cell_type": "code",
      "metadata": {
        "colab_type": "code",
        "id": "VrBDwzPLOz5M",
        "colab": {}
      },
      "source": [
        "import pandas as pd"
      ],
      "execution_count": 0,
      "outputs": []
    },
    {
      "cell_type": "code",
      "metadata": {
        "id": "WB-uu27Ca0sa",
        "colab_type": "code",
        "colab": {}
      },
      "source": [
        "data = pd.read_csv('tweets.csv', encoding = \"ISO-8859-1\" )"
      ],
      "execution_count": 0,
      "outputs": []
    },
    {
      "cell_type": "markdown",
      "metadata": {
        "colab_type": "text",
        "id": "FGKTjeY0Owyc"
      },
      "source": [
        "**Drop null values**\n",
        "\n",
        "*   Drop all the rows with null values\n",
        "\n",
        "\n"
      ]
    },
    {
      "cell_type": "code",
      "metadata": {
        "colab_type": "code",
        "id": "tCEMFY5BPFWa",
        "colab": {
          "base_uri": "https://localhost:8080/",
          "height": 34
        },
        "outputId": "b69f1cc0-5556-4788-9851-0f550a72fb33"
      },
      "source": [
        "data.shape"
      ],
      "execution_count": 182,
      "outputs": [
        {
          "output_type": "execute_result",
          "data": {
            "text/plain": [
              "(9093, 3)"
            ]
          },
          "metadata": {
            "tags": []
          },
          "execution_count": 182
        }
      ]
    },
    {
      "cell_type": "code",
      "metadata": {
        "id": "N9XOuegoc9vC",
        "colab_type": "code",
        "colab": {}
      },
      "source": [
        "data.dropna(inplace=True)"
      ],
      "execution_count": 0,
      "outputs": []
    },
    {
      "cell_type": "code",
      "metadata": {
        "id": "TkLnZ6u2c9m5",
        "colab_type": "code",
        "colab": {
          "base_uri": "https://localhost:8080/",
          "height": 34
        },
        "outputId": "dc06a061-36e7-4e53-f100-41ff20b3b4c7"
      },
      "source": [
        "data.shape"
      ],
      "execution_count": 184,
      "outputs": [
        {
          "output_type": "execute_result",
          "data": {
            "text/plain": [
              "(3291, 3)"
            ]
          },
          "metadata": {
            "tags": []
          },
          "execution_count": 184
        }
      ]
    },
    {
      "cell_type": "markdown",
      "metadata": {
        "colab_type": "text",
        "id": "JILOg2-0O8t6"
      },
      "source": [
        "**Print the dataframe**\n",
        "*   print initial 5 rows of the data\n"
      ]
    },
    {
      "cell_type": "code",
      "metadata": {
        "colab_type": "code",
        "id": "b6VLTLbtPQKj",
        "colab": {
          "base_uri": "https://localhost:8080/",
          "height": 195
        },
        "outputId": "dd0bcd28-23b6-4e3f-aff3-00a194482758"
      },
      "source": [
        "data.head(5)"
      ],
      "execution_count": 185,
      "outputs": [
        {
          "output_type": "execute_result",
          "data": {
            "text/html": [
              "<div>\n",
              "<style scoped>\n",
              "    .dataframe tbody tr th:only-of-type {\n",
              "        vertical-align: middle;\n",
              "    }\n",
              "\n",
              "    .dataframe tbody tr th {\n",
              "        vertical-align: top;\n",
              "    }\n",
              "\n",
              "    .dataframe thead th {\n",
              "        text-align: right;\n",
              "    }\n",
              "</style>\n",
              "<table border=\"1\" class=\"dataframe\">\n",
              "  <thead>\n",
              "    <tr style=\"text-align: right;\">\n",
              "      <th></th>\n",
              "      <th>tweet_text</th>\n",
              "      <th>emotion_in_tweet_is_directed_at</th>\n",
              "      <th>is_there_an_emotion_directed_at_a_brand_or_product</th>\n",
              "    </tr>\n",
              "  </thead>\n",
              "  <tbody>\n",
              "    <tr>\n",
              "      <th>0</th>\n",
              "      <td>.@wesley83 I have a 3G iPhone. After 3 hrs twe...</td>\n",
              "      <td>iPhone</td>\n",
              "      <td>Negative emotion</td>\n",
              "    </tr>\n",
              "    <tr>\n",
              "      <th>1</th>\n",
              "      <td>@jessedee Know about @fludapp ? Awesome iPad/i...</td>\n",
              "      <td>iPad or iPhone App</td>\n",
              "      <td>Positive emotion</td>\n",
              "    </tr>\n",
              "    <tr>\n",
              "      <th>2</th>\n",
              "      <td>@swonderlin Can not wait for #iPad 2 also. The...</td>\n",
              "      <td>iPad</td>\n",
              "      <td>Positive emotion</td>\n",
              "    </tr>\n",
              "    <tr>\n",
              "      <th>3</th>\n",
              "      <td>@sxsw I hope this year's festival isn't as cra...</td>\n",
              "      <td>iPad or iPhone App</td>\n",
              "      <td>Negative emotion</td>\n",
              "    </tr>\n",
              "    <tr>\n",
              "      <th>4</th>\n",
              "      <td>@sxtxstate great stuff on Fri #SXSW: Marissa M...</td>\n",
              "      <td>Google</td>\n",
              "      <td>Positive emotion</td>\n",
              "    </tr>\n",
              "  </tbody>\n",
              "</table>\n",
              "</div>"
            ],
            "text/plain": [
              "                                          tweet_text  ... is_there_an_emotion_directed_at_a_brand_or_product\n",
              "0  .@wesley83 I have a 3G iPhone. After 3 hrs twe...  ...                                   Negative emotion\n",
              "1  @jessedee Know about @fludapp ? Awesome iPad/i...  ...                                   Positive emotion\n",
              "2  @swonderlin Can not wait for #iPad 2 also. The...  ...                                   Positive emotion\n",
              "3  @sxsw I hope this year's festival isn't as cra...  ...                                   Negative emotion\n",
              "4  @sxtxstate great stuff on Fri #SXSW: Marissa M...  ...                                   Positive emotion\n",
              "\n",
              "[5 rows x 3 columns]"
            ]
          },
          "metadata": {
            "tags": []
          },
          "execution_count": 185
        }
      ]
    },
    {
      "cell_type": "markdown",
      "metadata": {
        "colab_type": "text",
        "id": "gPJR8H6SPQqi"
      },
      "source": [
        "##Question 2"
      ]
    },
    {
      "cell_type": "markdown",
      "metadata": {
        "colab_type": "text",
        "id": "HUX0tTpDQZLo"
      },
      "source": [
        "**Preprocess data**\n",
        "\n",
        "\n",
        "*   convert all text to lowercase - use .lower()\n",
        "*   select only numbers, alphabets, and #+_ from text - use re.sub()\n",
        "*   strip all the text - use .strip() [To remove extra spaces]"
      ]
    },
    {
      "cell_type": "code",
      "metadata": {
        "id": "ZOtu6PWEePSf",
        "colab_type": "code",
        "colab": {}
      },
      "source": [
        "import re"
      ],
      "execution_count": 0,
      "outputs": []
    },
    {
      "cell_type": "code",
      "metadata": {
        "colab_type": "code",
        "id": "YMOoHrcuQzBK",
        "colab": {}
      },
      "source": [
        "data['tweet_text'] = data['tweet_text'].apply(lambda s: re.sub('[^0-9a-z #+_]','',s))\n",
        "data['tweet_text'] = data['tweet_text'].apply(lambda s: s.lower())\n",
        "data['tweet_text'] = data['tweet_text'].str.strip()"
      ],
      "execution_count": 0,
      "outputs": []
    },
    {
      "cell_type": "markdown",
      "metadata": {
        "colab_type": "text",
        "id": "os_is_IoQzbH"
      },
      "source": [
        "## Question 3"
      ]
    },
    {
      "cell_type": "markdown",
      "metadata": {
        "colab_type": "text",
        "id": "tRI31RfMRG40"
      },
      "source": [
        "**Preprocess data**\n",
        "\n",
        "\n",
        "*   in column \"is_there_an_emotion_directed_at_a_brand_or_product\"\n",
        "select only those rows where value equal to \"positive emotion\" or \"negative emotion\"\n",
        "*   find the value counts of \"positive emotion\" and \"negative emotion\"\n",
        "\n",
        "\n",
        "\n"
      ]
    },
    {
      "cell_type": "code",
      "metadata": {
        "colab_type": "code",
        "id": "WkCmfmPPQ7R6",
        "colab": {
          "base_uri": "https://localhost:8080/",
          "height": 67
        },
        "outputId": "38085702-d97c-4404-8531-28e78c2b428f"
      },
      "source": [
        "data.columns"
      ],
      "execution_count": 188,
      "outputs": [
        {
          "output_type": "execute_result",
          "data": {
            "text/plain": [
              "Index(['tweet_text', 'emotion_in_tweet_is_directed_at',\n",
              "       'is_there_an_emotion_directed_at_a_brand_or_product'],\n",
              "      dtype='object')"
            ]
          },
          "metadata": {
            "tags": []
          },
          "execution_count": 188
        }
      ]
    },
    {
      "cell_type": "code",
      "metadata": {
        "id": "bjtjR6n5ed8v",
        "colab_type": "code",
        "colab": {}
      },
      "source": [
        "pos_or_neg_data = data.loc[(data['is_there_an_emotion_directed_at_a_brand_or_product'] == 'Positive emotion') |\n",
        "          (data['is_there_an_emotion_directed_at_a_brand_or_product'] == 'Negative emotion')]"
      ],
      "execution_count": 0,
      "outputs": []
    },
    {
      "cell_type": "code",
      "metadata": {
        "id": "g3GA8Vj5gFJ1",
        "colab_type": "code",
        "colab": {
          "base_uri": "https://localhost:8080/",
          "height": 67
        },
        "outputId": "ff86fdf2-57d5-4768-8cc2-955188707fec"
      },
      "source": [
        "pd.value_counts(pos_or_neg_data.is_there_an_emotion_directed_at_a_brand_or_product)"
      ],
      "execution_count": 190,
      "outputs": [
        {
          "output_type": "execute_result",
          "data": {
            "text/plain": [
              "Positive emotion    2672\n",
              "Negative emotion     519\n",
              "Name: is_there_an_emotion_directed_at_a_brand_or_product, dtype: int64"
            ]
          },
          "metadata": {
            "tags": []
          },
          "execution_count": 190
        }
      ]
    },
    {
      "cell_type": "markdown",
      "metadata": {
        "colab_type": "text",
        "id": "8_L3AabRRZvq"
      },
      "source": [
        "##Question 4"
      ]
    },
    {
      "cell_type": "markdown",
      "metadata": {
        "colab_type": "text",
        "id": "IQMO-RQURdUI"
      },
      "source": [
        "### Encode labels\n",
        "- in column \"is_there_an_emotion_directed_at_a_brand_or_product\"\n",
        "    - change \"positive emotion\" to 1\n",
        "    - change \"negative emotion\" to 0\n",
        "- use map function to replace values"
      ]
    },
    {
      "cell_type": "code",
      "metadata": {
        "colab_type": "code",
        "id": "ec7kw9n1Rjdc",
        "colab": {
          "base_uri": "https://localhost:8080/",
          "height": 118
        },
        "outputId": "b6762754-686d-4272-d273-92b1d5d4af9e"
      },
      "source": [
        "pos_or_neg_data['is_there_an_emotion_directed_at_a_brand_or_product'] = pos_or_neg_data['is_there_an_emotion_directed_at_a_brand_or_product'].map({'Positive emotion': 1, 'Negative emotion': 0})"
      ],
      "execution_count": 191,
      "outputs": [
        {
          "output_type": "stream",
          "text": [
            "/usr/local/lib/python3.6/dist-packages/ipykernel_launcher.py:1: SettingWithCopyWarning: \n",
            "A value is trying to be set on a copy of a slice from a DataFrame.\n",
            "Try using .loc[row_indexer,col_indexer] = value instead\n",
            "\n",
            "See the caveats in the documentation: http://pandas.pydata.org/pandas-docs/stable/user_guide/indexing.html#returning-a-view-versus-a-copy\n",
            "  \"\"\"Entry point for launching an IPython kernel.\n"
          ],
          "name": "stderr"
        }
      ]
    },
    {
      "cell_type": "code",
      "metadata": {
        "id": "K4OkoS2HhgEH",
        "colab_type": "code",
        "colab": {
          "base_uri": "https://localhost:8080/",
          "height": 343
        },
        "outputId": "412afb00-7499-4741-e0f6-2ec7b287aef1"
      },
      "source": [
        "pos_or_neg_data.head(10)"
      ],
      "execution_count": 192,
      "outputs": [
        {
          "output_type": "execute_result",
          "data": {
            "text/html": [
              "<div>\n",
              "<style scoped>\n",
              "    .dataframe tbody tr th:only-of-type {\n",
              "        vertical-align: middle;\n",
              "    }\n",
              "\n",
              "    .dataframe tbody tr th {\n",
              "        vertical-align: top;\n",
              "    }\n",
              "\n",
              "    .dataframe thead th {\n",
              "        text-align: right;\n",
              "    }\n",
              "</style>\n",
              "<table border=\"1\" class=\"dataframe\">\n",
              "  <thead>\n",
              "    <tr style=\"text-align: right;\">\n",
              "      <th></th>\n",
              "      <th>tweet_text</th>\n",
              "      <th>emotion_in_tweet_is_directed_at</th>\n",
              "      <th>is_there_an_emotion_directed_at_a_brand_or_product</th>\n",
              "    </tr>\n",
              "  </thead>\n",
              "  <tbody>\n",
              "    <tr>\n",
              "      <th>0</th>\n",
              "      <td>wesley83  have a 3 ihone fter 3 hrs tweeting a...</td>\n",
              "      <td>iPhone</td>\n",
              "      <td>0</td>\n",
              "    </tr>\n",
              "    <tr>\n",
              "      <th>1</th>\n",
              "      <td>jessedee now about fludapp  wesome iadihone ap...</td>\n",
              "      <td>iPad or iPhone App</td>\n",
              "      <td>1</td>\n",
              "    </tr>\n",
              "    <tr>\n",
              "      <th>2</th>\n",
              "      <td>swonderlin an not wait for #iad 2 also hey sho...</td>\n",
              "      <td>iPad</td>\n",
              "      <td>1</td>\n",
              "    </tr>\n",
              "    <tr>\n",
              "      <th>3</th>\n",
              "      <td>sxsw  hope this years festival isnt as crashy ...</td>\n",
              "      <td>iPad or iPhone App</td>\n",
              "      <td>0</td>\n",
              "    </tr>\n",
              "    <tr>\n",
              "      <th>4</th>\n",
              "      <td>sxtxstate great stuff on ri # arissa ayer oogl...</td>\n",
              "      <td>Google</td>\n",
              "      <td>1</td>\n",
              "    </tr>\n",
              "    <tr>\n",
              "      <th>7</th>\n",
              "      <td># is just starting # is around the corner and ...</td>\n",
              "      <td>Android</td>\n",
              "      <td>1</td>\n",
              "    </tr>\n",
              "    <tr>\n",
              "      <th>8</th>\n",
              "      <td>eautifully smart and simple idea  madebymany t...</td>\n",
              "      <td>iPad or iPhone App</td>\n",
              "      <td>1</td>\n",
              "    </tr>\n",
              "    <tr>\n",
              "      <th>9</th>\n",
              "      <td>ounting down the days to #sxsw plus strong ana...</td>\n",
              "      <td>Apple</td>\n",
              "      <td>1</td>\n",
              "    </tr>\n",
              "    <tr>\n",
              "      <th>10</th>\n",
              "      <td>xcited to meet the samsungmobileus at #sxsw so...</td>\n",
              "      <td>Android</td>\n",
              "      <td>1</td>\n",
              "    </tr>\n",
              "    <tr>\n",
              "      <th>11</th>\n",
              "      <td>ind amp tart mpromptu arties at # ith urricane...</td>\n",
              "      <td>Android App</td>\n",
              "      <td>1</td>\n",
              "    </tr>\n",
              "  </tbody>\n",
              "</table>\n",
              "</div>"
            ],
            "text/plain": [
              "                                           tweet_text  ... is_there_an_emotion_directed_at_a_brand_or_product\n",
              "0   wesley83  have a 3 ihone fter 3 hrs tweeting a...  ...                                                  0\n",
              "1   jessedee now about fludapp  wesome iadihone ap...  ...                                                  1\n",
              "2   swonderlin an not wait for #iad 2 also hey sho...  ...                                                  1\n",
              "3   sxsw  hope this years festival isnt as crashy ...  ...                                                  0\n",
              "4   sxtxstate great stuff on ri # arissa ayer oogl...  ...                                                  1\n",
              "7   # is just starting # is around the corner and ...  ...                                                  1\n",
              "8   eautifully smart and simple idea  madebymany t...  ...                                                  1\n",
              "9   ounting down the days to #sxsw plus strong ana...  ...                                                  1\n",
              "10  xcited to meet the samsungmobileus at #sxsw so...  ...                                                  1\n",
              "11  ind amp tart mpromptu arties at # ith urricane...  ...                                                  1\n",
              "\n",
              "[10 rows x 3 columns]"
            ]
          },
          "metadata": {
            "tags": []
          },
          "execution_count": 192
        }
      ]
    },
    {
      "cell_type": "markdown",
      "metadata": {
        "colab_type": "text",
        "id": "UIy_xlRbRj_H"
      },
      "source": [
        "## Question 5"
      ]
    },
    {
      "cell_type": "markdown",
      "metadata": {
        "colab_type": "text",
        "id": "nKuiAcwhRmhz"
      },
      "source": [
        "### Get feature and label\n",
        "- get column \"tweet_text\" as feature\n",
        "- get column \"is_there_an_emotion_directed_at_a_brand_or_product\" as label"
      ]
    },
    {
      "cell_type": "code",
      "metadata": {
        "colab_type": "code",
        "id": "NV3WlXurRokY",
        "colab": {}
      },
      "source": [
        "X = pos_or_neg_data.tweet_text\n",
        "y = pos_or_neg_data.is_there_an_emotion_directed_at_a_brand_or_product"
      ],
      "execution_count": 0,
      "outputs": []
    },
    {
      "cell_type": "markdown",
      "metadata": {
        "colab_type": "text",
        "id": "1F4UCW9IRpWL"
      },
      "source": [
        "### Create train and test data\n",
        "- use train_test_split to get train and test set\n",
        "- set a random_state\n",
        "- test_size: 0.25"
      ]
    },
    {
      "cell_type": "code",
      "metadata": {
        "id": "XUcDl1AWkOIS",
        "colab_type": "code",
        "colab": {}
      },
      "source": [
        "from sklearn.model_selection import train_test_split"
      ],
      "execution_count": 0,
      "outputs": []
    },
    {
      "cell_type": "code",
      "metadata": {
        "colab_type": "code",
        "id": "BWF9LBDGRsKy",
        "colab": {}
      },
      "source": [
        "X_train, X_test, y_train, y_test = train_test_split(X, y, test_size=0.25, random_state=42)"
      ],
      "execution_count": 0,
      "outputs": []
    },
    {
      "cell_type": "markdown",
      "metadata": {
        "colab_type": "text",
        "id": "kM4xxNXYRsq-"
      },
      "source": [
        "## Question 6\n",
        "\n",
        "### Vectorize data\n",
        "- create document-term matrix\n",
        "- use CountVectorizer()\n",
        "    - ngram_range: (1, 2)\n",
        "    - stop_words: 'english'\n",
        "    - min_df: 2   \n",
        "- do fit_transform on X_train\n",
        "- do transform on X_test"
      ]
    },
    {
      "cell_type": "code",
      "metadata": {
        "colab_type": "code",
        "id": "v1l9btlNRwfR",
        "colab": {}
      },
      "source": [
        "# import and instantiate CountVectorizer (with the default parameters)\n",
        "from sklearn.feature_extraction.text import CountVectorizer\n",
        "vect = CountVectorizer(ngram_range=(1, 2), stop_words='english', min_df=2)"
      ],
      "execution_count": 0,
      "outputs": []
    },
    {
      "cell_type": "code",
      "metadata": {
        "id": "DotOh085koDd",
        "colab_type": "code",
        "colab": {}
      },
      "source": [
        "X_train = vect.fit_transform(X_train)\n",
        "X_test = vect.transform(X_test)"
      ],
      "execution_count": 0,
      "outputs": []
    },
    {
      "cell_type": "markdown",
      "metadata": {
        "colab_type": "text",
        "id": "O6AzeV5ZRxZD"
      },
      "source": [
        "## Question 7\n",
        "\n",
        "### Select classifier logistic regression\n",
        "- use logistic regression for predicting sentiment of the given tweet\n",
        "- initialize classifier"
      ]
    },
    {
      "cell_type": "code",
      "metadata": {
        "colab_type": "code",
        "id": "6rb4NWC5R0lV",
        "colab": {}
      },
      "source": [
        "# import and instantiate a logistic regression model\n",
        "from sklearn.linear_model import LogisticRegression\n",
        "logreg = LogisticRegression()"
      ],
      "execution_count": 0,
      "outputs": []
    },
    {
      "cell_type": "markdown",
      "metadata": {
        "colab_type": "text",
        "id": "dnIVaronR1MS"
      },
      "source": [
        "### Fit the classifer\n",
        "- fit logistic regression classifier"
      ]
    },
    {
      "cell_type": "code",
      "metadata": {
        "colab_type": "code",
        "id": "-fwF08J2R4Og",
        "colab": {
          "base_uri": "https://localhost:8080/",
          "height": 101
        },
        "outputId": "e82c26f5-aa1e-448a-d92a-590346599267"
      },
      "source": [
        "logreg.fit(X_train, y_train)"
      ],
      "execution_count": 199,
      "outputs": [
        {
          "output_type": "execute_result",
          "data": {
            "text/plain": [
              "LogisticRegression(C=1.0, class_weight=None, dual=False, fit_intercept=True,\n",
              "                   intercept_scaling=1, l1_ratio=None, max_iter=100,\n",
              "                   multi_class='auto', n_jobs=None, penalty='l2',\n",
              "                   random_state=None, solver='lbfgs', tol=0.0001, verbose=0,\n",
              "                   warm_start=False)"
            ]
          },
          "metadata": {
            "tags": []
          },
          "execution_count": 199
        }
      ]
    },
    {
      "cell_type": "markdown",
      "metadata": {
        "colab_type": "text",
        "id": "Q7k4abGDR4oR"
      },
      "source": [
        "## Question 8\n",
        "\n",
        "### Select classifier naive bayes\n",
        "- use naive bayes for predicting sentiment of the given tweet\n",
        "- initialize classifier\n",
        "- use MultinomialNB"
      ]
    },
    {
      "cell_type": "code",
      "metadata": {
        "colab_type": "code",
        "id": "hiWWDTj8R8b9",
        "colab": {}
      },
      "source": [
        "# import and instantiate a MultinomialNB model\n",
        "from sklearn.naive_bayes import MultinomialNB\n",
        "multinom = MultinomialNB()"
      ],
      "execution_count": 0,
      "outputs": []
    },
    {
      "cell_type": "markdown",
      "metadata": {
        "colab_type": "text",
        "id": "yONFSFc_R9FF"
      },
      "source": [
        "### Fit the classifer\n",
        "- fit naive bayes classifier"
      ]
    },
    {
      "cell_type": "code",
      "metadata": {
        "colab_type": "code",
        "id": "HPFTYhNBSA1N",
        "colab": {
          "base_uri": "https://localhost:8080/",
          "height": 34
        },
        "outputId": "1b6c6df9-0a46-40f7-eaf2-14980fa0f78c"
      },
      "source": [
        "multinom.fit(X_train, y_train)"
      ],
      "execution_count": 201,
      "outputs": [
        {
          "output_type": "execute_result",
          "data": {
            "text/plain": [
              "MultinomialNB(alpha=1.0, class_prior=None, fit_prior=True)"
            ]
          },
          "metadata": {
            "tags": []
          },
          "execution_count": 201
        }
      ]
    },
    {
      "cell_type": "markdown",
      "metadata": {
        "colab_type": "text",
        "id": "fSTMQEVhSJ04"
      },
      "source": [
        "## Question 9\n",
        "\n",
        "### Make predictions on logistic regression\n",
        "- use your trained logistic regression model to make predictions on X_test"
      ]
    },
    {
      "cell_type": "code",
      "metadata": {
        "colab_type": "code",
        "id": "tb4xte6vSVas",
        "colab": {}
      },
      "source": [
        "log_predict = logreg.predict(X_test)"
      ],
      "execution_count": 0,
      "outputs": []
    },
    {
      "cell_type": "markdown",
      "metadata": {
        "colab_type": "text",
        "id": "WZqjZJiXR_6x"
      },
      "source": [
        "### Make predictions on naive bayes\n",
        "- use your trained naive bayes model to make predictions on X_test\n",
        "- use a different variable name to store predictions so that they are kept separately"
      ]
    },
    {
      "cell_type": "code",
      "metadata": {
        "colab_type": "code",
        "id": "FoClZXgTSVAq",
        "colab": {}
      },
      "source": [
        "multinom_predict = multinom.predict(X_test)"
      ],
      "execution_count": 0,
      "outputs": []
    },
    {
      "cell_type": "markdown",
      "metadata": {
        "colab_type": "text",
        "id": "kHZ_D-zsSXR7"
      },
      "source": [
        "## Question 10\n",
        "\n",
        "### Calculate accuracy of logistic regression\n",
        "- check accuracy of logistic regression classifer\n",
        "- use sklearn.metrics.accuracy_score"
      ]
    },
    {
      "cell_type": "code",
      "metadata": {
        "id": "dxIid2hWmReE",
        "colab_type": "code",
        "colab": {}
      },
      "source": [
        "# calculate accuracy of class predictions\n",
        "from sklearn import metrics"
      ],
      "execution_count": 0,
      "outputs": []
    },
    {
      "cell_type": "code",
      "metadata": {
        "colab_type": "code",
        "id": "J1luBwomSZ7w",
        "colab": {
          "base_uri": "https://localhost:8080/",
          "height": 34
        },
        "outputId": "810fa645-717c-4d75-ee6d-70b1cbb32993"
      },
      "source": [
        "metrics.accuracy_score(y_test, log_predict)"
      ],
      "execution_count": 205,
      "outputs": [
        {
          "output_type": "execute_result",
          "data": {
            "text/plain": [
              "0.8671679197994987"
            ]
          },
          "metadata": {
            "tags": []
          },
          "execution_count": 205
        }
      ]
    },
    {
      "cell_type": "markdown",
      "metadata": {
        "colab_type": "text",
        "id": "Mc9l9vNbSas-"
      },
      "source": [
        "### Calculate accuracy of naive bayes\n",
        "- check accuracy of naive bayes classifer\n",
        "- use sklearn.metrics.accuracy_score"
      ]
    },
    {
      "cell_type": "code",
      "metadata": {
        "colab_type": "code",
        "id": "xvfXGyPNSdC5",
        "colab": {
          "base_uri": "https://localhost:8080/",
          "height": 34
        },
        "outputId": "7a31b8e9-6985-4782-bcbf-f1f7d6a1264c"
      },
      "source": [
        "metrics.accuracy_score(y_test, multinom_predict)"
      ],
      "execution_count": 206,
      "outputs": [
        {
          "output_type": "execute_result",
          "data": {
            "text/plain": [
              "0.8558897243107769"
            ]
          },
          "metadata": {
            "tags": []
          },
          "execution_count": 206
        }
      ]
    }
  ]
}