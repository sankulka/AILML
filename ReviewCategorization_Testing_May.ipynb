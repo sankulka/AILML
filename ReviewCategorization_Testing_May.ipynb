{
  "nbformat": 4,
  "nbformat_minor": 0,
  "metadata": {
    "kernelspec": {
      "display_name": "Python 3",
      "language": "python",
      "name": "python3"
    },
    "language_info": {
      "codemirror_mode": {
        "name": "ipython",
        "version": 3
      },
      "file_extension": ".py",
      "mimetype": "text/x-python",
      "name": "python",
      "nbconvert_exporter": "python",
      "pygments_lexer": "ipython3",
      "version": "3.7.5"
    },
    "colab": {
      "name": "ReviewCategorization-Testing-May.ipynb",
      "provenance": []
    }
  },
  "cells": [
    {
      "cell_type": "code",
      "metadata": {
        "id": "9XSNzUy7oCaX",
        "colab_type": "code",
        "colab": {}
      },
      "source": [
        "import re\n",
        "import pickle\n",
        "import pandas as pd\n",
        "import numpy as np\n",
        "from datetime import date\n",
        "\n",
        "import nltk\n",
        "from nltk.corpus import stopwords\n",
        "\n",
        "import spacy\n",
        "from spacy.lang.en import English\n",
        "\n",
        "import gensim\n",
        "from gensim import corpora\n",
        "from sklearn.feature_extraction.text import CountVectorizer\n",
        "from sklearn.feature_extraction.text import TfidfVectorizer\n"
      ],
      "execution_count": null,
      "outputs": []
    },
    {
      "cell_type": "markdown",
      "metadata": {
        "id": "IkKlNTr1oCal",
        "colab_type": "text"
      },
      "source": [
        "### Pre-requisite Utilties"
      ]
    },
    {
      "cell_type": "code",
      "metadata": {
        "id": "p1ATafxdoCan",
        "colab_type": "code",
        "colab": {}
      },
      "source": [
        "nlp = spacy.load('en')"
      ],
      "execution_count": null,
      "outputs": []
    },
    {
      "cell_type": "code",
      "metadata": {
        "id": "ZOzOX_OIoCay",
        "colab_type": "code",
        "colab": {},
        "outputId": "5e85deab-d9bb-477c-fb0f-c6a0c4ef3c47"
      },
      "source": [
        "nltk.download('stopwords')"
      ],
      "execution_count": null,
      "outputs": [
        {
          "output_type": "stream",
          "text": [
            "[nltk_data] Error loading stopwords: <urlopen error [Errno 11001]\n",
            "[nltk_data]     getaddrinfo failed>\n"
          ],
          "name": "stderr"
        },
        {
          "output_type": "execute_result",
          "data": {
            "text/plain": [
              "False"
            ]
          },
          "metadata": {
            "tags": []
          },
          "execution_count": 3
        }
      ]
    },
    {
      "cell_type": "code",
      "metadata": {
        "id": "tLR849BUoCbA",
        "colab_type": "code",
        "colab": {}
      },
      "source": [
        "stop_words = nltk.corpus.stopwords.words('english')\n",
        "stop_words_dict = open('Data/stop-words-dict.txt', 'r').read().splitlines()\n",
        "stop_words.extend(stop_words_dict)"
      ],
      "execution_count": null,
      "outputs": []
    },
    {
      "cell_type": "code",
      "metadata": {
        "id": "89C5Zx0ooCbK",
        "colab_type": "code",
        "colab": {}
      },
      "source": [
        "today = date.today()"
      ],
      "execution_count": null,
      "outputs": []
    },
    {
      "cell_type": "code",
      "metadata": {
        "id": "1G0H6-YXoCbU",
        "colab_type": "code",
        "colab": {}
      },
      "source": [
        "testing_name = \"testing-data-\" + str(today)\n",
        "#vectorizer_name = \"vectorizer-\" + str(today)\n",
        "#dictionary_name = \"dictionary-\" + str(today) + \".txt\"\n",
        "vectorizer_name = \"vectorizer-\" + \"2020-05-17\"\n",
        "dictionary_name = \"dictionary-\" + \"2020-05-17\" + \".txt\""
      ],
      "execution_count": null,
      "outputs": []
    },
    {
      "cell_type": "markdown",
      "metadata": {
        "id": "3cwxKtjpoCbg",
        "colab_type": "text"
      },
      "source": [
        "## Retrieve the save Vectorizer Model and Dictionary"
      ]
    },
    {
      "cell_type": "code",
      "metadata": {
        "id": "Ix37KwHboCbi",
        "colab_type": "code",
        "colab": {}
      },
      "source": [
        "vectorizer_model = open(\"Data/\" + vectorizer_name, \"rb\")\n",
        "vectorizer = pickle.load(vectorizer_model)\n",
        "vectorizer_model.close()"
      ],
      "execution_count": null,
      "outputs": []
    },
    {
      "cell_type": "code",
      "metadata": {
        "id": "ysAhO9MloCb0",
        "colab_type": "code",
        "colab": {}
      },
      "source": [
        "dictionary_model = open(\"Data/\" + dictionary_name, \"r\")\n",
        "feature_names = dictionary_model.read().splitlines()\n",
        "dictionary_model.close()"
      ],
      "execution_count": null,
      "outputs": []
    },
    {
      "cell_type": "code",
      "metadata": {
        "id": "bMYAAKcdoCcA",
        "colab_type": "code",
        "colab": {}
      },
      "source": [
        "#data_file = \"B078L78Y8Q-reviews\" #1000\n",
        "#data_file = \"B06Y5FYDPP-reviews\" #305\n",
        "#data_file = \"B01F9980XK-reviews\" #981\n",
        "data_file = \"B079L5PW79-reviews\" #727\n",
        "#data_file = \"B07JXZ9KDQ-reviews_Furniture_Table\" #TestingFurniture"
      ],
      "execution_count": null,
      "outputs": []
    },
    {
      "cell_type": "code",
      "metadata": {
        "id": "0s351uvjoCcL",
        "colab_type": "code",
        "colab": {}
      },
      "source": [
        "data_raw = pd.read_csv(\"Data/\" + data_file + \".csv\", index_col=0)"
      ],
      "execution_count": null,
      "outputs": []
    },
    {
      "cell_type": "code",
      "metadata": {
        "id": "-qx53nhWoCcU",
        "colab_type": "code",
        "colab": {},
        "outputId": "b628b563-1c8a-4737-efc6-f52dbad93a71"
      },
      "source": [
        "data_raw.head()"
      ],
      "execution_count": null,
      "outputs": [
        {
          "output_type": "execute_result",
          "data": {
            "text/html": [
              "<div>\n",
              "<style scoped>\n",
              "    .dataframe tbody tr th:only-of-type {\n",
              "        vertical-align: middle;\n",
              "    }\n",
              "\n",
              "    .dataframe tbody tr th {\n",
              "        vertical-align: top;\n",
              "    }\n",
              "\n",
              "    .dataframe thead th {\n",
              "        text-align: right;\n",
              "    }\n",
              "</style>\n",
              "<table border=\"1\" class=\"dataframe\">\n",
              "  <thead>\n",
              "    <tr style=\"text-align: right;\">\n",
              "      <th></th>\n",
              "      <th>review_author</th>\n",
              "      <th>review_header</th>\n",
              "      <th>review_helpful</th>\n",
              "      <th>review_posted_date</th>\n",
              "      <th>review_rating</th>\n",
              "      <th>review_text</th>\n",
              "    </tr>\n",
              "  </thead>\n",
              "  <tbody>\n",
              "    <tr>\n",
              "      <th>0</th>\n",
              "      <td>Divya rekha reddy</td>\n",
              "      <td>I like it but size was too big</td>\n",
              "      <td>NaN</td>\n",
              "      <td>26 February 2020</td>\n",
              "      <td>3.0 out of 5 stars</td>\n",
              "      <td>It was too big</td>\n",
              "    </tr>\n",
              "    <tr>\n",
              "      <th>1</th>\n",
              "      <td>Amazon Customer</td>\n",
              "      <td>Awesome</td>\n",
              "      <td>NaN</td>\n",
              "      <td>26 February 2020</td>\n",
              "      <td>5.0 out of 5 stars</td>\n",
              "      <td>Good product</td>\n",
              "    </tr>\n",
              "    <tr>\n",
              "      <th>2</th>\n",
              "      <td>Kanchan Sharma</td>\n",
              "      <td>The best</td>\n",
              "      <td>NaN</td>\n",
              "      <td>26 February 2020</td>\n",
              "      <td>5.0 out of 5 stars</td>\n",
              "      <td>Ohh my god what a ring\\nIts durable its gorgeo...</td>\n",
              "    </tr>\n",
              "    <tr>\n",
              "      <th>3</th>\n",
              "      <td>Sijin T Thankachan</td>\n",
              "      <td>NOT SATISFIED</td>\n",
              "      <td>NaN</td>\n",
              "      <td>21 February 2020</td>\n",
              "      <td>1.0 out of 5 stars</td>\n",
              "      <td>DELIVERED LARGER SIZE AND NOT IN GOOD QUALITY</td>\n",
              "    </tr>\n",
              "    <tr>\n",
              "      <th>4</th>\n",
              "      <td>Sudip D.</td>\n",
              "      <td>Nice product.</td>\n",
              "      <td>NaN</td>\n",
              "      <td>19 February 2020</td>\n",
              "      <td>4.0 out of 5 stars</td>\n",
              "      <td>Good, but, size is too short.</td>\n",
              "    </tr>\n",
              "  </tbody>\n",
              "</table>\n",
              "</div>"
            ],
            "text/plain": [
              "        review_author                   review_header review_helpful  \\\n",
              "0   Divya rekha reddy  I like it but size was too big            NaN   \n",
              "1     Amazon Customer                         Awesome            NaN   \n",
              "2      Kanchan Sharma                        The best            NaN   \n",
              "3  Sijin T Thankachan                   NOT SATISFIED            NaN   \n",
              "4            Sudip D.                   Nice product.            NaN   \n",
              "\n",
              "  review_posted_date       review_rating  \\\n",
              "0   26 February 2020  3.0 out of 5 stars   \n",
              "1   26 February 2020  5.0 out of 5 stars   \n",
              "2   26 February 2020  5.0 out of 5 stars   \n",
              "3   21 February 2020  1.0 out of 5 stars   \n",
              "4   19 February 2020  4.0 out of 5 stars   \n",
              "\n",
              "                                         review_text  \n",
              "0                                     It was too big  \n",
              "1                                       Good product  \n",
              "2  Ohh my god what a ring\\nIts durable its gorgeo...  \n",
              "3      DELIVERED LARGER SIZE AND NOT IN GOOD QUALITY  \n",
              "4                      Good, but, size is too short.  "
            ]
          },
          "metadata": {
            "tags": []
          },
          "execution_count": 11
        }
      ]
    },
    {
      "cell_type": "code",
      "metadata": {
        "id": "jJrgeGCRoCcl",
        "colab_type": "code",
        "colab": {}
      },
      "source": [
        "data_raw['review_rating'] = data_raw.apply(lambda row: row.review_rating.split(' ')[0], axis=1)\n",
        "data_raw['review_rating'] = pd.to_numeric(data_raw['review_rating']).astype(int)\n",
        "data_raw.loc[data_raw.review_text.isnull(), 'review_text'] = \"\""
      ],
      "execution_count": null,
      "outputs": []
    },
    {
      "cell_type": "code",
      "metadata": {
        "id": "QcVgc2dEoCcw",
        "colab_type": "code",
        "colab": {}
      },
      "source": [
        "data = data_raw.copy()"
      ],
      "execution_count": null,
      "outputs": []
    },
    {
      "cell_type": "code",
      "metadata": {
        "id": "mcXK7IwjoCdF",
        "colab_type": "code",
        "colab": {}
      },
      "source": [
        "data['review_header'] = data['review_header'].apply(lambda row: str(row).lower())\n",
        "data['review_text'] = data['review_text'].apply(lambda row: str(row).lower())"
      ],
      "execution_count": null,
      "outputs": []
    },
    {
      "cell_type": "code",
      "metadata": {
        "id": "1164Ndy_oCdN",
        "colab_type": "code",
        "colab": {}
      },
      "source": [
        "full_review = []\n",
        "for index, row in data.iterrows():\n",
        "    review = row.review_header + \" \" + row.review_text\n",
        "    full_review.append(review)"
      ],
      "execution_count": null,
      "outputs": []
    },
    {
      "cell_type": "code",
      "metadata": {
        "id": "YuHnwgrNoCdY",
        "colab_type": "code",
        "colab": {}
      },
      "source": [
        "data['keywords'] = full_review"
      ],
      "execution_count": null,
      "outputs": []
    },
    {
      "cell_type": "code",
      "metadata": {
        "id": "8BQximpXoCdj",
        "colab_type": "code",
        "colab": {}
      },
      "source": [
        "data.drop(columns=['review_author', 'review_header', 'review_helpful', 'review_posted_date', 'review_text'], axis=1, inplace=True)"
      ],
      "execution_count": null,
      "outputs": []
    },
    {
      "cell_type": "code",
      "metadata": {
        "id": "N5tcuNCnoCdv",
        "colab_type": "code",
        "colab": {}
      },
      "source": [
        "# Convert to list\n",
        "review_text = data.keywords.values.tolist()\n",
        "# Remove Emails\n",
        "review_text = [re.sub(r\"\\S*@\\S*\\s?\", \" \", text) for text in review_text]\n",
        "# Remove new line characters\n",
        "review_text = [re.sub(r\"\\s+\", \" \", text) for text in review_text]\n",
        "# Remove distracting single quotes\n",
        "review_text = [re.sub(r\"\\'\", \"\", text) for text in review_text]\n",
        "# Remove all the special characters\n",
        "review_text = [re.sub(r\"\\W\", \" \", text) for text in review_text]\n",
        "# Remove all single characters\n",
        "review_text = [re.sub(r\"\\s+\\S\\s+\", \" \", text) for text in review_text]\n",
        "# Remove single characters from the start\n",
        "review_text = [re.sub(r\"^[a-zA-Z]\\s+\", \"\", text) for text in review_text]\n",
        "# Substituting multiple spaces with single space\n",
        "review_text = [re.sub(r\"\\s+\", \" \", text, flags=re.I) for text in review_text]"
      ],
      "execution_count": null,
      "outputs": []
    },
    {
      "cell_type": "code",
      "metadata": {
        "id": "43XEfVtcoCd5",
        "colab_type": "code",
        "colab": {}
      },
      "source": [
        "#review_text"
      ],
      "execution_count": null,
      "outputs": []
    },
    {
      "cell_type": "code",
      "metadata": {
        "id": "SMvrKKAQoCeB",
        "colab_type": "code",
        "colab": {}
      },
      "source": [
        "spell_dict = pd.read_csv('Data/spell-dict.csv', index_col=0, header=0)"
      ],
      "execution_count": null,
      "outputs": []
    },
    {
      "cell_type": "code",
      "metadata": {
        "id": "IryalKuDoCeM",
        "colab_type": "code",
        "colab": {}
      },
      "source": [
        "# Given a list of words and a number n, return a lis of n-grams.\n",
        "#Short version\n",
        "#def getNGrams(wordlist, n):\n",
        "#    return [wordlist[i:i+n] for i in range(len(wordlist)-(n-1))]\n",
        "\n",
        "#Long version\n",
        "def getNGrams(wordlist, n):\n",
        "    ngrams = []\n",
        "    for i in range(len(wordlist)-(n-1)):\n",
        "        #ngrams.append(wordlist[i:i+n])\n",
        "        gram = \" \".join(wordlist[i:i+n])\n",
        "        ngrams.append(gram)\n",
        "    return ngrams"
      ],
      "execution_count": null,
      "outputs": []
    },
    {
      "cell_type": "code",
      "metadata": {
        "id": "Iww2rMtSoCea",
        "colab_type": "code",
        "colab": {}
      },
      "source": [
        "lines = []\n",
        "for line in review_text:\n",
        "    row = line\n",
        "    for grams in getNGrams(line.split(\" \"), 1):\n",
        "        if grams in spell_dict.index:\n",
        "            corrected = spell_dict.loc[grams,'correction']\n",
        "            row = row.replace(grams, corrected)\n",
        "\n",
        "    for grams in getNGrams(row.split(\" \"), 3):\n",
        "        if grams in spell_dict.index:\n",
        "            corrected = spell_dict.loc[grams,'correction']\n",
        "            row = row.replace(grams, corrected)\n",
        "            \n",
        "    for grams in getNGrams(row.split(\" \"), 2):\n",
        "        if grams in spell_dict.index:\n",
        "            corrected = spell_dict.loc[grams,'correction']\n",
        "            row = row.replace(grams, corrected)\n",
        "            \n",
        "    lines.append(row)\n",
        "review_text = lines"
      ],
      "execution_count": null,
      "outputs": []
    },
    {
      "cell_type": "code",
      "metadata": {
        "id": "L4pZj9YxoCej",
        "colab_type": "code",
        "colab": {}
      },
      "source": [
        "# Remove single characters from the start\n",
        "#review_text = [re.sub(r\"^\\s\", \"\", line) for line in lines]"
      ],
      "execution_count": null,
      "outputs": []
    },
    {
      "cell_type": "code",
      "metadata": {
        "id": "ZQd8BilkoCes",
        "colab_type": "code",
        "colab": {}
      },
      "source": [
        "data['keywords'] = review_text"
      ],
      "execution_count": null,
      "outputs": []
    },
    {
      "cell_type": "code",
      "metadata": {
        "scrolled": true,
        "id": "manxcAkFoCe4",
        "colab_type": "code",
        "colab": {}
      },
      "source": [
        "#data.to_csv('Data/data-processed.csv')"
      ],
      "execution_count": null,
      "outputs": []
    },
    {
      "cell_type": "markdown",
      "metadata": {
        "id": "oeoD31twoCfP",
        "colab_type": "text"
      },
      "source": [
        "## Remove stopwords"
      ]
    },
    {
      "cell_type": "code",
      "metadata": {
        "id": "Cx3JE4ZXoCfS",
        "colab_type": "code",
        "colab": {},
        "outputId": "d11741d8-8374-4d48-f665-615e662a8038"
      },
      "source": [
        "len(stop_words)"
      ],
      "execution_count": null,
      "outputs": [
        {
          "output_type": "execute_result",
          "data": {
            "text/plain": [
              "503"
            ]
          },
          "metadata": {
            "tags": []
          },
          "execution_count": 26
        }
      ]
    },
    {
      "cell_type": "code",
      "metadata": {
        "id": "rRTcHj_loCfc",
        "colab_type": "code",
        "colab": {}
      },
      "source": [
        "#neg_words = {'hadn', \"shouldn't\", 'wasn', \"wasn't\", \"doesn't\", 'wouldn', 'didn', 'needn', 'against', 'mightn', 'not', \"isn't\", \"don't\", \"mustn't\", 'don', 'weren', \"shan't\", 'haven', \"won't\", \"didn't\", 'shouldn', \"wouldn't\", 'aren', 'mustn', \"hadn't\", 'hasn', 'no', \"aren't\", \"needn't\", \"haven't\", \"couldn't\", 'couldn', 'nor', 'ain', \"mightn't\", 'doesn', 'isn', \"hasn't\", 'won', \"weren't\"}"
      ],
      "execution_count": null,
      "outputs": []
    },
    {
      "cell_type": "code",
      "metadata": {
        "id": "t6zSjnzHoCfh",
        "colab_type": "code",
        "colab": {}
      },
      "source": [
        "#stop_words = stop_words.difference(neg_words)"
      ],
      "execution_count": null,
      "outputs": []
    },
    {
      "cell_type": "code",
      "metadata": {
        "id": "xPQRoCSdoCfn",
        "colab_type": "code",
        "colab": {}
      },
      "source": [
        "#data.keywords"
      ],
      "execution_count": null,
      "outputs": []
    },
    {
      "cell_type": "code",
      "metadata": {
        "id": "uBqi9QqwoCfv",
        "colab_type": "code",
        "colab": {}
      },
      "source": [
        "review_text = [[word for word in gensim.utils.simple_preprocess(str(doc))\n",
        "                if word not in stop_words] for doc in data.keywords]"
      ],
      "execution_count": null,
      "outputs": []
    },
    {
      "cell_type": "code",
      "metadata": {
        "id": "kBsmGMv7oCfz",
        "colab_type": "code",
        "colab": {}
      },
      "source": [
        "#review_text"
      ],
      "execution_count": null,
      "outputs": []
    },
    {
      "cell_type": "code",
      "metadata": {
        "id": "VAQPDBmqoCf6",
        "colab_type": "code",
        "colab": {}
      },
      "source": [
        "def lemmatization(texts):\n",
        "    \"\"\"https://spacy.io/api/annotation\"\"\"\n",
        "    rows = []\n",
        "    for sent in texts:\n",
        "        doc = nlp(\" \".join(sent))\n",
        "        #print(doc[0].lemma_)\n",
        "        #for token in doc:\n",
        "            #print(token.lemma_, token.pos_)\n",
        "            #if (token.pos_ in ['ADV', 'NUM', 'SCONJ']):\n",
        "                #print(doc, '## ', token.lemma_, token.pos_)\n",
        "        #texts_out.append([token.lemma_ for token in doc if token.pos_ in allowed_postags])\n",
        "        #texts_out.append([token.lemma_ for token in doc if token.pos_ not in ['ADV', 'NUM', 'SCONJ']])\n",
        "        lemmas = [token.lemma_ for token in doc if token.pos_ not in ['ADV', 'NUM', 'SCONJ']]\n",
        "        rows.append(\" \".join(lemmas))\n",
        "    return rows"
      ],
      "execution_count": null,
      "outputs": []
    },
    {
      "cell_type": "code",
      "metadata": {
        "id": "lCinkYOFoCf_",
        "colab_type": "code",
        "colab": {}
      },
      "source": [
        "review_text = lemmatization(review_text)"
      ],
      "execution_count": null,
      "outputs": []
    },
    {
      "cell_type": "code",
      "metadata": {
        "id": "u_SNrIkKoCgD",
        "colab_type": "code",
        "colab": {}
      },
      "source": [
        "#review_text"
      ],
      "execution_count": null,
      "outputs": []
    },
    {
      "cell_type": "code",
      "metadata": {
        "id": "KCNVWBq1oCgH",
        "colab_type": "code",
        "colab": {}
      },
      "source": [
        "data['keywords'] = review_text"
      ],
      "execution_count": null,
      "outputs": []
    },
    {
      "cell_type": "code",
      "metadata": {
        "id": "DpFkapIPoCgO",
        "colab_type": "code",
        "colab": {}
      },
      "source": [
        "data['keywords_count'] = data.apply(lambda row: int(len(row['keywords'].split(\" \"))), axis=1)"
      ],
      "execution_count": null,
      "outputs": []
    },
    {
      "cell_type": "code",
      "metadata": {
        "id": "j4osu9zDoCgT",
        "colab_type": "code",
        "colab": {},
        "outputId": "76d42860-bd7b-4dbb-80b9-1067e3a156cc"
      },
      "source": [
        "data.head()"
      ],
      "execution_count": null,
      "outputs": [
        {
          "output_type": "execute_result",
          "data": {
            "text/html": [
              "<div>\n",
              "<style scoped>\n",
              "    .dataframe tbody tr th:only-of-type {\n",
              "        vertical-align: middle;\n",
              "    }\n",
              "\n",
              "    .dataframe tbody tr th {\n",
              "        vertical-align: top;\n",
              "    }\n",
              "\n",
              "    .dataframe thead th {\n",
              "        text-align: right;\n",
              "    }\n",
              "</style>\n",
              "<table border=\"1\" class=\"dataframe\">\n",
              "  <thead>\n",
              "    <tr style=\"text-align: right;\">\n",
              "      <th></th>\n",
              "      <th>review_rating</th>\n",
              "      <th>keywords</th>\n",
              "      <th>keywords_count</th>\n",
              "    </tr>\n",
              "  </thead>\n",
              "  <tbody>\n",
              "    <tr>\n",
              "      <th>0</th>\n",
              "      <td>3</td>\n",
              "      <td>size</td>\n",
              "      <td>1</td>\n",
              "    </tr>\n",
              "    <tr>\n",
              "      <th>1</th>\n",
              "      <td>5</td>\n",
              "      <td>awesome good</td>\n",
              "      <td>2</td>\n",
              "    </tr>\n",
              "    <tr>\n",
              "      <th>2</th>\n",
              "      <td>5</td>\n",
              "      <td>good ohh ring durable gorgeous unique buy</td>\n",
              "      <td>7</td>\n",
              "    </tr>\n",
              "    <tr>\n",
              "      <th>3</th>\n",
              "      <td>1</td>\n",
              "      <td>deliver large size good quality</td>\n",
              "      <td>5</td>\n",
              "    </tr>\n",
              "    <tr>\n",
              "      <th>4</th>\n",
              "      <td>4</td>\n",
              "      <td>nice good size short</td>\n",
              "      <td>4</td>\n",
              "    </tr>\n",
              "  </tbody>\n",
              "</table>\n",
              "</div>"
            ],
            "text/plain": [
              "   review_rating                                   keywords  keywords_count\n",
              "0              3                                       size               1\n",
              "1              5                               awesome good               2\n",
              "2              5  good ohh ring durable gorgeous unique buy               7\n",
              "3              1            deliver large size good quality               5\n",
              "4              4                       nice good size short               4"
            ]
          },
          "metadata": {
            "tags": []
          },
          "execution_count": 37
        }
      ]
    },
    {
      "cell_type": "code",
      "metadata": {
        "scrolled": false,
        "id": "0yz2sqmDoCgX",
        "colab_type": "code",
        "colab": {},
        "outputId": "53fb8642-dd80-4c8d-dca3-6dda6d04bd47"
      },
      "source": [
        "data.info()"
      ],
      "execution_count": null,
      "outputs": [
        {
          "output_type": "stream",
          "text": [
            "<class 'pandas.core.frame.DataFrame'>\n",
            "Int64Index: 726 entries, 0 to 725\n",
            "Data columns (total 3 columns):\n",
            "review_rating     726 non-null int32\n",
            "keywords          726 non-null object\n",
            "keywords_count    726 non-null int64\n",
            "dtypes: int32(1), int64(1), object(1)\n",
            "memory usage: 19.9+ KB\n"
          ],
          "name": "stdout"
        }
      ]
    },
    {
      "cell_type": "code",
      "metadata": {
        "id": "BbY71FIGoCgc",
        "colab_type": "code",
        "colab": {}
      },
      "source": [
        "#data.to_csv(\"Data/\" + testing_name + \".csv\")"
      ],
      "execution_count": null,
      "outputs": []
    },
    {
      "cell_type": "code",
      "metadata": {
        "id": "-SanTIbvoCgi",
        "colab_type": "code",
        "colab": {}
      },
      "source": [
        "data_for_topics = data['keywords']"
      ],
      "execution_count": null,
      "outputs": []
    },
    {
      "cell_type": "markdown",
      "metadata": {
        "id": "iN5bvqDpoCgr",
        "colab_type": "text"
      },
      "source": [
        "# Test the Vectorizer Model"
      ]
    },
    {
      "cell_type": "code",
      "metadata": {
        "id": "HM369KSToCgs",
        "colab_type": "code",
        "colab": {}
      },
      "source": [
        "rows = data_for_topics.to_list()"
      ],
      "execution_count": null,
      "outputs": []
    },
    {
      "cell_type": "code",
      "metadata": {
        "id": "bnPKwMtRoCgx",
        "colab_type": "code",
        "colab": {}
      },
      "source": [
        "#rows"
      ],
      "execution_count": null,
      "outputs": []
    },
    {
      "cell_type": "code",
      "metadata": {
        "id": "TiAb0243oCg3",
        "colab_type": "code",
        "colab": {}
      },
      "source": [
        "final_topics = []\n",
        "for row in rows:\n",
        "    keywords = \"\"\n",
        "    #print(row)\n",
        "    row_transformed = vectorizer.transform([row])\n",
        "    #print(row_transformed[0:5])\n",
        "    features = np.flip(row_transformed.indices[np.argsort(row_transformed.data)])\n",
        "    #print(features[0:5])\n",
        "    size = features.size\n",
        "    if (size == 0):\n",
        "        keywords = \"ShortReview\"\n",
        "    else:\n",
        "        keywords = [feature_names[ii] for ii in features[0:8]]\n",
        "        keywords = \", \".join(keywords)\n",
        "    #print('------------')\n",
        "    \n",
        "    #print(keywords)\n",
        "    final_topics.append(keywords)"
      ],
      "execution_count": null,
      "outputs": []
    },
    {
      "cell_type": "code",
      "metadata": {
        "id": "APOPeWYaoCg8",
        "colab_type": "code",
        "colab": {}
      },
      "source": [
        "data['keywords'] = final_topics"
      ],
      "execution_count": null,
      "outputs": []
    },
    {
      "cell_type": "code",
      "metadata": {
        "id": "ri5G6iFMoChB",
        "colab_type": "code",
        "colab": {}
      },
      "source": [
        "data_raw['keywords'] = final_topics"
      ],
      "execution_count": null,
      "outputs": []
    },
    {
      "cell_type": "code",
      "metadata": {
        "id": "rhZ3i5HJoChI",
        "colab_type": "code",
        "colab": {}
      },
      "source": [
        "#data_raw.to_csv(\"Data/\" + \"testing-\" + str(today) + \".csv\")"
      ],
      "execution_count": null,
      "outputs": []
    },
    {
      "cell_type": "markdown",
      "metadata": {
        "id": "Llet7zuLoChQ",
        "colab_type": "text"
      },
      "source": [
        "## Assigning Categories"
      ]
    },
    {
      "cell_type": "code",
      "metadata": {
        "id": "SUbvmxDXoChQ",
        "colab_type": "code",
        "colab": {}
      },
      "source": [
        "category = pd.read_csv('Data/keyword-category.csv', index_col=0, header=0)"
      ],
      "execution_count": null,
      "outputs": []
    },
    {
      "cell_type": "code",
      "metadata": {
        "id": "Svl7DZfmoChU",
        "colab_type": "code",
        "colab": {}
      },
      "source": [
        "categories = []\n",
        "for row in final_topics:\n",
        "    words = row.split(', ')\n",
        "    row_category = []\n",
        "    for word in words:\n",
        "        if (word in category.index):\n",
        "            word = category.loc[word, 'category']\n",
        "            if (word != \"Domain\"):\n",
        "                row_category.append(word)\n",
        "        else:\n",
        "            #print('Category not mapped: ' + word)\n",
        "            if (word == \"ShortReview\"):\n",
        "                row_category.append(\"ShortReview\")\n",
        "\n",
        "    if (len(row_category) == 0):\n",
        "        row_category.append(\"ShortReview\")\n",
        "        \n",
        "    row_category = \", \".join(row_category)\n",
        "    categories.append(row_category)"
      ],
      "execution_count": null,
      "outputs": []
    },
    {
      "cell_type": "code",
      "metadata": {
        "id": "OP19c6DZoChY",
        "colab_type": "code",
        "colab": {}
      },
      "source": [
        "#print(categories)"
      ],
      "execution_count": null,
      "outputs": []
    },
    {
      "cell_type": "code",
      "metadata": {
        "id": "TEgzWD9ZoChe",
        "colab_type": "code",
        "colab": {}
      },
      "source": [
        "cat_vectorizer = CountVectorizer()"
      ],
      "execution_count": null,
      "outputs": []
    },
    {
      "cell_type": "code",
      "metadata": {
        "id": "EkdqSQRBoChk",
        "colab_type": "code",
        "colab": {}
      },
      "source": [
        "cat_vectorized = cat_vectorizer.fit_transform(categories)"
      ],
      "execution_count": null,
      "outputs": []
    },
    {
      "cell_type": "code",
      "metadata": {
        "id": "gHw3U4j1oChu",
        "colab_type": "code",
        "colab": {}
      },
      "source": [
        "#cat_vectorizer.vocabulary_"
      ],
      "execution_count": null,
      "outputs": []
    },
    {
      "cell_type": "code",
      "metadata": {
        "id": "zyUWOySaoCh4",
        "colab_type": "code",
        "colab": {}
      },
      "source": [
        "row_cats = []\n",
        "for ii in range(cat_vectorized.shape[0]):\n",
        "    row = cat_vectorized.getrow(ii)\n",
        "    #print(row.indices)\n",
        "    #print(row.data)\n",
        "    sorted_cats = np.flip(row.indices[np.argsort(row.data)]).tolist()\n",
        "    row_cat = [cat_vectorizer.get_feature_names()[jj] for jj in sorted_cats[0:2]]\n",
        "    row_cats.append(\", \".join(row_cat))"
      ],
      "execution_count": null,
      "outputs": []
    },
    {
      "cell_type": "code",
      "metadata": {
        "id": "HuaLL9khoCiD",
        "colab_type": "code",
        "colab": {}
      },
      "source": [
        "#row_cats"
      ],
      "execution_count": null,
      "outputs": []
    },
    {
      "cell_type": "code",
      "metadata": {
        "id": "h8IBkzwtoCiK",
        "colab_type": "code",
        "colab": {}
      },
      "source": [
        "data_raw['categories'] = row_cats\n",
        "data_raw.to_csv(\"Data/\" + \"testing-\" + str(today) + \".csv\")"
      ],
      "execution_count": null,
      "outputs": []
    }
  ]
}