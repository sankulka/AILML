{
  "nbformat": 4,
  "nbformat_minor": 0,
  "metadata": {
    "kernelspec": {
      "display_name": "Python 3",
      "language": "python",
      "name": "python3"
    },
    "language_info": {
      "codemirror_mode": {
        "name": "ipython",
        "version": 3
      },
      "file_extension": ".py",
      "mimetype": "text/x-python",
      "name": "python",
      "nbconvert_exporter": "python",
      "pygments_lexer": "ipython3",
      "version": "3.7.5"
    },
    "colab": {
      "name": "ReviewCategorization-Training-May.ipynb",
      "provenance": []
    }
  },
  "cells": [
    {
      "cell_type": "code",
      "metadata": {
        "id": "6oKaQkL1oBzP",
        "colab_type": "code",
        "colab": {}
      },
      "source": [
        "import re\n",
        "import pickle\n",
        "import pandas as pd\n",
        "import numpy as np\n",
        "from datetime import date\n",
        "\n",
        "import nltk\n",
        "from nltk.corpus import stopwords\n",
        "\n",
        "import spacy\n",
        "from spacy.lang.en import English\n",
        "\n",
        "import gensim\n",
        "from gensim import corpora\n",
        "\n",
        "from sklearn.feature_extraction.text import CountVectorizer\n",
        "from sklearn.feature_extraction.text import TfidfVectorizer"
      ],
      "execution_count": null,
      "outputs": []
    },
    {
      "cell_type": "code",
      "metadata": {
        "id": "5NvkjJMpoBzc",
        "colab_type": "code",
        "colab": {}
      },
      "source": [
        "today = date.today()"
      ],
      "execution_count": null,
      "outputs": []
    },
    {
      "cell_type": "code",
      "metadata": {
        "id": "V_mFgSpgoBzl",
        "colab_type": "code",
        "colab": {}
      },
      "source": [
        "training_name = \"training-data-\" + str(today)\n",
        "vectorizer_name = \"vectorizer-\" + str(today)\n",
        "dictionary_name = \"dictionary-\" + str(today) + \".txt\""
      ],
      "execution_count": null,
      "outputs": []
    },
    {
      "cell_type": "code",
      "metadata": {
        "id": "IdnxnueVoBzs",
        "colab_type": "code",
        "colab": {}
      },
      "source": [
        "nlp = spacy.load('en')"
      ],
      "execution_count": null,
      "outputs": []
    },
    {
      "cell_type": "code",
      "metadata": {
        "id": "--WQ_4vRoB0O",
        "colab_type": "code",
        "colab": {}
      },
      "source": [
        "#train_file1 = \"B078L78Y8Q-reviews\" #1000\n",
        "#train_file2 = \"B06Y5FYDPP-reviews\" #305\n",
        "#train_file3 = \"B01F9980XK-reviews\" #981\n",
        "#train_file4 = \"B079L5PW79-reviews\" #727 Used for testing\n",
        "#train_file4 = \"B01E60WY7G-reviews\" #248\n",
        "#train_file5 = \"B01MXQE7YF-reviews\" #262\n",
        "#train_file6 = \"B06W9GL9RF-1-reviews\" #490\n",
        "#train_file7 = \"B06WWRKRR3-reviews\" #278\n",
        "#train_file8 = \"B06ZZ631BF-reviews\" #74\n",
        "#train_file9 = \"B07FB1XZGL-reviews\" #297\n",
        "#train_file10 = \"B07L71XXBR-reviews\" #194\n",
        "#train_file11 = \"B07RXFLZPL-reviews\" #321\n",
        "#train_file12 = \"B07S3H1BPS-reviews\" #164\n",
        "\n",
        "train_files = [\"B078L78Y8Q-reviews\", \"B06Y5FYDPP-reviews\", \"B01F9980XK-reviews\",\n",
        "               \"B079L5PW79-reviews\", \"B01E60WY7G-reviews\", \"B01MXQE7YF-reviews\",\n",
        "               \"B06W9GL9RF-1-reviews\", \"B06WWRKRR3-reviews\", \"B06ZZ631BF-reviews\",\n",
        "               \"B07FB1XZGL-reviews\", \"B07L71XXBR-reviews\", \"B07RXFLZPL-reviews\",\n",
        "               \"B07S3H1BPS-reviews\"]"
      ],
      "execution_count": null,
      "outputs": []
    },
    {
      "cell_type": "code",
      "metadata": {
        "id": "gRx18VgyoB0V",
        "colab_type": "code",
        "colab": {}
      },
      "source": [
        "data_raw = pd.DataFrame()\n",
        "for ii in train_files:\n",
        "    data_raw = data_raw.append(pd.read_csv(\"Data/\" + ii + \".csv\", index_col=0))"
      ],
      "execution_count": null,
      "outputs": []
    },
    {
      "cell_type": "code",
      "metadata": {
        "id": "9Z5SOK4ZoB0d",
        "colab_type": "code",
        "colab": {}
      },
      "source": [
        "data_raw.reset_index(drop=True, inplace=True)"
      ],
      "execution_count": null,
      "outputs": []
    },
    {
      "cell_type": "code",
      "metadata": {
        "id": "oUavuo9qoB0k",
        "colab_type": "code",
        "colab": {},
        "outputId": "207a20e7-e90e-4125-c1b8-7615d29d2631"
      },
      "source": [
        "data_raw.shape"
      ],
      "execution_count": null,
      "outputs": [
        {
          "output_type": "execute_result",
          "data": {
            "text/plain": [
              "(5351, 6)"
            ]
          },
          "metadata": {
            "tags": []
          },
          "execution_count": 8
        }
      ]
    },
    {
      "cell_type": "code",
      "metadata": {
        "id": "FjS52pnsoB0r",
        "colab_type": "code",
        "colab": {}
      },
      "source": [
        "#pd.set_option('display.max_colwidth', 10)"
      ],
      "execution_count": null,
      "outputs": []
    },
    {
      "cell_type": "code",
      "metadata": {
        "id": "nBv0vA6SoB0v",
        "colab_type": "code",
        "colab": {},
        "outputId": "b05ac85c-5e21-48ee-9ad9-050a5062cf67"
      },
      "source": [
        "data_raw.tail()"
      ],
      "execution_count": null,
      "outputs": [
        {
          "output_type": "execute_result",
          "data": {
            "text/html": [
              "<div>\n",
              "<style scoped>\n",
              "    .dataframe tbody tr th:only-of-type {\n",
              "        vertical-align: middle;\n",
              "    }\n",
              "\n",
              "    .dataframe tbody tr th {\n",
              "        vertical-align: top;\n",
              "    }\n",
              "\n",
              "    .dataframe thead th {\n",
              "        text-align: right;\n",
              "    }\n",
              "</style>\n",
              "<table border=\"1\" class=\"dataframe\">\n",
              "  <thead>\n",
              "    <tr style=\"text-align: right;\">\n",
              "      <th></th>\n",
              "      <th>review_author</th>\n",
              "      <th>review_header</th>\n",
              "      <th>review_helpful</th>\n",
              "      <th>review_posted_date</th>\n",
              "      <th>review_rating</th>\n",
              "      <th>review_text</th>\n",
              "    </tr>\n",
              "  </thead>\n",
              "  <tbody>\n",
              "    <tr>\n",
              "      <th>5346</th>\n",
              "      <td>Umadevi.R</td>\n",
              "      <td>Excelent</td>\n",
              "      <td>2 people found this helpful</td>\n",
              "      <td>20 July 2019</td>\n",
              "      <td>5.0 out of 5 stars</td>\n",
              "      <td>So nice good quality.go for it👍</td>\n",
              "    </tr>\n",
              "    <tr>\n",
              "      <th>5347</th>\n",
              "      <td>Ajish</td>\n",
              "      <td>Value for money</td>\n",
              "      <td>2 people found this helpful</td>\n",
              "      <td>18 July 2019</td>\n",
              "      <td>5.0 out of 5 stars</td>\n",
              "      <td>Beautiful earrings in affordable price</td>\n",
              "    </tr>\n",
              "    <tr>\n",
              "      <th>5348</th>\n",
              "      <td>Ritu bansal</td>\n",
              "      <td>Silver</td>\n",
              "      <td>21 people found this helpful</td>\n",
              "      <td>18 July 2019</td>\n",
              "      <td>5.0 out of 5 stars</td>\n",
              "      <td>Very pretty.perfect packing.Quality of earings...</td>\n",
              "    </tr>\n",
              "    <tr>\n",
              "      <th>5349</th>\n",
              "      <td>Tamilarasi</td>\n",
              "      <td>👌</td>\n",
              "      <td>3 people found this helpful</td>\n",
              "      <td>8 July 2019</td>\n",
              "      <td>4.0 out of 5 stars</td>\n",
              "      <td>Super..</td>\n",
              "    </tr>\n",
              "    <tr>\n",
              "      <th>5350</th>\n",
              "      <td>PAYEL BHATTACHARYA</td>\n",
              "      <td>Awesome jhumkas</td>\n",
              "      <td>40 people found this helpful</td>\n",
              "      <td>24 June 2019</td>\n",
              "      <td>5.0 out of 5 stars</td>\n",
              "      <td>Just love the jhumkas💓well packed. Delivery on...</td>\n",
              "    </tr>\n",
              "  </tbody>\n",
              "</table>\n",
              "</div>"
            ],
            "text/plain": [
              "           review_author    review_header                review_helpful  \\\n",
              "5346           Umadevi.R         Excelent   2 people found this helpful   \n",
              "5347               Ajish  Value for money   2 people found this helpful   \n",
              "5348         Ritu bansal           Silver  21 people found this helpful   \n",
              "5349          Tamilarasi                👌   3 people found this helpful   \n",
              "5350  PAYEL BHATTACHARYA  Awesome jhumkas  40 people found this helpful   \n",
              "\n",
              "     review_posted_date       review_rating  \\\n",
              "5346       20 July 2019  5.0 out of 5 stars   \n",
              "5347       18 July 2019  5.0 out of 5 stars   \n",
              "5348       18 July 2019  5.0 out of 5 stars   \n",
              "5349        8 July 2019  4.0 out of 5 stars   \n",
              "5350       24 June 2019  5.0 out of 5 stars   \n",
              "\n",
              "                                            review_text  \n",
              "5346                    So nice good quality.go for it👍  \n",
              "5347             Beautiful earrings in affordable price  \n",
              "5348  Very pretty.perfect packing.Quality of earings...  \n",
              "5349                                            Super..  \n",
              "5350  Just love the jhumkas💓well packed. Delivery on...  "
            ]
          },
          "metadata": {
            "tags": []
          },
          "execution_count": 10
        }
      ]
    },
    {
      "cell_type": "code",
      "metadata": {
        "id": "EpMIwBRRoB0z",
        "colab_type": "code",
        "colab": {}
      },
      "source": [
        "data_raw['review_rating'] = data_raw.apply(lambda row: row.review_rating.split(' ')[0], axis=1)"
      ],
      "execution_count": null,
      "outputs": []
    },
    {
      "cell_type": "code",
      "metadata": {
        "id": "XBxlLCUqoB03",
        "colab_type": "code",
        "colab": {}
      },
      "source": [
        "data_raw['review_rating'] = pd.to_numeric(data_raw['review_rating']).astype(int)"
      ],
      "execution_count": null,
      "outputs": []
    },
    {
      "cell_type": "code",
      "metadata": {
        "id": "p2ZKTku_oB0-",
        "colab_type": "code",
        "colab": {}
      },
      "source": [
        "data_raw.loc[data_raw.review_text.isnull(), 'review_text'] = \"\""
      ],
      "execution_count": null,
      "outputs": []
    },
    {
      "cell_type": "code",
      "metadata": {
        "id": "v6ffblu_oB1C",
        "colab_type": "code",
        "colab": {}
      },
      "source": [
        "data = data_raw.copy()"
      ],
      "execution_count": null,
      "outputs": []
    },
    {
      "cell_type": "code",
      "metadata": {
        "id": "6AQUVkYroB1F",
        "colab_type": "code",
        "colab": {}
      },
      "source": [
        "data['review_header'] = data['review_header'].apply(lambda row: str(row).lower())\n",
        "data['review_text'] = data['review_text'].apply(lambda row: str(row).lower())"
      ],
      "execution_count": null,
      "outputs": []
    },
    {
      "cell_type": "code",
      "metadata": {
        "id": "ZNmmxi9doB1K",
        "colab_type": "code",
        "colab": {}
      },
      "source": [
        "full_review = []\n",
        "for index, row in data.iterrows():\n",
        "    review = row.review_header + \" \" + row.review_text\n",
        "    full_review.append(review)"
      ],
      "execution_count": null,
      "outputs": []
    },
    {
      "cell_type": "code",
      "metadata": {
        "id": "Y9vKYaqooB1O",
        "colab_type": "code",
        "colab": {}
      },
      "source": [
        "data['keywords'] = full_review"
      ],
      "execution_count": null,
      "outputs": []
    },
    {
      "cell_type": "code",
      "metadata": {
        "id": "Ajb1L3qPoB1T",
        "colab_type": "code",
        "colab": {}
      },
      "source": [
        "data.drop(columns=['review_author', 'review_header', 'review_helpful', 'review_posted_date', 'review_text'], axis=1, inplace=True)"
      ],
      "execution_count": null,
      "outputs": []
    },
    {
      "cell_type": "code",
      "metadata": {
        "id": "MGr0KrJvoB1Y",
        "colab_type": "code",
        "colab": {}
      },
      "source": [
        "# Convert to list\n",
        "review_text = data.keywords.values.tolist()\n",
        "# Remove Emails\n",
        "review_text = [re.sub(r\"\\S*@\\S*\\s?\", \" \", text) for text in review_text]\n",
        "# Remove new line characters\n",
        "review_text = [re.sub(r\"\\s+\", \" \", text) for text in review_text]\n",
        "# Remove distracting single quotes\n",
        "review_text = [re.sub(r\"\\'\", \"\", text) for text in review_text]\n",
        "# Remove all the special characters\n",
        "review_text = [re.sub(r\"\\W\", \" \", text) for text in review_text]\n",
        "# Remove all single characters\n",
        "review_text = [re.sub(r\"\\s+\\S\\s+\", \" \", text) for text in review_text]\n",
        "# Remove single characters from the start\n",
        "review_text = [re.sub(r\"^[a-zA-Z]\\s+\", \"\", text) for text in review_text]\n",
        "# Substituting multiple spaces with single space\n",
        "review_text = [re.sub(r\"\\s+\", \" \", text, flags=re.I) for text in review_text]"
      ],
      "execution_count": null,
      "outputs": []
    },
    {
      "cell_type": "code",
      "metadata": {
        "id": "gGOkIeTaoB1c",
        "colab_type": "code",
        "colab": {}
      },
      "source": [
        "#review_text"
      ],
      "execution_count": null,
      "outputs": []
    },
    {
      "cell_type": "code",
      "metadata": {
        "id": "-8KEoGPloB1g",
        "colab_type": "code",
        "colab": {}
      },
      "source": [
        "spell_dict = pd.read_csv('Data/spell-dict.csv', index_col=0, header=0)"
      ],
      "execution_count": null,
      "outputs": []
    },
    {
      "cell_type": "code",
      "metadata": {
        "id": "VbpnJ1TXoB1j",
        "colab_type": "code",
        "colab": {}
      },
      "source": [
        "# Given a list of words and a number n, return a lis of n-grams.\n",
        "#Short version\n",
        "#def getNGrams(wordlist, n):\n",
        "#    return [wordlist[i:i+n] for i in range(len(wordlist)-(n-1))]\n",
        "\n",
        "#Long version\n",
        "def getNGrams(wordlist, n):\n",
        "    ngrams = []\n",
        "    for i in range(len(wordlist)-(n-1)):\n",
        "        #ngrams.append(wordlist[i:i+n])\n",
        "        gram = \" \".join(wordlist[i:i+n])\n",
        "        ngrams.append(gram)\n",
        "    return ngrams"
      ],
      "execution_count": null,
      "outputs": []
    },
    {
      "cell_type": "code",
      "metadata": {
        "id": "yi5BRJ98oB1m",
        "colab_type": "code",
        "colab": {}
      },
      "source": [
        "lines = []\n",
        "for line in review_text:\n",
        "    row = line\n",
        "    for grams in getNGrams(line.split(\" \"), 1):\n",
        "        if grams in spell_dict.index:\n",
        "            corrected = spell_dict.loc[grams,'correction']\n",
        "            row = row.replace(grams, corrected)\n",
        "\n",
        "    for grams in getNGrams(row.split(\" \"), 3):\n",
        "        if grams in spell_dict.index:\n",
        "            corrected = spell_dict.loc[grams,'correction']\n",
        "            row = row.replace(grams, corrected)\n",
        "            \n",
        "    for grams in getNGrams(row.split(\" \"), 2):\n",
        "        if grams in spell_dict.index:\n",
        "            corrected = spell_dict.loc[grams,'correction']\n",
        "            row = row.replace(grams, corrected)\n",
        "            \n",
        "    lines.append(row)\n",
        "review_text = lines"
      ],
      "execution_count": null,
      "outputs": []
    },
    {
      "cell_type": "code",
      "metadata": {
        "id": "2UERNv5ZoB1q",
        "colab_type": "code",
        "colab": {}
      },
      "source": [
        "# Remove single characters from the start\n",
        "#review_text = [re.sub(r\"^\\s\", \"\", line) for line in lines]"
      ],
      "execution_count": null,
      "outputs": []
    },
    {
      "cell_type": "code",
      "metadata": {
        "id": "D3hQgjJdoB1u",
        "colab_type": "code",
        "colab": {}
      },
      "source": [
        "data['keywords'] = review_text"
      ],
      "execution_count": null,
      "outputs": []
    },
    {
      "cell_type": "code",
      "metadata": {
        "scrolled": true,
        "id": "8Azt76kuoB10",
        "colab_type": "code",
        "colab": {}
      },
      "source": [
        "#data.to_csv('Data/data-processed.csv')"
      ],
      "execution_count": null,
      "outputs": []
    },
    {
      "cell_type": "markdown",
      "metadata": {
        "id": "-ajrf3eBoB15",
        "colab_type": "text"
      },
      "source": [
        "## Remove stopwords"
      ]
    },
    {
      "cell_type": "code",
      "metadata": {
        "id": "SIvZWql-oB16",
        "colab_type": "code",
        "colab": {},
        "outputId": "ded91ea0-8f92-4a98-d4e9-32e4bdbcb8fe"
      },
      "source": [
        "nltk.download('stopwords')\n",
        "#nltk.download('wordnet')"
      ],
      "execution_count": null,
      "outputs": [
        {
          "output_type": "stream",
          "text": [
            "[nltk_data] Error loading stopwords: <urlopen error [Errno 11001]\n",
            "[nltk_data]     getaddrinfo failed>\n"
          ],
          "name": "stderr"
        },
        {
          "output_type": "execute_result",
          "data": {
            "text/plain": [
              "False"
            ]
          },
          "metadata": {
            "tags": []
          },
          "execution_count": 27
        }
      ]
    },
    {
      "cell_type": "code",
      "metadata": {
        "id": "hUvd18HEoB1_",
        "colab_type": "code",
        "colab": {}
      },
      "source": [
        "stop_words = nltk.corpus.stopwords.words('english')"
      ],
      "execution_count": null,
      "outputs": []
    },
    {
      "cell_type": "code",
      "metadata": {
        "scrolled": true,
        "id": "KlEbcx9VoB2C",
        "colab_type": "code",
        "colab": {}
      },
      "source": [
        "stop_words_dict = open('Data/stop-words-dict.txt', 'r').read().splitlines()"
      ],
      "execution_count": null,
      "outputs": []
    },
    {
      "cell_type": "code",
      "metadata": {
        "id": "HRBYokXjoB2G",
        "colab_type": "code",
        "colab": {}
      },
      "source": [
        "stop_words.extend(stop_words_dict)"
      ],
      "execution_count": null,
      "outputs": []
    },
    {
      "cell_type": "code",
      "metadata": {
        "id": "rz7Ier5soB2K",
        "colab_type": "code",
        "colab": {},
        "outputId": "f1520f72-1bc6-4d61-d815-3f7a08c182db"
      },
      "source": [
        "len(stop_words)"
      ],
      "execution_count": null,
      "outputs": [
        {
          "output_type": "execute_result",
          "data": {
            "text/plain": [
              "503"
            ]
          },
          "metadata": {
            "tags": []
          },
          "execution_count": 31
        }
      ]
    },
    {
      "cell_type": "code",
      "metadata": {
        "id": "R0TSu6fHoB2N",
        "colab_type": "code",
        "colab": {}
      },
      "source": [
        "#neg_words = {'hadn', \"shouldn't\", 'wasn', \"wasn't\", \"doesn't\", 'wouldn', 'didn', 'needn', 'against', 'mightn', 'not', \"isn't\", \"don't\", \"mustn't\", 'don', 'weren', \"shan't\", 'haven', \"won't\", \"didn't\", 'shouldn', \"wouldn't\", 'aren', 'mustn', \"hadn't\", 'hasn', 'no', \"aren't\", \"needn't\", \"haven't\", \"couldn't\", 'couldn', 'nor', 'ain', \"mightn't\", 'doesn', 'isn', \"hasn't\", 'won', \"weren't\"}"
      ],
      "execution_count": null,
      "outputs": []
    },
    {
      "cell_type": "code",
      "metadata": {
        "id": "r8L0fAQ2oB2S",
        "colab_type": "code",
        "colab": {}
      },
      "source": [
        "#stop_words = stop_words.difference(neg_words)"
      ],
      "execution_count": null,
      "outputs": []
    },
    {
      "cell_type": "code",
      "metadata": {
        "id": "cNup75jEoB2V",
        "colab_type": "code",
        "colab": {}
      },
      "source": [
        "#data.keywords"
      ],
      "execution_count": null,
      "outputs": []
    },
    {
      "cell_type": "code",
      "metadata": {
        "id": "YNTVhKzAoB2Y",
        "colab_type": "code",
        "colab": {}
      },
      "source": [
        "review_text = [[word for word in gensim.utils.simple_preprocess(str(doc))\n",
        "                if word not in stop_words] for doc in data.keywords]"
      ],
      "execution_count": null,
      "outputs": []
    },
    {
      "cell_type": "code",
      "metadata": {
        "id": "fTof6SH1oB2c",
        "colab_type": "code",
        "colab": {}
      },
      "source": [
        "#review_text"
      ],
      "execution_count": null,
      "outputs": []
    },
    {
      "cell_type": "code",
      "metadata": {
        "id": "S7c_5mRNoB2g",
        "colab_type": "code",
        "colab": {}
      },
      "source": [
        "def lemmatization(texts):\n",
        "    \"\"\"https://spacy.io/api/annotation\"\"\"\n",
        "    rows = []\n",
        "    for sent in texts:\n",
        "        doc = nlp(\" \".join(sent))\n",
        "        #print(doc[0].lemma_)\n",
        "        #for token in doc:\n",
        "            #print(token.lemma_, token.pos_)\n",
        "            #if (token.pos_ in ['ADV', 'NUM', 'SCONJ']):\n",
        "                #print(doc, '## ', token.lemma_, token.pos_)\n",
        "        #texts_out.append([token.lemma_ for token in doc if token.pos_ in allowed_postags])\n",
        "        #texts_out.append([token.lemma_ for token in doc if token.pos_ not in ['ADV', 'NUM', 'SCONJ']])\n",
        "        \n",
        "        # BELOW WAS GIVEN LAST TIME\n",
        "        lemmas = [token.lemma_ for token in doc if token.pos_ not in ['ADV', 'NUM', 'SCONJ']]\n",
        "        rows.append(\" \".join(lemmas))\n",
        "    return rows"
      ],
      "execution_count": null,
      "outputs": []
    },
    {
      "cell_type": "code",
      "metadata": {
        "id": "Rw3vGRBOoB2j",
        "colab_type": "code",
        "colab": {}
      },
      "source": [
        "review_lamm = lemmatization(review_text)\n",
        "#review_text = lemmatization(review_text)"
      ],
      "execution_count": null,
      "outputs": []
    },
    {
      "cell_type": "code",
      "metadata": {
        "id": "FK3TYBuHoB2m",
        "colab_type": "code",
        "colab": {}
      },
      "source": [
        "review_text = review_lamm"
      ],
      "execution_count": null,
      "outputs": []
    },
    {
      "cell_type": "code",
      "metadata": {
        "id": "sZD_Mp0HoB2r",
        "colab_type": "code",
        "colab": {}
      },
      "source": [
        "#review_text"
      ],
      "execution_count": null,
      "outputs": []
    },
    {
      "cell_type": "code",
      "metadata": {
        "id": "nYh8Nd0joB20",
        "colab_type": "code",
        "colab": {}
      },
      "source": [
        "data['keywords'] = review_text"
      ],
      "execution_count": null,
      "outputs": []
    },
    {
      "cell_type": "code",
      "metadata": {
        "id": "BrhXkGZ6oB23",
        "colab_type": "code",
        "colab": {}
      },
      "source": [
        "data['keywords_count'] = data.apply(lambda row: int(len(row['keywords'].split(\" \"))), axis=1)"
      ],
      "execution_count": null,
      "outputs": []
    },
    {
      "cell_type": "code",
      "metadata": {
        "id": "rqSrVL5-oB26",
        "colab_type": "code",
        "colab": {},
        "outputId": "f9b4a4e8-a46d-417c-ed69-f893261139e2"
      },
      "source": [
        "data.head()"
      ],
      "execution_count": null,
      "outputs": [
        {
          "output_type": "execute_result",
          "data": {
            "text/html": [
              "<div>\n",
              "<style scoped>\n",
              "    .dataframe tbody tr th:only-of-type {\n",
              "        vertical-align: middle;\n",
              "    }\n",
              "\n",
              "    .dataframe tbody tr th {\n",
              "        vertical-align: top;\n",
              "    }\n",
              "\n",
              "    .dataframe thead th {\n",
              "        text-align: right;\n",
              "    }\n",
              "</style>\n",
              "<table border=\"1\" class=\"dataframe\">\n",
              "  <thead>\n",
              "    <tr style=\"text-align: right;\">\n",
              "      <th></th>\n",
              "      <th>review_rating</th>\n",
              "      <th>keywords</th>\n",
              "      <th>keywords_count</th>\n",
              "    </tr>\n",
              "  </thead>\n",
              "  <tbody>\n",
              "    <tr>\n",
              "      <th>0</th>\n",
              "      <td>1</td>\n",
              "      <td>break bad</td>\n",
              "      <td>2</td>\n",
              "    </tr>\n",
              "    <tr>\n",
              "      <th>1</th>\n",
              "      <td>1</td>\n",
              "      <td>bad refrain</td>\n",
              "      <td>2</td>\n",
              "    </tr>\n",
              "    <tr>\n",
              "      <th>2</th>\n",
              "      <td>1</td>\n",
              "      <td>broken find broken</td>\n",
              "      <td>3</td>\n",
              "    </tr>\n",
              "    <tr>\n",
              "      <th>3</th>\n",
              "      <td>1</td>\n",
              "      <td>cheap damage show picture neckpiece quality ch...</td>\n",
              "      <td>13</td>\n",
              "    </tr>\n",
              "    <tr>\n",
              "      <th>4</th>\n",
              "      <td>4</td>\n",
              "      <td>good good</td>\n",
              "      <td>2</td>\n",
              "    </tr>\n",
              "  </tbody>\n",
              "</table>\n",
              "</div>"
            ],
            "text/plain": [
              "   review_rating                                           keywords  \\\n",
              "0              1                                          break bad   \n",
              "1              1                                        bad refrain   \n",
              "2              1                                 broken find broken   \n",
              "3              1  cheap damage show picture neckpiece quality ch...   \n",
              "4              4                                          good good   \n",
              "\n",
              "   keywords_count  \n",
              "0               2  \n",
              "1               2  \n",
              "2               3  \n",
              "3              13  \n",
              "4               2  "
            ]
          },
          "metadata": {
            "tags": []
          },
          "execution_count": 43
        }
      ]
    },
    {
      "cell_type": "code",
      "metadata": {
        "scrolled": false,
        "id": "Gk0LUaCqoB29",
        "colab_type": "code",
        "colab": {},
        "outputId": "6ac0f4a4-5757-4bd9-9d2a-aba1737a9a4c"
      },
      "source": [
        "data.info()"
      ],
      "execution_count": null,
      "outputs": [
        {
          "output_type": "stream",
          "text": [
            "<class 'pandas.core.frame.DataFrame'>\n",
            "RangeIndex: 5351 entries, 0 to 5350\n",
            "Data columns (total 3 columns):\n",
            "review_rating     5351 non-null int32\n",
            "keywords          5351 non-null object\n",
            "keywords_count    5351 non-null int64\n",
            "dtypes: int32(1), int64(1), object(1)\n",
            "memory usage: 104.6+ KB\n"
          ],
          "name": "stdout"
        }
      ]
    },
    {
      "cell_type": "code",
      "metadata": {
        "id": "EHevr-UJoB3C",
        "colab_type": "code",
        "colab": {},
        "outputId": "11f1605b-9c0a-42d5-d148-602f12b310fe"
      },
      "source": [
        "data['keywords_count'].describe()"
      ],
      "execution_count": null,
      "outputs": [
        {
          "output_type": "execute_result",
          "data": {
            "text/plain": [
              "count    5351.000000\n",
              "mean        4.441787\n",
              "std         3.994099\n",
              "min         1.000000\n",
              "25%         2.000000\n",
              "50%         3.000000\n",
              "75%         6.000000\n",
              "max        43.000000\n",
              "Name: keywords_count, dtype: float64"
            ]
          },
          "metadata": {
            "tags": []
          },
          "execution_count": 45
        }
      ]
    },
    {
      "cell_type": "code",
      "metadata": {
        "id": "HpXE2UN6oB3G",
        "colab_type": "code",
        "colab": {}
      },
      "source": [
        "#data.to_csv(\"Data/\" + training_name + \".csv\")"
      ],
      "execution_count": null,
      "outputs": []
    },
    {
      "cell_type": "code",
      "metadata": {
        "id": "i8DoSYh8oB3L",
        "colab_type": "code",
        "colab": {}
      },
      "source": [
        "data_for_topics = data['keywords']"
      ],
      "execution_count": null,
      "outputs": []
    },
    {
      "cell_type": "markdown",
      "metadata": {
        "id": "q0riBawtoB3R",
        "colab_type": "text"
      },
      "source": [
        "## CountVectorizer"
      ]
    },
    {
      "cell_type": "code",
      "metadata": {
        "id": "HmP6HZYVoB3S",
        "colab_type": "code",
        "colab": {}
      },
      "source": [
        "count_vectorizer = CountVectorizer(min_df=3,                   # minimum reqd occurences of a word \n",
        "                             stop_words=stop_words,            # remove stop words\n",
        "                             token_pattern='[a-zA-Z0-9]{3,}',  # num chars > 3\n",
        "                             ngram_range=(1,1))"
      ],
      "execution_count": null,
      "outputs": []
    },
    {
      "cell_type": "code",
      "metadata": {
        "id": "XY5Qbjt0oB3V",
        "colab_type": "code",
        "colab": {}
      },
      "source": [
        "count_vectorized = count_vectorizer.fit_transform(data_for_topics)"
      ],
      "execution_count": null,
      "outputs": []
    },
    {
      "cell_type": "code",
      "metadata": {
        "scrolled": false,
        "id": "6hcY5kwKoB3X",
        "colab_type": "code",
        "colab": {},
        "outputId": "275129cf-13d2-4ce8-d177-a59980bafcf9"
      },
      "source": [
        "# Get feature names\n",
        "cv_feature_names = count_vectorizer.get_feature_names()\n",
        "print(len(cv_feature_names))\n",
        "#print(cv_feature_names)"
      ],
      "execution_count": null,
      "outputs": [
        {
          "output_type": "stream",
          "text": [
            "429\n"
          ],
          "name": "stdout"
        }
      ]
    },
    {
      "cell_type": "markdown",
      "metadata": {
        "id": "xUIksPbSoB3a",
        "colab_type": "text"
      },
      "source": [
        "## TfidfVectorizer"
      ]
    },
    {
      "cell_type": "code",
      "metadata": {
        "id": "7e5qfuLmoB3a",
        "colab_type": "code",
        "colab": {}
      },
      "source": [
        "tfidf_vectorizer = TfidfVectorizer(min_df=3,                   # minimum reqd occurences of a word\n",
        "                             stop_words=stop_words,            # remove stop words\n",
        "                             token_pattern='[a-zA-Z0-9]{3,}',  # num chars > 3\n",
        "                             ngram_range=(1,1))"
      ],
      "execution_count": null,
      "outputs": []
    },
    {
      "cell_type": "code",
      "metadata": {
        "id": "fxiaKGgsoB3f",
        "colab_type": "code",
        "colab": {}
      },
      "source": [
        "tfidf_vectorized = tfidf_vectorizer.fit_transform(data_for_topics)"
      ],
      "execution_count": null,
      "outputs": []
    },
    {
      "cell_type": "code",
      "metadata": {
        "id": "fFiZ3dimoB3n",
        "colab_type": "code",
        "colab": {},
        "outputId": "3e5b1c53-9c17-4507-b4ae-901f17f93261"
      },
      "source": [
        "# Get feature names\n",
        "tfidf_feature_names = tfidf_vectorizer.get_feature_names()\n",
        "print(len(tfidf_feature_names))\n",
        "#print(tfidf_feature_names)"
      ],
      "execution_count": null,
      "outputs": [
        {
          "output_type": "stream",
          "text": [
            "429\n"
          ],
          "name": "stdout"
        }
      ]
    },
    {
      "cell_type": "code",
      "metadata": {
        "id": "2jZb-P54oB3s",
        "colab_type": "code",
        "colab": {}
      },
      "source": [
        "#vectorizer = count_vectorizer\n",
        "#data_vectorized = count_vectorized\n",
        "#feature_names = cv_feature_names"
      ],
      "execution_count": null,
      "outputs": []
    },
    {
      "cell_type": "code",
      "metadata": {
        "id": "SKLcTJgToB31",
        "colab_type": "code",
        "colab": {}
      },
      "source": [
        "vectorizer = tfidf_vectorizer\n",
        "data_vectorized = tfidf_vectorized\n",
        "feature_names = tfidf_feature_names"
      ],
      "execution_count": null,
      "outputs": []
    },
    {
      "cell_type": "code",
      "metadata": {
        "id": "rFb2jjBwoB37",
        "colab_type": "code",
        "colab": {},
        "outputId": "0984ee07-70b0-4e38-a744-2260dc462a95"
      },
      "source": [
        "len(tfidf_vectorizer.get_feature_names())\n",
        "tfidf_vectorized.shape"
      ],
      "execution_count": null,
      "outputs": [
        {
          "output_type": "execute_result",
          "data": {
            "text/plain": [
              "(5351, 429)"
            ]
          },
          "metadata": {
            "tags": []
          },
          "execution_count": 56
        }
      ]
    },
    {
      "cell_type": "markdown",
      "metadata": {
        "id": "RWR3GLOeoB39",
        "colab_type": "text"
      },
      "source": [
        "# Store the Model"
      ]
    },
    {
      "cell_type": "code",
      "metadata": {
        "id": "1lTARkmzoB3-",
        "colab_type": "code",
        "colab": {}
      },
      "source": [
        "vectorizer_model = open(\"Data/\" + vectorizer_name, \"wb\")"
      ],
      "execution_count": null,
      "outputs": []
    },
    {
      "cell_type": "code",
      "metadata": {
        "id": "KLHdlrP5oB4A",
        "colab_type": "code",
        "colab": {}
      },
      "source": [
        "pickle.dump(vectorizer, vectorizer_model)"
      ],
      "execution_count": null,
      "outputs": []
    },
    {
      "cell_type": "code",
      "metadata": {
        "id": "5RA5W992oB4H",
        "colab_type": "code",
        "colab": {}
      },
      "source": [
        "vectorizer_model.close()"
      ],
      "execution_count": null,
      "outputs": []
    },
    {
      "cell_type": "markdown",
      "metadata": {
        "id": "RvsbHcr-oB4M",
        "colab_type": "text"
      },
      "source": [
        "# Store the Dictionary"
      ]
    },
    {
      "cell_type": "code",
      "metadata": {
        "id": "fljphMZxoB4Q",
        "colab_type": "code",
        "colab": {}
      },
      "source": [
        "dictionary_model = open(\"Data/\" + dictionary_name, \"w\")"
      ],
      "execution_count": null,
      "outputs": []
    },
    {
      "cell_type": "code",
      "metadata": {
        "id": "CaMgDAaeoB4T",
        "colab_type": "code",
        "colab": {}
      },
      "source": [
        "for word in feature_names:\n",
        "    dictionary_model.write(str(word) + \"\\n\")"
      ],
      "execution_count": null,
      "outputs": []
    },
    {
      "cell_type": "code",
      "metadata": {
        "id": "hxJ66KCDoB4X",
        "colab_type": "code",
        "colab": {}
      },
      "source": [
        "dictionary_model.close()"
      ],
      "execution_count": null,
      "outputs": []
    },
    {
      "cell_type": "markdown",
      "metadata": {
        "id": "AAwyHsBpoB4a",
        "colab_type": "text"
      },
      "source": [
        "## Open the Vectorizer Model and Dictionary to read"
      ]
    },
    {
      "cell_type": "code",
      "metadata": {
        "id": "6NgGg1lvoB4a",
        "colab_type": "code",
        "colab": {}
      },
      "source": [
        "vectorizer_model = open(\"Data/\" + vectorizer_name, \"rb\")"
      ],
      "execution_count": null,
      "outputs": []
    },
    {
      "cell_type": "code",
      "metadata": {
        "id": "PQxHryU-oB4c",
        "colab_type": "code",
        "colab": {}
      },
      "source": [
        "vectorizer = pickle.load(vectorizer_model)"
      ],
      "execution_count": null,
      "outputs": []
    },
    {
      "cell_type": "code",
      "metadata": {
        "id": "bjF1-0ymoB4e",
        "colab_type": "code",
        "colab": {}
      },
      "source": [
        "vectorizer_model.close()"
      ],
      "execution_count": null,
      "outputs": []
    },
    {
      "cell_type": "code",
      "metadata": {
        "id": "fZotwKI1oB4g",
        "colab_type": "code",
        "colab": {}
      },
      "source": [
        "dictionary_model = open(\"Data/\" + dictionary_name, \"r\")"
      ],
      "execution_count": null,
      "outputs": []
    },
    {
      "cell_type": "code",
      "metadata": {
        "id": "ur61hOp-oB4k",
        "colab_type": "code",
        "colab": {}
      },
      "source": [
        "feature_names = dictionary_model.read().splitlines()"
      ],
      "execution_count": null,
      "outputs": []
    },
    {
      "cell_type": "code",
      "metadata": {
        "id": "OYHva5JpoB4m",
        "colab_type": "code",
        "colab": {}
      },
      "source": [
        "dictionary_model.close()"
      ],
      "execution_count": null,
      "outputs": []
    },
    {
      "cell_type": "markdown",
      "metadata": {
        "id": "lsaEa3PuoB4o",
        "colab_type": "text"
      },
      "source": [
        "# Training Data Results"
      ]
    },
    {
      "cell_type": "code",
      "metadata": {
        "id": "7_a9V0ThoB4o",
        "colab_type": "code",
        "colab": {}
      },
      "source": [
        "rows = data_for_topics.to_list()"
      ],
      "execution_count": null,
      "outputs": []
    },
    {
      "cell_type": "code",
      "metadata": {
        "id": "_esFZg8qoB4t",
        "colab_type": "code",
        "colab": {}
      },
      "source": [
        "#rows"
      ],
      "execution_count": null,
      "outputs": []
    },
    {
      "cell_type": "code",
      "metadata": {
        "id": "KDvW_edToB4w",
        "colab_type": "code",
        "colab": {}
      },
      "source": [
        "final_topics = []\n",
        "for row in rows:\n",
        "    keywords = \"\"\n",
        "    #print(row)\n",
        "    row_transformed = vectorizer.transform([row])\n",
        "    #print(row_transformed[0:5])\n",
        "    features = np.flip(row_transformed.indices[np.argsort(row_transformed.data)])\n",
        "    #print(features[0:5])\n",
        "    size = features.size\n",
        "    if (size == 0):\n",
        "        keywords = \"ShortReview\"\n",
        "    else:\n",
        "        keywords = [feature_names[ii] for ii in features[0:8]]\n",
        "        keywords = \", \".join(keywords)\n",
        "    #print('------------')\n",
        "    \n",
        "    #print(keywords)\n",
        "    final_topics.append(keywords)"
      ],
      "execution_count": null,
      "outputs": []
    },
    {
      "cell_type": "code",
      "metadata": {
        "id": "VDKliLL0oB43",
        "colab_type": "code",
        "colab": {}
      },
      "source": [
        "data['keywords'] = final_topics"
      ],
      "execution_count": null,
      "outputs": []
    },
    {
      "cell_type": "code",
      "metadata": {
        "id": "wcbVIWUZoB47",
        "colab_type": "code",
        "colab": {}
      },
      "source": [
        "data_raw['keywords'] = final_topics"
      ],
      "execution_count": null,
      "outputs": []
    },
    {
      "cell_type": "code",
      "metadata": {
        "id": "x8wVPA_4oB4-",
        "colab_type": "code",
        "colab": {}
      },
      "source": [
        "#data_raw.to_csv(\"Data/\" + \"training-\" + str(today) + \".csv\")"
      ],
      "execution_count": null,
      "outputs": []
    },
    {
      "cell_type": "markdown",
      "metadata": {
        "id": "x7XnXAyLoB5B",
        "colab_type": "text"
      },
      "source": [
        "## Assigning Categories"
      ]
    },
    {
      "cell_type": "code",
      "metadata": {
        "id": "4si8OTdaoB5B",
        "colab_type": "code",
        "colab": {}
      },
      "source": [
        "category = pd.read_csv('Data/keyword-category.csv', index_col=0, header=0)"
      ],
      "execution_count": null,
      "outputs": []
    },
    {
      "cell_type": "code",
      "metadata": {
        "id": "HO0h41o4oB5D",
        "colab_type": "code",
        "colab": {},
        "outputId": "8b2168f0-f0eb-4418-8d5a-7fc304484bc2"
      },
      "source": [
        "category.category.unique()"
      ],
      "execution_count": null,
      "outputs": [
        {
          "output_type": "execute_result",
          "data": {
            "text/plain": [
              "array(['Manufacturing', 'Perception', 'Price', 'Good', 'Delivery',\n",
              "       'Domain', 'Service', 'Missing'], dtype=object)"
            ]
          },
          "metadata": {
            "tags": []
          },
          "execution_count": 76
        }
      ]
    },
    {
      "cell_type": "code",
      "metadata": {
        "scrolled": false,
        "id": "ByhZs5jBoB5I",
        "colab_type": "code",
        "colab": {}
      },
      "source": [
        "categories = []\n",
        "for row in final_topics:\n",
        "    words = row.split(', ')\n",
        "    row_category = []\n",
        "    for word in words:\n",
        "        if (word in category.index):\n",
        "            word = category.loc[word, 'category']\n",
        "            if (word != \"Domain\"):\n",
        "                row_category.append(word)\n",
        "        else:\n",
        "            #print('Category not mapped: ' + word)\n",
        "            if (word == \"ShortReview\"):\n",
        "                row_category.append(\"ShortReview\")\n",
        "\n",
        "    if (len(row_category) == 0):\n",
        "        row_category.append(\"ShortReview\")\n",
        "        \n",
        "    row_category = \", \".join(row_category)\n",
        "    categories.append(row_category)"
      ],
      "execution_count": null,
      "outputs": []
    },
    {
      "cell_type": "code",
      "metadata": {
        "id": "RjebrCb0oB5M",
        "colab_type": "code",
        "colab": {}
      },
      "source": [
        "#categories"
      ],
      "execution_count": null,
      "outputs": []
    },
    {
      "cell_type": "code",
      "metadata": {
        "id": "jYNE7H5YoB5O",
        "colab_type": "code",
        "colab": {}
      },
      "source": [
        "cat_vectorizer = CountVectorizer()"
      ],
      "execution_count": null,
      "outputs": []
    },
    {
      "cell_type": "code",
      "metadata": {
        "id": "OZBtfGjloB5Q",
        "colab_type": "code",
        "colab": {}
      },
      "source": [
        "cat_vectorized = cat_vectorizer.fit_transform(categories)"
      ],
      "execution_count": null,
      "outputs": []
    },
    {
      "cell_type": "code",
      "metadata": {
        "id": "8ZhI5fUmoB5S",
        "colab_type": "code",
        "colab": {}
      },
      "source": [
        "#cat_vectorizer.vocabulary_"
      ],
      "execution_count": null,
      "outputs": []
    },
    {
      "cell_type": "code",
      "metadata": {
        "id": "OvjDI5CLoB5a",
        "colab_type": "code",
        "colab": {}
      },
      "source": [
        "row_cats = []\n",
        "for ii in range(cat_vectorized.shape[0]):\n",
        "    row = cat_vectorized.getrow(ii)\n",
        "    #print(row.indices)\n",
        "    #print(row.data)\n",
        "    sorted_cats = np.flip(row.indices[np.argsort(row.data)]).tolist()\n",
        "    row_cat = [cat_vectorizer.get_feature_names()[jj] for jj in sorted_cats[0:2]]\n",
        "    row_cats.append(\", \".join(row_cat))"
      ],
      "execution_count": null,
      "outputs": []
    },
    {
      "cell_type": "code",
      "metadata": {
        "id": "rWMlqGJsoB5c",
        "colab_type": "code",
        "colab": {}
      },
      "source": [
        "#row_cats"
      ],
      "execution_count": null,
      "outputs": []
    },
    {
      "cell_type": "code",
      "metadata": {
        "id": "ipGQB4UsoB5d",
        "colab_type": "code",
        "colab": {}
      },
      "source": [
        "data_raw['categories'] = row_cats\n",
        "data_raw.to_csv(\"Data/\" + \"training-\" + str(today) + \".csv\")"
      ],
      "execution_count": null,
      "outputs": []
    }
  ]
}