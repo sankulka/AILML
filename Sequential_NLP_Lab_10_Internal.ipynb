{
  "nbformat": 4,
  "nbformat_minor": 0,
  "metadata": {
    "colab": {
      "name": "Questions - Internal - Sequential NLP Lab - 16 Hours.ipynb",
      "provenance": [],
      "collapsed_sections": []
    },
    "kernelspec": {
      "name": "python3",
      "display_name": "Python 3"
    }
  },
  "cells": [
    {
      "cell_type": "markdown",
      "metadata": {
        "id": "vXE926qT0jHg",
        "colab_type": "text"
      },
      "source": [
        "# Time series prediction using LSTM"
      ]
    },
    {
      "cell_type": "markdown",
      "metadata": {
        "id": "54u8ql4Z4kBE",
        "colab_type": "text"
      },
      "source": [
        "## Dataset\n",
        "- Daily minimum temperatures in Melbourne, Australia, 1981-1990\n",
        "- Units: Degrees Celcius"
      ]
    },
    {
      "cell_type": "markdown",
      "metadata": {
        "id": "IPkYyOzY77yl",
        "colab_type": "text"
      },
      "source": [
        "## Question 1"
      ]
    },
    {
      "cell_type": "markdown",
      "metadata": {
        "id": "aXEOY69f8B9d",
        "colab_type": "text"
      },
      "source": [
        "### Load the data\n",
        "- load daily-minimum-temperatures-in-me.csv"
      ]
    },
    {
      "cell_type": "code",
      "metadata": {
        "id": "1Yvcuhqz0m23",
        "colab_type": "code",
        "colab": {}
      },
      "source": [
        "# I am not using below code snippet since thirdy party cookies are not allowed from my laptop\n",
        "# if you are using google colab\n",
        "#from google.colab import files\n",
        "#uploaded = files.upload()"
      ],
      "execution_count": 273,
      "outputs": []
    },
    {
      "cell_type": "code",
      "metadata": {
        "id": "oSe-KncgMgkh",
        "colab_type": "code",
        "colab": {
          "base_uri": "https://localhost:8080/",
          "height": 34
        },
        "outputId": "3d939d63-d193-48e9-b923-feb12d748ce4"
      },
      "source": [
        "from google.colab import drive\n",
        "drive.mount('/content/drive')"
      ],
      "execution_count": 11,
      "outputs": [
        {
          "output_type": "stream",
          "text": [
            "Mounted at /content/drive\n"
          ],
          "name": "stdout"
        }
      ]
    },
    {
      "cell_type": "code",
      "metadata": {
        "id": "LA7R2II8-Jxh",
        "colab_type": "code",
        "colab": {}
      },
      "source": [
        "import io\n",
        "import pandas as pd\n",
        "#df = pd.read_csv(io.BytesIO(uploaded['Data/daily-minimum-temperatures-in-me.csv']))\n",
        "df = pd.read_csv('/content/drive/My Drive/Colab Notebooks/Data/daily-minimum-temperatures-in-me.csv')"
      ],
      "execution_count": 12,
      "outputs": []
    },
    {
      "cell_type": "markdown",
      "metadata": {
        "id": "pWcMgg69-T6k",
        "colab_type": "text"
      },
      "source": [
        "### Print the data\n",
        "- First 5 rows only"
      ]
    },
    {
      "cell_type": "code",
      "metadata": {
        "id": "SM828gT_-Ra2",
        "colab_type": "code",
        "colab": {
          "base_uri": "https://localhost:8080/",
          "height": 195
        },
        "outputId": "4c7e2136-b1f6-45cb-feb6-0422e16dd45c"
      },
      "source": [
        "df.head(5)"
      ],
      "execution_count": 15,
      "outputs": [
        {
          "output_type": "execute_result",
          "data": {
            "text/html": [
              "<div>\n",
              "<style scoped>\n",
              "    .dataframe tbody tr th:only-of-type {\n",
              "        vertical-align: middle;\n",
              "    }\n",
              "\n",
              "    .dataframe tbody tr th {\n",
              "        vertical-align: top;\n",
              "    }\n",
              "\n",
              "    .dataframe thead th {\n",
              "        text-align: right;\n",
              "    }\n",
              "</style>\n",
              "<table border=\"1\" class=\"dataframe\">\n",
              "  <thead>\n",
              "    <tr style=\"text-align: right;\">\n",
              "      <th></th>\n",
              "      <th>Date</th>\n",
              "      <th>Temperature</th>\n",
              "    </tr>\n",
              "  </thead>\n",
              "  <tbody>\n",
              "    <tr>\n",
              "      <th>0</th>\n",
              "      <td>1981-01-01</td>\n",
              "      <td>20.7</td>\n",
              "    </tr>\n",
              "    <tr>\n",
              "      <th>1</th>\n",
              "      <td>1981-01-02</td>\n",
              "      <td>17.9</td>\n",
              "    </tr>\n",
              "    <tr>\n",
              "      <th>2</th>\n",
              "      <td>1981-01-03</td>\n",
              "      <td>18.8</td>\n",
              "    </tr>\n",
              "    <tr>\n",
              "      <th>3</th>\n",
              "      <td>1981-01-04</td>\n",
              "      <td>14.6</td>\n",
              "    </tr>\n",
              "    <tr>\n",
              "      <th>4</th>\n",
              "      <td>1981-01-05</td>\n",
              "      <td>15.8</td>\n",
              "    </tr>\n",
              "  </tbody>\n",
              "</table>\n",
              "</div>"
            ],
            "text/plain": [
              "         Date  Temperature\n",
              "0  1981-01-01         20.7\n",
              "1  1981-01-02         17.9\n",
              "2  1981-01-03         18.8\n",
              "3  1981-01-04         14.6\n",
              "4  1981-01-05         15.8"
            ]
          },
          "metadata": {
            "tags": []
          },
          "execution_count": 15
        }
      ]
    },
    {
      "cell_type": "markdown",
      "metadata": {
        "id": "JGnWESz9BKx8",
        "colab_type": "text"
      },
      "source": [
        "### Set index column\n",
        "- Set the DataFrame index using \"Date\" column"
      ]
    },
    {
      "cell_type": "code",
      "metadata": {
        "id": "nFrbd_vd-eZP",
        "colab_type": "code",
        "colab": {}
      },
      "source": [
        "df.set_index('Date', inplace=True)"
      ],
      "execution_count": 93,
      "outputs": []
    },
    {
      "cell_type": "markdown",
      "metadata": {
        "id": "sS7IVXq7B1P1",
        "colab_type": "text"
      },
      "source": [
        "## Question 2"
      ]
    },
    {
      "cell_type": "markdown",
      "metadata": {
        "id": "PcgAOybZCc5-",
        "colab_type": "text"
      },
      "source": [
        "### Check the total count of null values in the data"
      ]
    },
    {
      "cell_type": "code",
      "metadata": {
        "id": "UTMe5jdCCj4k",
        "colab_type": "code",
        "colab": {
          "base_uri": "https://localhost:8080/",
          "height": 34
        },
        "outputId": "9bb6d12f-22f0-493b-9146-60ff95532f3f"
      },
      "source": [
        "df.isnull().values.any()"
      ],
      "execution_count": 94,
      "outputs": [
        {
          "output_type": "execute_result",
          "data": {
            "text/plain": [
              "False"
            ]
          },
          "metadata": {
            "tags": []
          },
          "execution_count": 94
        }
      ]
    },
    {
      "cell_type": "markdown",
      "metadata": {
        "id": "Ua-AeW2YC3kY",
        "colab_type": "text"
      },
      "source": [
        "### Drop all the rows with null values\n",
        "- use dropna() method"
      ]
    },
    {
      "cell_type": "code",
      "metadata": {
        "id": "9l9UeA6YC8RV",
        "colab_type": "code",
        "colab": {
          "base_uri": "https://localhost:8080/",
          "height": 34
        },
        "outputId": "0d9c515a-b219-4933-8b3c-f5d68c8921d2"
      },
      "source": [
        "df.shape"
      ],
      "execution_count": 95,
      "outputs": [
        {
          "output_type": "execute_result",
          "data": {
            "text/plain": [
              "(3650, 1)"
            ]
          },
          "metadata": {
            "tags": []
          },
          "execution_count": 95
        }
      ]
    },
    {
      "cell_type": "code",
      "metadata": {
        "id": "JlYj9470NdwM",
        "colab_type": "code",
        "colab": {}
      },
      "source": [
        "df.dropna(inplace=True)"
      ],
      "execution_count": 96,
      "outputs": []
    },
    {
      "cell_type": "code",
      "metadata": {
        "id": "mLqwd0ijNioh",
        "colab_type": "code",
        "colab": {
          "base_uri": "https://localhost:8080/",
          "height": 34
        },
        "outputId": "7f268c92-7085-4236-b889-6b9dc3e9b8ca"
      },
      "source": [
        "df.shape"
      ],
      "execution_count": 98,
      "outputs": [
        {
          "output_type": "execute_result",
          "data": {
            "text/plain": [
              "(3650, 1)"
            ]
          },
          "metadata": {
            "tags": []
          },
          "execution_count": 98
        }
      ]
    },
    {
      "cell_type": "markdown",
      "metadata": {
        "id": "SJam5Ho-DHK7",
        "colab_type": "text"
      },
      "source": [
        "## Question 3"
      ]
    },
    {
      "cell_type": "markdown",
      "metadata": {
        "id": "3esUPJAMDzCJ",
        "colab_type": "text"
      },
      "source": [
        "### Describe your dataframe\n",
        "- use describe() method"
      ]
    },
    {
      "cell_type": "code",
      "metadata": {
        "id": "uhH8OwGVELyH",
        "colab_type": "code",
        "colab": {
          "base_uri": "https://localhost:8080/",
          "height": 284
        },
        "outputId": "a72256b4-8c02-4ff8-982b-196ff1ca65ca"
      },
      "source": [
        "df.describe()"
      ],
      "execution_count": 99,
      "outputs": [
        {
          "output_type": "execute_result",
          "data": {
            "text/html": [
              "<div>\n",
              "<style scoped>\n",
              "    .dataframe tbody tr th:only-of-type {\n",
              "        vertical-align: middle;\n",
              "    }\n",
              "\n",
              "    .dataframe tbody tr th {\n",
              "        vertical-align: top;\n",
              "    }\n",
              "\n",
              "    .dataframe thead th {\n",
              "        text-align: right;\n",
              "    }\n",
              "</style>\n",
              "<table border=\"1\" class=\"dataframe\">\n",
              "  <thead>\n",
              "    <tr style=\"text-align: right;\">\n",
              "      <th></th>\n",
              "      <th>Temperature</th>\n",
              "    </tr>\n",
              "  </thead>\n",
              "  <tbody>\n",
              "    <tr>\n",
              "      <th>count</th>\n",
              "      <td>3650.000000</td>\n",
              "    </tr>\n",
              "    <tr>\n",
              "      <th>mean</th>\n",
              "      <td>11.177753</td>\n",
              "    </tr>\n",
              "    <tr>\n",
              "      <th>std</th>\n",
              "      <td>4.071837</td>\n",
              "    </tr>\n",
              "    <tr>\n",
              "      <th>min</th>\n",
              "      <td>0.000000</td>\n",
              "    </tr>\n",
              "    <tr>\n",
              "      <th>25%</th>\n",
              "      <td>8.300000</td>\n",
              "    </tr>\n",
              "    <tr>\n",
              "      <th>50%</th>\n",
              "      <td>11.000000</td>\n",
              "    </tr>\n",
              "    <tr>\n",
              "      <th>75%</th>\n",
              "      <td>14.000000</td>\n",
              "    </tr>\n",
              "    <tr>\n",
              "      <th>max</th>\n",
              "      <td>26.300000</td>\n",
              "    </tr>\n",
              "  </tbody>\n",
              "</table>\n",
              "</div>"
            ],
            "text/plain": [
              "       Temperature\n",
              "count  3650.000000\n",
              "mean     11.177753\n",
              "std       4.071837\n",
              "min       0.000000\n",
              "25%       8.300000\n",
              "50%      11.000000\n",
              "75%      14.000000\n",
              "max      26.300000"
            ]
          },
          "metadata": {
            "tags": []
          },
          "execution_count": 99
        }
      ]
    },
    {
      "cell_type": "code",
      "metadata": {
        "id": "TeBAK3PtPyvu",
        "colab_type": "code",
        "colab": {
          "base_uri": "https://localhost:8080/",
          "height": 151
        },
        "outputId": "73928cdb-4302-4134-870f-b4b223595e84"
      },
      "source": [
        "df.info()"
      ],
      "execution_count": 100,
      "outputs": [
        {
          "output_type": "stream",
          "text": [
            "<class 'pandas.core.frame.DataFrame'>\n",
            "Index: 3650 entries, 1981-01-01 to 1990-12-31\n",
            "Data columns (total 1 columns):\n",
            " #   Column       Non-Null Count  Dtype  \n",
            "---  ------       --------------  -----  \n",
            " 0   Temperature  3650 non-null   float64\n",
            "dtypes: float64(1)\n",
            "memory usage: 57.0+ KB\n"
          ],
          "name": "stdout"
        }
      ]
    },
    {
      "cell_type": "markdown",
      "metadata": {
        "id": "bizrToFMB4ix",
        "colab_type": "text"
      },
      "source": [
        "### Plot the dataframe\n",
        "- use plot() method"
      ]
    },
    {
      "cell_type": "code",
      "metadata": {
        "id": "rNiXK6YZB30N",
        "colab_type": "code",
        "colab": {
          "base_uri": "https://localhost:8080/",
          "height": 296
        },
        "outputId": "b1e6cc1b-9d2a-4b0f-dd2c-7da68887f2f5"
      },
      "source": [
        "df.plot()"
      ],
      "execution_count": 101,
      "outputs": [
        {
          "output_type": "execute_result",
          "data": {
            "text/plain": [
              "<matplotlib.axes._subplots.AxesSubplot at 0x7f3a5a6397f0>"
            ]
          },
          "metadata": {
            "tags": []
          },
          "execution_count": 101
        },
        {
          "output_type": "display_data",
          "data": {
            "image/png": "[encoded data removed]",
            "text/plain": [
              "<Figure size 432x288 with 1 Axes>"
            ]
          },
          "metadata": {
            "tags": [],
            "needs_background": "light"
          }
        }
      ]
    },
    {
      "cell_type": "markdown",
      "metadata": {
        "id": "OtI9ZGJqE1lh",
        "colab_type": "text"
      },
      "source": [
        "### Get representation of the distribution of data using histogram\n",
        "- use hist() method"
      ]
    },
    {
      "cell_type": "code",
      "metadata": {
        "id": "qan611HdE9nR",
        "colab_type": "code",
        "colab": {
          "base_uri": "https://localhost:8080/",
          "height": 314
        },
        "outputId": "c0278846-9a82-4f32-bb27-a3f5ae1410e0"
      },
      "source": [
        "df.hist()"
      ],
      "execution_count": 102,
      "outputs": [
        {
          "output_type": "execute_result",
          "data": {
            "text/plain": [
              "array([[<matplotlib.axes._subplots.AxesSubplot object at 0x7f3a5a4a59e8>]],\n",
              "      dtype=object)"
            ]
          },
          "metadata": {
            "tags": []
          },
          "execution_count": 102
        },
        {
          "output_type": "display_data",
          "data": {
            "image/png": "[encoded data removed]",
            "text/plain": [
              "<Figure size 432x288 with 1 Axes>"
            ]
          },
          "metadata": {
            "tags": [],
            "needs_background": "light"
          }
        }
      ]
    },
    {
      "cell_type": "markdown",
      "metadata": {
        "id": "D8VDVRisHAsH",
        "colab_type": "text"
      },
      "source": [
        "### Check minimum and maximum temperature\n",
        "- use min() and max() methods"
      ]
    },
    {
      "cell_type": "code",
      "metadata": {
        "id": "xlwlVtRfG_qX",
        "colab_type": "code",
        "colab": {
          "base_uri": "https://localhost:8080/",
          "height": 34
        },
        "outputId": "1c174ffc-1cb1-4c54-90de-107e98ca7ffe"
      },
      "source": [
        "df.Temperature.min()"
      ],
      "execution_count": 103,
      "outputs": [
        {
          "output_type": "execute_result",
          "data": {
            "text/plain": [
              "0.0"
            ]
          },
          "metadata": {
            "tags": []
          },
          "execution_count": 103
        }
      ]
    },
    {
      "cell_type": "code",
      "metadata": {
        "id": "abO5iWWAFFCJ",
        "colab_type": "code",
        "colab": {
          "base_uri": "https://localhost:8080/",
          "height": 34
        },
        "outputId": "c04ba59e-2a2f-45b8-aee3-ac15327819f3"
      },
      "source": [
        "df.Temperature.max()"
      ],
      "execution_count": 104,
      "outputs": [
        {
          "output_type": "execute_result",
          "data": {
            "text/plain": [
              "26.3"
            ]
          },
          "metadata": {
            "tags": []
          },
          "execution_count": 104
        }
      ]
    },
    {
      "cell_type": "markdown",
      "metadata": {
        "id": "qTjD3zhSI_BD",
        "colab_type": "text"
      },
      "source": [
        "## Question 4"
      ]
    },
    {
      "cell_type": "markdown",
      "metadata": {
        "id": "QSDmmRxBMOO7",
        "colab_type": "text"
      },
      "source": [
        "### Split the dataset into training and testing\n",
        "- training data: 75%\n",
        "- testing data: 25%"
      ]
    },
    {
      "cell_type": "code",
      "metadata": {
        "id": "S1vK_QxgVFCR",
        "colab_type": "code",
        "colab": {}
      },
      "source": [
        "import numpy as np\n",
        "train_data = df[:int(len(df)*.75)]\n",
        "test_data = df[int(len(df)*0.75):]"
      ],
      "execution_count": 105,
      "outputs": []
    },
    {
      "cell_type": "code",
      "metadata": {
        "id": "HzgaH8TlQun9",
        "colab_type": "code",
        "colab": {
          "base_uri": "https://localhost:8080/",
          "height": 34
        },
        "outputId": "7e0f9033-ce5e-4fe3-db50-756ae9cb1818"
      },
      "source": [
        "train_data.shape, test_data.shape"
      ],
      "execution_count": 106,
      "outputs": [
        {
          "output_type": "execute_result",
          "data": {
            "text/plain": [
              "((2737, 1), (913, 1))"
            ]
          },
          "metadata": {
            "tags": []
          },
          "execution_count": 106
        }
      ]
    },
    {
      "cell_type": "markdown",
      "metadata": {
        "id": "eEgBn5JkKwrZ",
        "colab_type": "text"
      },
      "source": [
        "### Normalize the data\n",
        "- normalize temperature values using MinMaxScaler\n",
        "- feature_range: 0-1\n",
        "- fit MinMaxScaler on train data and transform it\n",
        "  - use fit_transform() method\n",
        "- transform test data using MinMaxScaler object\n",
        "  - use transform() method"
      ]
    },
    {
      "cell_type": "code",
      "metadata": {
        "id": "OqDcm7tbI19Z",
        "colab_type": "code",
        "colab": {}
      },
      "source": [
        "from sklearn.preprocessing import MinMaxScaler\n",
        "scaler = MinMaxScaler(feature_range=(0,1))"
      ],
      "execution_count": 107,
      "outputs": []
    },
    {
      "cell_type": "code",
      "metadata": {
        "id": "I_ZCIwsQUAqN",
        "colab_type": "code",
        "colab": {}
      },
      "source": [
        "train_data = scaler.fit_transform(train_data)\n",
        "test_data = scaler.transform(test_data)"
      ],
      "execution_count": 108,
      "outputs": []
    },
    {
      "cell_type": "markdown",
      "metadata": {
        "id": "4HjbO8gRQ3M1",
        "colab_type": "text"
      },
      "source": [
        "### Print scaled train and test data\n",
        "- print only first 5 values"
      ]
    },
    {
      "cell_type": "code",
      "metadata": {
        "id": "U_WDZwKxRBRx",
        "colab_type": "code",
        "colab": {
          "base_uri": "https://localhost:8080/",
          "height": 101
        },
        "outputId": "fd1df1a3-c86c-4231-8eea-abf9cc63b890"
      },
      "source": [
        "train_data[0:5]"
      ],
      "execution_count": 109,
      "outputs": [
        {
          "output_type": "execute_result",
          "data": {
            "text/plain": [
              "array([[0.78707224],\n",
              "       [0.68060837],\n",
              "       [0.7148289 ],\n",
              "       [0.55513308],\n",
              "       [0.60076046]])"
            ]
          },
          "metadata": {
            "tags": []
          },
          "execution_count": 109
        }
      ]
    },
    {
      "cell_type": "code",
      "metadata": {
        "id": "vYlwALHrRGcX",
        "colab_type": "code",
        "colab": {
          "base_uri": "https://localhost:8080/",
          "height": 101
        },
        "outputId": "765c9610-98a4-43fb-8a9a-966281e5ac08"
      },
      "source": [
        "test_data[0:5]"
      ],
      "execution_count": 110,
      "outputs": [
        {
          "output_type": "execute_result",
          "data": {
            "text/plain": [
              "array([[0.22813688],\n",
              "       [0.22053232],\n",
              "       [0.18631179],\n",
              "       [0.19011407],\n",
              "       [0.31939163]])"
            ]
          },
          "metadata": {
            "tags": []
          },
          "execution_count": 110
        }
      ]
    },
    {
      "cell_type": "markdown",
      "metadata": {
        "id": "JB5lHp94RQWY",
        "colab_type": "text"
      },
      "source": [
        "## Question 5"
      ]
    },
    {
      "cell_type": "markdown",
      "metadata": {
        "id": "kVqNUf00RSiv",
        "colab_type": "text"
      },
      "source": [
        "### Create sequential data\n",
        "Map the temperature at a particular day 'd' to the temperature at day t\n",
        "'d+n', where n is any number you define.\n",
        "\n",
        "For example: to map temperatures of consecutive days, use d+1, i.e. lookback = 1\n",
        "- Below function takes data as input and returns sequential data.\n",
        "- X as features and y as labels"
      ]
    },
    {
      "cell_type": "code",
      "metadata": {
        "id": "AtxhXruAWws-",
        "colab_type": "code",
        "colab": {}
      },
      "source": [
        "import numpy as np\n",
        "def create_seq_data(data, lookback=1):\n",
        "  X, y = list(), list()\n",
        "  \n",
        "  for day in range((len(data)-lookback)):\n",
        "    X.append(data[day: day+lookback, 0])\n",
        "    y.append(data[day+lookback, 0])\n",
        "  return np.array(X), np.array(y)"
      ],
      "execution_count": 111,
      "outputs": []
    },
    {
      "cell_type": "markdown",
      "metadata": {
        "id": "VMBJpuDQJzcG",
        "colab_type": "text"
      },
      "source": [
        "### Use the above function to create train and test sets\n",
        "- Get X_train and y_train\n",
        "- Get X_test and y_test\n",
        "- lookback = 1"
      ]
    },
    {
      "cell_type": "code",
      "metadata": {
        "id": "Uq6GGmJ0Zqem",
        "colab_type": "code",
        "colab": {}
      },
      "source": [
        "X_train, y_train = create_seq_data(train_data)\n",
        "X_test, y_test = create_seq_data(test_data)"
      ],
      "execution_count": 130,
      "outputs": []
    },
    {
      "cell_type": "code",
      "metadata": {
        "id": "HyIpcXPDX097",
        "colab_type": "code",
        "colab": {
          "base_uri": "https://localhost:8080/",
          "height": 168
        },
        "outputId": "8f421f46-4c83-4022-8da2-dd5a9beb0446"
      },
      "source": [
        "X_train, y_train"
      ],
      "execution_count": 131,
      "outputs": [
        {
          "output_type": "execute_result",
          "data": {
            "text/plain": [
              "(array([[0.78707224],\n",
              "        [0.68060837],\n",
              "        [0.7148289 ],\n",
              "        ...,\n",
              "        [0.38022814],\n",
              "        [0.25475285],\n",
              "        [0.35741445]]),\n",
              " array([0.68060837, 0.7148289 , 0.55513308, ..., 0.25475285, 0.35741445,\n",
              "        0.35361217]))"
            ]
          },
          "metadata": {
            "tags": []
          },
          "execution_count": 131
        }
      ]
    },
    {
      "cell_type": "code",
      "metadata": {
        "id": "ctg0m8gcYVF2",
        "colab_type": "code",
        "colab": {
          "base_uri": "https://localhost:8080/",
          "height": 1000
        },
        "outputId": "f41919ed-e0e5-4430-cecc-1d5b75dbba89"
      },
      "source": [
        "X_test, y_test"
      ],
      "execution_count": 132,
      "outputs": [
        {
          "output_type": "execute_result",
          "data": {
            "text/plain": [
              "(array([[0.22813688],\n",
              "        [0.22053232],\n",
              "        [0.18631179],\n",
              "        [0.19011407],\n",
              "        [0.31939163],\n",
              "        [0.46768061],\n",
              "        [0.49429658],\n",
              "        [0.43346008],\n",
              "        [0.25855513],\n",
              "        [0.28897338],\n",
              "        [0.47148289],\n",
              "        [0.26996198],\n",
              "        [0.2851711 ],\n",
              "        [0.38022814],\n",
              "        [0.20152091],\n",
              "        [0.23954373],\n",
              "        [0.30418251],\n",
              "        [0.31558935],\n",
              "        [0.35361217],\n",
              "        [0.36121673],\n",
              "        [0.21292776],\n",
              "        [0.2661597 ],\n",
              "        [0.32319392],\n",
              "        [0.32319392],\n",
              "        [0.31178707],\n",
              "        [0.32319392],\n",
              "        [0.36501901],\n",
              "        [0.36882129],\n",
              "        [0.26996198],\n",
              "        [0.31939163],\n",
              "        [0.34980989],\n",
              "        [0.37262357],\n",
              "        [0.30798479],\n",
              "        [0.35741445],\n",
              "        [0.38022814],\n",
              "        [0.19391635],\n",
              "        [0.25475285],\n",
              "        [0.26235741],\n",
              "        [0.25855513],\n",
              "        [0.3269962 ],\n",
              "        [0.3460076 ],\n",
              "        [0.14828897],\n",
              "        [0.18250951],\n",
              "        [0.31939163],\n",
              "        [0.44106464],\n",
              "        [0.46007605],\n",
              "        [0.47148289],\n",
              "        [0.38022814],\n",
              "        [0.38403042],\n",
              "        [0.36882129],\n",
              "        [0.44486692],\n",
              "        [0.30038023],\n",
              "        [0.3269962 ],\n",
              "        [0.29277567],\n",
              "        [0.22053232],\n",
              "        [0.33079848],\n",
              "        [0.40304183],\n",
              "        [0.25475285],\n",
              "        [0.33460076],\n",
              "        [0.36882129],\n",
              "        [0.34220532],\n",
              "        [0.4486692 ],\n",
              "        [0.57794677],\n",
              "        [0.38022814],\n",
              "        [0.39923954],\n",
              "        [0.20912548],\n",
              "        [0.35741445],\n",
              "        [0.33460076],\n",
              "        [0.20152091],\n",
              "        [0.49429658],\n",
              "        [0.57794677],\n",
              "        [0.50190114],\n",
              "        [0.43726236],\n",
              "        [0.25855513],\n",
              "        [0.17870722],\n",
              "        [0.19771863],\n",
              "        [0.25855513],\n",
              "        [0.40684411],\n",
              "        [0.38403042],\n",
              "        [0.38022814],\n",
              "        [0.37262357],\n",
              "        [0.20912548],\n",
              "        [0.51330798],\n",
              "        [0.63117871],\n",
              "        [0.31939163],\n",
              "        [0.31178707],\n",
              "        [0.42205323],\n",
              "        [0.41064639],\n",
              "        [0.33460076],\n",
              "        [0.41064639],\n",
              "        [0.33079848],\n",
              "        [0.47148289],\n",
              "        [0.34220532],\n",
              "        [0.51330798],\n",
              "        [0.55893536],\n",
              "        [0.41444867],\n",
              "        [0.32319392],\n",
              "        [0.22813688],\n",
              "        [0.48288973],\n",
              "        [0.42205323],\n",
              "        [0.33079848],\n",
              "        [0.46768061],\n",
              "        [0.50570342],\n",
              "        [0.21292776],\n",
              "        [0.52091255],\n",
              "        [0.32319392],\n",
              "        [0.42585551],\n",
              "        [0.33079848],\n",
              "        [0.44486692],\n",
              "        [0.47528517],\n",
              "        [0.31178707],\n",
              "        [0.59315589],\n",
              "        [0.39163498],\n",
              "        [0.43346008],\n",
              "        [0.36882129],\n",
              "        [0.23954373],\n",
              "        [0.54372624],\n",
              "        [0.42965779],\n",
              "        [0.27756654],\n",
              "        [0.48669202],\n",
              "        [0.45247148],\n",
              "        [0.54372624],\n",
              "        [0.44106464],\n",
              "        [0.50190114],\n",
              "        [0.58935361],\n",
              "        [0.53612167],\n",
              "        [0.36121673],\n",
              "        [0.27376426],\n",
              "        [0.4486692 ],\n",
              "        [0.63878327],\n",
              "        [0.47528517],\n",
              "        [0.35741445],\n",
              "        [0.45247148],\n",
              "        [0.39163498],\n",
              "        [0.64258555],\n",
              "        [0.66539924],\n",
              "        [0.2851711 ],\n",
              "        [0.3269962 ],\n",
              "        [0.42205323],\n",
              "        [0.43726236],\n",
              "        [0.40684411],\n",
              "        [0.59695817],\n",
              "        [0.48669202],\n",
              "        [0.49429658],\n",
              "        [0.4904943 ],\n",
              "        [0.54372624],\n",
              "        [0.52091255],\n",
              "        [0.46007605],\n",
              "        [0.45247148],\n",
              "        [0.4486692 ],\n",
              "        [0.43346008],\n",
              "        [0.39163498],\n",
              "        [0.44486692],\n",
              "        [0.45627376],\n",
              "        [0.66159696],\n",
              "        [0.63878327],\n",
              "        [0.61596958],\n",
              "        [0.49429658],\n",
              "        [0.47528517],\n",
              "        [0.47148289],\n",
              "        [0.6121673 ],\n",
              "        [0.76806084],\n",
              "        [0.54372624],\n",
              "        [0.41825095],\n",
              "        [0.54752852],\n",
              "        [0.59695817],\n",
              "        [0.74904943],\n",
              "        [0.78707224],\n",
              "        [0.90874525],\n",
              "        [0.63117871],\n",
              "        [0.66539924],\n",
              "        [0.56653992],\n",
              "        [0.51711027],\n",
              "        [0.45247148],\n",
              "        [0.57794677],\n",
              "        [0.65779468],\n",
              "        [0.75285171],\n",
              "        [0.60076046],\n",
              "        [0.36121673],\n",
              "        [0.4904943 ],\n",
              "        [0.4904943 ],\n",
              "        [0.56273764],\n",
              "        [0.53612167],\n",
              "        [0.54372624],\n",
              "        [0.66159696],\n",
              "        [0.70342205],\n",
              "        [0.63878327],\n",
              "        [0.43726236],\n",
              "        [0.36121673],\n",
              "        [0.46387833],\n",
              "        [0.59695817],\n",
              "        [0.61977186],\n",
              "        [0.51711027],\n",
              "        [0.47908745],\n",
              "        [0.52471483],\n",
              "        [0.46007605],\n",
              "        [0.5095057 ],\n",
              "        [0.65779468],\n",
              "        [0.73764259],\n",
              "        [0.63117871],\n",
              "        [0.52851711],\n",
              "        [0.49809886],\n",
              "        [0.60836502],\n",
              "        [0.5513308 ],\n",
              "        [0.57034221],\n",
              "        [0.47908745],\n",
              "        [0.47528517],\n",
              "        [0.57794677],\n",
              "        [0.61596958],\n",
              "        [0.62737643],\n",
              "        [0.76425856],\n",
              "        [0.78326996],\n",
              "        [0.64258555],\n",
              "        [0.62737643],\n",
              "        [0.6121673 ],\n",
              "        [0.54752852],\n",
              "        [0.61977186],\n",
              "        [0.59695817],\n",
              "        [0.53992395],\n",
              "        [0.50190114],\n",
              "        [0.63878327],\n",
              "        [0.70342205],\n",
              "        [0.63498099],\n",
              "        [0.58174905],\n",
              "        [0.60456274],\n",
              "        [0.57794677],\n",
              "        [0.66539924],\n",
              "        [0.69581749],\n",
              "        [0.73764259],\n",
              "        [0.73764259],\n",
              "        [0.74144487],\n",
              "        [0.77946768],\n",
              "        [0.59695817],\n",
              "        [0.57034221],\n",
              "        [0.6121673 ],\n",
              "        [0.54372624],\n",
              "        [0.49429658],\n",
              "        [0.61596958],\n",
              "        [0.6730038 ],\n",
              "        [0.50190114],\n",
              "        [0.60076046],\n",
              "        [0.70342205],\n",
              "        [0.7756654 ],\n",
              "        [0.8365019 ],\n",
              "        [0.74904943],\n",
              "        [0.74524715],\n",
              "        [0.77186312],\n",
              "        [0.69581749],\n",
              "        [0.71863118],\n",
              "        [0.77186312],\n",
              "        [0.81368821],\n",
              "        [0.69581749],\n",
              "        [0.67680608],\n",
              "        [0.6730038 ],\n",
              "        [0.48669202],\n",
              "        [0.57414449],\n",
              "        [0.57034221],\n",
              "        [0.56273764],\n",
              "        [0.45627376],\n",
              "        [0.47528517],\n",
              "        [0.57034221],\n",
              "        [0.65019011],\n",
              "        [0.65779468],\n",
              "        [0.64258555],\n",
              "        [0.62737643],\n",
              "        [0.51711027],\n",
              "        [0.50190114],\n",
              "        [0.35741445],\n",
              "        [0.36121673],\n",
              "        [0.4486692 ],\n",
              "        [0.39543726],\n",
              "        [0.36882129],\n",
              "        [0.47908745],\n",
              "        [0.50570342],\n",
              "        [0.57414449],\n",
              "        [0.53992395],\n",
              "        [0.53992395],\n",
              "        [0.73003802],\n",
              "        [0.47908745],\n",
              "        [0.53992395],\n",
              "        [0.45247148],\n",
              "        [0.52851711],\n",
              "        [0.51330798],\n",
              "        [0.58174905],\n",
              "        [0.52851711],\n",
              "        [0.53231939],\n",
              "        [0.4904943 ],\n",
              "        [0.32319392],\n",
              "        [0.43346008],\n",
              "        [0.41444867],\n",
              "        [0.45627376],\n",
              "        [0.3269962 ],\n",
              "        [0.34220532],\n",
              "        [0.36501901],\n",
              "        [0.3878327 ],\n",
              "        [0.37262357],\n",
              "        [0.31558935],\n",
              "        [0.41825095],\n",
              "        [0.45247148],\n",
              "        [0.53231939],\n",
              "        [0.60076046],\n",
              "        [0.5513308 ],\n",
              "        [0.50190114],\n",
              "        [0.53992395],\n",
              "        [0.55513308],\n",
              "        [0.4486692 ],\n",
              "        [0.54752852],\n",
              "        [0.39543726],\n",
              "        [0.39163498],\n",
              "        [0.41064639],\n",
              "        [0.39923954],\n",
              "        [0.36121673],\n",
              "        [0.47528517],\n",
              "        [0.52091255],\n",
              "        [0.48288973],\n",
              "        [0.45247148],\n",
              "        [0.43346008],\n",
              "        [0.36882129],\n",
              "        [0.31558935],\n",
              "        [0.30798479],\n",
              "        [0.44486692],\n",
              "        [0.44106464],\n",
              "        [0.28136882],\n",
              "        [0.19771863],\n",
              "        [0.41825095],\n",
              "        [0.36121673],\n",
              "        [0.34980989],\n",
              "        [0.40684411],\n",
              "        [0.34220532],\n",
              "        [0.3878327 ],\n",
              "        [0.39163498],\n",
              "        [0.46007605],\n",
              "        [0.50190114],\n",
              "        [0.25095057],\n",
              "        [0.08745247],\n",
              "        [0.05323194],\n",
              "        [0.07984791],\n",
              "        [0.25095057],\n",
              "        [0.33840304],\n",
              "        [0.29657795],\n",
              "        [0.34220532],\n",
              "        [0.39163498],\n",
              "        [0.30038023],\n",
              "        [0.27376426],\n",
              "        [0.3269962 ],\n",
              "        [0.33460076],\n",
              "        [0.23574144],\n",
              "        [0.36121673],\n",
              "        [0.3878327 ],\n",
              "        [0.36882129],\n",
              "        [0.42585551],\n",
              "        [0.3878327 ],\n",
              "        [0.38403042],\n",
              "        [0.30798479],\n",
              "        [0.25095057],\n",
              "        [0.19011407],\n",
              "        [0.17870722],\n",
              "        [0.20152091],\n",
              "        [0.17110266],\n",
              "        [0.08745247],\n",
              "        [0.05323194],\n",
              "        [0.01901141],\n",
              "        [0.09125475],\n",
              "        [0.30418251],\n",
              "        [0.22813688],\n",
              "        [0.26996198],\n",
              "        [0.36882129],\n",
              "        [0.26235741],\n",
              "        [0.20152091],\n",
              "        [0.2661597 ],\n",
              "        [0.23574144],\n",
              "        [0.2661597 ],\n",
              "        [0.36882129],\n",
              "        [0.30418251],\n",
              "        [0.32319392],\n",
              "        [0.26996198],\n",
              "        [0.2851711 ],\n",
              "        [0.12547529],\n",
              "        [0.06844106],\n",
              "        [0.09885932],\n",
              "        [0.20152091],\n",
              "        [0.22053232],\n",
              "        [0.22053232],\n",
              "        [0.27376426],\n",
              "        [0.20152091],\n",
              "        [0.0608365 ],\n",
              "        [0.11787072],\n",
              "        [0.20152091],\n",
              "        [0.29277567],\n",
              "        [0.15969582],\n",
              "        [0.20912548],\n",
              "        [0.34220532],\n",
              "        [0.42585551],\n",
              "        [0.30418251],\n",
              "        [0.28897338],\n",
              "        [0.14068441],\n",
              "        [0.2851711 ],\n",
              "        [0.30798479],\n",
              "        [0.31939163],\n",
              "        [0.26996198],\n",
              "        [0.28897338],\n",
              "        [0.28897338],\n",
              "        [0.21292776],\n",
              "        [0.2661597 ],\n",
              "        [0.39923954],\n",
              "        [0.27756654],\n",
              "        [0.29657795],\n",
              "        [0.22053232],\n",
              "        [0.14448669],\n",
              "        [0.22053232],\n",
              "        [0.25475285],\n",
              "        [0.25095057],\n",
              "        [0.25095057],\n",
              "        [0.34220532],\n",
              "        [0.30798479],\n",
              "        [0.19391635],\n",
              "        [0.3269962 ],\n",
              "        [0.2661597 ],\n",
              "        [0.20912548],\n",
              "        [0.28136882],\n",
              "        [0.23574144],\n",
              "        [0.15969582],\n",
              "        [0.23954373],\n",
              "        [0.2661597 ],\n",
              "        [0.15209125],\n",
              "        [0.30418251],\n",
              "        [0.33460076],\n",
              "        [0.33460076],\n",
              "        [0.23193916],\n",
              "        [0.3269962 ],\n",
              "        [0.33840304],\n",
              "        [0.29657795],\n",
              "        [0.19011407],\n",
              "        [0.2661597 ],\n",
              "        [0.50570342],\n",
              "        [0.30038023],\n",
              "        [0.2851711 ],\n",
              "        [0.31558935],\n",
              "        [0.27376426],\n",
              "        [0.24714829],\n",
              "        [0.33840304],\n",
              "        [0.28136882],\n",
              "        [0.37642586],\n",
              "        [0.35361217],\n",
              "        [0.40304183],\n",
              "        [0.3269962 ],\n",
              "        [0.27376426],\n",
              "        [0.47908745],\n",
              "        [0.29657795],\n",
              "        [0.23954373],\n",
              "        [0.34980989],\n",
              "        [0.22053232],\n",
              "        [0.34220532],\n",
              "        [0.19011407],\n",
              "        [0.45247148],\n",
              "        [0.5095057 ],\n",
              "        [0.39923954],\n",
              "        [0.23574144],\n",
              "        [0.19391635],\n",
              "        [0.36121673],\n",
              "        [0.44486692],\n",
              "        [0.34980989],\n",
              "        [0.27756654],\n",
              "        [0.36882129],\n",
              "        [0.35741445],\n",
              "        [0.38022814],\n",
              "        [0.41444867],\n",
              "        [0.41825095],\n",
              "        [0.41444867],\n",
              "        [0.30418251],\n",
              "        [0.42585551],\n",
              "        [0.2851711 ],\n",
              "        [0.27376426],\n",
              "        [0.50190114],\n",
              "        [0.4904943 ],\n",
              "        [0.35741445],\n",
              "        [0.3878327 ],\n",
              "        [0.36121673],\n",
              "        [0.47148289],\n",
              "        [0.3878327 ],\n",
              "        [0.5095057 ],\n",
              "        [0.44106464],\n",
              "        [0.30418251],\n",
              "        [0.34220532],\n",
              "        [0.35361217],\n",
              "        [0.51330798],\n",
              "        [0.30418251],\n",
              "        [0.30798479],\n",
              "        [0.38022814],\n",
              "        [0.32319392],\n",
              "        [0.47528517],\n",
              "        [0.57034221],\n",
              "        [0.50570342],\n",
              "        [0.41825095],\n",
              "        [0.45247148],\n",
              "        [0.31558935],\n",
              "        [0.36882129],\n",
              "        [0.42965779],\n",
              "        [0.47528517],\n",
              "        [0.35741445],\n",
              "        [0.43346008],\n",
              "        [0.50190114],\n",
              "        [0.52471483],\n",
              "        [0.60836502],\n",
              "        [0.41444867],\n",
              "        [0.45247148],\n",
              "        [0.47148289],\n",
              "        [0.50190114],\n",
              "        [0.58935361],\n",
              "        [0.82129278],\n",
              "        [0.56653992],\n",
              "        [0.54752852],\n",
              "        [0.4904943 ],\n",
              "        [0.49809886],\n",
              "        [0.53231939],\n",
              "        [0.68060837],\n",
              "        [0.6730038 ],\n",
              "        [0.61977186],\n",
              "        [0.69581749],\n",
              "        [0.52091255],\n",
              "        [0.50570342],\n",
              "        [0.40304183],\n",
              "        [0.53612167],\n",
              "        [0.60836502],\n",
              "        [0.62737643],\n",
              "        [0.53612167],\n",
              "        [0.71102662],\n",
              "        [0.61596958],\n",
              "        [0.56273764],\n",
              "        [0.47908745],\n",
              "        [0.39543726],\n",
              "        [0.46387833],\n",
              "        [0.47908745],\n",
              "        [0.46007605],\n",
              "        [0.65779468],\n",
              "        [0.62357414],\n",
              "        [0.47908745],\n",
              "        [0.46768061],\n",
              "        [0.4486692 ],\n",
              "        [0.45627376],\n",
              "        [0.48288973],\n",
              "        [0.62357414],\n",
              "        [0.60836502],\n",
              "        [0.50570342],\n",
              "        [0.44486692],\n",
              "        [0.39543726],\n",
              "        [0.54752852],\n",
              "        [0.48288973],\n",
              "        [0.56273764],\n",
              "        [0.50570342],\n",
              "        [0.59315589],\n",
              "        [0.5513308 ],\n",
              "        [0.54372624],\n",
              "        [0.58174905],\n",
              "        [0.62357414],\n",
              "        [0.56273764],\n",
              "        [0.66159696],\n",
              "        [0.7148289 ],\n",
              "        [0.84030418],\n",
              "        [0.72243346],\n",
              "        [0.58935361],\n",
              "        [0.60076046],\n",
              "        [0.55893536],\n",
              "        [0.40684411],\n",
              "        [0.43726236],\n",
              "        [0.57034221],\n",
              "        [0.5513308 ],\n",
              "        [0.5513308 ],\n",
              "        [0.50570342],\n",
              "        [0.54372624],\n",
              "        [0.54372624],\n",
              "        [0.77946768],\n",
              "        [0.57034221],\n",
              "        [0.65019011],\n",
              "        [0.64258555],\n",
              "        [0.64258555],\n",
              "        [0.51711027],\n",
              "        [0.62357414],\n",
              "        [0.6121673 ],\n",
              "        [0.45627376],\n",
              "        [0.46387833],\n",
              "        [0.56273764],\n",
              "        [0.56273764],\n",
              "        [0.54752852],\n",
              "        [0.4904943 ],\n",
              "        [0.5095057 ],\n",
              "        [0.60456274],\n",
              "        [0.6121673 ],\n",
              "        [0.66920152],\n",
              "        [0.59315589],\n",
              "        [0.57034221],\n",
              "        [0.49429658],\n",
              "        [0.53612167],\n",
              "        [0.65779468],\n",
              "        [0.59695817],\n",
              "        [0.70722433],\n",
              "        [0.48288973],\n",
              "        [0.53231939],\n",
              "        [0.52091255],\n",
              "        [0.61977186],\n",
              "        [0.76045627],\n",
              "        [0.64638783],\n",
              "        [0.57794677],\n",
              "        [0.62737643],\n",
              "        [0.62737643],\n",
              "        [0.65779468],\n",
              "        [0.72623574],\n",
              "        [0.7338403 ],\n",
              "        [0.65779468],\n",
              "        [0.72243346],\n",
              "        [0.75285171],\n",
              "        [0.7338403 ],\n",
              "        [0.6539924 ],\n",
              "        [0.53992395],\n",
              "        [0.39163498],\n",
              "        [0.49429658],\n",
              "        [0.58174905],\n",
              "        [0.57034221],\n",
              "        [0.46007605],\n",
              "        [0.34980989],\n",
              "        [0.41825095],\n",
              "        [0.57034221],\n",
              "        [0.44106464],\n",
              "        [0.44106464],\n",
              "        [0.57414449],\n",
              "        [0.57034221],\n",
              "        [0.51711027],\n",
              "        [0.47528517],\n",
              "        [0.54372624],\n",
              "        [0.60836502],\n",
              "        [0.66159696],\n",
              "        [0.64258555],\n",
              "        [0.68441065],\n",
              "        [0.78326996],\n",
              "        [0.53992395],\n",
              "        [0.41444867],\n",
              "        [0.45247148],\n",
              "        [0.50570342],\n",
              "        [0.58174905],\n",
              "        [0.55893536],\n",
              "        [0.41825095],\n",
              "        [0.46387833],\n",
              "        [0.53992395],\n",
              "        [0.64638783],\n",
              "        [0.60076046],\n",
              "        [0.57794677],\n",
              "        [0.57414449],\n",
              "        [0.55893536],\n",
              "        [0.70342205],\n",
              "        [0.62357414],\n",
              "        [0.69961977],\n",
              "        [0.57414449],\n",
              "        [0.37642586],\n",
              "        [0.3878327 ],\n",
              "        [0.47908745],\n",
              "        [0.50190114],\n",
              "        [0.43726236],\n",
              "        [0.52471483],\n",
              "        [0.5513308 ],\n",
              "        [0.55893536],\n",
              "        [0.42585551],\n",
              "        [0.48288973],\n",
              "        [0.52091255],\n",
              "        [0.43726236],\n",
              "        [0.39543726],\n",
              "        [0.33840304],\n",
              "        [0.42205323],\n",
              "        [0.36121673],\n",
              "        [0.49429658],\n",
              "        [0.52851711],\n",
              "        [0.47908745],\n",
              "        [0.54372624],\n",
              "        [0.60836502],\n",
              "        [0.50570342],\n",
              "        [0.2661597 ],\n",
              "        [0.18631179],\n",
              "        [0.26235741],\n",
              "        [0.52091255],\n",
              "        [0.40304183],\n",
              "        [0.46768061],\n",
              "        [0.42205323],\n",
              "        [0.3878327 ],\n",
              "        [0.36121673],\n",
              "        [0.33840304],\n",
              "        [0.5095057 ],\n",
              "        [0.3460076 ],\n",
              "        [0.35741445],\n",
              "        [0.33079848],\n",
              "        [0.22053232],\n",
              "        [0.17110266],\n",
              "        [0.27376426],\n",
              "        [0.38022814],\n",
              "        [0.39923954],\n",
              "        [0.40684411],\n",
              "        [0.31178707],\n",
              "        [0.23193916],\n",
              "        [0.17110266],\n",
              "        [0.23193916],\n",
              "        [0.37262357],\n",
              "        [0.36882129],\n",
              "        [0.31178707],\n",
              "        [0.31939163],\n",
              "        [0.32319392],\n",
              "        [0.39543726],\n",
              "        [0.25855513],\n",
              "        [0.22813688],\n",
              "        [0.25095057],\n",
              "        [0.29657795],\n",
              "        [0.39163498],\n",
              "        [0.27376426],\n",
              "        [0.28136882],\n",
              "        [0.43346008],\n",
              "        [0.20532319],\n",
              "        [0.16730038],\n",
              "        [0.24334601],\n",
              "        [0.35361217],\n",
              "        [0.29277567],\n",
              "        [0.30798479],\n",
              "        [0.31558935],\n",
              "        [0.3460076 ],\n",
              "        [0.29277567],\n",
              "        [0.40304183],\n",
              "        [0.31178707],\n",
              "        [0.30038023],\n",
              "        [0.19771863],\n",
              "        [0.2243346 ],\n",
              "        [0.14068441],\n",
              "        [0.21292776],\n",
              "        [0.35741445],\n",
              "        [0.28136882],\n",
              "        [0.27756654],\n",
              "        [0.29277567],\n",
              "        [0.29277567],\n",
              "        [0.35361217],\n",
              "        [0.16730038],\n",
              "        [0.21673004],\n",
              "        [0.3878327 ],\n",
              "        [0.3878327 ],\n",
              "        [0.35361217],\n",
              "        [0.20532319],\n",
              "        [0.19011407],\n",
              "        [0.28897338],\n",
              "        [0.36501901],\n",
              "        [0.39543726],\n",
              "        [0.42585551],\n",
              "        [0.3460076 ],\n",
              "        [0.42585551],\n",
              "        [0.25855513],\n",
              "        [0.31558935],\n",
              "        [0.36882129],\n",
              "        [0.36501901],\n",
              "        [0.37262357],\n",
              "        [0.41064639],\n",
              "        [0.34980989],\n",
              "        [0.24714829],\n",
              "        [0.30798479],\n",
              "        [0.27756654],\n",
              "        [0.30038023],\n",
              "        [0.22813688],\n",
              "        [0.19011407],\n",
              "        [0.25855513],\n",
              "        [0.37262357],\n",
              "        [0.21673004],\n",
              "        [0.3269962 ],\n",
              "        [0.40304183],\n",
              "        [0.29657795],\n",
              "        [0.29277567],\n",
              "        [0.3269962 ],\n",
              "        [0.24714829],\n",
              "        [0.26235741],\n",
              "        [0.24334601],\n",
              "        [0.32319392],\n",
              "        [0.29657795],\n",
              "        [0.35361217],\n",
              "        [0.31939163],\n",
              "        [0.29657795],\n",
              "        [0.28136882],\n",
              "        [0.29277567],\n",
              "        [0.33840304],\n",
              "        [0.36882129],\n",
              "        [0.37642586],\n",
              "        [0.23193916],\n",
              "        [0.25095057],\n",
              "        [0.28897338],\n",
              "        [0.28136882],\n",
              "        [0.30418251],\n",
              "        [0.07984791],\n",
              "        [0.2243346 ],\n",
              "        [0.44106464],\n",
              "        [0.3269962 ],\n",
              "        [0.30038023],\n",
              "        [0.22813688],\n",
              "        [0.36121673],\n",
              "        [0.3269962 ],\n",
              "        [0.28897338],\n",
              "        [0.39543726],\n",
              "        [0.39163498],\n",
              "        [0.2851711 ],\n",
              "        [0.11406844],\n",
              "        [0.20152091],\n",
              "        [0.39923954],\n",
              "        [0.55513308],\n",
              "        [0.47908745],\n",
              "        [0.37262357],\n",
              "        [0.27376426],\n",
              "        [0.38403042],\n",
              "        [0.39543726],\n",
              "        [0.14068441],\n",
              "        [0.27756654],\n",
              "        [0.44106464],\n",
              "        [0.61977186],\n",
              "        [0.36501901],\n",
              "        [0.25855513],\n",
              "        [0.19771863],\n",
              "        [0.40304183],\n",
              "        [0.61977186],\n",
              "        [0.37262357],\n",
              "        [0.17490494],\n",
              "        [0.42205323],\n",
              "        [0.33079848],\n",
              "        [0.38022814],\n",
              "        [0.42965779],\n",
              "        [0.39923954],\n",
              "        [0.37642586],\n",
              "        [0.41825095],\n",
              "        [0.53231939],\n",
              "        [0.34980989],\n",
              "        [0.37262357],\n",
              "        [0.22813688],\n",
              "        [0.37262357],\n",
              "        [0.34980989],\n",
              "        [0.4486692 ],\n",
              "        [0.39163498],\n",
              "        [0.2851711 ],\n",
              "        [0.29277567],\n",
              "        [0.60076046],\n",
              "        [0.55513308],\n",
              "        [0.39923954],\n",
              "        [0.42965779],\n",
              "        [0.41444867],\n",
              "        [0.24334601],\n",
              "        [0.41444867],\n",
              "        [0.34220532],\n",
              "        [0.41444867],\n",
              "        [0.47148289],\n",
              "        [0.44106464],\n",
              "        [0.50570342],\n",
              "        [0.54752852],\n",
              "        [0.69961977],\n",
              "        [0.51711027],\n",
              "        [0.56653992],\n",
              "        [0.56273764],\n",
              "        [0.58555133],\n",
              "        [0.4486692 ],\n",
              "        [0.49429658],\n",
              "        [0.42205323],\n",
              "        [0.47528517],\n",
              "        [0.69581749],\n",
              "        [0.73003802],\n",
              "        [0.58555133],\n",
              "        [0.49809886],\n",
              "        [0.43726236],\n",
              "        [0.3269962 ],\n",
              "        [0.47908745],\n",
              "        [0.52471483],\n",
              "        [0.55513308],\n",
              "        [0.50190114],\n",
              "        [0.46768061],\n",
              "        [0.33460076],\n",
              "        [0.40684411],\n",
              "        [0.37642586],\n",
              "        [0.31558935],\n",
              "        [0.57034221],\n",
              "        [0.46387833],\n",
              "        [0.39923954],\n",
              "        [0.42205323],\n",
              "        [0.49429658],\n",
              "        [0.4904943 ],\n",
              "        [0.33460076],\n",
              "        [0.55893536],\n",
              "        [0.55893536],\n",
              "        [0.48288973],\n",
              "        [0.50570342],\n",
              "        [0.50190114],\n",
              "        [0.61596958],\n",
              "        [0.65779468],\n",
              "        [0.77946768],\n",
              "        [0.76806084],\n",
              "        [0.73764259],\n",
              "        [0.58935361],\n",
              "        [0.53612167],\n",
              "        [0.41825095],\n",
              "        [0.42205323],\n",
              "        [0.53231939],\n",
              "        [0.43346008],\n",
              "        [0.47528517],\n",
              "        [0.5095057 ],\n",
              "        [0.51711027],\n",
              "        [0.52851711],\n",
              "        [0.6539924 ],\n",
              "        [0.55893536],\n",
              "        [0.58555133],\n",
              "        [0.49809886],\n",
              "        [0.50190114],\n",
              "        [0.52851711],\n",
              "        [0.38022814],\n",
              "        [0.4904943 ],\n",
              "        [0.55513308],\n",
              "        [0.53231939],\n",
              "        [0.51711027],\n",
              "        [0.51330798],\n",
              "        [0.59695817]]),\n",
              " array([0.22053232, 0.18631179, 0.19011407, 0.31939163, 0.46768061,\n",
              "        0.49429658, 0.43346008, 0.25855513, 0.28897338, 0.47148289,\n",
              "        0.26996198, 0.2851711 , 0.38022814, 0.20152091, 0.23954373,\n",
              "        0.30418251, 0.31558935, 0.35361217, 0.36121673, 0.21292776,\n",
              "        0.2661597 , 0.32319392, 0.32319392, 0.31178707, 0.32319392,\n",
              "        0.36501901, 0.36882129, 0.26996198, 0.31939163, 0.34980989,\n",
              "        0.37262357, 0.30798479, 0.35741445, 0.38022814, 0.19391635,\n",
              "        0.25475285, 0.26235741, 0.25855513, 0.3269962 , 0.3460076 ,\n",
              "        0.14828897, 0.18250951, 0.31939163, 0.44106464, 0.46007605,\n",
              "        0.47148289, 0.38022814, 0.38403042, 0.36882129, 0.44486692,\n",
              "        0.30038023, 0.3269962 , 0.29277567, 0.22053232, 0.33079848,\n",
              "        0.40304183, 0.25475285, 0.33460076, 0.36882129, 0.34220532,\n",
              "        0.4486692 , 0.57794677, 0.38022814, 0.39923954, 0.20912548,\n",
              "        0.35741445, 0.33460076, 0.20152091, 0.49429658, 0.57794677,\n",
              "        0.50190114, 0.43726236, 0.25855513, 0.17870722, 0.19771863,\n",
              "        0.25855513, 0.40684411, 0.38403042, 0.38022814, 0.37262357,\n",
              "        0.20912548, 0.51330798, 0.63117871, 0.31939163, 0.31178707,\n",
              "        0.42205323, 0.41064639, 0.33460076, 0.41064639, 0.33079848,\n",
              "        0.47148289, 0.34220532, 0.51330798, 0.55893536, 0.41444867,\n",
              "        0.32319392, 0.22813688, 0.48288973, 0.42205323, 0.33079848,\n",
              "        0.46768061, 0.50570342, 0.21292776, 0.52091255, 0.32319392,\n",
              "        0.42585551, 0.33079848, 0.44486692, 0.47528517, 0.31178707,\n",
              "        0.59315589, 0.39163498, 0.43346008, 0.36882129, 0.23954373,\n",
              "        0.54372624, 0.42965779, 0.27756654, 0.48669202, 0.45247148,\n",
              "        0.54372624, 0.44106464, 0.50190114, 0.58935361, 0.53612167,\n",
              "        0.36121673, 0.27376426, 0.4486692 , 0.63878327, 0.47528517,\n",
              "        0.35741445, 0.45247148, 0.39163498, 0.64258555, 0.66539924,\n",
              "        0.2851711 , 0.3269962 , 0.42205323, 0.43726236, 0.40684411,\n",
              "        0.59695817, 0.48669202, 0.49429658, 0.4904943 , 0.54372624,\n",
              "        0.52091255, 0.46007605, 0.45247148, 0.4486692 , 0.43346008,\n",
              "        0.39163498, 0.44486692, 0.45627376, 0.66159696, 0.63878327,\n",
              "        0.61596958, 0.49429658, 0.47528517, 0.47148289, 0.6121673 ,\n",
              "        0.76806084, 0.54372624, 0.41825095, 0.54752852, 0.59695817,\n",
              "        0.74904943, 0.78707224, 0.90874525, 0.63117871, 0.66539924,\n",
              "        0.56653992, 0.51711027, 0.45247148, 0.57794677, 0.65779468,\n",
              "        0.75285171, 0.60076046, 0.36121673, 0.4904943 , 0.4904943 ,\n",
              "        0.56273764, 0.53612167, 0.54372624, 0.66159696, 0.70342205,\n",
              "        0.63878327, 0.43726236, 0.36121673, 0.46387833, 0.59695817,\n",
              "        0.61977186, 0.51711027, 0.47908745, 0.52471483, 0.46007605,\n",
              "        0.5095057 , 0.65779468, 0.73764259, 0.63117871, 0.52851711,\n",
              "        0.49809886, 0.60836502, 0.5513308 , 0.57034221, 0.47908745,\n",
              "        0.47528517, 0.57794677, 0.61596958, 0.62737643, 0.76425856,\n",
              "        0.78326996, 0.64258555, 0.62737643, 0.6121673 , 0.54752852,\n",
              "        0.61977186, 0.59695817, 0.53992395, 0.50190114, 0.63878327,\n",
              "        0.70342205, 0.63498099, 0.58174905, 0.60456274, 0.57794677,\n",
              "        0.66539924, 0.69581749, 0.73764259, 0.73764259, 0.74144487,\n",
              "        0.77946768, 0.59695817, 0.57034221, 0.6121673 , 0.54372624,\n",
              "        0.49429658, 0.61596958, 0.6730038 , 0.50190114, 0.60076046,\n",
              "        0.70342205, 0.7756654 , 0.8365019 , 0.74904943, 0.74524715,\n",
              "        0.77186312, 0.69581749, 0.71863118, 0.77186312, 0.81368821,\n",
              "        0.69581749, 0.67680608, 0.6730038 , 0.48669202, 0.57414449,\n",
              "        0.57034221, 0.56273764, 0.45627376, 0.47528517, 0.57034221,\n",
              "        0.65019011, 0.65779468, 0.64258555, 0.62737643, 0.51711027,\n",
              "        0.50190114, 0.35741445, 0.36121673, 0.4486692 , 0.39543726,\n",
              "        0.36882129, 0.47908745, 0.50570342, 0.57414449, 0.53992395,\n",
              "        0.53992395, 0.73003802, 0.47908745, 0.53992395, 0.45247148,\n",
              "        0.52851711, 0.51330798, 0.58174905, 0.52851711, 0.53231939,\n",
              "        0.4904943 , 0.32319392, 0.43346008, 0.41444867, 0.45627376,\n",
              "        0.3269962 , 0.34220532, 0.36501901, 0.3878327 , 0.37262357,\n",
              "        0.31558935, 0.41825095, 0.45247148, 0.53231939, 0.60076046,\n",
              "        0.5513308 , 0.50190114, 0.53992395, 0.55513308, 0.4486692 ,\n",
              "        0.54752852, 0.39543726, 0.39163498, 0.41064639, 0.39923954,\n",
              "        0.36121673, 0.47528517, 0.52091255, 0.48288973, 0.45247148,\n",
              "        0.43346008, 0.36882129, 0.31558935, 0.30798479, 0.44486692,\n",
              "        0.44106464, 0.28136882, 0.19771863, 0.41825095, 0.36121673,\n",
              "        0.34980989, 0.40684411, 0.34220532, 0.3878327 , 0.39163498,\n",
              "        0.46007605, 0.50190114, 0.25095057, 0.08745247, 0.05323194,\n",
              "        0.07984791, 0.25095057, 0.33840304, 0.29657795, 0.34220532,\n",
              "        0.39163498, 0.30038023, 0.27376426, 0.3269962 , 0.33460076,\n",
              "        0.23574144, 0.36121673, 0.3878327 , 0.36882129, 0.42585551,\n",
              "        0.3878327 , 0.38403042, 0.30798479, 0.25095057, 0.19011407,\n",
              "        0.17870722, 0.20152091, 0.17110266, 0.08745247, 0.05323194,\n",
              "        0.01901141, 0.09125475, 0.30418251, 0.22813688, 0.26996198,\n",
              "        0.36882129, 0.26235741, 0.20152091, 0.2661597 , 0.23574144,\n",
              "        0.2661597 , 0.36882129, 0.30418251, 0.32319392, 0.26996198,\n",
              "        0.2851711 , 0.12547529, 0.06844106, 0.09885932, 0.20152091,\n",
              "        0.22053232, 0.22053232, 0.27376426, 0.20152091, 0.0608365 ,\n",
              "        0.11787072, 0.20152091, 0.29277567, 0.15969582, 0.20912548,\n",
              "        0.34220532, 0.42585551, 0.30418251, 0.28897338, 0.14068441,\n",
              "        0.2851711 , 0.30798479, 0.31939163, 0.26996198, 0.28897338,\n",
              "        0.28897338, 0.21292776, 0.2661597 , 0.39923954, 0.27756654,\n",
              "        0.29657795, 0.22053232, 0.14448669, 0.22053232, 0.25475285,\n",
              "        0.25095057, 0.25095057, 0.34220532, 0.30798479, 0.19391635,\n",
              "        0.3269962 , 0.2661597 , 0.20912548, 0.28136882, 0.23574144,\n",
              "        0.15969582, 0.23954373, 0.2661597 , 0.15209125, 0.30418251,\n",
              "        0.33460076, 0.33460076, 0.23193916, 0.3269962 , 0.33840304,\n",
              "        0.29657795, 0.19011407, 0.2661597 , 0.50570342, 0.30038023,\n",
              "        0.2851711 , 0.31558935, 0.27376426, 0.24714829, 0.33840304,\n",
              "        0.28136882, 0.37642586, 0.35361217, 0.40304183, 0.3269962 ,\n",
              "        0.27376426, 0.47908745, 0.29657795, 0.23954373, 0.34980989,\n",
              "        0.22053232, 0.34220532, 0.19011407, 0.45247148, 0.5095057 ,\n",
              "        0.39923954, 0.23574144, 0.19391635, 0.36121673, 0.44486692,\n",
              "        0.34980989, 0.27756654, 0.36882129, 0.35741445, 0.38022814,\n",
              "        0.41444867, 0.41825095, 0.41444867, 0.30418251, 0.42585551,\n",
              "        0.2851711 , 0.27376426, 0.50190114, 0.4904943 , 0.35741445,\n",
              "        0.3878327 , 0.36121673, 0.47148289, 0.3878327 , 0.5095057 ,\n",
              "        0.44106464, 0.30418251, 0.34220532, 0.35361217, 0.51330798,\n",
              "        0.30418251, 0.30798479, 0.38022814, 0.32319392, 0.47528517,\n",
              "        0.57034221, 0.50570342, 0.41825095, 0.45247148, 0.31558935,\n",
              "        0.36882129, 0.42965779, 0.47528517, 0.35741445, 0.43346008,\n",
              "        0.50190114, 0.52471483, 0.60836502, 0.41444867, 0.45247148,\n",
              "        0.47148289, 0.50190114, 0.58935361, 0.82129278, 0.56653992,\n",
              "        0.54752852, 0.4904943 , 0.49809886, 0.53231939, 0.68060837,\n",
              "        0.6730038 , 0.61977186, 0.69581749, 0.52091255, 0.50570342,\n",
              "        0.40304183, 0.53612167, 0.60836502, 0.62737643, 0.53612167,\n",
              "        0.71102662, 0.61596958, 0.56273764, 0.47908745, 0.39543726,\n",
              "        0.46387833, 0.47908745, 0.46007605, 0.65779468, 0.62357414,\n",
              "        0.47908745, 0.46768061, 0.4486692 , 0.45627376, 0.48288973,\n",
              "        0.62357414, 0.60836502, 0.50570342, 0.44486692, 0.39543726,\n",
              "        0.54752852, 0.48288973, 0.56273764, 0.50570342, 0.59315589,\n",
              "        0.5513308 , 0.54372624, 0.58174905, 0.62357414, 0.56273764,\n",
              "        0.66159696, 0.7148289 , 0.84030418, 0.72243346, 0.58935361,\n",
              "        0.60076046, 0.55893536, 0.40684411, 0.43726236, 0.57034221,\n",
              "        0.5513308 , 0.5513308 , 0.50570342, 0.54372624, 0.54372624,\n",
              "        0.77946768, 0.57034221, 0.65019011, 0.64258555, 0.64258555,\n",
              "        0.51711027, 0.62357414, 0.6121673 , 0.45627376, 0.46387833,\n",
              "        0.56273764, 0.56273764, 0.54752852, 0.4904943 , 0.5095057 ,\n",
              "        0.60456274, 0.6121673 , 0.66920152, 0.59315589, 0.57034221,\n",
              "        0.49429658, 0.53612167, 0.65779468, 0.59695817, 0.70722433,\n",
              "        0.48288973, 0.53231939, 0.52091255, 0.61977186, 0.76045627,\n",
              "        0.64638783, 0.57794677, 0.62737643, 0.62737643, 0.65779468,\n",
              "        0.72623574, 0.7338403 , 0.65779468, 0.72243346, 0.75285171,\n",
              "        0.7338403 , 0.6539924 , 0.53992395, 0.39163498, 0.49429658,\n",
              "        0.58174905, 0.57034221, 0.46007605, 0.34980989, 0.41825095,\n",
              "        0.57034221, 0.44106464, 0.44106464, 0.57414449, 0.57034221,\n",
              "        0.51711027, 0.47528517, 0.54372624, 0.60836502, 0.66159696,\n",
              "        0.64258555, 0.68441065, 0.78326996, 0.53992395, 0.41444867,\n",
              "        0.45247148, 0.50570342, 0.58174905, 0.55893536, 0.41825095,\n",
              "        0.46387833, 0.53992395, 0.64638783, 0.60076046, 0.57794677,\n",
              "        0.57414449, 0.55893536, 0.70342205, 0.62357414, 0.69961977,\n",
              "        0.57414449, 0.37642586, 0.3878327 , 0.47908745, 0.50190114,\n",
              "        0.43726236, 0.52471483, 0.5513308 , 0.55893536, 0.42585551,\n",
              "        0.48288973, 0.52091255, 0.43726236, 0.39543726, 0.33840304,\n",
              "        0.42205323, 0.36121673, 0.49429658, 0.52851711, 0.47908745,\n",
              "        0.54372624, 0.60836502, 0.50570342, 0.2661597 , 0.18631179,\n",
              "        0.26235741, 0.52091255, 0.40304183, 0.46768061, 0.42205323,\n",
              "        0.3878327 , 0.36121673, 0.33840304, 0.5095057 , 0.3460076 ,\n",
              "        0.35741445, 0.33079848, 0.22053232, 0.17110266, 0.27376426,\n",
              "        0.38022814, 0.39923954, 0.40684411, 0.31178707, 0.23193916,\n",
              "        0.17110266, 0.23193916, 0.37262357, 0.36882129, 0.31178707,\n",
              "        0.31939163, 0.32319392, 0.39543726, 0.25855513, 0.22813688,\n",
              "        0.25095057, 0.29657795, 0.39163498, 0.27376426, 0.28136882,\n",
              "        0.43346008, 0.20532319, 0.16730038, 0.24334601, 0.35361217,\n",
              "        0.29277567, 0.30798479, 0.31558935, 0.3460076 , 0.29277567,\n",
              "        0.40304183, 0.31178707, 0.30038023, 0.19771863, 0.2243346 ,\n",
              "        0.14068441, 0.21292776, 0.35741445, 0.28136882, 0.27756654,\n",
              "        0.29277567, 0.29277567, 0.35361217, 0.16730038, 0.21673004,\n",
              "        0.3878327 , 0.3878327 , 0.35361217, 0.20532319, 0.19011407,\n",
              "        0.28897338, 0.36501901, 0.39543726, 0.42585551, 0.3460076 ,\n",
              "        0.42585551, 0.25855513, 0.31558935, 0.36882129, 0.36501901,\n",
              "        0.37262357, 0.41064639, 0.34980989, 0.24714829, 0.30798479,\n",
              "        0.27756654, 0.30038023, 0.22813688, 0.19011407, 0.25855513,\n",
              "        0.37262357, 0.21673004, 0.3269962 , 0.40304183, 0.29657795,\n",
              "        0.29277567, 0.3269962 , 0.24714829, 0.26235741, 0.24334601,\n",
              "        0.32319392, 0.29657795, 0.35361217, 0.31939163, 0.29657795,\n",
              "        0.28136882, 0.29277567, 0.33840304, 0.36882129, 0.37642586,\n",
              "        0.23193916, 0.25095057, 0.28897338, 0.28136882, 0.30418251,\n",
              "        0.07984791, 0.2243346 , 0.44106464, 0.3269962 , 0.30038023,\n",
              "        0.22813688, 0.36121673, 0.3269962 , 0.28897338, 0.39543726,\n",
              "        0.39163498, 0.2851711 , 0.11406844, 0.20152091, 0.39923954,\n",
              "        0.55513308, 0.47908745, 0.37262357, 0.27376426, 0.38403042,\n",
              "        0.39543726, 0.14068441, 0.27756654, 0.44106464, 0.61977186,\n",
              "        0.36501901, 0.25855513, 0.19771863, 0.40304183, 0.61977186,\n",
              "        0.37262357, 0.17490494, 0.42205323, 0.33079848, 0.38022814,\n",
              "        0.42965779, 0.39923954, 0.37642586, 0.41825095, 0.53231939,\n",
              "        0.34980989, 0.37262357, 0.22813688, 0.37262357, 0.34980989,\n",
              "        0.4486692 , 0.39163498, 0.2851711 , 0.29277567, 0.60076046,\n",
              "        0.55513308, 0.39923954, 0.42965779, 0.41444867, 0.24334601,\n",
              "        0.41444867, 0.34220532, 0.41444867, 0.47148289, 0.44106464,\n",
              "        0.50570342, 0.54752852, 0.69961977, 0.51711027, 0.56653992,\n",
              "        0.56273764, 0.58555133, 0.4486692 , 0.49429658, 0.42205323,\n",
              "        0.47528517, 0.69581749, 0.73003802, 0.58555133, 0.49809886,\n",
              "        0.43726236, 0.3269962 , 0.47908745, 0.52471483, 0.55513308,\n",
              "        0.50190114, 0.46768061, 0.33460076, 0.40684411, 0.37642586,\n",
              "        0.31558935, 0.57034221, 0.46387833, 0.39923954, 0.42205323,\n",
              "        0.49429658, 0.4904943 , 0.33460076, 0.55893536, 0.55893536,\n",
              "        0.48288973, 0.50570342, 0.50190114, 0.61596958, 0.65779468,\n",
              "        0.77946768, 0.76806084, 0.73764259, 0.58935361, 0.53612167,\n",
              "        0.41825095, 0.42205323, 0.53231939, 0.43346008, 0.47528517,\n",
              "        0.5095057 , 0.51711027, 0.52851711, 0.6539924 , 0.55893536,\n",
              "        0.58555133, 0.49809886, 0.50190114, 0.52851711, 0.38022814,\n",
              "        0.4904943 , 0.55513308, 0.53231939, 0.51711027, 0.51330798,\n",
              "        0.59695817, 0.49429658]))"
            ]
          },
          "metadata": {
            "tags": []
          },
          "execution_count": 132
        }
      ]
    },
    {
      "cell_type": "markdown",
      "metadata": {
        "id": "-E2iixEfK0Px",
        "colab_type": "text"
      },
      "source": [
        "### Reshape the data\n",
        "- Reshape X_train and X_test\n",
        "- use np.reshape() method\n",
        "- this is to be done to make the data ready for input in model"
      ]
    },
    {
      "cell_type": "code",
      "metadata": {
        "id": "X3qhXEqoZxQ3",
        "colab_type": "code",
        "colab": {
          "base_uri": "https://localhost:8080/",
          "height": 34
        },
        "outputId": "ba43b3e0-4e44-4a02-f288-557e95551e17"
      },
      "source": [
        "X_train.shape, y_train.shape, X_test.shape, y_test.shape"
      ],
      "execution_count": 133,
      "outputs": [
        {
          "output_type": "execute_result",
          "data": {
            "text/plain": [
              "((2736, 1), (2736,), (912, 1), (912,))"
            ]
          },
          "metadata": {
            "tags": []
          },
          "execution_count": 133
        }
      ]
    },
    {
      "cell_type": "code",
      "metadata": {
        "id": "bQmL0VpsaoWX",
        "colab_type": "code",
        "colab": {}
      },
      "source": [
        "X_train = np.reshape(X_train, (X_train.shape[0], X_train.shape[1], 1))\n",
        "X_test = np.reshape(X_test, (X_test.shape[0], X_test.shape[1], 1))"
      ],
      "execution_count": 136,
      "outputs": []
    },
    {
      "cell_type": "markdown",
      "metadata": {
        "id": "zKZ8SALZcuNB",
        "colab_type": "text"
      },
      "source": [
        "### Print shape of data\n",
        "- print shape of X_train and X_test"
      ]
    },
    {
      "cell_type": "code",
      "metadata": {
        "id": "OSg_rbP6c_HI",
        "colab_type": "code",
        "colab": {
          "base_uri": "https://localhost:8080/",
          "height": 34
        },
        "outputId": "de22a665-c92c-4997-8945-23355d7cee23"
      },
      "source": [
        "X_train.shape, X_test.shape"
      ],
      "execution_count": 137,
      "outputs": [
        {
          "output_type": "execute_result",
          "data": {
            "text/plain": [
              "((2736, 1, 1), (912, 1, 1))"
            ]
          },
          "metadata": {
            "tags": []
          },
          "execution_count": 137
        }
      ]
    },
    {
      "cell_type": "markdown",
      "metadata": {
        "id": "emGjaYZ5dfRq",
        "colab_type": "text"
      },
      "source": [
        "## Question 6"
      ]
    },
    {
      "cell_type": "markdown",
      "metadata": {
        "id": "7fk2Ze24dsXw",
        "colab_type": "text"
      },
      "source": [
        "### Define sequential model\n",
        "- initialize a Sequential model\n",
        "- add an LSTM layer\n",
        "  - units: 10\n",
        "  - stateful: True\n",
        "  - pass a `batch_input_shape` argument to your layer\n",
        "  - batch_input_shape: (batch_size, look_back, 1)\n",
        "    - batch_size: 1\n",
        "    - look_back: 1\n",
        "- add Dense layer with 1 neuron"
      ]
    },
    {
      "cell_type": "code",
      "metadata": {
        "id": "eXU6UNt4dhJz",
        "colab_type": "code",
        "colab": {}
      },
      "source": [
        "from keras.models import Sequential\n",
        "from keras.layers import Dense, LSTM"
      ],
      "execution_count": 152,
      "outputs": []
    },
    {
      "cell_type": "code",
      "metadata": {
        "id": "XTm5HuLTeEkl",
        "colab_type": "code",
        "colab": {}
      },
      "source": [
        "model = Sequential()\n",
        "model.add(LSTM(units=10, stateful=True, batch_input_shape=(1,1,1)))\n",
        "model.add(Dense(1))"
      ],
      "execution_count": 223,
      "outputs": []
    },
    {
      "cell_type": "markdown",
      "metadata": {
        "id": "cLymvPFzEQSp",
        "colab_type": "text"
      },
      "source": [
        "## Question 7"
      ]
    },
    {
      "cell_type": "markdown",
      "metadata": {
        "id": "AZmlvbcMrCTh",
        "colab_type": "text"
      },
      "source": [
        "### compile your model\n",
        "- loss: mean_squared_error\n",
        "- optimizer: adam"
      ]
    },
    {
      "cell_type": "code",
      "metadata": {
        "id": "TrcHrSdtg62Q",
        "colab_type": "code",
        "colab": {}
      },
      "source": [
        "model.compile(optimizer='adam', loss='mean_squared_error')"
      ],
      "execution_count": 224,
      "outputs": []
    },
    {
      "cell_type": "markdown",
      "metadata": {
        "id": "WWAoHdFurJN5",
        "colab_type": "text"
      },
      "source": [
        "### summarize your model\n",
        "- use summary() method"
      ]
    },
    {
      "cell_type": "code",
      "metadata": {
        "id": "UlIaCMtBrPU2",
        "colab_type": "code",
        "colab": {
          "base_uri": "https://localhost:8080/",
          "height": 218
        },
        "outputId": "8c7f7c23-b094-4fd6-ba36-8c2b0770426c"
      },
      "source": [
        "model.summary()"
      ],
      "execution_count": 225,
      "outputs": [
        {
          "output_type": "stream",
          "text": [
            "Model: \"sequential_7\"\n",
            "_________________________________________________________________\n",
            "Layer (type)                 Output Shape              Param #   \n",
            "=================================================================\n",
            "lstm_5 (LSTM)                (1, 10)                   480       \n",
            "_________________________________________________________________\n",
            "dense_3 (Dense)              (1, 1)                    11        \n",
            "=================================================================\n",
            "Total params: 491\n",
            "Trainable params: 491\n",
            "Non-trainable params: 0\n",
            "_________________________________________________________________\n"
          ],
          "name": "stdout"
        }
      ]
    },
    {
      "cell_type": "markdown",
      "metadata": {
        "id": "dq5a3i6uEcJI",
        "colab_type": "text"
      },
      "source": [
        "## Question 8"
      ]
    },
    {
      "cell_type": "markdown",
      "metadata": {
        "id": "0Ca3CFhOrf83",
        "colab_type": "text"
      },
      "source": [
        "### fit your model\n",
        "- epochs: 50\n",
        "- batch_size: 1"
      ]
    },
    {
      "cell_type": "code",
      "metadata": {
        "id": "BbuB-XGPhH6h",
        "colab_type": "code",
        "colab": {
          "base_uri": "https://localhost:8080/",
          "height": 1000
        },
        "outputId": "af012a9b-1d6f-4efb-f925-c320124ffd47"
      },
      "source": [
        "model.fit(x=X_train, y=y_train, epochs=50, batch_size=1)"
      ],
      "execution_count": 226,
      "outputs": [
        {
          "output_type": "stream",
          "text": [
            "Epoch 1/50\n",
            "2736/2736 [==============================] - 6s 2ms/step - loss: 0.0189\n",
            "Epoch 2/50\n",
            "2736/2736 [==============================] - 6s 2ms/step - loss: 0.0101\n",
            "Epoch 3/50\n",
            "2736/2736 [==============================] - 5s 2ms/step - loss: 0.0101\n",
            "Epoch 4/50\n",
            "2736/2736 [==============================] - 6s 2ms/step - loss: 0.0102\n",
            "Epoch 5/50\n",
            "2736/2736 [==============================] - 6s 2ms/step - loss: 0.0100\n",
            "Epoch 6/50\n",
            "2736/2736 [==============================] - 6s 2ms/step - loss: 0.0101\n",
            "Epoch 7/50\n",
            "2736/2736 [==============================] - 6s 2ms/step - loss: 0.0100\n",
            "Epoch 8/50\n",
            "2736/2736 [==============================] - 6s 2ms/step - loss: 0.0100\n",
            "Epoch 9/50\n",
            "2736/2736 [==============================] - 6s 2ms/step - loss: 0.0099\n",
            "Epoch 10/50\n",
            "2736/2736 [==============================] - 6s 2ms/step - loss: 0.0101\n",
            "Epoch 11/50\n",
            "2736/2736 [==============================] - 6s 2ms/step - loss: 0.0100\n",
            "Epoch 12/50\n",
            "2736/2736 [==============================] - 6s 2ms/step - loss: 0.0099\n",
            "Epoch 13/50\n",
            "2736/2736 [==============================] - 6s 2ms/step - loss: 0.0100\n",
            "Epoch 14/50\n",
            "2736/2736 [==============================] - 6s 2ms/step - loss: 0.0099\n",
            "Epoch 15/50\n",
            "2736/2736 [==============================] - 6s 2ms/step - loss: 0.0100\n",
            "Epoch 16/50\n",
            "2736/2736 [==============================] - 6s 2ms/step - loss: 0.0100\n",
            "Epoch 17/50\n",
            "2736/2736 [==============================] - 6s 2ms/step - loss: 0.0100\n",
            "Epoch 18/50\n",
            "2736/2736 [==============================] - 6s 2ms/step - loss: 0.0098\n",
            "Epoch 19/50\n",
            "2736/2736 [==============================] - 6s 2ms/step - loss: 0.0100\n",
            "Epoch 20/50\n",
            "2736/2736 [==============================] - 6s 2ms/step - loss: 0.0099\n",
            "Epoch 21/50\n",
            "2736/2736 [==============================] - 6s 2ms/step - loss: 0.0100\n",
            "Epoch 22/50\n",
            "2736/2736 [==============================] - 6s 2ms/step - loss: 0.0099\n",
            "Epoch 23/50\n",
            "2736/2736 [==============================] - 6s 2ms/step - loss: 0.0099\n",
            "Epoch 24/50\n",
            "2736/2736 [==============================] - 6s 2ms/step - loss: 0.0099\n",
            "Epoch 25/50\n",
            "2736/2736 [==============================] - 6s 2ms/step - loss: 0.0099\n",
            "Epoch 26/50\n",
            "2736/2736 [==============================] - 7s 3ms/step - loss: 0.0099\n",
            "Epoch 27/50\n",
            "2736/2736 [==============================] - 6s 2ms/step - loss: 0.0100\n",
            "Epoch 28/50\n",
            "2736/2736 [==============================] - 6s 2ms/step - loss: 0.0099\n",
            "Epoch 29/50\n",
            "2736/2736 [==============================] - 5s 2ms/step - loss: 0.0100\n",
            "Epoch 30/50\n",
            "2736/2736 [==============================] - 6s 2ms/step - loss: 0.0100\n",
            "Epoch 31/50\n",
            "2736/2736 [==============================] - 5s 2ms/step - loss: 0.0100\n",
            "Epoch 32/50\n",
            "2736/2736 [==============================] - 5s 2ms/step - loss: 0.0100\n",
            "Epoch 33/50\n",
            "2736/2736 [==============================] - 5s 2ms/step - loss: 0.0100\n",
            "Epoch 34/50\n",
            "2736/2736 [==============================] - 5s 2ms/step - loss: 0.0099\n",
            "Epoch 35/50\n",
            "2736/2736 [==============================] - 5s 2ms/step - loss: 0.0100\n",
            "Epoch 36/50\n",
            "2736/2736 [==============================] - 6s 2ms/step - loss: 0.0101\n",
            "Epoch 37/50\n",
            "2736/2736 [==============================] - 5s 2ms/step - loss: 0.0099\n",
            "Epoch 38/50\n",
            "2736/2736 [==============================] - 5s 2ms/step - loss: 0.0101\n",
            "Epoch 39/50\n",
            "2736/2736 [==============================] - 5s 2ms/step - loss: 0.0100\n",
            "Epoch 40/50\n",
            "2736/2736 [==============================] - 5s 2ms/step - loss: 0.0100\n",
            "Epoch 41/50\n",
            "2736/2736 [==============================] - 5s 2ms/step - loss: 0.0099\n",
            "Epoch 42/50\n",
            "2736/2736 [==============================] - 5s 2ms/step - loss: 0.0099\n",
            "Epoch 43/50\n",
            "2736/2736 [==============================] - 6s 2ms/step - loss: 0.0099\n",
            "Epoch 44/50\n",
            "2736/2736 [==============================] - 4s 2ms/step - loss: 0.0099\n",
            "Epoch 45/50\n",
            "2736/2736 [==============================] - 5s 2ms/step - loss: 0.0100\n",
            "Epoch 46/50\n",
            "2736/2736 [==============================] - 5s 2ms/step - loss: 0.0099\n",
            "Epoch 47/50\n",
            "2736/2736 [==============================] - 5s 2ms/step - loss: 0.0100\n",
            "Epoch 48/50\n",
            "2736/2736 [==============================] - 5s 2ms/step - loss: 0.0100\n",
            "Epoch 49/50\n",
            "2736/2736 [==============================] - 5s 2ms/step - loss: 0.0099\n",
            "Epoch 50/50\n",
            "2736/2736 [==============================] - 5s 2ms/step - loss: 0.0099\n"
          ],
          "name": "stdout"
        },
        {
          "output_type": "execute_result",
          "data": {
            "text/plain": [
              "<keras.callbacks.callbacks.History at 0x7f3a149fcb38>"
            ]
          },
          "metadata": {
            "tags": []
          },
          "execution_count": 226
        }
      ]
    },
    {
      "cell_type": "markdown",
      "metadata": {
        "id": "hqRlEmbjEqyG",
        "colab_type": "text"
      },
      "source": [
        "## Question 9"
      ]
    },
    {
      "cell_type": "markdown",
      "metadata": {
        "id": "12IhOtvUHJBF",
        "colab_type": "text"
      },
      "source": [
        "### make predictions on train data\n",
        "- use predict() method\n",
        "  - batch_size: 1\n",
        "- store predictions in a variable"
      ]
    },
    {
      "cell_type": "code",
      "metadata": {
        "id": "iXWuJikQHURm",
        "colab_type": "code",
        "colab": {}
      },
      "source": [
        "y_train_predict = model.predict(X_train, batch_size=1)"
      ],
      "execution_count": 227,
      "outputs": []
    },
    {
      "cell_type": "code",
      "metadata": {
        "id": "IeRzIjxVhDYZ",
        "colab_type": "code",
        "colab": {
          "base_uri": "https://localhost:8080/",
          "height": 118
        },
        "outputId": "fff0ba7d-1d50-40b5-a600-1b610392ff51"
      },
      "source": [
        "y_train[0:5], y_train_predict[0:5]"
      ],
      "execution_count": 228,
      "outputs": [
        {
          "output_type": "execute_result",
          "data": {
            "text/plain": [
              "(array([0.68060837, 0.7148289 , 0.55513308, 0.60076046, 0.60076046]),\n",
              " array([[0.6623081 ],\n",
              "        [0.58764035],\n",
              "        [0.6319357 ],\n",
              "        [0.52335584],\n",
              "        [0.55513406]], dtype=float32))"
            ]
          },
          "metadata": {
            "tags": []
          },
          "execution_count": 228
        }
      ]
    },
    {
      "cell_type": "markdown",
      "metadata": {
        "id": "XxxWOa-PsieH",
        "colab_type": "text"
      },
      "source": [
        "### reset model state\n",
        "- if you are using stateful=True in your model then you should call reset_states every time, when you want to make consecutive model calls independent.\n",
        "- use reset_states() method"
      ]
    },
    {
      "cell_type": "code",
      "metadata": {
        "id": "ZdV5_F1Eo8SY",
        "colab_type": "code",
        "colab": {}
      },
      "source": [
        "model.reset_states()"
      ],
      "execution_count": 229,
      "outputs": []
    },
    {
      "cell_type": "markdown",
      "metadata": {
        "colab_type": "text",
        "id": "KAhziPVBJD0u"
      },
      "source": [
        "### make predictions on test data\n",
        "- use predict() method\n",
        "  - batch_size: 1\n",
        "- store predictions in a variable"
      ]
    },
    {
      "cell_type": "code",
      "metadata": {
        "id": "HuHopEXNJU_y",
        "colab_type": "code",
        "colab": {}
      },
      "source": [
        "y_test_predict = model.predict(X_test, batch_size=1)"
      ],
      "execution_count": 230,
      "outputs": []
    },
    {
      "cell_type": "code",
      "metadata": {
        "id": "FfZxyfBziN8Y",
        "colab_type": "code",
        "colab": {
          "base_uri": "https://localhost:8080/",
          "height": 118
        },
        "outputId": "bc193706-8476-4b85-c4dd-c111651b24eb"
      },
      "source": [
        "y_test[0:5], y_test_predict[0:5]"
      ],
      "execution_count": 231,
      "outputs": [
        {
          "output_type": "execute_result",
          "data": {
            "text/plain": [
              "(array([0.22053232, 0.18631179, 0.19011407, 0.31939163, 0.46768061]),\n",
              " array([[0.25739533],\n",
              "        [0.26314571],\n",
              "        [0.23625648],\n",
              "        [0.23826392],\n",
              "        [0.34050736]], dtype=float32))"
            ]
          },
          "metadata": {
            "tags": []
          },
          "execution_count": 231
        }
      ]
    },
    {
      "cell_type": "markdown",
      "metadata": {
        "id": "pO81E-fsJruD",
        "colab_type": "text"
      },
      "source": [
        "## Question 10"
      ]
    },
    {
      "cell_type": "markdown",
      "metadata": {
        "id": "RImBG7sCtnlb",
        "colab_type": "text"
      },
      "source": [
        "### Inverse train predictions and true labels\n",
        "- use your MinMaxSclarer object\n",
        "- use inverse_transform() method"
      ]
    },
    {
      "cell_type": "code",
      "metadata": {
        "id": "xXfce41cqN-h",
        "colab_type": "code",
        "colab": {}
      },
      "source": [
        "y_train_true = scaler.inverse_transform(y_train_predict)"
      ],
      "execution_count": 232,
      "outputs": []
    },
    {
      "cell_type": "code",
      "metadata": {
        "id": "xcN431LNi1_i",
        "colab_type": "code",
        "colab": {
          "base_uri": "https://localhost:8080/",
          "height": 101
        },
        "outputId": "88f5cde6-022a-4362-c3c3-fcb3fb5d5769"
      },
      "source": [
        "y_train_true[0:5]"
      ],
      "execution_count": 233,
      "outputs": [
        {
          "output_type": "execute_result",
          "data": {
            "text/plain": [
              "array([[17.418703],\n",
              "       [15.454941],\n",
              "       [16.61991 ],\n",
              "       [13.764258],\n",
              "       [14.600026]], dtype=float32)"
            ]
          },
          "metadata": {
            "tags": []
          },
          "execution_count": 233
        }
      ]
    },
    {
      "cell_type": "markdown",
      "metadata": {
        "colab_type": "text",
        "id": "5fWSzk8cuPbp"
      },
      "source": [
        "### Inverse test predictions and true labels\n",
        "- use your MinMaxSclarer object\n",
        "- use inverse_transform() method"
      ]
    },
    {
      "cell_type": "code",
      "metadata": {
        "colab_type": "code",
        "id": "nVJ1wMupuPbu",
        "colab": {}
      },
      "source": [
        "y_test_true = scaler.inverse_transform(y_test_predict)"
      ],
      "execution_count": 234,
      "outputs": []
    },
    {
      "cell_type": "code",
      "metadata": {
        "id": "YDORMQBsjr7j",
        "colab_type": "code",
        "colab": {
          "base_uri": "https://localhost:8080/",
          "height": 101
        },
        "outputId": "d199e639-603b-421e-e50f-4e293a36f062"
      },
      "source": [
        "y_test_predict[0:5]"
      ],
      "execution_count": 235,
      "outputs": [
        {
          "output_type": "execute_result",
          "data": {
            "text/plain": [
              "array([[0.25739533],\n",
              "       [0.26314571],\n",
              "       [0.23625648],\n",
              "       [0.23826392],\n",
              "       [0.34050736]], dtype=float32)"
            ]
          },
          "metadata": {
            "tags": []
          },
          "execution_count": 235
        }
      ]
    },
    {
      "cell_type": "markdown",
      "metadata": {
        "id": "VtowvAItJv6c",
        "colab_type": "text"
      },
      "source": [
        "### Evaluate train predictions\n",
        "- calculate RMSE\n",
        "- RMSE = sqrt(mean_squared_error(true_labels, predicted_labels))\n",
        "- use sqrt() and mean_squared_error() method\n",
        "- print training RMSE"
      ]
    },
    {
      "cell_type": "code",
      "metadata": {
        "id": "GjXbis_bJ9GL",
        "colab_type": "code",
        "colab": {}
      },
      "source": [
        "import math\n",
        "from sklearn.metrics import mean_squared_error"
      ],
      "execution_count": 198,
      "outputs": []
    },
    {
      "cell_type": "code",
      "metadata": {
        "id": "lHRty29ykS-e",
        "colab_type": "code",
        "colab": {
          "base_uri": "https://localhost:8080/",
          "height": 34
        },
        "outputId": "bf92c457-b155-4534-c733-b0b1dce82a3e"
      },
      "source": [
        "train_rmse = math.sqrt(mean_squared_error(y_train, y_train_true))\n",
        "print('Train RMSE: ', train_rmse)"
      ],
      "execution_count": 243,
      "outputs": [
        {
          "output_type": "stream",
          "text": [
            "Train RMSE:  10.855900174672904\n"
          ],
          "name": "stdout"
        }
      ]
    },
    {
      "cell_type": "markdown",
      "metadata": {
        "colab_type": "text",
        "id": "DBOfSPRDvERE"
      },
      "source": [
        "### Evaluate test predictions\n",
        "- calculate RMSE\n",
        "- RMSE = sqrt(mean_squared_error(true_labels, predicted_labels))\n",
        "- use sqrt() and mean_squared_error() method\n",
        "- print testing RMSE"
      ]
    },
    {
      "cell_type": "code",
      "metadata": {
        "colab_type": "code",
        "id": "8rQOereovERJ",
        "colab": {
          "base_uri": "https://localhost:8080/",
          "height": 34
        },
        "outputId": "0281cc1e-1ec7-4ff0-9f8e-078b434a958d"
      },
      "source": [
        "test_rmse = math.sqrt(mean_squared_error(y_test, y_test_true))\n",
        "print('Test RMSE: ', test_rmse)"
      ],
      "execution_count": 244,
      "outputs": [
        {
          "output_type": "stream",
          "text": [
            "Test RMSE:  10.996665690183844\n"
          ],
          "name": "stdout"
        }
      ]
    },
    {
      "cell_type": "markdown",
      "metadata": {
        "colab_type": "text",
        "id": "ueeUkE9Pvs91"
      },
      "source": [
        "# Neural Machine Translation\n",
        "\n",
        "- Translate a given sentence in one language to another desired language.\n",
        "\n",
        "#### In this notebook, we aim to build a model which can translate German sentences to English."
      ]
    },
    {
      "cell_type": "markdown",
      "metadata": {
        "colab_type": "text",
        "id": "HphxvZ0fv_kr"
      },
      "source": [
        "## Dataset\n",
        "\n",
        "Dataset is taken from http://www.manythings.org/anki/.\n",
        "\n",
        "We are considering German – English deu-eng.zip file from the above mentioned website.\n",
        "\n",
        "In the above zip file there is a file with name **`deu.txt`** that contains **152,820** pairs of English to German phrases, one pair per line with a tab separating the phrases.\n",
        "\n",
        "\n",
        "For example,\n",
        "\n",
        "The first 5 lines in deu.txt are as given below.\n",
        "\n",
        "***\n",
        "```\n",
        "Hi.    Hallo!\n",
        "Hi.    Grüß Gott!\n",
        "Run!    Lauf!\n",
        "Wow!    Potzdonner!\n",
        "Wow!    Donnerwetter!\n",
        "```\n",
        "***\n"
      ]
    },
    {
      "cell_type": "markdown",
      "metadata": {
        "colab_type": "text",
        "id": "KzhjY_3MxlCT"
      },
      "source": [
        "## Problem\n",
        "\n",
        "### Given a sequence of words in German as input, predict the sequence of words in English."
      ]
    },
    {
      "cell_type": "markdown",
      "metadata": {
        "colab_type": "text",
        "id": "STq1sKSHywCQ"
      },
      "source": [
        "### 1. Prepare Data\n",
        "\n",
        "\n",
        "The preprocessing of the data involves:\n",
        "\n",
        "1. Removing punctuation marks from the data.\n",
        "\n",
        "2. Converting text corpus into lower case characters.\n",
        "\n",
        "3. Split into Train and Test sets.\n",
        "\n",
        "4. Shuffling the sentences.\n",
        "\n",
        "\n",
        "\n",
        "The above tasks are done  and full dataset is given as **``english-german-both.pkl``** respectively.\n",
        "\n",
        "Download dataset files from here: https://drive.google.com/open?id=1gWVk7SuuE93Cf_nT9Lb7GBCiwfAgdBiX\n",
        "\n",
        "\n"
      ]
    },
    {
      "cell_type": "markdown",
      "metadata": {
        "colab_type": "text",
        "id": "x9JDfVgWosMJ"
      },
      "source": [
        "# Character level Machine Translation"
      ]
    },
    {
      "cell_type": "markdown",
      "metadata": {
        "id": "sP4P2nnAXD5G",
        "colab_type": "text"
      },
      "source": [
        "## Initialize parameters\n",
        "Run the below code to initialize the variables required for the model."
      ]
    },
    {
      "cell_type": "code",
      "metadata": {
        "colab_type": "code",
        "id": "4jRTxBQ9owHH",
        "colab": {}
      },
      "source": [
        "batch_size = 64  # Batch size for training.\n",
        "epochs = 10  # Number of epochs to train for.\n",
        "latent_dim = 256  # Latent dimensionality of the encoding space.\n",
        "num_samples = 10000  # Number of samples to train on.\n",
        "# Path to the data txt file on disk.\n",
        "data_path = 'deu.txt'"
      ],
      "execution_count": 201,
      "outputs": []
    },
    {
      "cell_type": "markdown",
      "metadata": {
        "colab_type": "text",
        "id": "0N1Q-zzUJtO0"
      },
      "source": [
        "### Connect to google drive"
      ]
    },
    {
      "cell_type": "code",
      "metadata": {
        "colab_type": "code",
        "id": "SEtf-c5Fo7eF",
        "colab": {
          "base_uri": "https://localhost:8080/",
          "height": 34
        },
        "outputId": "b18f7d2c-d335-4d73-9be0-d68858de86b7"
      },
      "source": [
        "from google.colab import drive\n",
        "drive.mount('/content/drive/')"
      ],
      "execution_count": 202,
      "outputs": [
        {
          "output_type": "stream",
          "text": [
            "Drive already mounted at /content/drive/; to attempt to forcibly remount, call drive.mount(\"/content/drive/\", force_remount=True).\n"
          ],
          "name": "stdout"
        }
      ]
    },
    {
      "cell_type": "markdown",
      "metadata": {
        "colab_type": "text",
        "id": "Mv0XAJSZJyOl"
      },
      "source": [
        "### Give the path for the folder in which the dataset is present in google drive"
      ]
    },
    {
      "cell_type": "code",
      "metadata": {
        "colab_type": "code",
        "id": "fXQOArlSo8SX",
        "colab": {}
      },
      "source": [
        "project_path = \"/content/drive/My Drive/Colab Notebooks/Data/\""
      ],
      "execution_count": 203,
      "outputs": []
    },
    {
      "cell_type": "markdown",
      "metadata": {
        "id": "SoEhVDh3qfuj",
        "colab_type": "text"
      },
      "source": [
        "### Change present working directory"
      ]
    },
    {
      "cell_type": "code",
      "metadata": {
        "id": "g-plftRTqlgB",
        "colab_type": "code",
        "colab": {}
      },
      "source": [
        "import os\n",
        "os.chdir(project_path)"
      ],
      "execution_count": 204,
      "outputs": []
    },
    {
      "cell_type": "markdown",
      "metadata": {
        "colab_type": "text",
        "id": "GkAdNgJrKDvK"
      },
      "source": [
        "## Load the pickle file (`english-german-both.pkl`) into a variable with name `dataset`\n",
        "Run the below code to load the .pkl file."
      ]
    },
    {
      "cell_type": "code",
      "metadata": {
        "colab_type": "code",
        "id": "a8fpd1Lxo8VH",
        "colab": {}
      },
      "source": [
        "import pickle\n",
        "\n",
        "with open(project_path + 'english-german-both.pkl', 'rb') as f:\n",
        "  dataset = pickle.load(f)"
      ],
      "execution_count": 205,
      "outputs": []
    },
    {
      "cell_type": "markdown",
      "metadata": {
        "colab_type": "text",
        "id": "9pkL351SKaWb"
      },
      "source": [
        "## Check the `dataset` variable at this step. It should be as given below"
      ]
    },
    {
      "cell_type": "code",
      "metadata": {
        "colab_type": "code",
        "id": "D6kEL_65KmHe",
        "colab": {
          "base_uri": "https://localhost:8080/",
          "height": 134
        },
        "outputId": "be9db56b-9f10-477f-ab75-065033f43644"
      },
      "source": [
        "dataset"
      ],
      "execution_count": 206,
      "outputs": [
        {
          "output_type": "execute_result",
          "data": {
            "text/plain": [
              "array([['stay with us', 'bleib bei uns'],\n",
              "       ['she wants him', 'sie will ihn'],\n",
              "       ['youre strong', 'du bist stark'],\n",
              "       ...,\n",
              "       ['i thought so', 'das dachte ich mir'],\n",
              "       ['keep warm', 'haltet euch warm'],\n",
              "       ['im sick', 'ich bin krank']], dtype='<U291')"
            ]
          },
          "metadata": {
            "tags": []
          },
          "execution_count": 206
        }
      ]
    },
    {
      "cell_type": "code",
      "metadata": {
        "id": "7tortoBhoOKe",
        "colab_type": "code",
        "colab": {
          "base_uri": "https://localhost:8080/",
          "height": 34
        },
        "outputId": "0b198b80-647a-4deb-c796-36996a159e84"
      },
      "source": [
        "len(dataset)"
      ],
      "execution_count": 207,
      "outputs": [
        {
          "output_type": "execute_result",
          "data": {
            "text/plain": [
              "10000"
            ]
          },
          "metadata": {
            "tags": []
          },
          "execution_count": 207
        }
      ]
    },
    {
      "cell_type": "markdown",
      "metadata": {
        "colab_type": "text",
        "id": "uQ270GmwK2Qt"
      },
      "source": [
        "## Feature set and target set division from the **dataset**\n",
        "\n",
        "### Run the below code to divide the dataset into feature set(input) and target set(output). \n",
        "\n",
        "1. We are creating two lists for storing input sentences and output sentences separately. \n",
        "2. We are storing each character in a list from both input and target sets separately. \n",
        "3. Print and check `input_texts` and `target_texts`.\n",
        "4. Print and check `input_characters` and `target_characters`."
      ]
    },
    {
      "cell_type": "code",
      "metadata": {
        "colab_type": "code",
        "id": "fJ95hstto8Xy",
        "colab": {}
      },
      "source": [
        "# Vectorize the data.\n",
        "input_texts = []\n",
        "target_texts = []\n",
        "input_characters = set()\n",
        "target_characters = set()\n",
        "\n",
        "for line in dataset[: min(num_samples, len(dataset) - 1)]:\n",
        "    input_text, target_text = line[0], line[1]\n",
        "    # We use \"tab\" as the \"start sequence\" character\n",
        "    # for the targets, and \"\\n\" as \"end sequence\" character.\n",
        "    target_text = '\\t' + target_text + '\\n'\n",
        "    input_texts.append(input_text)\n",
        "    target_texts.append(target_text)\n",
        "    for char in input_text:\n",
        "        if char not in input_characters:\n",
        "            input_characters.add(char)\n",
        "    for char in target_text:\n",
        "        if char not in target_characters:\n",
        "            target_characters.add(char)"
      ],
      "execution_count": 208,
      "outputs": []
    },
    {
      "cell_type": "markdown",
      "metadata": {
        "id": "wwWZMeVjlPjB",
        "colab_type": "text"
      },
      "source": [
        "### Print input text"
      ]
    },
    {
      "cell_type": "code",
      "metadata": {
        "colab_type": "code",
        "id": "S-1OyZSULuJY",
        "colab": {
          "base_uri": "https://localhost:8080/",
          "height": 101
        },
        "outputId": "0554514e-b56f-4615-e905-472bc19aa895"
      },
      "source": [
        "input_texts[0:5]"
      ],
      "execution_count": 210,
      "outputs": [
        {
          "output_type": "execute_result",
          "data": {
            "text/plain": [
              "['stay with us',\n",
              " 'she wants him',\n",
              " 'youre strong',\n",
              " 'examine this',\n",
              " 'heres my card']"
            ]
          },
          "metadata": {
            "tags": []
          },
          "execution_count": 210
        }
      ]
    },
    {
      "cell_type": "markdown",
      "metadata": {
        "id": "fo7Mno1JlVWP",
        "colab_type": "text"
      },
      "source": [
        "### Print target text"
      ]
    },
    {
      "cell_type": "code",
      "metadata": {
        "colab_type": "code",
        "id": "_pnLXkk8LzBx",
        "colab": {
          "base_uri": "https://localhost:8080/",
          "height": 101
        },
        "outputId": "46ddca84-c7d0-410e-a067-54890cb2c707"
      },
      "source": [
        "target_texts[0:5]"
      ],
      "execution_count": 211,
      "outputs": [
        {
          "output_type": "execute_result",
          "data": {
            "text/plain": [
              "['\\tbleib bei uns\\n',\n",
              " '\\tsie will ihn\\n',\n",
              " '\\tdu bist stark\\n',\n",
              " '\\tuntersuchen sie das\\n',\n",
              " '\\thier ist meine karte\\n']"
            ]
          },
          "metadata": {
            "tags": []
          },
          "execution_count": 211
        }
      ]
    },
    {
      "cell_type": "markdown",
      "metadata": {
        "id": "u7IhmN_hlb1K",
        "colab_type": "text"
      },
      "source": [
        "### Print input character"
      ]
    },
    {
      "cell_type": "code",
      "metadata": {
        "colab_type": "code",
        "id": "9az5VYFjNe7I",
        "colab": {
          "base_uri": "https://localhost:8080/",
          "height": 470
        },
        "outputId": "bdddd01a-05d4-4b11-fd95-9cdf1f96c662"
      },
      "source": [
        "input_characters"
      ],
      "execution_count": 212,
      "outputs": [
        {
          "output_type": "execute_result",
          "data": {
            "text/plain": [
              "{' ',\n",
              " 'a',\n",
              " 'b',\n",
              " 'c',\n",
              " 'd',\n",
              " 'e',\n",
              " 'f',\n",
              " 'g',\n",
              " 'h',\n",
              " 'i',\n",
              " 'j',\n",
              " 'k',\n",
              " 'l',\n",
              " 'm',\n",
              " 'n',\n",
              " 'o',\n",
              " 'p',\n",
              " 'q',\n",
              " 'r',\n",
              " 's',\n",
              " 't',\n",
              " 'u',\n",
              " 'v',\n",
              " 'w',\n",
              " 'x',\n",
              " 'y',\n",
              " 'z'}"
            ]
          },
          "metadata": {
            "tags": []
          },
          "execution_count": 212
        }
      ]
    },
    {
      "cell_type": "markdown",
      "metadata": {
        "id": "CX30Y8dZlfGQ",
        "colab_type": "text"
      },
      "source": [
        "### Print target character"
      ]
    },
    {
      "cell_type": "code",
      "metadata": {
        "colab_type": "code",
        "id": "kxg3509lNjnU",
        "colab": {
          "base_uri": "https://localhost:8080/",
          "height": 504
        },
        "outputId": "0c32a246-9206-4597-96af-8e3ce97ee0b9"
      },
      "source": [
        "target_characters"
      ],
      "execution_count": 213,
      "outputs": [
        {
          "output_type": "execute_result",
          "data": {
            "text/plain": [
              "{'\\t',\n",
              " '\\n',\n",
              " ' ',\n",
              " 'a',\n",
              " 'b',\n",
              " 'c',\n",
              " 'd',\n",
              " 'e',\n",
              " 'f',\n",
              " 'g',\n",
              " 'h',\n",
              " 'i',\n",
              " 'j',\n",
              " 'k',\n",
              " 'l',\n",
              " 'm',\n",
              " 'n',\n",
              " 'o',\n",
              " 'p',\n",
              " 'q',\n",
              " 'r',\n",
              " 's',\n",
              " 't',\n",
              " 'u',\n",
              " 'v',\n",
              " 'w',\n",
              " 'x',\n",
              " 'y',\n",
              " 'z'}"
            ]
          },
          "metadata": {
            "tags": []
          },
          "execution_count": 213
        }
      ]
    },
    {
      "cell_type": "markdown",
      "metadata": {
        "colab_type": "text",
        "id": "Dw10uDT3Oc1N"
      },
      "source": [
        "## Stats from the dataset\n",
        "\n",
        "### Run the below code to check the stats from the dataset"
      ]
    },
    {
      "cell_type": "code",
      "metadata": {
        "colab_type": "code",
        "id": "T4stnzMpo8ci",
        "colab": {}
      },
      "source": [
        "input_characters = sorted(list(input_characters))\n",
        "target_characters = sorted(list(target_characters))\n",
        "num_encoder_tokens = len(input_characters)\n",
        "num_decoder_tokens = len(target_characters)\n",
        "max_encoder_seq_length = max([len(txt) for txt in input_texts])\n",
        "max_decoder_seq_length = max([len(txt) for txt in target_texts])"
      ],
      "execution_count": 214,
      "outputs": []
    },
    {
      "cell_type": "code",
      "metadata": {
        "colab_type": "code",
        "id": "VfbreAAUo8e6",
        "colab": {
          "base_uri": "https://localhost:8080/",
          "height": 101
        },
        "outputId": "4802df0a-5d47-4253-ee07-2fb7156fa718"
      },
      "source": [
        "print('Number of samples:', len(input_texts))\n",
        "print('Number of unique input tokens:', num_encoder_tokens)\n",
        "print('Number of unique output tokens:', num_decoder_tokens)\n",
        "print('Max sequence length for inputs:', max_encoder_seq_length)\n",
        "print('Max sequence length for outputs:', max_decoder_seq_length)"
      ],
      "execution_count": 215,
      "outputs": [
        {
          "output_type": "stream",
          "text": [
            "Number of samples: 9999\n",
            "Number of unique input tokens: 27\n",
            "Number of unique output tokens: 29\n",
            "Max sequence length for inputs: 15\n",
            "Max sequence length for outputs: 51\n"
          ],
          "name": "stdout"
        }
      ]
    },
    {
      "cell_type": "markdown",
      "metadata": {
        "colab_type": "text",
        "id": "mVuwMY0UTVKD"
      },
      "source": [
        "## Build character to index dictionary names `input_token_index` and `target_token_index` for input and target sets respectively."
      ]
    },
    {
      "cell_type": "code",
      "metadata": {
        "colab_type": "code",
        "id": "QYXSW9zOo8hl",
        "colab": {}
      },
      "source": [
        "input_token_index = {val : idx for idx, val in enumerate(input_characters)}\n",
        "target_token_index = {val : idx for idx, val in enumerate(target_characters)} "
      ],
      "execution_count": 246,
      "outputs": []
    },
    {
      "cell_type": "markdown",
      "metadata": {
        "id": "9aUS5gEamGiC",
        "colab_type": "text"
      },
      "source": [
        "### Print input_index_token"
      ]
    },
    {
      "cell_type": "code",
      "metadata": {
        "colab_type": "code",
        "id": "__ga4KfKTijk",
        "colab": {
          "base_uri": "https://localhost:8080/",
          "height": 470
        },
        "outputId": "3aece272-1268-4968-ba93-25c8bdb022e1"
      },
      "source": [
        "input_token_index"
      ],
      "execution_count": 247,
      "outputs": [
        {
          "output_type": "execute_result",
          "data": {
            "text/plain": [
              "{' ': 0,\n",
              " 'a': 1,\n",
              " 'b': 2,\n",
              " 'c': 3,\n",
              " 'd': 4,\n",
              " 'e': 5,\n",
              " 'f': 6,\n",
              " 'g': 7,\n",
              " 'h': 8,\n",
              " 'i': 9,\n",
              " 'j': 10,\n",
              " 'k': 11,\n",
              " 'l': 12,\n",
              " 'm': 13,\n",
              " 'n': 14,\n",
              " 'o': 15,\n",
              " 'p': 16,\n",
              " 'q': 17,\n",
              " 'r': 18,\n",
              " 's': 19,\n",
              " 't': 20,\n",
              " 'u': 21,\n",
              " 'v': 22,\n",
              " 'w': 23,\n",
              " 'x': 24,\n",
              " 'y': 25,\n",
              " 'z': 26}"
            ]
          },
          "metadata": {
            "tags": []
          },
          "execution_count": 247
        }
      ]
    },
    {
      "cell_type": "markdown",
      "metadata": {
        "id": "zGs66ZhjmNBA",
        "colab_type": "text"
      },
      "source": [
        "### Print target_token_index"
      ]
    },
    {
      "cell_type": "code",
      "metadata": {
        "colab_type": "code",
        "id": "Sa3DArDrTm1z",
        "colab": {
          "base_uri": "https://localhost:8080/",
          "height": 504
        },
        "outputId": "272f2f15-745d-4625-8a7c-67a187fb263a"
      },
      "source": [
        "target_token_index"
      ],
      "execution_count": 248,
      "outputs": [
        {
          "output_type": "execute_result",
          "data": {
            "text/plain": [
              "{'\\t': 0,\n",
              " '\\n': 1,\n",
              " ' ': 2,\n",
              " 'a': 3,\n",
              " 'b': 4,\n",
              " 'c': 5,\n",
              " 'd': 6,\n",
              " 'e': 7,\n",
              " 'f': 8,\n",
              " 'g': 9,\n",
              " 'h': 10,\n",
              " 'i': 11,\n",
              " 'j': 12,\n",
              " 'k': 13,\n",
              " 'l': 14,\n",
              " 'm': 15,\n",
              " 'n': 16,\n",
              " 'o': 17,\n",
              " 'p': 18,\n",
              " 'q': 19,\n",
              " 'r': 20,\n",
              " 's': 21,\n",
              " 't': 22,\n",
              " 'u': 23,\n",
              " 'v': 24,\n",
              " 'w': 25,\n",
              " 'x': 26,\n",
              " 'y': 27,\n",
              " 'z': 28}"
            ]
          },
          "metadata": {
            "tags": []
          },
          "execution_count": 248
        }
      ]
    },
    {
      "cell_type": "markdown",
      "metadata": {
        "colab_type": "text",
        "id": "UB7uI724TrlM"
      },
      "source": [
        "## Build Model\n",
        "Initialize the required layers from keras\n",
        "\n",
        "### Import libraries"
      ]
    },
    {
      "cell_type": "code",
      "metadata": {
        "colab_type": "code",
        "id": "T1GuGnDiqOz3",
        "colab": {}
      },
      "source": [
        "from __future__ import print_function\n",
        "\n",
        "from keras.models import Model\n",
        "from keras.layers import Input, LSTM, Dense"
      ],
      "execution_count": 219,
      "outputs": []
    },
    {
      "cell_type": "markdown",
      "metadata": {
        "colab_type": "text",
        "id": "3q9GVu-pT9UR"
      },
      "source": [
        "### Run the below code to build one-hot vectors for the characters"
      ]
    },
    {
      "cell_type": "code",
      "metadata": {
        "colab_type": "code",
        "id": "uatzEBy5qIpI",
        "colab": {}
      },
      "source": [
        "encoder_input_data = np.zeros(\n",
        "    (len(input_texts), max_encoder_seq_length, num_encoder_tokens),\n",
        "    dtype='float32')\n",
        "decoder_input_data = np.zeros(\n",
        "    (len(input_texts), max_decoder_seq_length, num_decoder_tokens),\n",
        "    dtype='float32')\n",
        "decoder_target_data = np.zeros(\n",
        "    (len(input_texts), max_decoder_seq_length, num_decoder_tokens),\n",
        "    dtype='float32')"
      ],
      "execution_count": 249,
      "outputs": []
    },
    {
      "cell_type": "code",
      "metadata": {
        "colab_type": "code",
        "id": "MDGoIZXuqLF7",
        "colab": {}
      },
      "source": [
        "for i, (input_text, target_text) in enumerate(zip(input_texts, target_texts)):\n",
        "    for t, char in enumerate(input_text):\n",
        "        encoder_input_data[i, t, input_token_index[char]] = 1.\n",
        "    for t, char in enumerate(target_text):\n",
        "        # decoder_target_data is ahead of decoder_input_data by one timestep\n",
        "        decoder_input_data[i, t, target_token_index[char]] = 1.\n",
        "        if t > 0:\n",
        "            # decoder_target_data will be ahead by one timestep\n",
        "            # and will not include the start character.\n",
        "            decoder_target_data[i, t - 1, target_token_index[char]] = 1."
      ],
      "execution_count": 250,
      "outputs": []
    },
    {
      "cell_type": "code",
      "metadata": {
        "id": "Yyt2gjc50ghS",
        "colab_type": "code",
        "colab": {
          "base_uri": "https://localhost:8080/",
          "height": 67
        },
        "outputId": "e0664bbb-b3e9-4ac8-ddd3-eafb088d4f93"
      },
      "source": [
        "print(encoder_input_data.shape)\n",
        "print(decoder_input_data.shape)\n",
        "print(decoder_target_data.shape)"
      ],
      "execution_count": 258,
      "outputs": [
        {
          "output_type": "stream",
          "text": [
            "(9999, 15, 27)\n",
            "(9999, 51, 29)\n",
            "(9999, 51, 29)\n"
          ],
          "name": "stdout"
        }
      ]
    },
    {
      "cell_type": "markdown",
      "metadata": {
        "colab_type": "text",
        "id": "i0ihyyfeW7le"
      },
      "source": [
        "### Build the encoder Model\n",
        "\n",
        "Define an input sequence and process it.\n",
        "\n",
        "Discard `encoder_outputs` and only keep the states."
      ]
    },
    {
      "cell_type": "code",
      "metadata": {
        "colab_type": "code",
        "id": "CQU4zjxdqXnG",
        "colab": {}
      },
      "source": [
        "# Using Reference from:\n",
        "# https://blog.keras.io/a-ten-minute-introduction-to-sequence-to-sequence-learning-in-keras.html\n",
        "\n",
        "# Define an input sequence and process it.\n",
        "encoder_inputs = Input(shape=(None, num_encoder_tokens))\n",
        "encoder = LSTM(latent_dim, return_state=True)\n",
        "encoder_outputs, state_h, state_c = encoder(encoder_inputs)\n",
        "# We discard `encoder_outputs` and only keep the states.\n",
        "encoder_states = [state_h, state_c]"
      ],
      "execution_count": 263,
      "outputs": []
    },
    {
      "cell_type": "markdown",
      "metadata": {
        "colab_type": "text",
        "id": "X3PzX5oBXfGW"
      },
      "source": [
        "### Build the decoder Model\n",
        "\n",
        "Set up the decoder, using `encoder_states` as initial state.\n",
        "\n",
        "We set up our decoder to return full output sequences, and to return internal states as well. We don't use the return states in the training model, but we will use them in inference."
      ]
    },
    {
      "cell_type": "code",
      "metadata": {
        "colab_type": "code",
        "id": "ytn5MNCjqZuc",
        "colab": {}
      },
      "source": [
        "# Set up the decoder, using `encoder_states` as initial state.\n",
        "decoder_inputs = Input(shape=(None, num_decoder_tokens))\n",
        "# We set up our decoder to return full output sequences,\n",
        "# and to return internal states as well. We don't use the \n",
        "# return states in the training model, but we will use them in inference.\n",
        "decoder_lstm = LSTM(latent_dim, return_sequences=True, return_state=True)\n",
        "decoder_outputs, _, _ = decoder_lstm(decoder_inputs, initial_state=encoder_states)\n",
        "decoder_dense = Dense(num_decoder_tokens, activation='softmax')\n",
        "decoder_outputs = decoder_dense(decoder_outputs)"
      ],
      "execution_count": 264,
      "outputs": []
    },
    {
      "cell_type": "markdown",
      "metadata": {
        "id": "XpJnlQgvn8vN",
        "colab_type": "text"
      },
      "source": [
        "### Define Model\n",
        "\n",
        "Define the model that will turn `encoder_input_data ` & ` decoder_input_data` into `decoder_target_data`"
      ]
    },
    {
      "cell_type": "code",
      "metadata": {
        "colab_type": "code",
        "id": "E24IW9wIqcYq",
        "colab": {}
      },
      "source": [
        "# Define the model that will turn\n",
        "# `encoder_input_data` & `decoder_input_data` into `decoder_target_data`\n",
        "model = Model([encoder_inputs, decoder_inputs], decoder_outputs)"
      ],
      "execution_count": 265,
      "outputs": []
    },
    {
      "cell_type": "markdown",
      "metadata": {
        "colab_type": "text",
        "id": "qvawc6CfXkzG"
      },
      "source": [
        "### Compile and fit the model"
      ]
    },
    {
      "cell_type": "code",
      "metadata": {
        "colab_type": "code",
        "id": "vhXLFmApqeU4",
        "colab": {
          "base_uri": "https://localhost:8080/",
          "height": 386
        },
        "outputId": "47f11a75-87d1-4e0c-8b2a-c023a94d8f8d"
      },
      "source": [
        "# Run training\n",
        "model.compile(optimizer='rmsprop', loss='categorical_crossentropy')\n",
        "model.fit([encoder_input_data, decoder_input_data], decoder_target_data,\n",
        "          batch_size=batch_size,\n",
        "          epochs=epochs,\n",
        "          validation_split=0.2)"
      ],
      "execution_count": 266,
      "outputs": [
        {
          "output_type": "stream",
          "text": [
            "Train on 7999 samples, validate on 2000 samples\n",
            "Epoch 1/10\n",
            "7999/7999 [==============================] - 60s 7ms/step - loss: 0.9586 - val_loss: 0.8171\n",
            "Epoch 2/10\n",
            "7999/7999 [==============================] - 59s 7ms/step - loss: 0.7461 - val_loss: 0.6643\n",
            "Epoch 3/10\n",
            "7999/7999 [==============================] - 62s 8ms/step - loss: 0.6437 - val_loss: 0.6038\n",
            "Epoch 4/10\n",
            "7999/7999 [==============================] - 57s 7ms/step - loss: 0.5895 - val_loss: 0.5651\n",
            "Epoch 5/10\n",
            "7999/7999 [==============================] - 57s 7ms/step - loss: 0.5539 - val_loss: 0.5351\n",
            "Epoch 6/10\n",
            "7999/7999 [==============================] - 54s 7ms/step - loss: 0.5244 - val_loss: 0.5115\n",
            "Epoch 7/10\n",
            "7999/7999 [==============================] - 56s 7ms/step - loss: 0.5008 - val_loss: 0.4872\n",
            "Epoch 8/10\n",
            "7999/7999 [==============================] - 57s 7ms/step - loss: 0.4804 - val_loss: 0.4762\n",
            "Epoch 9/10\n",
            "7999/7999 [==============================] - 57s 7ms/step - loss: 0.4616 - val_loss: 0.4583\n",
            "Epoch 10/10\n",
            "7999/7999 [==============================] - 57s 7ms/step - loss: 0.4456 - val_loss: 0.4481\n"
          ],
          "name": "stdout"
        },
        {
          "output_type": "execute_result",
          "data": {
            "text/plain": [
              "<keras.callbacks.callbacks.History at 0x7f3a127636d8>"
            ]
          },
          "metadata": {
            "tags": []
          },
          "execution_count": 266
        }
      ]
    },
    {
      "cell_type": "markdown",
      "metadata": {
        "id": "7o4khltlof6H",
        "colab_type": "text"
      },
      "source": [
        "### Save the model"
      ]
    },
    {
      "cell_type": "code",
      "metadata": {
        "id": "nVgGMc5Lojmo",
        "colab_type": "code",
        "colab": {}
      },
      "source": [
        "# Save model\n",
        "model.save('s2s.h5')"
      ],
      "execution_count": 267,
      "outputs": []
    },
    {
      "cell_type": "markdown",
      "metadata": {
        "colab_type": "text",
        "id": "zbLdraJ1XpsR"
      },
      "source": [
        "## Run the below code for inferencing the model"
      ]
    },
    {
      "cell_type": "code",
      "metadata": {
        "colab_type": "code",
        "id": "4O7jtJYh29uo",
        "colab": {}
      },
      "source": [
        "encoder_model = Model(encoder_inputs, encoder_states)\n",
        "\n",
        "decoder_state_input_h = Input(shape=(latent_dim,))\n",
        "decoder_state_input_c = Input(shape=(latent_dim,))\n",
        "decoder_states_inputs = [decoder_state_input_h, decoder_state_input_c]\n",
        "decoder_outputs, state_h, state_c = decoder_lstm(decoder_inputs, initial_state=decoder_states_inputs)\n",
        "decoder_states = [state_h, state_c]\n",
        "decoder_outputs = decoder_dense(decoder_outputs)\n",
        "\n",
        "decoder_model = Model(\n",
        "    [decoder_inputs] + decoder_states_inputs,\n",
        "    [decoder_outputs] + decoder_states)"
      ],
      "execution_count": 268,
      "outputs": []
    },
    {
      "cell_type": "markdown",
      "metadata": {
        "id": "scaoVQVapHLk",
        "colab_type": "text"
      },
      "source": [
        "## Reverse-lookup token index to decode sequences back to something readable."
      ]
    },
    {
      "cell_type": "code",
      "metadata": {
        "colab_type": "code",
        "id": "_3t_ntoTq0fP",
        "colab": {}
      },
      "source": [
        "# Reverse-lookup token index to decode sequences back to\n",
        "# something readable.\n",
        "reverse_input_char_index = dict(\n",
        "    (i, char) for char, i in input_token_index.items())\n",
        "reverse_target_char_index = dict(\n",
        "    (i, char) for char, i in target_token_index.items())"
      ],
      "execution_count": 269,
      "outputs": []
    },
    {
      "cell_type": "code",
      "metadata": {
        "id": "_9WAWX6ApcrG",
        "colab_type": "code",
        "colab": {
          "base_uri": "https://localhost:8080/",
          "height": 70
        },
        "outputId": "d8b13e64-6d68-44b3-ee46-eacd854a4b61"
      },
      "source": [
        "print(reverse_input_char_index)\n",
        "print(reverse_target_char_index)"
      ],
      "execution_count": 270,
      "outputs": [
        {
          "output_type": "stream",
          "text": [
            "{0: ' ', 1: 'a', 2: 'b', 3: 'c', 4: 'd', 5: 'e', 6: 'f', 7: 'g', 8: 'h', 9: 'i', 10: 'j', 11: 'k', 12: 'l', 13: 'm', 14: 'n', 15: 'o', 16: 'p', 17: 'q', 18: 'r', 19: 's', 20: 't', 21: 'u', 22: 'v', 23: 'w', 24: 'x', 25: 'y', 26: 'z'}\n",
            "{0: '\\t', 1: '\\n', 2: ' ', 3: 'a', 4: 'b', 5: 'c', 6: 'd', 7: 'e', 8: 'f', 9: 'g', 10: 'h', 11: 'i', 12: 'j', 13: 'k', 14: 'l', 15: 'm', 16: 'n', 17: 'o', 18: 'p', 19: 'q', 20: 'r', 21: 's', 22: 't', 23: 'u', 24: 'v', 25: 'w', 26: 'x', 27: 'y', 28: 'z'}\n"
          ],
          "name": "stdout"
        }
      ]
    },
    {
      "cell_type": "code",
      "metadata": {
        "colab_type": "code",
        "id": "FYJkd_AZq0iI",
        "colab": {}
      },
      "source": [
        "def decode_sequence(input_seq):\n",
        "    # Encode the input as state vectors.\n",
        "    states_value = encoder_model.predict(input_seq)\n",
        "\n",
        "    # Generate empty target sequence of length 1.\n",
        "    target_seq = np.zeros((1, 1, num_decoder_tokens))\n",
        "    # Populate the first character of target sequence with the start character.\n",
        "    target_seq[0, 0, target_token_index['\\t']] = 1.\n",
        "\n",
        "    # Sampling loop for a batch of sequences\n",
        "    # (to simplify, here we assume a batch of size 1).\n",
        "    stop_condition = False\n",
        "    decoded_sentence = ''\n",
        "    while not stop_condition:\n",
        "        output_tokens, h, c = decoder_model.predict(\n",
        "            [target_seq] + states_value)\n",
        "\n",
        "        # Sample a token\n",
        "        sampled_token_index = np.argmax(output_tokens[0, -1, :])\n",
        "        sampled_char = reverse_target_char_index[sampled_token_index]\n",
        "        decoded_sentence += sampled_char\n",
        "\n",
        "        # Exit condition: either hit max length\n",
        "        # or find stop character.\n",
        "        if (sampled_char == '\\n' or\n",
        "           len(decoded_sentence) > max_decoder_seq_length):\n",
        "            stop_condition = True\n",
        "\n",
        "        # Update the target sequence (of length 1).\n",
        "        target_seq = np.zeros((1, 1, num_decoder_tokens))\n",
        "        target_seq[0, 0, sampled_token_index] = 1.\n",
        "\n",
        "        # Update states\n",
        "        states_value = [h, c]\n",
        "\n",
        "    return decoded_sentence"
      ],
      "execution_count": 271,
      "outputs": []
    },
    {
      "cell_type": "markdown",
      "metadata": {
        "colab_type": "text",
        "id": "jiPl9MHkXv0z"
      },
      "source": [
        "## Run the below code for checking some outputs from the model."
      ]
    },
    {
      "cell_type": "code",
      "metadata": {
        "colab_type": "code",
        "id": "7IFQIeCGq0nk",
        "colab": {
          "base_uri": "https://localhost:8080/",
          "height": 689
        },
        "outputId": "f549567b-99bc-442d-f803-8de0950c091c"
      },
      "source": [
        "for seq_index in range(10):\n",
        "    # Take one sequence (part of the training set)\n",
        "    # for trying out decoding.\n",
        "    input_seq = encoder_input_data[seq_index: seq_index + 1]\n",
        "    decoded_sentence = decode_sequence(input_seq)\n",
        "    print('-')\n",
        "    print('Input sentence:', input_texts[seq_index])\n",
        "    print('Decoded sentence:', decoded_sentence)"
      ],
      "execution_count": 272,
      "outputs": [
        {
          "output_type": "stream",
          "text": [
            "-\n",
            "Input sentence: stay with us\n",
            "Decoded sentence: habe tom das gesehen\n",
            "\n",
            "-\n",
            "Input sentence: she wants him\n",
            "Decoded sentence: sie ist nicht gehen\n",
            "\n",
            "-\n",
            "Input sentence: youre strong\n",
            "Decoded sentence: du bist schlein\n",
            "\n",
            "-\n",
            "Input sentence: examine this\n",
            "Decoded sentence: bitte sie die hause\n",
            "\n",
            "-\n",
            "Input sentence: heres my card\n",
            "Decoded sentence: hier ist dur komm\n",
            "\n",
            "-\n",
            "Input sentence: tom burped\n",
            "Decoded sentence: tom hat ein getom\n",
            "\n",
            "-\n",
            "Input sentence: it is no joke\n",
            "Decoded sentence: es ist nicht schund\n",
            "\n",
            "-\n",
            "Input sentence: tom is a spy\n",
            "Decoded sentence: tom ist nicht gehen\n",
            "\n",
            "-\n",
            "Input sentence: im a teenager\n",
            "Decoded sentence: ich bin sie gesehen\n",
            "\n",
            "-\n",
            "Input sentence: im not crazy\n",
            "Decoded sentence: ich bin sie gesehen\n",
            "\n"
          ],
          "name": "stdout"
        }
      ]
    }
  ]
}